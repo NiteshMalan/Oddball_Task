{
 "cells": [
  {
   "cell_type": "code",
   "execution_count": 1,
   "id": "3504ad3c-da88-486f-b1bc-517891035daf",
   "metadata": {},
   "outputs": [
    {
     "name": "stdout",
     "output_type": "stream",
     "text": [
      "Automatically created module for IPython interactive environment\n"
     ]
    }
   ],
   "source": [
    "import mne\n",
    "import numpy as np\n",
    "import matplotlib.pyplot as plt\n",
    "import pandas as pd\n",
    "import io\n",
    "import seaborn as sns\n",
    "\n",
    "# Author: Martin Luessi <mluessi@nmr.mgh.harvard.edu>\n",
    "# License: BSD (3-clause)\n",
    "from matplotlib.colors import TwoSlopeNorm\n",
    "\n",
    "import os.path as op\n",
    "from mne.time_frequency import tfr_multitaper\n",
    "from mne.stats import permutation_cluster_1samp_test as pcluster_test\n",
    "\n",
    "from mne_connectivity import spectral_connectivity_epochs, seed_target_indices, SpectralConnectivity\n",
    "from mne.datasets import sample\n",
    "from mne_connectivity.viz import plot_sensors_connectivity\n",
    "from mne.stats import permutation_cluster_test\n",
    "from scipy import stats as stats\n",
    "from functools import partial\n",
    "\n",
    "print(__doc__)"
   ]
  },
  {
   "cell_type": "code",
   "execution_count": 2,
   "id": "2fd08234-cbad-4e08-a08a-bbc499ca9b64",
   "metadata": {},
   "outputs": [],
   "source": [
    "dict015= {'FP1':'eeg','FP2':'eeg','AF7':'eeg','AF3':'eeg','AFz':'eeg','AF4':'eeg','AF8':'eeg','F7':'eeg','F3':'eeg',\n",
    "          'Fz':'eeg','F4':'eeg','F8':'eeg','FT9':'eeg','FC5':'eeg','FC1':'eeg','FC2':'eeg','FC6':'eeg','FT10':'eeg',\n",
    "          'T7':'eeg','C3':'eeg','Cz':'eeg','C4':'eeg','T8':'eeg','TP9':'eeg','CP5':'eeg','CP1':'eeg', 'CP2':'eeg',\n",
    "          'CP6':'eeg','TP10':'eeg','P7':'eeg','P3':'eeg','Pz':'eeg','P4':'eeg','P8':'eeg', 'O1':'eeg','O2':'eeg',\n",
    "          'DBS1-2':'dbs','DBS2-3':'dbs','DBS3-4':'dbs','DBS4-5':'dbs','DBS5-6':'dbs','DBS6-7':'dbs','DBS7-8':'dbs',\n",
    "          'mean(DBS1-DBS2, DBS2-DBS3, DBS3-DBS4, DBS4-DBS5, DBS5-DBS6, DBS6-DBS7, DBS7-DBS8)':'misc',\n",
    "          'DynL(lc)':'misc','DynR(lc)':'misc','EmgL':'emg','EmgR':'emg','EmgL(lc)':'emg','EmgR(lc)':'emg'}\n",
    "\n",
    "dict013_imp = {'FP1':'eeg','FP2':'eeg','AF7':'eeg','AF3':'eeg','AFz':'eeg','AF4':'eeg','AF8':'eeg','F7':'eeg','F3':'eeg',\n",
    "          'Fz':'eeg','F4':'eeg','F8':'eeg','FC5':'eeg','FC1':'eeg','FC2':'eeg','FC6':'eeg',\n",
    "          'T7':'eeg','C3':'eeg','Cz':'eeg','C4':'eeg','T8':'eeg','FT9':'eeg','CP5':'eeg','CP1':'eeg', 'CP2':'eeg',\n",
    "          'CP6':'eeg','FT10':'eeg','TP9':'eeg','P3':'eeg','Pz':'eeg','P4':'eeg','P8':'eeg', 'O1':'eeg','O2':'eeg',\n",
    "          'DBS1-2':'dbs','DBS2-3':'dbs','DBS3-4':'dbs','DBS4-5':'dbs','DBS5-6':'dbs','DBS6-7':'dbs','DBS7-8':'dbs',\n",
    "          'mean(DBS1-DBS2, DBS2-DBS3, DBS3-DBS4, DBS4-DBS5, DBS5-DBS6, DBS6-DBS7, DBS7-DBS8)':'misc',\n",
    "          'DynL(lc)':'misc','DynR(lc)':'misc','EmgL':'emg','EmgR':'emg','EmgL(lc)':'emg','EmgR(lc)':'emg'}\n",
    "\n",
    "dict013_exp = dict015\n",
    "\n",
    "dict011_imp = {'FP1':'eeg','FP2':'eeg','AF8':'eeg','AF4':'eeg','AFz':'eeg','AF3':'eeg','AF7':'eeg','F8':'eeg','F4':'eeg','Fz':'eeg','F3':'eeg',\n",
    "              'F7':'eeg','FC6':'eeg','FC2':'eeg','FC1':'eeg','FC5':'eeg','T8':'eeg','C4':'eeg','Cz':'eeg','C3':'eeg','T7':'eeg','FT10':'eeg',\n",
    "               'CP6':'eeg','CP2':'eeg','CP1':'eeg', 'CP5':'eeg', 'FT9':'eeg', 'TP10':'eeg','P4':'eeg','Pz':'eeg','P3':'eeg','P7':'eeg','O2':'eeg',\n",
    "               'O1':'eeg', 'DBS1-2':'dbs','DBS2-3':'dbs','DBS3-4':'dbs','DBS4-5':'dbs','DBS5-6':'dbs','DBS6-7':'dbs','DBS7-8':'dbs',\n",
    "              'mean(DBS1-DBS2, DBS2-DBS3, DBS3-DBS4, DBS4-DBS5, DBS5-DBS6, DBS6-DBS7, DBS7-DBS8)':'misc',\n",
    "             'DynR(lc)':'misc', 'DynL(lc)':'misc','EmgR':'emg','EmgL':'emg','EmgR(lc)':'emg','EmgL(lc)':'emg'}\n",
    "\n",
    "dict011_exp = {'FP1':'eeg','FP2':'eeg','AF8':'eeg','AF4':'eeg','AFz':'eeg','AF3':'eeg','AF7':'eeg','F8':'eeg','F4':'eeg','Fz':'eeg','F3':'eeg',\n",
    "              'F7':'eeg','FT10':'eeg', 'FC6':'eeg','FC2':'eeg','FC1':'eeg','FC5':'eeg','FT9':'eeg','T8':'eeg','C4':'eeg','Cz':'eeg','C3':'eeg',\n",
    "               'T7':'eeg','TP10':'eeg','CP6':'eeg','CP2':'eeg','CP1':'eeg', 'CP5':'eeg', 'TP9':'eeg', 'P8':'eeg','P4':'eeg','Pz':'eeg',\n",
    "               'P3':'eeg','P7':'eeg','O2':'eeg', 'O1':'eeg', 'DBS1-2':'dbs','DBS2-3':'dbs','DBS3-4':'dbs','DBS4-5':'dbs','DBS5-6':'dbs',\n",
    "               'DBS6-7':'dbs','DBS7-8':'dbs', 'mean(DBS1-DBS2, DBS2-DBS3, DBS3-DBS4, DBS4-DBS5, DBS5-DBS6, DBS6-DBS7, DBS7-DBS8)':'misc',\n",
    "             'DynR(lc)':'misc', 'DynL(lc)':'misc','EmgR':'emg','EmgL':'emg','EmgR(lc)':'emg','EmgL(lc)':'emg'}\n",
    "           \n",
    "    \n",
    "#'DBS1-234':'dbs','DBS234-567':'dbs','DBS567-8':'dbs','mean(DBS1-234, DBS234-567, DBS567-8)':'dbs',\n",
    "\n",
    "dict08_imp = {'FP1':'eeg','FP2':'eeg','AF8':'eeg','AF4':'eeg','AFz':'eeg','AF3':'eeg','AF7':'eeg','F8':'eeg',\n",
    "                'F4':'eeg','Fz':'eeg','F3':'eeg','F7':'eeg','FT10':'eeg','FC6':'eeg',\n",
    "                'FC2':'eeg','FC1':'eeg','FC5':'eeg','FT9':'eeg','T8':'eeg','C4':'eeg','Cz':'eeg','C3':'eeg',\n",
    "                'T7':'eeg','TP10':'eeg','CP6':'eeg','CP2':'eeg','CP1':'eeg','CP5':'eeg','TP9':'eeg','P4':'eeg',\n",
    "                'Pz':'eeg','P3':'eeg','O2':'eeg','O1':'eeg',\n",
    "                'DBS1-2':'dbs', 'DBS1-3':'dbs', 'DBS1-4':'dbs','DBS2-5':'dbs', 'DBS3-6':'dbs', \n",
    "                'DBS4-7':'dbs', 'DBS5-8':'dbs', 'DBS6-8':'dbs', 'DBS7-8':'dbs',              \n",
    "                'mean(DBS1-2, DBS1-3, DBS1-4, DBS2-5, DBS3-6, DBS4-7, DBS5-8, DBS6-8, DBS7-8)':'misc',             \n",
    "                'DynR(lc)':'misc',\n",
    "                'DynL(lc)':'misc','EmgR':'emg','EmgL':'emg','EmgR(lc)':'emg','EmgL(lc)':'emg'}\n",
    "\n",
    "dict08_exp = {'FP1':'eeg','FP2':'eeg','AF8':'eeg','AF4':'eeg','AFz':'eeg','AF3':'eeg','AF7':'eeg','F8':'eeg',\n",
    "                'F4':'eeg','Fz':'eeg','F3':'eeg','F7':'eeg','FC6':'eeg', 'FC2':'eeg','FC1':'eeg','FC5':'eeg',\n",
    "                'T8':'eeg','C4':'eeg','Cz':'eeg','C3':'eeg', 'T7':'eeg','FT10':'eeg', 'CP6':'eeg','CP2':'eeg',\n",
    "                'CP1':'eeg','CP5':'eeg','FT9':'eeg','TP10':'eeg', 'P4':'eeg','Pz':'eeg','P3':'eeg','P7':'eeg',\n",
    "                'O2':'eeg','O1':'eeg',\n",
    "                'DBS1-2':'dbs', 'DBS1-3':'dbs', 'DBS1-4':'dbs','DBS2-5':'dbs', 'DBS3-6':'dbs', \n",
    "                'DBS4-7':'dbs', 'DBS5-8':'dbs', 'DBS6-8':'dbs', 'DBS7-8':'dbs',              \n",
    "                'mean(DBS1-2, DBS1-3, DBS1-4, DBS2-5, DBS3-6, DBS4-7, DBS5-8, DBS6-8, DBS7-8)':'misc',         \n",
    "                'DynR(lc)':'misc',\n",
    "                'DynL(lc)':'misc','EmgR':'emg','EmgL':'emg','EmgR(lc)':'emg','EmgL(lc)':'emg'}\n",
    "\n",
    "dict07_imp= {'FP1':'eeg','FP2':'eeg','AF8':'eeg','AF4':'eeg','AFz':'eeg','AF3':'eeg','AF7':'eeg','F8':'eeg',\n",
    "                'F4':'eeg','Fz':'eeg','F3':'eeg','F7':'eeg','FT10':'eeg','FC6':'eeg',\n",
    "                'FC2':'eeg','FC1':'eeg','FC5':'eeg','FT9':'eeg','T8':'eeg','C4':'eeg','Cz':'eeg','C3':'eeg',\n",
    "                'T7':'eeg','TP10':'eeg','CP6':'eeg','CP2':'eeg','CP1':'eeg','CP5':'eeg','TP9':'eeg','P4':'eeg',\n",
    "                'Pz':'eeg','P3':'eeg','O2':'eeg','O1':'eeg',\n",
    "                'DBS1-2':'dbs', 'DBS1-3':'dbs', 'DBS1-4':'dbs','DBS2-5':'dbs', 'DBS3-6':'dbs',\n",
    "                'DBS4-7':'dbs', 'DBS5-8':'dbs', 'DBS6-8':'dbs', 'DBS7-8':'dbs',\n",
    "                'mean(DBS1-2, DBS1-3, DBS1-4, DBS2-5, DBS3-6, DBS4-7, DBS5-8, DBS6-8, DBS7-8)':'misc',\n",
    "                'DynR':'misc','DynL':'misc','DynR(lc)':'misc',\n",
    "                'DynL(lc)':'misc','EmgR':'emg','EmgL':'emg','EmgR(lc)':'emg','EmgL(lc)':'emg'}\n",
    "\n",
    "dict07_exp= {'FP1':'eeg','FP2':'eeg','AF8':'eeg','AF4':'eeg','AFz':'eeg','AF3':'eeg','AF7':'eeg','F8':'eeg',\n",
    "                'F4':'eeg','Fz':'eeg','F3':'eeg','F7':'eeg','FT10':'eeg','FC6':'eeg',\n",
    "                'FC2':'eeg','FC1':'eeg','FC5':'eeg','FT9':'eeg','T8':'eeg','C4':'eeg','Cz':'eeg','C3':'eeg',\n",
    "                'T7':'eeg','TP10':'eeg','CP6':'eeg','CP2':'eeg','CP1':'eeg','CP5':'eeg','TP9':'eeg','P8':'eeg','P4':'eeg',\n",
    "                'Pz':'eeg','P3':'eeg','P7':'eeg','O2':'eeg','O1':'eeg',\n",
    "                'DBS1-2':'dbs', 'DBS1-3':'dbs', 'DBS1-4':'dbs','DBS2-5':'dbs', 'DBS3-6':'dbs',\n",
    "                'DBS4-7':'dbs', 'DBS5-8':'dbs', 'DBS6-8':'dbs', 'DBS7-8':'dbs',\n",
    "                'mean(DBS1-2, DBS1-3, DBS1-4, DBS2-5, DBS3-6, DBS4-7, DBS5-8, DBS6-8, DBS7-8)':'misc',\n",
    "                'DynR(lc)':'misc',\n",
    "                'DynL(lc)':'misc','EmgR':'emg','EmgL':'emg','EmgR(lc)':'emg','EmgL(lc)':'emg'}\n",
    "\n",
    "dict_eog= {'FP1':'eog'}"
   ]
  },
  {
   "cell_type": "code",
   "execution_count": 114,
   "id": "7c96fa37-a40c-4ccd-9138-dc4956556a80",
   "metadata": {},
   "outputs": [
    {
     "name": "stdout",
     "output_type": "stream",
     "text": [
      "Adding metadata with 9 columns\n",
      "445 matching events found\n",
      "No baseline correction applied\n",
      "Setting up band-pass filter from 0.05 - 30 Hz\n",
      "\n",
      "FIR filter parameters\n",
      "---------------------\n",
      "Designing a one-pass, zero-phase, non-causal bandpass filter:\n",
      "- Windowed time-domain design (firwin) method\n",
      "- Hamming window with 0.0194 passband ripple and 53 dB stopband attenuation\n",
      "- Lower passband edge: 0.05\n",
      "- Lower transition bandwidth: 0.05 Hz (-6 dB cutoff frequency: 0.03 Hz)\n",
      "- Upper passband edge: 30.00 Hz\n",
      "- Upper transition bandwidth: 7.50 Hz (-6 dB cutoff frequency: 33.75 Hz)\n",
      "- Filter length: 13201 samples (66.005 s)\n",
      "\n"
     ]
    },
    {
     "name": "stderr",
     "output_type": "stream",
     "text": [
      "C:\\Users\\malann\\AppData\\Local\\Temp\\ipykernel_239232\\773714269.py:48: RuntimeWarning: The unit for channel(s) AF3, AF4, AF7, AF8, AFz, C3, C4, CP1, CP2, CP5, CP6, Cz, DBS1-2, DBS2-3, DBS3-4, DBS4-5, DBS5-6, DBS6-7, DBS7-8, EmgL, EmgL(lc), EmgR, EmgR(lc), F3, F4, F7, F8, FC1, FC2, FC5, FC6, FP1, FP2, FT10, FT9, Fz, O1, O2, P3, P4, P7, P8, Pz, T7, T8, TP10, TP9 has changed from NA to V.\n",
      "  epochs.set_channel_types(dict1)\n",
      "C:\\Users\\malann\\AppData\\Local\\Temp\\ipykernel_239232\\773714269.py:54: RuntimeWarning: filter_length (13201) is longer than the signal (1801), distortion is likely. Reduce filter length or filter a longer signal.\n",
      "  epochs.filter(0.05,30)\n",
      "[Parallel(n_jobs=1)]: Done  17 tasks      | elapsed:    0.0s\n",
      "[Parallel(n_jobs=1)]: Done  71 tasks      | elapsed:    0.0s\n",
      "[Parallel(n_jobs=1)]: Done 161 tasks      | elapsed:    0.0s\n",
      "[Parallel(n_jobs=1)]: Done 287 tasks      | elapsed:    0.1s\n",
      "[Parallel(n_jobs=1)]: Done 449 tasks      | elapsed:    0.3s\n",
      "[Parallel(n_jobs=1)]: Done 647 tasks      | elapsed:    0.4s\n",
      "[Parallel(n_jobs=1)]: Done 881 tasks      | elapsed:    0.6s\n",
      "[Parallel(n_jobs=1)]: Done 1151 tasks      | elapsed:    0.9s\n",
      "[Parallel(n_jobs=1)]: Done 1457 tasks      | elapsed:    1.1s\n",
      "[Parallel(n_jobs=1)]: Done 1799 tasks      | elapsed:    1.4s\n",
      "[Parallel(n_jobs=1)]: Done 2177 tasks      | elapsed:    1.7s\n",
      "[Parallel(n_jobs=1)]: Done 2591 tasks      | elapsed:    2.1s\n",
      "[Parallel(n_jobs=1)]: Done 3041 tasks      | elapsed:    2.5s\n",
      "[Parallel(n_jobs=1)]: Done 3527 tasks      | elapsed:    3.7s\n",
      "[Parallel(n_jobs=1)]: Done 4049 tasks      | elapsed:    4.7s\n",
      "[Parallel(n_jobs=1)]: Done 4607 tasks      | elapsed:    5.3s\n",
      "[Parallel(n_jobs=1)]: Done 5201 tasks      | elapsed:    6.1s\n",
      "[Parallel(n_jobs=1)]: Done 5831 tasks      | elapsed:    6.9s\n",
      "[Parallel(n_jobs=1)]: Done 6497 tasks      | elapsed:    7.6s\n",
      "[Parallel(n_jobs=1)]: Done 7199 tasks      | elapsed:    8.3s\n",
      "[Parallel(n_jobs=1)]: Done 7937 tasks      | elapsed:    8.9s\n",
      "[Parallel(n_jobs=1)]: Done 8711 tasks      | elapsed:   10.4s\n",
      "[Parallel(n_jobs=1)]: Done 9521 tasks      | elapsed:   12.0s\n",
      "[Parallel(n_jobs=1)]: Done 10367 tasks      | elapsed:   12.8s\n",
      "[Parallel(n_jobs=1)]: Done 11249 tasks      | elapsed:   14.1s\n",
      "[Parallel(n_jobs=1)]: Done 12167 tasks      | elapsed:   15.2s\n",
      "[Parallel(n_jobs=1)]: Done 13121 tasks      | elapsed:   16.5s\n",
      "[Parallel(n_jobs=1)]: Done 14111 tasks      | elapsed:   17.8s\n",
      "[Parallel(n_jobs=1)]: Done 15137 tasks      | elapsed:   20.7s\n",
      "[Parallel(n_jobs=1)]: Done 16199 tasks      | elapsed:   22.3s\n",
      "[Parallel(n_jobs=1)]: Done 17297 tasks      | elapsed:   24.0s\n",
      "[Parallel(n_jobs=1)]: Done 18431 tasks      | elapsed:   25.5s\n"
     ]
    },
    {
     "name": "stdout",
     "output_type": "stream",
     "text": [
      "Dropped 0 epochs: \n",
      "Dropped 134 epochs: 10, 11, 12, 13, 14, 15, 16, 17, 18, 19, 20, 21, 22, 23, 24, 25, 26, 27, 28, 29, 30, 31, 32, 33, 34, 35, 36, 37, 38, 39, 40, 41, 42, 43, 44, 45, 46, 47, 48, 49, 50, 51, 52, 53, 54, 55, 56, 57, 58, 59, 60, 61, 62, 63, 64, 65, 66, 67, 68, 69, 70, 71, 72, 73, 74, 75, 76, 77, 78, 79, 80, 81, 82, 83, 84, 85, 86, 87, 88, 89, 90, 91, 92, 93, 94, 95, 96, 97, 98, 99, 100, 101, 102, 103, 104, 105, 106, 107, 108, 109, 110, 111, 112, 113, 114, 115, 116, 117, 118, 119, 120, 121, 122, 123, 124, 125, 126, 127, 128, 129, 130, 131, 132, 133, 134, 135, 136, 137, 138, 139, 140, 141, 142, 143\n",
      "Dropped 0 epochs: \n",
      "Dropped 102 epochs: 42, 43, 44, 45, 46, 47, 48, 49, 50, 51, 52, 53, 54, 55, 56, 57, 58, 59, 60, 61, 62, 63, 64, 65, 66, 67, 68, 69, 70, 71, 72, 73, 74, 75, 76, 77, 78, 79, 80, 81, 82, 83, 84, 85, 86, 87, 88, 89, 90, 91, 92, 93, 94, 95, 96, 97, 98, 99, 100, 101, 102, 103, 104, 105, 106, 107, 108, 109, 110, 111, 112, 113, 114, 115, 116, 117, 118, 119, 120, 121, 122, 123, 124, 125, 126, 127, 128, 129, 130, 131, 132, 133, 134, 135, 136, 137, 138, 139, 140, 141, 142, 143\n"
     ]
    }
   ],
   "source": [
    "base_dir = \"E:/Oddball Data/\"\n",
    "subj_list = ['007','008','011','013','014','015']\n",
    "subj_list = ['015']\n",
    "\n",
    "stage = ['implant']#, 'implant']explant\n",
    "aff_cond = ['1', '101'];\n",
    "aff_cond_plot = ['Standard', 'Oddball'];\n",
    "\n",
    "naff_cond = ['10', '110'];\n",
    "hand = 'aff'\n",
    "\n",
    "for sub in subj_list:\n",
    "    for st in stage:\n",
    "        data_dir = base_dir+\"EDEN\"+sub+'/ANALYSIS/'\n",
    "        fname = data_dir+\"data_clean\"+st+'.mat'\n",
    "\n",
    "        if hand == 'naff':\n",
    "            fname = data_dir+\"data_clean\"+st+'_naff_cond.mat'\n",
    "            dyno = 'DynR(lc)'\n",
    "        else:\n",
    "            fname = data_dir+\"data_clean\"+st+'.mat'\n",
    "            dyno = 'DynL(lc)'      \n",
    "                \n",
    "        if sub == '015' or sub=='014':\n",
    "            dict1 = dict015\n",
    "        elif sub == '013' and st== 'implant':\n",
    "            dict1 = dict013_imp\n",
    "        elif sub == '013' and st== 'explant':\n",
    "            dict1 = dict013_exp\n",
    "        elif sub == '011' and st== 'implant':\n",
    "            dict1 = dict011_imp\n",
    "        elif sub == '011' and st== 'explant':\n",
    "            dict1 = dict011_exp\n",
    "        elif sub == '008' and st== 'implant':\n",
    "            dict1 = dict08_imp\n",
    "        elif sub == '008' and st== 'explant':\n",
    "            dict1 = dict08_exp\n",
    "        elif sub == '007' and st== 'implant':\n",
    "            dict1 = dict07_imp\n",
    "        elif sub == '007' and st== 'explant':\n",
    "            dict1 = dict07_exp\n",
    "\n",
    "        info = mne.create_info(list(dict1.keys()), sfreq=200, ch_types='misc', verbose=None)\n",
    "        epochs = mne.read_epochs_fieldtrip(fname,info,data_name='x', trialinfo_column=0)\n",
    "        \n",
    "        sfreq = epochs.info['sfreq']\n",
    "        \n",
    "        epochs.set_channel_types(dict1)\n",
    "\n",
    "        kind='easycap-M1'\n",
    "        mon = mne.channels.make_standard_montage(kind, head_size='auto')\n",
    "        epochs.set_montage(mon,match_case=False, on_missing='ignore')\n",
    "        \n",
    "        epochs.filter(0.05,30)\n",
    "\n",
    "        epochs_aff_odd = epochs[aff_cond[1]]\n",
    "        epochs_aff_typ = epochs[aff_cond[0]]\n",
    "\n",
    "        \n",
    "        epochs_aff_typ_E = epochs_aff_typ.copy()\n",
    "        epochs_aff_typ_NE = epochs_aff_typ.copy()\n",
    "        \n",
    "        # calculate outlier trial\n",
    "        tmax = 6\n",
    "        Dynmo_odd = epochs_aff_odd.copy().crop(-1,tmax).get_data(picks=dyno)\n",
    "        Dynmo_odd = Dynmo_odd.reshape(Dynmo_odd.shape[0],Dynmo_odd.shape[2])\n",
    "        \n",
    "        t_target = int(200+200*1.5)\n",
    "        #Calculate Error Rate\n",
    "        ERR_value = []\n",
    "        for i in range(len(Dynmo_odd)):\n",
    "            ERR_value1 = ((Dynmo_odd[i,:].max()-Dynmo_odd[i,t_target])*100)/Dynmo_odd[i,t_target]\n",
    "            ERR_value.append(ERR_value1)\n",
    "      \n",
    "        over_thres = 20\n",
    "        \n",
    "        outlier_idx=[]\n",
    "        outlier_idx_odd_no_err=[]\n",
    "        for j,m in enumerate(ERR_value):\n",
    "            if (m>over_thres):\n",
    "                outlier_idx.append(j)\n",
    "            else:\n",
    "                outlier_idx_odd_no_err.append(j)\n",
    "        \n",
    "        epochs_aff_odd_E=epochs_aff_odd[outlier_idx]\n",
    "        epochs_aff_odd_NE=epochs_aff_odd[outlier_idx_odd_no_err]\n",
    "        \n",
    "        mne.epochs.equalize_epoch_counts([epochs_aff_odd_E,epochs_aff_typ_E], method='truncate')\n",
    "        mne.epochs.equalize_epoch_counts([epochs_aff_odd_NE,epochs_aff_typ_NE], method='truncate')\n",
    "               \n",
    "        epochs_aff_odd_E.set_channel_types(dict_eog)\n",
    "        epochs_aff_odd_NE.set_channel_types(dict_eog)\n",
    "        \n",
    "        epochs_aff_typ_E.set_channel_types(dict_eog)\n",
    "        epochs_aff_typ_NE.set_channel_types(dict_eog)\n"
   ]
  },
  {
   "cell_type": "code",
   "execution_count": 115,
   "id": "1c0e931a",
   "metadata": {},
   "outputs": [],
   "source": [
    "\"\"\"Average Baseline\"\"\"     \n",
    "def average_baseline(epoch):\n",
    "\n",
    "    epoch_norm1 =[] \n",
    "    for ii,ch in enumerate(epoch.ch_names):\n",
    "        x = np.hstack(epoch.get_data()[:, ii, :]) # 2D dim = epoch* ch* time to 1D dim, freq * (time *epoch)\n",
    "\n",
    "        x_mean=x.mean() # mean of all the freqs across all the complete experiment session.\n",
    "        epoch_norm=[]    \n",
    "        for jj in range(epoch.get_data()[:, ii, :].shape[0]):\n",
    "            epoch_norm.append(((epoch.get_data()[jj, ii, :]-x_mean))) # applying normalaization on each trail\n",
    "        epoch_norm1.append(epoch_norm)\n",
    "    epoch_norm1 = np.array(epoch_norm1)\n",
    "    epoch_norm1 = np.rollaxis(epoch_norm1,1) # normalized epoch data\n",
    "\n",
    "    return mne.EpochsArray(epoch_norm1,  epoch.info, events=epoch.events, tmin=epoch.tmin)\n",
    "\n",
    "def moving_average(x, w):\n",
    "    x = np.array(x)\n",
    "    out = []\n",
    "    if len(x.shape)>1:\n",
    "        for i in x:\n",
    "            out.append(np.convolve(i, np.ones(w), 'valid') / w)\n",
    "        return np.array(out)\n",
    "    else:\n",
    "        out.append(np.convolve(x, np.ones(w), 'valid') / w)\n",
    "        return np.array(out)[0]"
   ]
  },
  {
   "cell_type": "code",
   "execution_count": 116,
   "id": "072ec3fb-cffb-4216-a136-92a457046d60",
   "metadata": {
    "scrolled": true
   },
   "outputs": [
    {
     "data": {
      "image/png": "[encoded data removed]",
      "text/plain": [
       "<Figure size 1500x600 with 1 Axes>"
      ]
     },
     "metadata": {},
     "output_type": "display_data"
    }
   ],
   "source": [
    "tmin = -1\n",
    "tmax = 4\n",
    "Dynmo_odd_E = epochs_aff_odd_E.copy().crop(tmin,tmax).get_data(picks='DynL(lc)')\n",
    "Dynmo_odd_E = Dynmo_odd_E.reshape(Dynmo_odd_E.shape[0],Dynmo_odd_E.shape[2]).mean(axis=0)\n",
    "\n",
    "Dynmo_odd_NE = epochs_aff_odd_NE.copy().crop(tmin,tmax).get_data(picks='DynL(lc)')\n",
    "Dynmo_odd_NE= Dynmo_odd_NE.reshape(Dynmo_odd_NE.shape[0],Dynmo_odd_NE.shape[2]).mean(axis=0)\n",
    "\n",
    "Dynmo_typ_E = epochs_aff_typ_E.copy().crop(tmin,tmax).get_data(picks='DynL(lc)')\n",
    "Dynmo_typ_E= Dynmo_typ_E.reshape(Dynmo_typ_E.shape[0],Dynmo_typ_E.shape[2]).mean(axis=0)\n",
    "\n",
    "plt.figure(figsize=(15,6))\n",
    "\n",
    "time= epochs_aff_typ.copy().crop(-1,tmax).times\n",
    "\n",
    "plt.plot(epochs_aff_typ.copy().crop(-1,tmax).times,Dynmo_typ_E)\n",
    "plt.plot(epochs_aff_odd_E.copy().crop(-1,tmax).times,Dynmo_odd_E)\n",
    "plt.plot(epochs_aff_odd_NE.copy().crop(-1,tmax).times,Dynmo_odd_NE)\n",
    "\n",
    "x=np.arange(tmin,tmax,0.2)\n",
    "\n",
    "plt.xticks(x)\n",
    "\n",
    "f_max_time = np.argmax(epochs_aff_odd_E.copy().crop(0,1).get_data(picks='DynL(lc)').reshape(epochs_aff_odd_E.copy().crop(0,1).get_data(picks='DynL(lc)').shape[0],epochs_aff_odd_E.copy().crop(0,1).get_data(picks='DynL(lc)').shape[2]).mean(axis=0))/200\n",
    "\n",
    "plt.axvline(0, linewidth=1, color=\"black\", linestyle=\":\")\n",
    "\n",
    "plt.axvline(f_max_time, linewidth=1, color=\"black\", linestyle=\":\")\n",
    "\n",
    "plt.axvline(1.1, linewidth=1, color=\"black\", linestyle=\":\")\n",
    "plt.fill_betweenx(np.array((0,0.25)), 1.1,0,color='gray', alpha=0.5)\n",
    "\n",
    "plt.legend(['standard','oddball'])\n",
    "\n",
    "\n",
    "# Define different time windows to look for coherence in Error detection and Error correction\n",
    "\n",
    "tmin_coh_lst = [0, f_max_time, 0] #0 # Error detection, Error correction, Full time\n",
    "tmax_coh_lst = [f_max_time, 1.5, 1.5] #1.5"
   ]
  },
  {
   "cell_type": "code",
   "execution_count": 117,
   "id": "7eb0a1ac",
   "metadata": {},
   "outputs": [
    {
     "name": "stdout",
     "output_type": "stream",
     "text": [
      "Applying baseline correction (mode: mean)\n",
      "Applying baseline correction (mode: mean)\n",
      "Applying baseline correction (mode: mean)\n",
      "Applying baseline correction (mode: mean)\n"
     ]
    }
   ],
   "source": [
    "# Baseline correction and \n",
    "\n",
    "base_min,base_max = -0.9,-0.4\n",
    "avg = True\n",
    "\n",
    "if avg == False:\n",
    "    \n",
    "    epochs_aff_odd_E = average_baseline(epochs_aff_odd_E)\n",
    "    epochs_aff_odd_NE = average_baseline(epochs_aff_odd_NE)\n",
    "    epochs_aff_typ_E = average_baseline(epochs_aff_typ_E)\n",
    "    epochs_aff_typ_NE = average_baseline(epochs_aff_typ_NE)\n",
    "else:\n",
    "    \n",
    "    epochs_aff_odd_E = epochs_aff_odd_E.apply_baseline((base_min,base_max))\n",
    "    epochs_aff_odd_NE = epochs_aff_odd_NE.apply_baseline((base_min,base_max))\n",
    "    epochs_aff_typ_E = epochs_aff_typ_E.apply_baseline((base_min,base_max))\n",
    "    epochs_aff_typ_NE = epochs_aff_typ_NE.apply_baseline((base_min,base_max))\n",
    "    \n"
   ]
  },
  {
   "cell_type": "code",
   "execution_count": 118,
   "id": "377cd186",
   "metadata": {},
   "outputs": [
    {
     "data": {
      "text/html": [
       "<table class=\"table table-hover table-striped table-sm table-responsive small\">\n",
       "    <tr>\n",
       "        <th>Number of events</th>\n",
       "        <td>42</td>\n",
       "    </tr>\n",
       "    <tr>\n",
       "        <th>Events</th>\n",
       "        \n",
       "        <td>1: 42</td>\n",
       "        \n",
       "    </tr>\n",
       "    <tr>\n",
       "        <th>Time range</th>\n",
       "        <td>-3.000 – 6.000 s</td>\n",
       "    </tr>\n",
       "    <tr>\n",
       "        <th>Baseline</th>\n",
       "        <td>-0.900 – -0.400 s</td>\n",
       "    </tr>\n",
       "</table>"
      ],
      "text/plain": [
       "<EpochsArray |  42 events (all good), -3 – 6 s, baseline -0.9 – -0.4 s, ~10.4 MB, data loaded, with metadata,\n",
       " '1': 42>"
      ]
     },
     "execution_count": 118,
     "metadata": {},
     "output_type": "execute_result"
    }
   ],
   "source": [
    "# select ipsilesional channels\n",
    "\n",
    "seed_chs = epochs_aff_odd_E.copy().pick('dbs').ch_names\n",
    "\n",
    "ch_picks =['Fz','F4','F8','FC2','FC6','Cz', 'C4','CP2','CP6','Pz','P4']\n",
    "#ch_picks = ['FC2', 'FC1', 'Cz', 'Fz', 'CP2', 'CP1', 'Pz']\n",
    "\n",
    "ch_picks.extend(seed_chs)\n",
    "epochs_aff_odd_E.pick(ch_picks)\n",
    "epochs_aff_typ_E.pick(ch_picks)\n",
    "epochs_aff_odd_NE.pick(ch_picks)\n",
    "epochs_aff_typ_NE.pick(ch_picks)"
   ]
  },
  {
   "cell_type": "code",
   "execution_count": 119,
   "id": "0574071a-d0ef-4927-a576-7312aff45684",
   "metadata": {},
   "outputs": [],
   "source": [
    "# Define different time windows to look for coherence in Error detection and Error correction\n",
    "\n",
    "tmin_coh_lst = [ 0, f_max_time, 0, 0] #0 # Error detection, Error correction, Full time 0, f_max_time, 0 ,\n",
    "tmax_coh_lst = [f_max_time, 1.5, 1.1, 1.5] #1.5   f_max_time, 1.5, 1.5, "
   ]
  },
  {
   "cell_type": "code",
   "execution_count": 120,
   "id": "558fe09f-a0a6-4f5c-9ef0-279b4a2487ae",
   "metadata": {
    "scrolled": true
   },
   "outputs": [
    {
     "name": "stdout",
     "output_type": "stream",
     "text": [
      "Connectivity computation...\n",
      "    computing connectivity for 18 connections\n",
      "    using t=0.000s..0.525s for estimation (106 points)\n",
      "    computing connectivity for the bands:\n",
      "     band 1: 4.0Hz..7.0Hz (4 points)\n",
      "     band 2: 8.0Hz..12.0Hz (5 points)\n",
      "     band 3: 13.0Hz..20.0Hz (8 points)\n",
      "     band 4: 21.0Hz..30.0Hz (10 points)\n",
      "    connectivity scores will be averaged for each band\n",
      "    using CWT with Morlet wavelets to estimate spectra\n",
      "    the following metrics will be computed: Coherence\n",
      "    computing cross-spectral density for epochs 1..10\n"
     ]
    },
    {
     "name": "stderr",
     "output_type": "stream",
     "text": [
      "C:\\Users\\malann\\AppData\\Roaming\\Python\\Python310\\site-packages\\mne_connectivity\\spectral\\epochs.py:177: RuntimeWarning: fmin=4.000 Hz corresponds to 2.120 < 5 cycles based on the epoch length 0.530 sec, need at least 1.250 sec epochs or fmin=9.434. Spectrum estimate will be unreliable.\n",
      "  warn(\n",
      "[Parallel(n_jobs=30)]: Using backend LokyBackend with 30 concurrent workers.\n",
      "[Parallel(n_jobs=30)]: Done   2 out of  10 | elapsed:   22.5s remaining:  1.5min\n",
      "[Parallel(n_jobs=30)]: Done   5 out of  10 | elapsed:   22.6s remaining:   22.6s\n"
     ]
    },
    {
     "name": "stdout",
     "output_type": "stream",
     "text": [
      "[Connectivity computation done]\n",
      "Connectivity computation...\n",
      "    computing connectivity for 18 connections\n",
      "    using t=0.000s..0.525s for estimation (106 points)\n",
      "    computing connectivity for the bands:\n",
      "     band 1: 4.0Hz..7.0Hz (4 points)\n",
      "     band 2: 8.0Hz..12.0Hz (5 points)\n",
      "     band 3: 13.0Hz..20.0Hz (8 points)\n",
      "     band 4: 21.0Hz..30.0Hz (10 points)\n",
      "    connectivity scores will be averaged for each band\n",
      "    using CWT with Morlet wavelets to estimate spectra\n",
      "    the following metrics will be computed: Coherence\n",
      "    computing cross-spectral density for epochs 1..10\n"
     ]
    },
    {
     "name": "stderr",
     "output_type": "stream",
     "text": [
      "[Parallel(n_jobs=30)]: Done   8 out of  10 | elapsed:   22.8s remaining:    5.6s\n",
      "[Parallel(n_jobs=30)]: Done  10 out of  10 | elapsed:   22.9s finished\n",
      "C:\\Users\\malann\\AppData\\Roaming\\Python\\Python310\\site-packages\\mne_connectivity\\spectral\\epochs.py:177: RuntimeWarning: fmin=4.000 Hz corresponds to 2.120 < 5 cycles based on the epoch length 0.530 sec, need at least 1.250 sec epochs or fmin=9.434. Spectrum estimate will be unreliable.\n",
      "  warn(\n",
      "[Parallel(n_jobs=30)]: Using backend LokyBackend with 30 concurrent workers.\n",
      "[Parallel(n_jobs=30)]: Done   2 out of  10 | elapsed:   15.5s remaining:  1.0min\n",
      "[Parallel(n_jobs=30)]: Done   5 out of  10 | elapsed:   16.6s remaining:   16.6s\n",
      "[Parallel(n_jobs=30)]: Done   8 out of  10 | elapsed:   19.1s remaining:    4.7s\n"
     ]
    },
    {
     "name": "stdout",
     "output_type": "stream",
     "text": [
      "[Connectivity computation done]\n",
      "Connectivity computation...\n",
      "    computing connectivity for 18 connections\n",
      "    using t=0.000s..0.525s for estimation (106 points)\n",
      "    computing connectivity for the bands:\n",
      "     band 1: 4.0Hz..7.0Hz (4 points)\n",
      "     band 2: 8.0Hz..12.0Hz (5 points)\n",
      "     band 3: 13.0Hz..20.0Hz (8 points)\n",
      "     band 4: 21.0Hz..30.0Hz (10 points)\n",
      "    connectivity scores will be averaged for each band\n",
      "    using CWT with Morlet wavelets to estimate spectra\n",
      "    the following metrics will be computed: Coherence\n",
      "    computing cross-spectral density for epochs 1..30\n"
     ]
    },
    {
     "name": "stderr",
     "output_type": "stream",
     "text": [
      "[Parallel(n_jobs=30)]: Done  10 out of  10 | elapsed:   23.2s finished\n",
      "C:\\Users\\malann\\AppData\\Roaming\\Python\\Python310\\site-packages\\mne_connectivity\\spectral\\epochs.py:177: RuntimeWarning: fmin=4.000 Hz corresponds to 2.120 < 5 cycles based on the epoch length 0.530 sec, need at least 1.250 sec epochs or fmin=9.434. Spectrum estimate will be unreliable.\n",
      "  warn(\n",
      "[Parallel(n_jobs=30)]: Using backend LokyBackend with 30 concurrent workers.\n",
      "[Parallel(n_jobs=30)]: Done   8 out of  30 | elapsed:    0.5s remaining:    1.4s\n",
      "[Parallel(n_jobs=30)]: Done  15 out of  30 | elapsed:    0.8s remaining:    0.8s\n",
      "[Parallel(n_jobs=30)]: Done  22 out of  30 | elapsed:   20.9s remaining:    7.5s\n"
     ]
    },
    {
     "name": "stdout",
     "output_type": "stream",
     "text": [
      "    computing cross-spectral density for epochs 31..42\n"
     ]
    },
    {
     "name": "stderr",
     "output_type": "stream",
     "text": [
      "[Parallel(n_jobs=30)]: Done  30 out of  30 | elapsed:   25.9s finished\n",
      "[Parallel(n_jobs=30)]: Using backend LokyBackend with 30 concurrent workers.\n",
      "[Parallel(n_jobs=30)]: Done   4 out of  12 | elapsed:    0.0s remaining:    0.2s\n"
     ]
    },
    {
     "name": "stdout",
     "output_type": "stream",
     "text": [
      "[Connectivity computation done]\n",
      "Connectivity computation...\n",
      "    computing connectivity for 18 connections\n",
      "    using t=0.000s..0.525s for estimation (106 points)\n",
      "    computing connectivity for the bands:\n",
      "     band 1: 4.0Hz..7.0Hz (4 points)\n",
      "     band 2: 8.0Hz..12.0Hz (5 points)\n",
      "     band 3: 13.0Hz..20.0Hz (8 points)\n",
      "     band 4: 21.0Hz..30.0Hz (10 points)\n",
      "    connectivity scores will be averaged for each band\n",
      "    using CWT with Morlet wavelets to estimate spectra\n",
      "    the following metrics will be computed: Coherence\n",
      "    computing cross-spectral density for epochs 1..30\n"
     ]
    },
    {
     "name": "stderr",
     "output_type": "stream",
     "text": [
      "[Parallel(n_jobs=30)]: Done   7 out of  12 | elapsed:    0.1s remaining:    0.0s\n",
      "[Parallel(n_jobs=30)]: Done  10 out of  12 | elapsed:    0.1s remaining:    0.0s\n",
      "[Parallel(n_jobs=30)]: Done  12 out of  12 | elapsed:    0.1s finished\n",
      "C:\\Users\\malann\\AppData\\Roaming\\Python\\Python310\\site-packages\\mne_connectivity\\spectral\\epochs.py:177: RuntimeWarning: fmin=4.000 Hz corresponds to 2.120 < 5 cycles based on the epoch length 0.530 sec, need at least 1.250 sec epochs or fmin=9.434. Spectrum estimate will be unreliable.\n",
      "  warn(\n",
      "[Parallel(n_jobs=30)]: Using backend LokyBackend with 30 concurrent workers.\n"
     ]
    },
    {
     "name": "stdout",
     "output_type": "stream",
     "text": [
      "    computing cross-spectral density for epochs 31..42\n"
     ]
    },
    {
     "name": "stderr",
     "output_type": "stream",
     "text": [
      "[Parallel(n_jobs=30)]: Done   8 out of  30 | elapsed:    0.1s remaining:    0.5s\n",
      "[Parallel(n_jobs=30)]: Done  15 out of  30 | elapsed:    0.2s remaining:    0.2s\n",
      "[Parallel(n_jobs=30)]: Done  22 out of  30 | elapsed:    0.2s remaining:    0.0s\n",
      "[Parallel(n_jobs=30)]: Done  30 out of  30 | elapsed:    0.3s finished\n",
      "[Parallel(n_jobs=30)]: Using backend LokyBackend with 30 concurrent workers.\n"
     ]
    },
    {
     "name": "stdout",
     "output_type": "stream",
     "text": [
      "[Connectivity computation done]\n",
      "Connectivity computation...\n",
      "    computing connectivity for 18 connections\n",
      "    using t=0.000s..0.525s for estimation (106 points)\n",
      "    computing connectivity for the bands:\n",
      "     band 1: 4.0Hz..7.0Hz (4 points)\n",
      "     band 2: 8.0Hz..12.0Hz (5 points)\n",
      "     band 3: 13.0Hz..20.0Hz (8 points)\n",
      "     band 4: 21.0Hz..30.0Hz (10 points)\n",
      "    connectivity scores will be averaged for each band\n",
      "    using CWT with Morlet wavelets to estimate spectra\n",
      "    the following metrics will be computed: Coherence\n",
      "    computing cross-spectral density for epochs 1..10\n"
     ]
    },
    {
     "name": "stderr",
     "output_type": "stream",
     "text": [
      "[Parallel(n_jobs=30)]: Done   4 out of  12 | elapsed:    0.0s remaining:    0.1s\n",
      "[Parallel(n_jobs=30)]: Done   7 out of  12 | elapsed:    0.0s remaining:    0.0s\n",
      "[Parallel(n_jobs=30)]: Done  10 out of  12 | elapsed:    0.1s remaining:    0.0s\n",
      "[Parallel(n_jobs=30)]: Done  12 out of  12 | elapsed:    0.1s finished\n",
      "C:\\Users\\malann\\AppData\\Local\\Temp\\ipykernel_239232\\2349117804.py:69: FutureWarning: Parameters \"info\", \"data\", \"times\", \"nave\" are deprecated and will be removed in version 1.8. For a quick fix, use ``AverageTFRArray`` with the same parameters. For a long-term fix, see the docstring notes.\n",
      "  tfr_odd_E = mne.time_frequency.AverageTFR(epochs_aff_odd_E.info, con_odd_E.get_data(), times, freqs, len(epochs_aff_odd_E))\n",
      "C:\\Users\\malann\\AppData\\Local\\Temp\\ipykernel_239232\\2349117804.py:70: FutureWarning: Parameters \"info\", \"data\", \"times\", \"nave\" are deprecated and will be removed in version 1.8. For a quick fix, use ``AverageTFRArray`` with the same parameters. For a long-term fix, see the docstring notes.\n",
      "  tfr_odd_NE = mne.time_frequency.AverageTFR(epochs_aff_odd_NE.info, con_odd_NE.get_data(), times, freqs, len(epochs_aff_odd_NE))\n",
      "C:\\Users\\malann\\AppData\\Local\\Temp\\ipykernel_239232\\2349117804.py:74: FutureWarning: Parameters \"info\", \"data\", \"times\", \"nave\" are deprecated and will be removed in version 1.8. For a quick fix, use ``AverageTFRArray`` with the same parameters. For a long-term fix, see the docstring notes.\n",
      "  tfr_typ_E = mne.time_frequency.AverageTFR(epochs_aff_typ_E.info, con_typ_E.get_data(), times, freqs, len(epochs_aff_typ_E))\n",
      "C:\\Users\\malann\\AppData\\Local\\Temp\\ipykernel_239232\\2349117804.py:75: FutureWarning: Parameters \"info\", \"data\", \"times\", \"nave\" are deprecated and will be removed in version 1.8. For a quick fix, use ``AverageTFRArray`` with the same parameters. For a long-term fix, see the docstring notes.\n",
      "  tfr_typ_NE = mne.time_frequency.AverageTFR(epochs_aff_typ_NE.info, con_typ_NE.get_data(), times, freqs, len(epochs_aff_typ_NE))\n",
      "C:\\Users\\malann\\AppData\\Roaming\\Python\\Python310\\site-packages\\mne_connectivity\\spectral\\epochs.py:177: RuntimeWarning: fmin=4.000 Hz corresponds to 2.120 < 5 cycles based on the epoch length 0.530 sec, need at least 1.250 sec epochs or fmin=9.434. Spectrum estimate will be unreliable.\n",
      "  warn(\n",
      "[Parallel(n_jobs=30)]: Using backend LokyBackend with 30 concurrent workers.\n",
      "[Parallel(n_jobs=30)]: Done   2 out of  10 | elapsed:    0.0s remaining:    0.2s\n"
     ]
    },
    {
     "name": "stdout",
     "output_type": "stream",
     "text": [
      "[Connectivity computation done]\n",
      "Connectivity computation...\n",
      "    computing connectivity for 18 connections\n",
      "    using t=0.000s..0.525s for estimation (106 points)\n",
      "    computing connectivity for the bands:\n",
      "     band 1: 4.0Hz..7.0Hz (4 points)\n",
      "     band 2: 8.0Hz..12.0Hz (5 points)\n",
      "     band 3: 13.0Hz..20.0Hz (8 points)\n",
      "     band 4: 21.0Hz..30.0Hz (10 points)\n",
      "    connectivity scores will be averaged for each band\n",
      "    using CWT with Morlet wavelets to estimate spectra\n",
      "    the following metrics will be computed: Coherence\n",
      "    computing cross-spectral density for epochs 1..10\n"
     ]
    },
    {
     "name": "stderr",
     "output_type": "stream",
     "text": [
      "[Parallel(n_jobs=30)]: Done   5 out of  10 | elapsed:    0.0s remaining:    0.0s\n",
      "[Parallel(n_jobs=30)]: Done   8 out of  10 | elapsed:    0.1s remaining:    0.0s\n",
      "[Parallel(n_jobs=30)]: Done  10 out of  10 | elapsed:    0.1s finished\n",
      "C:\\Users\\malann\\AppData\\Roaming\\Python\\Python310\\site-packages\\mne_connectivity\\spectral\\epochs.py:177: RuntimeWarning: fmin=4.000 Hz corresponds to 2.120 < 5 cycles based on the epoch length 0.530 sec, need at least 1.250 sec epochs or fmin=9.434. Spectrum estimate will be unreliable.\n",
      "  warn(\n",
      "[Parallel(n_jobs=30)]: Using backend LokyBackend with 30 concurrent workers.\n",
      "[Parallel(n_jobs=30)]: Done   2 out of  10 | elapsed:    0.0s remaining:    0.2s\n"
     ]
    },
    {
     "name": "stdout",
     "output_type": "stream",
     "text": [
      "[Connectivity computation done]\n",
      "Connectivity computation...\n",
      "    computing connectivity for 18 connections\n",
      "    using t=0.000s..0.525s for estimation (106 points)\n",
      "    computing connectivity for the bands:\n",
      "     band 1: 4.0Hz..7.0Hz (4 points)\n",
      "     band 2: 8.0Hz..12.0Hz (5 points)\n",
      "     band 3: 13.0Hz..20.0Hz (8 points)\n",
      "     band 4: 21.0Hz..30.0Hz (10 points)\n",
      "    connectivity scores will be averaged for each band\n",
      "    using CWT with Morlet wavelets to estimate spectra\n",
      "    the following metrics will be computed: Coherence\n",
      "    computing cross-spectral density for epochs 1..30\n"
     ]
    },
    {
     "name": "stderr",
     "output_type": "stream",
     "text": [
      "[Parallel(n_jobs=30)]: Done   5 out of  10 | elapsed:    0.0s remaining:    0.0s\n",
      "[Parallel(n_jobs=30)]: Done   8 out of  10 | elapsed:    0.0s remaining:    0.0s\n",
      "[Parallel(n_jobs=30)]: Done  10 out of  10 | elapsed:    0.1s finished\n",
      "C:\\Users\\malann\\AppData\\Roaming\\Python\\Python310\\site-packages\\mne_connectivity\\spectral\\epochs.py:177: RuntimeWarning: fmin=4.000 Hz corresponds to 2.120 < 5 cycles based on the epoch length 0.530 sec, need at least 1.250 sec epochs or fmin=9.434. Spectrum estimate will be unreliable.\n",
      "  warn(\n",
      "[Parallel(n_jobs=30)]: Using backend LokyBackend with 30 concurrent workers.\n",
      "[Parallel(n_jobs=30)]: Done   8 out of  30 | elapsed:    0.1s remaining:    0.5s\n",
      "[Parallel(n_jobs=30)]: Done  15 out of  30 | elapsed:    0.2s remaining:    0.2s\n",
      "[Parallel(n_jobs=30)]: Done  22 out of  30 | elapsed:    0.3s remaining:    0.0s\n"
     ]
    },
    {
     "name": "stdout",
     "output_type": "stream",
     "text": [
      "    computing cross-spectral density for epochs 31..42\n"
     ]
    },
    {
     "name": "stderr",
     "output_type": "stream",
     "text": [
      "[Parallel(n_jobs=30)]: Done  30 out of  30 | elapsed:    0.3s finished\n",
      "[Parallel(n_jobs=30)]: Using backend LokyBackend with 30 concurrent workers.\n",
      "[Parallel(n_jobs=30)]: Done   4 out of  12 | elapsed:    0.0s remaining:    0.1s\n",
      "[Parallel(n_jobs=30)]: Done   7 out of  12 | elapsed:    0.1s remaining:    0.0s\n",
      "[Parallel(n_jobs=30)]: Done  10 out of  12 | elapsed:    0.1s remaining:    0.0s\n",
      "[Parallel(n_jobs=30)]: Done  12 out of  12 | elapsed:    0.1s finished\n"
     ]
    },
    {
     "name": "stdout",
     "output_type": "stream",
     "text": [
      "[Connectivity computation done]\n",
      "Connectivity computation...\n",
      "    computing connectivity for 18 connections\n",
      "    using t=0.000s..0.525s for estimation (106 points)\n",
      "    computing connectivity for the bands:\n",
      "     band 1: 4.0Hz..7.0Hz (4 points)\n",
      "     band 2: 8.0Hz..12.0Hz (5 points)\n",
      "     band 3: 13.0Hz..20.0Hz (8 points)\n",
      "     band 4: 21.0Hz..30.0Hz (10 points)\n",
      "    connectivity scores will be averaged for each band\n",
      "    using CWT with Morlet wavelets to estimate spectra\n",
      "    the following metrics will be computed: Coherence\n",
      "    computing cross-spectral density for epochs 1..30\n"
     ]
    },
    {
     "name": "stderr",
     "output_type": "stream",
     "text": [
      "C:\\Users\\malann\\AppData\\Roaming\\Python\\Python310\\site-packages\\mne_connectivity\\spectral\\epochs.py:177: RuntimeWarning: fmin=4.000 Hz corresponds to 2.120 < 5 cycles based on the epoch length 0.530 sec, need at least 1.250 sec epochs or fmin=9.434. Spectrum estimate will be unreliable.\n",
      "  warn(\n",
      "[Parallel(n_jobs=30)]: Using backend LokyBackend with 30 concurrent workers.\n"
     ]
    },
    {
     "name": "stdout",
     "output_type": "stream",
     "text": [
      "    computing cross-spectral density for epochs 31..42\n"
     ]
    },
    {
     "name": "stderr",
     "output_type": "stream",
     "text": [
      "[Parallel(n_jobs=30)]: Done   8 out of  30 | elapsed:    0.1s remaining:    0.5s\n",
      "[Parallel(n_jobs=30)]: Done  15 out of  30 | elapsed:    0.2s remaining:    0.2s\n",
      "[Parallel(n_jobs=30)]: Done  22 out of  30 | elapsed:    0.2s remaining:    0.0s\n",
      "[Parallel(n_jobs=30)]: Done  30 out of  30 | elapsed:    0.3s finished\n",
      "[Parallel(n_jobs=30)]: Using backend LokyBackend with 30 concurrent workers.\n",
      "[Parallel(n_jobs=30)]: Done   4 out of  12 | elapsed:    0.0s remaining:    0.2s\n",
      "[Parallel(n_jobs=30)]: Done   7 out of  12 | elapsed:    0.0s remaining:    0.0s\n",
      "[Parallel(n_jobs=30)]: Done  10 out of  12 | elapsed:    0.1s remaining:    0.0s\n"
     ]
    },
    {
     "name": "stdout",
     "output_type": "stream",
     "text": [
      "[Connectivity computation done]\n",
      "Connectivity computation...\n",
      "    computing connectivity for 18 connections\n",
      "    using t=0.000s..0.525s for estimation (106 points)\n",
      "    computing connectivity for the bands:\n",
      "     band 1: 4.0Hz..7.0Hz (4 points)\n",
      "     band 2: 8.0Hz..12.0Hz (5 points)\n",
      "     band 3: 13.0Hz..20.0Hz (8 points)\n",
      "     band 4: 21.0Hz..30.0Hz (10 points)\n",
      "    connectivity scores will be averaged for each band\n",
      "    using CWT with Morlet wavelets to estimate spectra\n",
      "    the following metrics will be computed: Coherence\n",
      "    computing cross-spectral density for epochs 1..10\n"
     ]
    },
    {
     "name": "stderr",
     "output_type": "stream",
     "text": [
      "[Parallel(n_jobs=30)]: Done  12 out of  12 | elapsed:    0.1s finished\n",
      "C:\\Users\\malann\\AppData\\Local\\Temp\\ipykernel_239232\\2349117804.py:69: FutureWarning: Parameters \"info\", \"data\", \"times\", \"nave\" are deprecated and will be removed in version 1.8. For a quick fix, use ``AverageTFRArray`` with the same parameters. For a long-term fix, see the docstring notes.\n",
      "  tfr_odd_E = mne.time_frequency.AverageTFR(epochs_aff_odd_E.info, con_odd_E.get_data(), times, freqs, len(epochs_aff_odd_E))\n",
      "C:\\Users\\malann\\AppData\\Local\\Temp\\ipykernel_239232\\2349117804.py:70: FutureWarning: Parameters \"info\", \"data\", \"times\", \"nave\" are deprecated and will be removed in version 1.8. For a quick fix, use ``AverageTFRArray`` with the same parameters. For a long-term fix, see the docstring notes.\n",
      "  tfr_odd_NE = mne.time_frequency.AverageTFR(epochs_aff_odd_NE.info, con_odd_NE.get_data(), times, freqs, len(epochs_aff_odd_NE))\n",
      "C:\\Users\\malann\\AppData\\Local\\Temp\\ipykernel_239232\\2349117804.py:74: FutureWarning: Parameters \"info\", \"data\", \"times\", \"nave\" are deprecated and will be removed in version 1.8. For a quick fix, use ``AverageTFRArray`` with the same parameters. For a long-term fix, see the docstring notes.\n",
      "  tfr_typ_E = mne.time_frequency.AverageTFR(epochs_aff_typ_E.info, con_typ_E.get_data(), times, freqs, len(epochs_aff_typ_E))\n",
      "C:\\Users\\malann\\AppData\\Local\\Temp\\ipykernel_239232\\2349117804.py:75: FutureWarning: Parameters \"info\", \"data\", \"times\", \"nave\" are deprecated and will be removed in version 1.8. For a quick fix, use ``AverageTFRArray`` with the same parameters. For a long-term fix, see the docstring notes.\n",
      "  tfr_typ_NE = mne.time_frequency.AverageTFR(epochs_aff_typ_NE.info, con_typ_NE.get_data(), times, freqs, len(epochs_aff_typ_NE))\n",
      "C:\\Users\\malann\\AppData\\Roaming\\Python\\Python310\\site-packages\\mne_connectivity\\spectral\\epochs.py:177: RuntimeWarning: fmin=4.000 Hz corresponds to 2.120 < 5 cycles based on the epoch length 0.530 sec, need at least 1.250 sec epochs or fmin=9.434. Spectrum estimate will be unreliable.\n",
      "  warn(\n",
      "[Parallel(n_jobs=30)]: Using backend LokyBackend with 30 concurrent workers.\n",
      "[Parallel(n_jobs=30)]: Done   2 out of  10 | elapsed:    0.0s remaining:    0.2s\n",
      "[Parallel(n_jobs=30)]: Done   5 out of  10 | elapsed:    0.0s remaining:    0.0s\n"
     ]
    },
    {
     "name": "stdout",
     "output_type": "stream",
     "text": [
      "[Connectivity computation done]\n",
      "Connectivity computation...\n",
      "    computing connectivity for 18 connections\n",
      "    using t=0.000s..0.525s for estimation (106 points)\n",
      "    computing connectivity for the bands:\n",
      "     band 1: 4.0Hz..7.0Hz (4 points)\n",
      "     band 2: 8.0Hz..12.0Hz (5 points)\n",
      "     band 3: 13.0Hz..20.0Hz (8 points)\n",
      "     band 4: 21.0Hz..30.0Hz (10 points)\n",
      "    connectivity scores will be averaged for each band\n",
      "    using CWT with Morlet wavelets to estimate spectra\n",
      "    the following metrics will be computed: Coherence\n",
      "    computing cross-spectral density for epochs 1..10\n"
     ]
    },
    {
     "name": "stderr",
     "output_type": "stream",
     "text": [
      "[Parallel(n_jobs=30)]: Done   8 out of  10 | elapsed:    0.1s remaining:    0.0s\n",
      "[Parallel(n_jobs=30)]: Done  10 out of  10 | elapsed:    0.1s finished\n",
      "C:\\Users\\malann\\AppData\\Roaming\\Python\\Python310\\site-packages\\mne_connectivity\\spectral\\epochs.py:177: RuntimeWarning: fmin=4.000 Hz corresponds to 2.120 < 5 cycles based on the epoch length 0.530 sec, need at least 1.250 sec epochs or fmin=9.434. Spectrum estimate will be unreliable.\n",
      "  warn(\n",
      "[Parallel(n_jobs=30)]: Using backend LokyBackend with 30 concurrent workers.\n",
      "[Parallel(n_jobs=30)]: Done   2 out of  10 | elapsed:    0.0s remaining:    0.3s\n"
     ]
    },
    {
     "name": "stdout",
     "output_type": "stream",
     "text": [
      "[Connectivity computation done]\n",
      "Connectivity computation...\n",
      "    computing connectivity for 18 connections\n",
      "    using t=0.000s..0.525s for estimation (106 points)\n",
      "    computing connectivity for the bands:\n",
      "     band 1: 4.0Hz..7.0Hz (4 points)\n",
      "     band 2: 8.0Hz..12.0Hz (5 points)\n",
      "     band 3: 13.0Hz..20.0Hz (8 points)\n",
      "     band 4: 21.0Hz..30.0Hz (10 points)\n",
      "    connectivity scores will be averaged for each band\n",
      "    using CWT with Morlet wavelets to estimate spectra\n",
      "    the following metrics will be computed: Coherence\n",
      "    computing cross-spectral density for epochs 1..30\n"
     ]
    },
    {
     "name": "stderr",
     "output_type": "stream",
     "text": [
      "[Parallel(n_jobs=30)]: Done   5 out of  10 | elapsed:    0.1s remaining:    0.1s\n",
      "[Parallel(n_jobs=30)]: Done   8 out of  10 | elapsed:    0.1s remaining:    0.0s\n",
      "[Parallel(n_jobs=30)]: Done  10 out of  10 | elapsed:    0.1s finished\n",
      "C:\\Users\\malann\\AppData\\Roaming\\Python\\Python310\\site-packages\\mne_connectivity\\spectral\\epochs.py:177: RuntimeWarning: fmin=4.000 Hz corresponds to 2.120 < 5 cycles based on the epoch length 0.530 sec, need at least 1.250 sec epochs or fmin=9.434. Spectrum estimate will be unreliable.\n",
      "  warn(\n",
      "[Parallel(n_jobs=30)]: Using backend LokyBackend with 30 concurrent workers.\n",
      "[Parallel(n_jobs=30)]: Done   8 out of  30 | elapsed:    0.1s remaining:    0.6s\n",
      "[Parallel(n_jobs=30)]: Done  15 out of  30 | elapsed:    0.2s remaining:    0.2s\n",
      "[Parallel(n_jobs=30)]: Done  22 out of  30 | elapsed:    0.3s remaining:    0.1s\n"
     ]
    },
    {
     "name": "stdout",
     "output_type": "stream",
     "text": [
      "    computing cross-spectral density for epochs 31..42\n"
     ]
    },
    {
     "name": "stderr",
     "output_type": "stream",
     "text": [
      "[Parallel(n_jobs=30)]: Done  30 out of  30 | elapsed:    0.4s finished\n",
      "[Parallel(n_jobs=30)]: Using backend LokyBackend with 30 concurrent workers.\n",
      "[Parallel(n_jobs=30)]: Done   4 out of  12 | elapsed:    0.0s remaining:    0.1s\n",
      "[Parallel(n_jobs=30)]: Done   7 out of  12 | elapsed:    0.1s remaining:    0.0s\n"
     ]
    },
    {
     "name": "stdout",
     "output_type": "stream",
     "text": [
      "[Connectivity computation done]\n",
      "Connectivity computation...\n",
      "    computing connectivity for 18 connections\n",
      "    using t=0.000s..0.525s for estimation (106 points)\n",
      "    computing connectivity for the bands:\n",
      "     band 1: 4.0Hz..7.0Hz (4 points)\n",
      "     band 2: 8.0Hz..12.0Hz (5 points)\n",
      "     band 3: 13.0Hz..20.0Hz (8 points)\n",
      "     band 4: 21.0Hz..30.0Hz (10 points)\n",
      "    connectivity scores will be averaged for each band\n",
      "    using CWT with Morlet wavelets to estimate spectra\n",
      "    the following metrics will be computed: Coherence\n",
      "    computing cross-spectral density for epochs 1..30\n"
     ]
    },
    {
     "name": "stderr",
     "output_type": "stream",
     "text": [
      "[Parallel(n_jobs=30)]: Done  10 out of  12 | elapsed:    0.1s remaining:    0.0s\n",
      "[Parallel(n_jobs=30)]: Done  12 out of  12 | elapsed:    0.1s finished\n",
      "C:\\Users\\malann\\AppData\\Roaming\\Python\\Python310\\site-packages\\mne_connectivity\\spectral\\epochs.py:177: RuntimeWarning: fmin=4.000 Hz corresponds to 2.120 < 5 cycles based on the epoch length 0.530 sec, need at least 1.250 sec epochs or fmin=9.434. Spectrum estimate will be unreliable.\n",
      "  warn(\n",
      "[Parallel(n_jobs=30)]: Using backend LokyBackend with 30 concurrent workers.\n",
      "[Parallel(n_jobs=30)]: Done   8 out of  30 | elapsed:    0.1s remaining:    0.5s\n",
      "[Parallel(n_jobs=30)]: Done  15 out of  30 | elapsed:    0.2s remaining:    0.2s\n",
      "[Parallel(n_jobs=30)]: Done  22 out of  30 | elapsed:    0.3s remaining:    0.0s\n"
     ]
    },
    {
     "name": "stdout",
     "output_type": "stream",
     "text": [
      "    computing cross-spectral density for epochs 31..42\n"
     ]
    },
    {
     "name": "stderr",
     "output_type": "stream",
     "text": [
      "[Parallel(n_jobs=30)]: Done  30 out of  30 | elapsed:    0.3s finished\n",
      "[Parallel(n_jobs=30)]: Using backend LokyBackend with 30 concurrent workers.\n",
      "[Parallel(n_jobs=30)]: Done   4 out of  12 | elapsed:    0.0s remaining:    0.2s\n",
      "[Parallel(n_jobs=30)]: Done   7 out of  12 | elapsed:    0.1s remaining:    0.0s\n",
      "[Parallel(n_jobs=30)]: Done  10 out of  12 | elapsed:    0.1s remaining:    0.0s\n"
     ]
    },
    {
     "name": "stdout",
     "output_type": "stream",
     "text": [
      "[Connectivity computation done]\n",
      "Connectivity computation...\n",
      "    computing connectivity for 18 connections\n",
      "    using t=0.000s..0.525s for estimation (106 points)\n",
      "    computing connectivity for the bands:\n",
      "     band 1: 4.0Hz..7.0Hz (4 points)\n",
      "     band 2: 8.0Hz..12.0Hz (5 points)\n",
      "     band 3: 13.0Hz..20.0Hz (8 points)\n",
      "     band 4: 21.0Hz..30.0Hz (10 points)\n",
      "    connectivity scores will be averaged for each band\n",
      "    using CWT with Morlet wavelets to estimate spectra\n",
      "    the following metrics will be computed: Coherence\n",
      "    computing cross-spectral density for epochs 1..10\n"
     ]
    },
    {
     "name": "stderr",
     "output_type": "stream",
     "text": [
      "[Parallel(n_jobs=30)]: Done  12 out of  12 | elapsed:    0.1s finished\n",
      "C:\\Users\\malann\\AppData\\Local\\Temp\\ipykernel_239232\\2349117804.py:69: FutureWarning: Parameters \"info\", \"data\", \"times\", \"nave\" are deprecated and will be removed in version 1.8. For a quick fix, use ``AverageTFRArray`` with the same parameters. For a long-term fix, see the docstring notes.\n",
      "  tfr_odd_E = mne.time_frequency.AverageTFR(epochs_aff_odd_E.info, con_odd_E.get_data(), times, freqs, len(epochs_aff_odd_E))\n",
      "C:\\Users\\malann\\AppData\\Local\\Temp\\ipykernel_239232\\2349117804.py:70: FutureWarning: Parameters \"info\", \"data\", \"times\", \"nave\" are deprecated and will be removed in version 1.8. For a quick fix, use ``AverageTFRArray`` with the same parameters. For a long-term fix, see the docstring notes.\n",
      "  tfr_odd_NE = mne.time_frequency.AverageTFR(epochs_aff_odd_NE.info, con_odd_NE.get_data(), times, freqs, len(epochs_aff_odd_NE))\n",
      "C:\\Users\\malann\\AppData\\Local\\Temp\\ipykernel_239232\\2349117804.py:74: FutureWarning: Parameters \"info\", \"data\", \"times\", \"nave\" are deprecated and will be removed in version 1.8. For a quick fix, use ``AverageTFRArray`` with the same parameters. For a long-term fix, see the docstring notes.\n",
      "  tfr_typ_E = mne.time_frequency.AverageTFR(epochs_aff_typ_E.info, con_typ_E.get_data(), times, freqs, len(epochs_aff_typ_E))\n",
      "C:\\Users\\malann\\AppData\\Local\\Temp\\ipykernel_239232\\2349117804.py:75: FutureWarning: Parameters \"info\", \"data\", \"times\", \"nave\" are deprecated and will be removed in version 1.8. For a quick fix, use ``AverageTFRArray`` with the same parameters. For a long-term fix, see the docstring notes.\n",
      "  tfr_typ_NE = mne.time_frequency.AverageTFR(epochs_aff_typ_NE.info, con_typ_NE.get_data(), times, freqs, len(epochs_aff_typ_NE))\n",
      "C:\\Users\\malann\\AppData\\Roaming\\Python\\Python310\\site-packages\\mne_connectivity\\spectral\\epochs.py:177: RuntimeWarning: fmin=4.000 Hz corresponds to 2.120 < 5 cycles based on the epoch length 0.530 sec, need at least 1.250 sec epochs or fmin=9.434. Spectrum estimate will be unreliable.\n",
      "  warn(\n",
      "[Parallel(n_jobs=30)]: Using backend LokyBackend with 30 concurrent workers.\n",
      "[Parallel(n_jobs=30)]: Done   2 out of  10 | elapsed:    0.0s remaining:    0.2s\n",
      "[Parallel(n_jobs=30)]: Done   5 out of  10 | elapsed:    0.0s remaining:    0.0s\n",
      "[Parallel(n_jobs=30)]: Done   8 out of  10 | elapsed:    0.0s remaining:    0.0s\n",
      "[Parallel(n_jobs=30)]: Done  10 out of  10 | elapsed:    0.0s finished\n"
     ]
    },
    {
     "name": "stdout",
     "output_type": "stream",
     "text": [
      "[Connectivity computation done]\n",
      "Connectivity computation...\n",
      "    computing connectivity for 18 connections\n",
      "    using t=0.000s..0.525s for estimation (106 points)\n",
      "    computing connectivity for the bands:\n",
      "     band 1: 4.0Hz..7.0Hz (4 points)\n",
      "     band 2: 8.0Hz..12.0Hz (5 points)\n",
      "     band 3: 13.0Hz..20.0Hz (8 points)\n",
      "     band 4: 21.0Hz..30.0Hz (10 points)\n",
      "    connectivity scores will be averaged for each band\n",
      "    using CWT with Morlet wavelets to estimate spectra\n",
      "    the following metrics will be computed: Coherence\n",
      "    computing cross-spectral density for epochs 1..10\n",
      "[Connectivity computation done]\n"
     ]
    },
    {
     "name": "stderr",
     "output_type": "stream",
     "text": [
      "C:\\Users\\malann\\AppData\\Roaming\\Python\\Python310\\site-packages\\mne_connectivity\\spectral\\epochs.py:177: RuntimeWarning: fmin=4.000 Hz corresponds to 2.120 < 5 cycles based on the epoch length 0.530 sec, need at least 1.250 sec epochs or fmin=9.434. Spectrum estimate will be unreliable.\n",
      "  warn(\n",
      "[Parallel(n_jobs=30)]: Using backend LokyBackend with 30 concurrent workers.\n",
      "[Parallel(n_jobs=30)]: Done   2 out of  10 | elapsed:    0.0s remaining:    0.2s\n",
      "[Parallel(n_jobs=30)]: Done   5 out of  10 | elapsed:    0.0s remaining:    0.0s\n",
      "[Parallel(n_jobs=30)]: Done   8 out of  10 | elapsed:    0.0s remaining:    0.0s\n",
      "[Parallel(n_jobs=30)]: Done  10 out of  10 | elapsed:    0.1s finished\n"
     ]
    },
    {
     "name": "stdout",
     "output_type": "stream",
     "text": [
      "Connectivity computation...\n",
      "    computing connectivity for 18 connections\n",
      "    using t=0.000s..0.525s for estimation (106 points)\n",
      "    computing connectivity for the bands:\n",
      "     band 1: 4.0Hz..7.0Hz (4 points)\n",
      "     band 2: 8.0Hz..12.0Hz (5 points)\n",
      "     band 3: 13.0Hz..20.0Hz (8 points)\n",
      "     band 4: 21.0Hz..30.0Hz (10 points)\n",
      "    connectivity scores will be averaged for each band\n",
      "    using CWT with Morlet wavelets to estimate spectra\n",
      "    the following metrics will be computed: Coherence\n",
      "    computing cross-spectral density for epochs 1..30\n"
     ]
    },
    {
     "name": "stderr",
     "output_type": "stream",
     "text": [
      "C:\\Users\\malann\\AppData\\Roaming\\Python\\Python310\\site-packages\\mne_connectivity\\spectral\\epochs.py:177: RuntimeWarning: fmin=4.000 Hz corresponds to 2.120 < 5 cycles based on the epoch length 0.530 sec, need at least 1.250 sec epochs or fmin=9.434. Spectrum estimate will be unreliable.\n",
      "  warn(\n",
      "[Parallel(n_jobs=30)]: Using backend LokyBackend with 30 concurrent workers.\n"
     ]
    },
    {
     "name": "stdout",
     "output_type": "stream",
     "text": [
      "    computing cross-spectral density for epochs 31..42\n"
     ]
    },
    {
     "name": "stderr",
     "output_type": "stream",
     "text": [
      "[Parallel(n_jobs=30)]: Done   8 out of  30 | elapsed:    0.2s remaining:    0.7s\n",
      "[Parallel(n_jobs=30)]: Done  15 out of  30 | elapsed:    0.2s remaining:    0.2s\n",
      "[Parallel(n_jobs=30)]: Done  22 out of  30 | elapsed:    0.3s remaining:    0.0s\n",
      "[Parallel(n_jobs=30)]: Done  30 out of  30 | elapsed:    0.4s finished\n",
      "[Parallel(n_jobs=30)]: Using backend LokyBackend with 30 concurrent workers.\n",
      "[Parallel(n_jobs=30)]: Done   4 out of  12 | elapsed:    0.0s remaining:    0.1s\n",
      "[Parallel(n_jobs=30)]: Done   7 out of  12 | elapsed:    0.0s remaining:    0.0s\n",
      "[Parallel(n_jobs=30)]: Done  10 out of  12 | elapsed:    0.1s remaining:    0.0s\n",
      "[Parallel(n_jobs=30)]: Done  12 out of  12 | elapsed:    0.1s finished\n"
     ]
    },
    {
     "name": "stdout",
     "output_type": "stream",
     "text": [
      "[Connectivity computation done]\n",
      "Connectivity computation...\n",
      "    computing connectivity for 18 connections\n",
      "    using t=0.000s..0.525s for estimation (106 points)\n",
      "    computing connectivity for the bands:\n",
      "     band 1: 4.0Hz..7.0Hz (4 points)\n",
      "     band 2: 8.0Hz..12.0Hz (5 points)\n",
      "     band 3: 13.0Hz..20.0Hz (8 points)\n",
      "     band 4: 21.0Hz..30.0Hz (10 points)\n",
      "    connectivity scores will be averaged for each band\n",
      "    using CWT with Morlet wavelets to estimate spectra\n",
      "    the following metrics will be computed: Coherence\n",
      "    computing cross-spectral density for epochs 1..30\n"
     ]
    },
    {
     "name": "stderr",
     "output_type": "stream",
     "text": [
      "C:\\Users\\malann\\AppData\\Roaming\\Python\\Python310\\site-packages\\mne_connectivity\\spectral\\epochs.py:177: RuntimeWarning: fmin=4.000 Hz corresponds to 2.120 < 5 cycles based on the epoch length 0.530 sec, need at least 1.250 sec epochs or fmin=9.434. Spectrum estimate will be unreliable.\n",
      "  warn(\n",
      "[Parallel(n_jobs=30)]: Using backend LokyBackend with 30 concurrent workers.\n"
     ]
    },
    {
     "name": "stdout",
     "output_type": "stream",
     "text": [
      "    computing cross-spectral density for epochs 31..42\n"
     ]
    },
    {
     "name": "stderr",
     "output_type": "stream",
     "text": [
      "[Parallel(n_jobs=30)]: Done   8 out of  30 | elapsed:    0.4s remaining:    1.2s\n",
      "[Parallel(n_jobs=30)]: Done  15 out of  30 | elapsed:    0.4s remaining:    0.4s\n",
      "[Parallel(n_jobs=30)]: Done  22 out of  30 | elapsed:    0.4s remaining:    0.1s\n",
      "[Parallel(n_jobs=30)]: Done  30 out of  30 | elapsed:    0.4s finished\n",
      "[Parallel(n_jobs=30)]: Using backend LokyBackend with 30 concurrent workers.\n",
      "[Parallel(n_jobs=30)]: Done   4 out of  12 | elapsed:    0.1s remaining:    0.2s\n",
      "[Parallel(n_jobs=30)]: Done   7 out of  12 | elapsed:    0.2s remaining:    0.1s\n"
     ]
    },
    {
     "name": "stdout",
     "output_type": "stream",
     "text": [
      "[Connectivity computation done]\n"
     ]
    },
    {
     "name": "stderr",
     "output_type": "stream",
     "text": [
      "[Parallel(n_jobs=30)]: Done  10 out of  12 | elapsed:    0.3s remaining:    0.0s\n",
      "[Parallel(n_jobs=30)]: Done  12 out of  12 | elapsed:    0.3s finished\n",
      "C:\\Users\\malann\\AppData\\Local\\Temp\\ipykernel_239232\\2349117804.py:69: FutureWarning: Parameters \"info\", \"data\", \"times\", \"nave\" are deprecated and will be removed in version 1.8. For a quick fix, use ``AverageTFRArray`` with the same parameters. For a long-term fix, see the docstring notes.\n",
      "  tfr_odd_E = mne.time_frequency.AverageTFR(epochs_aff_odd_E.info, con_odd_E.get_data(), times, freqs, len(epochs_aff_odd_E))\n",
      "C:\\Users\\malann\\AppData\\Local\\Temp\\ipykernel_239232\\2349117804.py:70: FutureWarning: Parameters \"info\", \"data\", \"times\", \"nave\" are deprecated and will be removed in version 1.8. For a quick fix, use ``AverageTFRArray`` with the same parameters. For a long-term fix, see the docstring notes.\n",
      "  tfr_odd_NE = mne.time_frequency.AverageTFR(epochs_aff_odd_NE.info, con_odd_NE.get_data(), times, freqs, len(epochs_aff_odd_NE))\n",
      "C:\\Users\\malann\\AppData\\Local\\Temp\\ipykernel_239232\\2349117804.py:74: FutureWarning: Parameters \"info\", \"data\", \"times\", \"nave\" are deprecated and will be removed in version 1.8. For a quick fix, use ``AverageTFRArray`` with the same parameters. For a long-term fix, see the docstring notes.\n",
      "  tfr_typ_E = mne.time_frequency.AverageTFR(epochs_aff_typ_E.info, con_typ_E.get_data(), times, freqs, len(epochs_aff_typ_E))\n",
      "C:\\Users\\malann\\AppData\\Local\\Temp\\ipykernel_239232\\2349117804.py:75: FutureWarning: Parameters \"info\", \"data\", \"times\", \"nave\" are deprecated and will be removed in version 1.8. For a quick fix, use ``AverageTFRArray`` with the same parameters. For a long-term fix, see the docstring notes.\n",
      "  tfr_typ_NE = mne.time_frequency.AverageTFR(epochs_aff_typ_NE.info, con_typ_NE.get_data(), times, freqs, len(epochs_aff_typ_NE))\n"
     ]
    },
    {
     "name": "stdout",
     "output_type": "stream",
     "text": [
      "Connectivity computation...\n",
      "    computing connectivity for 18 connections\n",
      "    using t=0.000s..0.525s for estimation (106 points)\n",
      "    computing connectivity for the bands:\n",
      "     band 1: 4.0Hz..7.0Hz (4 points)\n",
      "     band 2: 8.0Hz..12.0Hz (5 points)\n",
      "     band 3: 13.0Hz..20.0Hz (8 points)\n",
      "     band 4: 21.0Hz..30.0Hz (10 points)\n",
      "    connectivity scores will be averaged for each band\n",
      "    using CWT with Morlet wavelets to estimate spectra\n",
      "    the following metrics will be computed: Coherence\n",
      "    computing cross-spectral density for epochs 1..10\n"
     ]
    },
    {
     "name": "stderr",
     "output_type": "stream",
     "text": [
      "C:\\Users\\malann\\AppData\\Roaming\\Python\\Python310\\site-packages\\mne_connectivity\\spectral\\epochs.py:177: RuntimeWarning: fmin=4.000 Hz corresponds to 2.120 < 5 cycles based on the epoch length 0.530 sec, need at least 1.250 sec epochs or fmin=9.434. Spectrum estimate will be unreliable.\n",
      "  warn(\n",
      "[Parallel(n_jobs=30)]: Using backend LokyBackend with 30 concurrent workers.\n",
      "[Parallel(n_jobs=30)]: Done   5 out of  10 | elapsed:    0.1s remaining:    0.1s\n"
     ]
    },
    {
     "name": "stdout",
     "output_type": "stream",
     "text": [
      "[Connectivity computation done]\n",
      "Connectivity computation...\n",
      "    computing connectivity for 18 connections\n",
      "    using t=0.000s..0.525s for estimation (106 points)\n",
      "    computing connectivity for the bands:\n",
      "     band 1: 4.0Hz..7.0Hz (4 points)\n",
      "     band 2: 8.0Hz..12.0Hz (5 points)\n",
      "     band 3: 13.0Hz..20.0Hz (8 points)\n",
      "     band 4: 21.0Hz..30.0Hz (10 points)\n",
      "    connectivity scores will be averaged for each band\n",
      "    using CWT with Morlet wavelets to estimate spectra\n",
      "    the following metrics will be computed: Coherence\n",
      "    computing cross-spectral density for epochs 1..10\n"
     ]
    },
    {
     "name": "stderr",
     "output_type": "stream",
     "text": [
      "[Parallel(n_jobs=30)]: Done   8 out of  10 | elapsed:    0.5s remaining:    0.0s\n",
      "[Parallel(n_jobs=30)]: Done  10 out of  10 | elapsed:    0.5s finished\n",
      "C:\\Users\\malann\\AppData\\Roaming\\Python\\Python310\\site-packages\\mne_connectivity\\spectral\\epochs.py:177: RuntimeWarning: fmin=4.000 Hz corresponds to 2.120 < 5 cycles based on the epoch length 0.530 sec, need at least 1.250 sec epochs or fmin=9.434. Spectrum estimate will be unreliable.\n",
      "  warn(\n",
      "[Parallel(n_jobs=30)]: Using backend LokyBackend with 30 concurrent workers.\n",
      "[Parallel(n_jobs=30)]: Done   2 out of  10 | elapsed:    0.1s remaining:    0.8s\n",
      "[Parallel(n_jobs=30)]: Done   5 out of  10 | elapsed:    0.3s remaining:    0.3s\n",
      "[Parallel(n_jobs=30)]: Done   8 out of  10 | elapsed:    0.4s remaining:    0.0s\n"
     ]
    },
    {
     "name": "stdout",
     "output_type": "stream",
     "text": [
      "[Connectivity computation done]\n"
     ]
    },
    {
     "name": "stderr",
     "output_type": "stream",
     "text": [
      "[Parallel(n_jobs=30)]: Done  10 out of  10 | elapsed:    0.8s finished\n"
     ]
    },
    {
     "name": "stdout",
     "output_type": "stream",
     "text": [
      "Connectivity computation...\n",
      "    computing connectivity for 18 connections\n",
      "    using t=0.000s..0.525s for estimation (106 points)\n",
      "    computing connectivity for the bands:\n",
      "     band 1: 4.0Hz..7.0Hz (4 points)\n",
      "     band 2: 8.0Hz..12.0Hz (5 points)\n",
      "     band 3: 13.0Hz..20.0Hz (8 points)\n",
      "     band 4: 21.0Hz..30.0Hz (10 points)\n",
      "    connectivity scores will be averaged for each band\n",
      "    using CWT with Morlet wavelets to estimate spectra\n",
      "    the following metrics will be computed: Coherence\n",
      "    computing cross-spectral density for epochs 1..30\n"
     ]
    },
    {
     "name": "stderr",
     "output_type": "stream",
     "text": [
      "C:\\Users\\malann\\AppData\\Roaming\\Python\\Python310\\site-packages\\mne_connectivity\\spectral\\epochs.py:177: RuntimeWarning: fmin=4.000 Hz corresponds to 2.120 < 5 cycles based on the epoch length 0.530 sec, need at least 1.250 sec epochs or fmin=9.434. Spectrum estimate will be unreliable.\n",
      "  warn(\n",
      "[Parallel(n_jobs=30)]: Using backend LokyBackend with 30 concurrent workers.\n",
      "[Parallel(n_jobs=30)]: Done   8 out of  30 | elapsed:    0.5s remaining:    1.4s\n",
      "[Parallel(n_jobs=30)]: Done  15 out of  30 | elapsed:    0.9s remaining:    0.9s\n"
     ]
    },
    {
     "name": "stdout",
     "output_type": "stream",
     "text": [
      "    computing cross-spectral density for epochs 31..42\n"
     ]
    },
    {
     "name": "stderr",
     "output_type": "stream",
     "text": [
      "[Parallel(n_jobs=30)]: Done  22 out of  30 | elapsed:    1.2s remaining:    0.4s\n",
      "[Parallel(n_jobs=30)]: Done  30 out of  30 | elapsed:    1.3s finished\n",
      "[Parallel(n_jobs=30)]: Using backend LokyBackend with 30 concurrent workers.\n"
     ]
    },
    {
     "name": "stdout",
     "output_type": "stream",
     "text": [
      "[Connectivity computation done]\n",
      "Connectivity computation...\n",
      "    computing connectivity for 18 connections\n",
      "    using t=0.000s..0.525s for estimation (106 points)\n",
      "    computing connectivity for the bands:\n",
      "     band 1: 4.0Hz..7.0Hz (4 points)\n",
      "     band 2: 8.0Hz..12.0Hz (5 points)\n",
      "     band 3: 13.0Hz..20.0Hz (8 points)\n",
      "     band 4: 21.0Hz..30.0Hz (10 points)\n",
      "    connectivity scores will be averaged for each band\n",
      "    using CWT with Morlet wavelets to estimate spectra\n",
      "    the following metrics will be computed: Coherence\n",
      "    computing cross-spectral density for epochs 1..30\n"
     ]
    },
    {
     "name": "stderr",
     "output_type": "stream",
     "text": [
      "[Parallel(n_jobs=30)]: Done   4 out of  12 | elapsed:    0.2s remaining:    0.5s\n",
      "[Parallel(n_jobs=30)]: Done   7 out of  12 | elapsed:    0.2s remaining:    0.1s\n",
      "[Parallel(n_jobs=30)]: Done  10 out of  12 | elapsed:    0.3s remaining:    0.0s\n",
      "[Parallel(n_jobs=30)]: Done  12 out of  12 | elapsed:    0.3s finished\n",
      "C:\\Users\\malann\\AppData\\Roaming\\Python\\Python310\\site-packages\\mne_connectivity\\spectral\\epochs.py:177: RuntimeWarning: fmin=4.000 Hz corresponds to 2.120 < 5 cycles based on the epoch length 0.530 sec, need at least 1.250 sec epochs or fmin=9.434. Spectrum estimate will be unreliable.\n",
      "  warn(\n",
      "[Parallel(n_jobs=30)]: Using backend LokyBackend with 30 concurrent workers.\n",
      "[Parallel(n_jobs=30)]: Done   8 out of  30 | elapsed:    0.1s remaining:    0.5s\n",
      "[Parallel(n_jobs=30)]: Done  15 out of  30 | elapsed:    0.4s remaining:    0.4s\n",
      "[Parallel(n_jobs=30)]: Done  22 out of  30 | elapsed:    0.4s remaining:    0.1s\n"
     ]
    },
    {
     "name": "stdout",
     "output_type": "stream",
     "text": [
      "    computing cross-spectral density for epochs 31..42\n"
     ]
    },
    {
     "name": "stderr",
     "output_type": "stream",
     "text": [
      "[Parallel(n_jobs=30)]: Done  30 out of  30 | elapsed:    1.1s finished\n",
      "[Parallel(n_jobs=30)]: Using backend LokyBackend with 30 concurrent workers.\n",
      "[Parallel(n_jobs=30)]: Done   4 out of  12 | elapsed:    0.2s remaining:    0.5s\n",
      "[Parallel(n_jobs=30)]: Done   7 out of  12 | elapsed:    0.4s remaining:    0.2s\n",
      "[Parallel(n_jobs=30)]: Done  10 out of  12 | elapsed:    0.5s remaining:    0.0s\n"
     ]
    },
    {
     "name": "stdout",
     "output_type": "stream",
     "text": [
      "[Connectivity computation done]\n",
      "Connectivity computation...\n",
      "    computing connectivity for 18 connections\n",
      "    using t=0.000s..0.525s for estimation (106 points)\n",
      "    computing connectivity for the bands:\n",
      "     band 1: 4.0Hz..7.0Hz (4 points)\n",
      "     band 2: 8.0Hz..12.0Hz (5 points)\n",
      "     band 3: 13.0Hz..20.0Hz (8 points)\n",
      "     band 4: 21.0Hz..30.0Hz (10 points)\n",
      "    connectivity scores will be averaged for each band\n",
      "    using CWT with Morlet wavelets to estimate spectra\n",
      "    the following metrics will be computed: Coherence\n",
      "    computing cross-spectral density for epochs 1..10\n",
      "[Connectivity computation done]\n",
      "Connectivity computation...\n"
     ]
    },
    {
     "name": "stderr",
     "output_type": "stream",
     "text": [
      "[Parallel(n_jobs=30)]: Done  12 out of  12 | elapsed:    1.0s finished\n",
      "C:\\Users\\malann\\AppData\\Local\\Temp\\ipykernel_239232\\2349117804.py:69: FutureWarning: Parameters \"info\", \"data\", \"times\", \"nave\" are deprecated and will be removed in version 1.8. For a quick fix, use ``AverageTFRArray`` with the same parameters. For a long-term fix, see the docstring notes.\n",
      "  tfr_odd_E = mne.time_frequency.AverageTFR(epochs_aff_odd_E.info, con_odd_E.get_data(), times, freqs, len(epochs_aff_odd_E))\n",
      "C:\\Users\\malann\\AppData\\Local\\Temp\\ipykernel_239232\\2349117804.py:70: FutureWarning: Parameters \"info\", \"data\", \"times\", \"nave\" are deprecated and will be removed in version 1.8. For a quick fix, use ``AverageTFRArray`` with the same parameters. For a long-term fix, see the docstring notes.\n",
      "  tfr_odd_NE = mne.time_frequency.AverageTFR(epochs_aff_odd_NE.info, con_odd_NE.get_data(), times, freqs, len(epochs_aff_odd_NE))\n",
      "C:\\Users\\malann\\AppData\\Local\\Temp\\ipykernel_239232\\2349117804.py:74: FutureWarning: Parameters \"info\", \"data\", \"times\", \"nave\" are deprecated and will be removed in version 1.8. For a quick fix, use ``AverageTFRArray`` with the same parameters. For a long-term fix, see the docstring notes.\n",
      "  tfr_typ_E = mne.time_frequency.AverageTFR(epochs_aff_typ_E.info, con_typ_E.get_data(), times, freqs, len(epochs_aff_typ_E))\n",
      "C:\\Users\\malann\\AppData\\Local\\Temp\\ipykernel_239232\\2349117804.py:75: FutureWarning: Parameters \"info\", \"data\", \"times\", \"nave\" are deprecated and will be removed in version 1.8. For a quick fix, use ``AverageTFRArray`` with the same parameters. For a long-term fix, see the docstring notes.\n",
      "  tfr_typ_NE = mne.time_frequency.AverageTFR(epochs_aff_typ_NE.info, con_typ_NE.get_data(), times, freqs, len(epochs_aff_typ_NE))\n",
      "C:\\Users\\malann\\AppData\\Roaming\\Python\\Python310\\site-packages\\mne_connectivity\\spectral\\epochs.py:177: RuntimeWarning: fmin=4.000 Hz corresponds to 2.120 < 5 cycles based on the epoch length 0.530 sec, need at least 1.250 sec epochs or fmin=9.434. Spectrum estimate will be unreliable.\n",
      "  warn(\n",
      "[Parallel(n_jobs=30)]: Using backend LokyBackend with 30 concurrent workers.\n",
      "[Parallel(n_jobs=30)]: Done   2 out of  10 | elapsed:    0.0s remaining:    0.2s\n",
      "[Parallel(n_jobs=30)]: Done   5 out of  10 | elapsed:    0.0s remaining:    0.0s\n",
      "[Parallel(n_jobs=30)]: Done   8 out of  10 | elapsed:    0.0s remaining:    0.0s\n",
      "[Parallel(n_jobs=30)]: Done  10 out of  10 | elapsed:    0.0s finished\n"
     ]
    },
    {
     "name": "stdout",
     "output_type": "stream",
     "text": [
      "    computing connectivity for 18 connections\n",
      "    using t=0.000s..0.525s for estimation (106 points)\n",
      "    computing connectivity for the bands:\n",
      "     band 1: 4.0Hz..7.0Hz (4 points)\n",
      "     band 2: 8.0Hz..12.0Hz (5 points)\n",
      "     band 3: 13.0Hz..20.0Hz (8 points)\n",
      "     band 4: 21.0Hz..30.0Hz (10 points)\n",
      "    connectivity scores will be averaged for each band\n",
      "    using CWT with Morlet wavelets to estimate spectra\n",
      "    the following metrics will be computed: Coherence\n",
      "    computing cross-spectral density for epochs 1..10\n"
     ]
    },
    {
     "name": "stderr",
     "output_type": "stream",
     "text": [
      "C:\\Users\\malann\\AppData\\Roaming\\Python\\Python310\\site-packages\\mne_connectivity\\spectral\\epochs.py:177: RuntimeWarning: fmin=4.000 Hz corresponds to 2.120 < 5 cycles based on the epoch length 0.530 sec, need at least 1.250 sec epochs or fmin=9.434. Spectrum estimate will be unreliable.\n",
      "  warn(\n",
      "[Parallel(n_jobs=30)]: Using backend LokyBackend with 30 concurrent workers.\n",
      "[Parallel(n_jobs=30)]: Done   2 out of  10 | elapsed:    0.0s remaining:    0.2s\n",
      "[Parallel(n_jobs=30)]: Done   5 out of  10 | elapsed:    0.0s remaining:    0.0s\n",
      "[Parallel(n_jobs=30)]: Done   8 out of  10 | elapsed:    0.1s remaining:    0.0s\n",
      "[Parallel(n_jobs=30)]: Done  10 out of  10 | elapsed:    0.1s finished\n"
     ]
    },
    {
     "name": "stdout",
     "output_type": "stream",
     "text": [
      "[Connectivity computation done]\n",
      "Connectivity computation...\n",
      "    computing connectivity for 18 connections\n",
      "    using t=0.000s..0.525s for estimation (106 points)\n",
      "    computing connectivity for the bands:\n",
      "     band 1: 4.0Hz..7.0Hz (4 points)\n",
      "     band 2: 8.0Hz..12.0Hz (5 points)\n",
      "     band 3: 13.0Hz..20.0Hz (8 points)\n",
      "     band 4: 21.0Hz..30.0Hz (10 points)\n",
      "    connectivity scores will be averaged for each band\n",
      "    using CWT with Morlet wavelets to estimate spectra\n",
      "    the following metrics will be computed: Coherence\n",
      "    computing cross-spectral density for epochs 1..30\n"
     ]
    },
    {
     "name": "stderr",
     "output_type": "stream",
     "text": [
      "C:\\Users\\malann\\AppData\\Roaming\\Python\\Python310\\site-packages\\mne_connectivity\\spectral\\epochs.py:177: RuntimeWarning: fmin=4.000 Hz corresponds to 2.120 < 5 cycles based on the epoch length 0.530 sec, need at least 1.250 sec epochs or fmin=9.434. Spectrum estimate will be unreliable.\n",
      "  warn(\n",
      "[Parallel(n_jobs=30)]: Using backend LokyBackend with 30 concurrent workers.\n",
      "[Parallel(n_jobs=30)]: Done   8 out of  30 | elapsed:    0.1s remaining:    0.3s\n"
     ]
    },
    {
     "name": "stdout",
     "output_type": "stream",
     "text": [
      "    computing cross-spectral density for epochs 31..42\n"
     ]
    },
    {
     "name": "stderr",
     "output_type": "stream",
     "text": [
      "[Parallel(n_jobs=30)]: Done  15 out of  30 | elapsed:    0.1s remaining:    0.1s\n",
      "[Parallel(n_jobs=30)]: Done  22 out of  30 | elapsed:    0.1s remaining:    0.0s\n",
      "[Parallel(n_jobs=30)]: Done  30 out of  30 | elapsed:    0.2s finished\n",
      "[Parallel(n_jobs=30)]: Using backend LokyBackend with 30 concurrent workers.\n",
      "[Parallel(n_jobs=30)]: Done   4 out of  12 | elapsed:    0.0s remaining:    0.1s\n",
      "[Parallel(n_jobs=30)]: Done   7 out of  12 | elapsed:    0.0s remaining:    0.0s\n"
     ]
    },
    {
     "name": "stdout",
     "output_type": "stream",
     "text": [
      "[Connectivity computation done]\n",
      "Connectivity computation...\n",
      "    computing connectivity for 18 connections\n",
      "    using t=0.000s..0.525s for estimation (106 points)\n",
      "    computing connectivity for the bands:\n",
      "     band 1: 4.0Hz..7.0Hz (4 points)\n",
      "     band 2: 8.0Hz..12.0Hz (5 points)\n",
      "     band 3: 13.0Hz..20.0Hz (8 points)\n",
      "     band 4: 21.0Hz..30.0Hz (10 points)\n",
      "    connectivity scores will be averaged for each band\n",
      "    using CWT with Morlet wavelets to estimate spectra\n",
      "    the following metrics will be computed: Coherence\n",
      "    computing cross-spectral density for epochs 1..30\n"
     ]
    },
    {
     "name": "stderr",
     "output_type": "stream",
     "text": [
      "[Parallel(n_jobs=30)]: Done  10 out of  12 | elapsed:    0.0s remaining:    0.0s\n",
      "[Parallel(n_jobs=30)]: Done  12 out of  12 | elapsed:    0.0s finished\n",
      "C:\\Users\\malann\\AppData\\Roaming\\Python\\Python310\\site-packages\\mne_connectivity\\spectral\\epochs.py:177: RuntimeWarning: fmin=4.000 Hz corresponds to 2.120 < 5 cycles based on the epoch length 0.530 sec, need at least 1.250 sec epochs or fmin=9.434. Spectrum estimate will be unreliable.\n",
      "  warn(\n",
      "[Parallel(n_jobs=30)]: Using backend LokyBackend with 30 concurrent workers.\n"
     ]
    },
    {
     "name": "stdout",
     "output_type": "stream",
     "text": [
      "    computing cross-spectral density for epochs 31..42\n"
     ]
    },
    {
     "name": "stderr",
     "output_type": "stream",
     "text": [
      "[Parallel(n_jobs=30)]: Done   8 out of  30 | elapsed:    0.1s remaining:    0.5s\n",
      "[Parallel(n_jobs=30)]: Done  15 out of  30 | elapsed:    0.1s remaining:    0.1s\n",
      "[Parallel(n_jobs=30)]: Done  22 out of  30 | elapsed:    0.2s remaining:    0.0s\n",
      "[Parallel(n_jobs=30)]: Done  30 out of  30 | elapsed:    0.2s finished\n",
      "[Parallel(n_jobs=30)]: Using backend LokyBackend with 30 concurrent workers.\n",
      "[Parallel(n_jobs=30)]: Done   4 out of  12 | elapsed:    0.0s remaining:    0.0s\n"
     ]
    },
    {
     "name": "stdout",
     "output_type": "stream",
     "text": [
      "[Connectivity computation done]\n",
      "Connectivity computation...\n",
      "    computing connectivity for 18 connections\n",
      "    using t=0.000s..0.525s for estimation (106 points)\n",
      "    computing connectivity for the bands:\n",
      "     band 1: 4.0Hz..7.0Hz (4 points)\n",
      "     band 2: 8.0Hz..12.0Hz (5 points)\n",
      "     band 3: 13.0Hz..20.0Hz (8 points)\n",
      "     band 4: 21.0Hz..30.0Hz (10 points)\n",
      "    connectivity scores will be averaged for each band\n",
      "    using CWT with Morlet wavelets to estimate spectra\n",
      "    the following metrics will be computed: Coherence\n",
      "    computing cross-spectral density for epochs 1..10\n"
     ]
    },
    {
     "name": "stderr",
     "output_type": "stream",
     "text": [
      "[Parallel(n_jobs=30)]: Done   7 out of  12 | elapsed:    0.0s remaining:    0.0s\n",
      "[Parallel(n_jobs=30)]: Done  10 out of  12 | elapsed:    0.0s remaining:    0.0s\n",
      "[Parallel(n_jobs=30)]: Done  12 out of  12 | elapsed:    0.1s finished\n",
      "C:\\Users\\malann\\AppData\\Local\\Temp\\ipykernel_239232\\2349117804.py:69: FutureWarning: Parameters \"info\", \"data\", \"times\", \"nave\" are deprecated and will be removed in version 1.8. For a quick fix, use ``AverageTFRArray`` with the same parameters. For a long-term fix, see the docstring notes.\n",
      "  tfr_odd_E = mne.time_frequency.AverageTFR(epochs_aff_odd_E.info, con_odd_E.get_data(), times, freqs, len(epochs_aff_odd_E))\n",
      "C:\\Users\\malann\\AppData\\Local\\Temp\\ipykernel_239232\\2349117804.py:70: FutureWarning: Parameters \"info\", \"data\", \"times\", \"nave\" are deprecated and will be removed in version 1.8. For a quick fix, use ``AverageTFRArray`` with the same parameters. For a long-term fix, see the docstring notes.\n",
      "  tfr_odd_NE = mne.time_frequency.AverageTFR(epochs_aff_odd_NE.info, con_odd_NE.get_data(), times, freqs, len(epochs_aff_odd_NE))\n",
      "C:\\Users\\malann\\AppData\\Local\\Temp\\ipykernel_239232\\2349117804.py:74: FutureWarning: Parameters \"info\", \"data\", \"times\", \"nave\" are deprecated and will be removed in version 1.8. For a quick fix, use ``AverageTFRArray`` with the same parameters. For a long-term fix, see the docstring notes.\n",
      "  tfr_typ_E = mne.time_frequency.AverageTFR(epochs_aff_typ_E.info, con_typ_E.get_data(), times, freqs, len(epochs_aff_typ_E))\n",
      "C:\\Users\\malann\\AppData\\Local\\Temp\\ipykernel_239232\\2349117804.py:75: FutureWarning: Parameters \"info\", \"data\", \"times\", \"nave\" are deprecated and will be removed in version 1.8. For a quick fix, use ``AverageTFRArray`` with the same parameters. For a long-term fix, see the docstring notes.\n",
      "  tfr_typ_NE = mne.time_frequency.AverageTFR(epochs_aff_typ_NE.info, con_typ_NE.get_data(), times, freqs, len(epochs_aff_typ_NE))\n",
      "C:\\Users\\malann\\AppData\\Roaming\\Python\\Python310\\site-packages\\mne_connectivity\\spectral\\epochs.py:177: RuntimeWarning: fmin=4.000 Hz corresponds to 2.120 < 5 cycles based on the epoch length 0.530 sec, need at least 1.250 sec epochs or fmin=9.434. Spectrum estimate will be unreliable.\n",
      "  warn(\n",
      "[Parallel(n_jobs=30)]: Using backend LokyBackend with 30 concurrent workers.\n",
      "[Parallel(n_jobs=30)]: Done   2 out of  10 | elapsed:    0.0s remaining:    0.1s\n",
      "[Parallel(n_jobs=30)]: Done   5 out of  10 | elapsed:    0.0s remaining:    0.0s\n",
      "[Parallel(n_jobs=30)]: Done   8 out of  10 | elapsed:    0.0s remaining:    0.0s\n"
     ]
    },
    {
     "name": "stdout",
     "output_type": "stream",
     "text": [
      "[Connectivity computation done]\n",
      "Connectivity computation...\n",
      "    computing connectivity for 18 connections\n",
      "    using t=0.000s..0.525s for estimation (106 points)\n",
      "    computing connectivity for the bands:\n",
      "     band 1: 4.0Hz..7.0Hz (4 points)\n",
      "     band 2: 8.0Hz..12.0Hz (5 points)\n",
      "     band 3: 13.0Hz..20.0Hz (8 points)\n",
      "     band 4: 21.0Hz..30.0Hz (10 points)\n",
      "    connectivity scores will be averaged for each band\n",
      "    using CWT with Morlet wavelets to estimate spectra\n",
      "    the following metrics will be computed: Coherence\n",
      "    computing cross-spectral density for epochs 1..10\n",
      "[Connectivity computation done]\n",
      "Connectivity computation...\n",
      "    computing connectivity for 18 connections\n"
     ]
    },
    {
     "name": "stderr",
     "output_type": "stream",
     "text": [
      "[Parallel(n_jobs=30)]: Done  10 out of  10 | elapsed:    0.0s finished\n",
      "C:\\Users\\malann\\AppData\\Roaming\\Python\\Python310\\site-packages\\mne_connectivity\\spectral\\epochs.py:177: RuntimeWarning: fmin=4.000 Hz corresponds to 2.120 < 5 cycles based on the epoch length 0.530 sec, need at least 1.250 sec epochs or fmin=9.434. Spectrum estimate will be unreliable.\n",
      "  warn(\n",
      "[Parallel(n_jobs=30)]: Using backend LokyBackend with 30 concurrent workers.\n",
      "[Parallel(n_jobs=30)]: Done   2 out of  10 | elapsed:    0.0s remaining:    0.1s\n",
      "[Parallel(n_jobs=30)]: Done   5 out of  10 | elapsed:    0.0s remaining:    0.0s\n",
      "[Parallel(n_jobs=30)]: Done   8 out of  10 | elapsed:    0.0s remaining:    0.0s\n",
      "[Parallel(n_jobs=30)]: Done  10 out of  10 | elapsed:    0.0s finished\n"
     ]
    },
    {
     "name": "stdout",
     "output_type": "stream",
     "text": [
      "    using t=0.000s..0.525s for estimation (106 points)\n",
      "    computing connectivity for the bands:\n",
      "     band 1: 4.0Hz..7.0Hz (4 points)\n",
      "     band 2: 8.0Hz..12.0Hz (5 points)\n",
      "     band 3: 13.0Hz..20.0Hz (8 points)\n",
      "     band 4: 21.0Hz..30.0Hz (10 points)\n",
      "    connectivity scores will be averaged for each band\n",
      "    using CWT with Morlet wavelets to estimate spectra\n",
      "    the following metrics will be computed: Coherence\n",
      "    computing cross-spectral density for epochs 1..30\n"
     ]
    },
    {
     "name": "stderr",
     "output_type": "stream",
     "text": [
      "C:\\Users\\malann\\AppData\\Roaming\\Python\\Python310\\site-packages\\mne_connectivity\\spectral\\epochs.py:177: RuntimeWarning: fmin=4.000 Hz corresponds to 2.120 < 5 cycles based on the epoch length 0.530 sec, need at least 1.250 sec epochs or fmin=9.434. Spectrum estimate will be unreliable.\n",
      "  warn(\n",
      "[Parallel(n_jobs=30)]: Using backend LokyBackend with 30 concurrent workers.\n",
      "[Parallel(n_jobs=30)]: Done   8 out of  30 | elapsed:    0.1s remaining:    0.3s\n"
     ]
    },
    {
     "name": "stdout",
     "output_type": "stream",
     "text": [
      "    computing cross-spectral density for epochs 31..42\n"
     ]
    },
    {
     "name": "stderr",
     "output_type": "stream",
     "text": [
      "[Parallel(n_jobs=30)]: Done  15 out of  30 | elapsed:    0.1s remaining:    0.1s\n",
      "[Parallel(n_jobs=30)]: Done  22 out of  30 | elapsed:    0.2s remaining:    0.0s\n",
      "[Parallel(n_jobs=30)]: Done  30 out of  30 | elapsed:    0.2s finished\n",
      "[Parallel(n_jobs=30)]: Using backend LokyBackend with 30 concurrent workers.\n",
      "[Parallel(n_jobs=30)]: Done   4 out of  12 | elapsed:    0.0s remaining:    0.0s\n"
     ]
    },
    {
     "name": "stdout",
     "output_type": "stream",
     "text": [
      "[Connectivity computation done]\n",
      "Connectivity computation...\n",
      "    computing connectivity for 18 connections\n",
      "    using t=0.000s..0.525s for estimation (106 points)\n",
      "    computing connectivity for the bands:\n",
      "     band 1: 4.0Hz..7.0Hz (4 points)\n",
      "     band 2: 8.0Hz..12.0Hz (5 points)\n",
      "     band 3: 13.0Hz..20.0Hz (8 points)\n",
      "     band 4: 21.0Hz..30.0Hz (10 points)\n",
      "    connectivity scores will be averaged for each band\n",
      "    using CWT with Morlet wavelets to estimate spectra\n",
      "    the following metrics will be computed: Coherence\n",
      "    computing cross-spectral density for epochs 1..30\n"
     ]
    },
    {
     "name": "stderr",
     "output_type": "stream",
     "text": [
      "[Parallel(n_jobs=30)]: Done   7 out of  12 | elapsed:    0.0s remaining:    0.0s\n",
      "[Parallel(n_jobs=30)]: Done  10 out of  12 | elapsed:    0.0s remaining:    0.0s\n",
      "[Parallel(n_jobs=30)]: Done  12 out of  12 | elapsed:    0.0s finished\n",
      "C:\\Users\\malann\\AppData\\Roaming\\Python\\Python310\\site-packages\\mne_connectivity\\spectral\\epochs.py:177: RuntimeWarning: fmin=4.000 Hz corresponds to 2.120 < 5 cycles based on the epoch length 0.530 sec, need at least 1.250 sec epochs or fmin=9.434. Spectrum estimate will be unreliable.\n",
      "  warn(\n",
      "[Parallel(n_jobs=30)]: Using backend LokyBackend with 30 concurrent workers.\n",
      "[Parallel(n_jobs=30)]: Done   8 out of  30 | elapsed:    0.3s remaining:    0.9s\n",
      "[Parallel(n_jobs=30)]: Done  15 out of  30 | elapsed:    0.3s remaining:    0.3s\n",
      "[Parallel(n_jobs=30)]: Done  22 out of  30 | elapsed:    0.4s remaining:    0.1s\n",
      "[Parallel(n_jobs=30)]: Done  30 out of  30 | elapsed:    0.5s finished\n"
     ]
    },
    {
     "name": "stdout",
     "output_type": "stream",
     "text": [
      "    computing cross-spectral density for epochs 31..42\n"
     ]
    },
    {
     "name": "stderr",
     "output_type": "stream",
     "text": [
      "[Parallel(n_jobs=30)]: Using backend LokyBackend with 30 concurrent workers.\n",
      "[Parallel(n_jobs=30)]: Done   4 out of  12 | elapsed:    0.1s remaining:    0.2s\n",
      "[Parallel(n_jobs=30)]: Done   7 out of  12 | elapsed:    0.1s remaining:    0.0s\n"
     ]
    },
    {
     "name": "stdout",
     "output_type": "stream",
     "text": [
      "[Connectivity computation done]\n",
      "Connectivity computation...\n"
     ]
    },
    {
     "name": "stderr",
     "output_type": "stream",
     "text": [
      "[Parallel(n_jobs=30)]: Done  10 out of  12 | elapsed:    0.1s remaining:    0.0s\n",
      "[Parallel(n_jobs=30)]: Done  12 out of  12 | elapsed:    0.2s finished\n",
      "C:\\Users\\malann\\AppData\\Local\\Temp\\ipykernel_239232\\2349117804.py:69: FutureWarning: Parameters \"info\", \"data\", \"times\", \"nave\" are deprecated and will be removed in version 1.8. For a quick fix, use ``AverageTFRArray`` with the same parameters. For a long-term fix, see the docstring notes.\n",
      "  tfr_odd_E = mne.time_frequency.AverageTFR(epochs_aff_odd_E.info, con_odd_E.get_data(), times, freqs, len(epochs_aff_odd_E))\n",
      "C:\\Users\\malann\\AppData\\Local\\Temp\\ipykernel_239232\\2349117804.py:70: FutureWarning: Parameters \"info\", \"data\", \"times\", \"nave\" are deprecated and will be removed in version 1.8. For a quick fix, use ``AverageTFRArray`` with the same parameters. For a long-term fix, see the docstring notes.\n",
      "  tfr_odd_NE = mne.time_frequency.AverageTFR(epochs_aff_odd_NE.info, con_odd_NE.get_data(), times, freqs, len(epochs_aff_odd_NE))\n",
      "C:\\Users\\malann\\AppData\\Local\\Temp\\ipykernel_239232\\2349117804.py:74: FutureWarning: Parameters \"info\", \"data\", \"times\", \"nave\" are deprecated and will be removed in version 1.8. For a quick fix, use ``AverageTFRArray`` with the same parameters. For a long-term fix, see the docstring notes.\n",
      "  tfr_typ_E = mne.time_frequency.AverageTFR(epochs_aff_typ_E.info, con_typ_E.get_data(), times, freqs, len(epochs_aff_typ_E))\n",
      "C:\\Users\\malann\\AppData\\Local\\Temp\\ipykernel_239232\\2349117804.py:75: FutureWarning: Parameters \"info\", \"data\", \"times\", \"nave\" are deprecated and will be removed in version 1.8. For a quick fix, use ``AverageTFRArray`` with the same parameters. For a long-term fix, see the docstring notes.\n",
      "  tfr_typ_NE = mne.time_frequency.AverageTFR(epochs_aff_typ_NE.info, con_typ_NE.get_data(), times, freqs, len(epochs_aff_typ_NE))\n"
     ]
    },
    {
     "name": "stdout",
     "output_type": "stream",
     "text": [
      "    computing connectivity for 18 connections\n",
      "    using t=0.525s..1.500s for estimation (196 points)\n",
      "    computing connectivity for the bands:\n",
      "     band 1: 4.0Hz..7.0Hz (4 points)\n",
      "     band 2: 8.0Hz..12.0Hz (5 points)\n",
      "     band 3: 13.0Hz..20.0Hz (8 points)\n",
      "     band 4: 21.0Hz..30.0Hz (10 points)\n",
      "    connectivity scores will be averaged for each band\n",
      "    using CWT with Morlet wavelets to estimate spectra\n",
      "    the following metrics will be computed: Coherence\n",
      "    computing cross-spectral density for epochs 1..10\n"
     ]
    },
    {
     "name": "stderr",
     "output_type": "stream",
     "text": [
      "C:\\Users\\malann\\AppData\\Roaming\\Python\\Python310\\site-packages\\mne_connectivity\\spectral\\epochs.py:177: RuntimeWarning: fmin=4.000 Hz corresponds to 3.920 < 5 cycles based on the epoch length 0.980 sec, need at least 1.250 sec epochs or fmin=5.102. Spectrum estimate will be unreliable.\n",
      "  warn(\n",
      "[Parallel(n_jobs=30)]: Using backend LokyBackend with 30 concurrent workers.\n"
     ]
    },
    {
     "name": "stdout",
     "output_type": "stream",
     "text": [
      "[Connectivity computation done]\n"
     ]
    },
    {
     "name": "stderr",
     "output_type": "stream",
     "text": [
      "[Parallel(n_jobs=30)]: Done   2 out of  10 | elapsed:    0.1s remaining:    0.6s\n",
      "[Parallel(n_jobs=30)]: Done   5 out of  10 | elapsed:    0.1s remaining:    0.1s\n",
      "[Parallel(n_jobs=30)]: Done   8 out of  10 | elapsed:    0.2s remaining:    0.0s\n",
      "[Parallel(n_jobs=30)]: Done  10 out of  10 | elapsed:    0.2s finished\n"
     ]
    },
    {
     "name": "stdout",
     "output_type": "stream",
     "text": [
      "Connectivity computation...\n",
      "    computing connectivity for 18 connections\n",
      "    using t=0.525s..1.500s for estimation (196 points)\n",
      "    computing connectivity for the bands:\n",
      "     band 1: 4.0Hz..7.0Hz (4 points)\n",
      "     band 2: 8.0Hz..12.0Hz (5 points)\n",
      "     band 3: 13.0Hz..20.0Hz (8 points)\n",
      "     band 4: 21.0Hz..30.0Hz (10 points)\n",
      "    connectivity scores will be averaged for each band\n",
      "    using CWT with Morlet wavelets to estimate spectra\n",
      "    the following metrics will be computed: Coherence\n",
      "    computing cross-spectral density for epochs 1..10\n"
     ]
    },
    {
     "name": "stderr",
     "output_type": "stream",
     "text": [
      "C:\\Users\\malann\\AppData\\Roaming\\Python\\Python310\\site-packages\\mne_connectivity\\spectral\\epochs.py:177: RuntimeWarning: fmin=4.000 Hz corresponds to 3.920 < 5 cycles based on the epoch length 0.980 sec, need at least 1.250 sec epochs or fmin=5.102. Spectrum estimate will be unreliable.\n",
      "  warn(\n",
      "[Parallel(n_jobs=30)]: Using backend LokyBackend with 30 concurrent workers.\n"
     ]
    },
    {
     "name": "stdout",
     "output_type": "stream",
     "text": [
      "[Connectivity computation done]\n",
      "Connectivity computation...\n",
      "    computing connectivity for 18 connections\n",
      "    using t=0.525s..1.500s for estimation (196 points)\n",
      "    computing connectivity for the bands:\n",
      "     band 1: 4.0Hz..7.0Hz (4 points)\n",
      "     band 2: 8.0Hz..12.0Hz (5 points)\n",
      "     band 3: 13.0Hz..20.0Hz (8 points)\n",
      "     band 4: 21.0Hz..30.0Hz (10 points)\n",
      "    connectivity scores will be averaged for each band\n",
      "    using CWT with Morlet wavelets to estimate spectra\n",
      "    the following metrics will be computed: Coherence\n",
      "    computing cross-spectral density for epochs 1..30\n"
     ]
    },
    {
     "name": "stderr",
     "output_type": "stream",
     "text": [
      "[Parallel(n_jobs=30)]: Done   2 out of  10 | elapsed:    0.1s remaining:    0.6s\n",
      "[Parallel(n_jobs=30)]: Done   5 out of  10 | elapsed:    0.1s remaining:    0.1s\n",
      "[Parallel(n_jobs=30)]: Done   8 out of  10 | elapsed:    0.2s remaining:    0.0s\n",
      "[Parallel(n_jobs=30)]: Done  10 out of  10 | elapsed:    0.2s finished\n",
      "C:\\Users\\malann\\AppData\\Roaming\\Python\\Python310\\site-packages\\mne_connectivity\\spectral\\epochs.py:177: RuntimeWarning: fmin=4.000 Hz corresponds to 3.920 < 5 cycles based on the epoch length 0.980 sec, need at least 1.250 sec epochs or fmin=5.102. Spectrum estimate will be unreliable.\n",
      "  warn(\n",
      "[Parallel(n_jobs=30)]: Using backend LokyBackend with 30 concurrent workers.\n",
      "[Parallel(n_jobs=30)]: Done   8 out of  30 | elapsed:    0.4s remaining:    1.1s\n",
      "[Parallel(n_jobs=30)]: Done  15 out of  30 | elapsed:    0.5s remaining:    0.5s\n",
      "[Parallel(n_jobs=30)]: Done  22 out of  30 | elapsed:    0.5s remaining:    0.1s\n"
     ]
    },
    {
     "name": "stdout",
     "output_type": "stream",
     "text": [
      "    computing cross-spectral density for epochs 31..42\n"
     ]
    },
    {
     "name": "stderr",
     "output_type": "stream",
     "text": [
      "[Parallel(n_jobs=30)]: Done  30 out of  30 | elapsed:    0.6s finished\n",
      "[Parallel(n_jobs=30)]: Using backend LokyBackend with 30 concurrent workers.\n"
     ]
    },
    {
     "name": "stdout",
     "output_type": "stream",
     "text": [
      "[Connectivity computation done]\n",
      "Connectivity computation...\n",
      "    computing connectivity for 18 connections\n",
      "    using t=0.525s..1.500s for estimation (196 points)\n",
      "    computing connectivity for the bands:\n",
      "     band 1: 4.0Hz..7.0Hz (4 points)\n",
      "     band 2: 8.0Hz..12.0Hz (5 points)\n",
      "     band 3: 13.0Hz..20.0Hz (8 points)\n",
      "     band 4: 21.0Hz..30.0Hz (10 points)\n",
      "    connectivity scores will be averaged for each band\n",
      "    using CWT with Morlet wavelets to estimate spectra\n",
      "    the following metrics will be computed: Coherence\n"
     ]
    },
    {
     "name": "stderr",
     "output_type": "stream",
     "text": [
      "[Parallel(n_jobs=30)]: Done   4 out of  12 | elapsed:    0.2s remaining:    0.5s\n",
      "[Parallel(n_jobs=30)]: Done   7 out of  12 | elapsed:    0.3s remaining:    0.2s\n",
      "[Parallel(n_jobs=30)]: Done  10 out of  12 | elapsed:    0.3s remaining:    0.0s\n",
      "[Parallel(n_jobs=30)]: Done  12 out of  12 | elapsed:    0.3s finished\n",
      "C:\\Users\\malann\\AppData\\Roaming\\Python\\Python310\\site-packages\\mne_connectivity\\spectral\\epochs.py:177: RuntimeWarning: fmin=4.000 Hz corresponds to 3.920 < 5 cycles based on the epoch length 0.980 sec, need at least 1.250 sec epochs or fmin=5.102. Spectrum estimate will be unreliable.\n",
      "  warn(\n"
     ]
    },
    {
     "name": "stdout",
     "output_type": "stream",
     "text": [
      "    computing cross-spectral density for epochs 1..30\n"
     ]
    },
    {
     "name": "stderr",
     "output_type": "stream",
     "text": [
      "[Parallel(n_jobs=30)]: Using backend LokyBackend with 30 concurrent workers.\n",
      "[Parallel(n_jobs=30)]: Done   8 out of  30 | elapsed:    0.3s remaining:    0.9s\n",
      "[Parallel(n_jobs=30)]: Done  15 out of  30 | elapsed:    0.3s remaining:    0.3s\n",
      "[Parallel(n_jobs=30)]: Done  22 out of  30 | elapsed:    0.4s remaining:    0.1s\n"
     ]
    },
    {
     "name": "stdout",
     "output_type": "stream",
     "text": [
      "    computing cross-spectral density for epochs 31..42\n"
     ]
    },
    {
     "name": "stderr",
     "output_type": "stream",
     "text": [
      "[Parallel(n_jobs=30)]: Done  30 out of  30 | elapsed:    0.5s finished\n",
      "[Parallel(n_jobs=30)]: Using backend LokyBackend with 30 concurrent workers.\n",
      "[Parallel(n_jobs=30)]: Done   4 out of  12 | elapsed:    0.0s remaining:    0.2s\n"
     ]
    },
    {
     "name": "stdout",
     "output_type": "stream",
     "text": [
      "[Connectivity computation done]\n",
      "Connectivity computation...\n",
      "    computing connectivity for 18 connections\n",
      "    using t=0.525s..1.500s for estimation (196 points)\n",
      "    computing connectivity for the bands:\n",
      "     band 1: 4.0Hz..7.0Hz (4 points)\n",
      "     band 2: 8.0Hz..12.0Hz (5 points)\n",
      "     band 3: 13.0Hz..20.0Hz (8 points)\n",
      "     band 4: 21.0Hz..30.0Hz (10 points)\n",
      "    connectivity scores will be averaged for each band\n",
      "    using CWT with Morlet wavelets to estimate spectra\n",
      "    the following metrics will be computed: Coherence\n",
      "    computing cross-spectral density for epochs 1..10\n"
     ]
    },
    {
     "name": "stderr",
     "output_type": "stream",
     "text": [
      "[Parallel(n_jobs=30)]: Done   7 out of  12 | elapsed:    0.1s remaining:    0.0s\n",
      "[Parallel(n_jobs=30)]: Done  10 out of  12 | elapsed:    0.1s remaining:    0.0s\n",
      "[Parallel(n_jobs=30)]: Done  12 out of  12 | elapsed:    0.1s finished\n",
      "C:\\Users\\malann\\AppData\\Local\\Temp\\ipykernel_239232\\2349117804.py:69: FutureWarning: Parameters \"info\", \"data\", \"times\", \"nave\" are deprecated and will be removed in version 1.8. For a quick fix, use ``AverageTFRArray`` with the same parameters. For a long-term fix, see the docstring notes.\n",
      "  tfr_odd_E = mne.time_frequency.AverageTFR(epochs_aff_odd_E.info, con_odd_E.get_data(), times, freqs, len(epochs_aff_odd_E))\n",
      "C:\\Users\\malann\\AppData\\Local\\Temp\\ipykernel_239232\\2349117804.py:70: FutureWarning: Parameters \"info\", \"data\", \"times\", \"nave\" are deprecated and will be removed in version 1.8. For a quick fix, use ``AverageTFRArray`` with the same parameters. For a long-term fix, see the docstring notes.\n",
      "  tfr_odd_NE = mne.time_frequency.AverageTFR(epochs_aff_odd_NE.info, con_odd_NE.get_data(), times, freqs, len(epochs_aff_odd_NE))\n",
      "C:\\Users\\malann\\AppData\\Local\\Temp\\ipykernel_239232\\2349117804.py:74: FutureWarning: Parameters \"info\", \"data\", \"times\", \"nave\" are deprecated and will be removed in version 1.8. For a quick fix, use ``AverageTFRArray`` with the same parameters. For a long-term fix, see the docstring notes.\n",
      "  tfr_typ_E = mne.time_frequency.AverageTFR(epochs_aff_typ_E.info, con_typ_E.get_data(), times, freqs, len(epochs_aff_typ_E))\n",
      "C:\\Users\\malann\\AppData\\Local\\Temp\\ipykernel_239232\\2349117804.py:75: FutureWarning: Parameters \"info\", \"data\", \"times\", \"nave\" are deprecated and will be removed in version 1.8. For a quick fix, use ``AverageTFRArray`` with the same parameters. For a long-term fix, see the docstring notes.\n",
      "  tfr_typ_NE = mne.time_frequency.AverageTFR(epochs_aff_typ_NE.info, con_typ_NE.get_data(), times, freqs, len(epochs_aff_typ_NE))\n",
      "C:\\Users\\malann\\AppData\\Roaming\\Python\\Python310\\site-packages\\mne_connectivity\\spectral\\epochs.py:177: RuntimeWarning: fmin=4.000 Hz corresponds to 3.920 < 5 cycles based on the epoch length 0.980 sec, need at least 1.250 sec epochs or fmin=5.102. Spectrum estimate will be unreliable.\n",
      "  warn(\n",
      "[Parallel(n_jobs=30)]: Using backend LokyBackend with 30 concurrent workers.\n"
     ]
    },
    {
     "name": "stdout",
     "output_type": "stream",
     "text": [
      "[Connectivity computation done]\n",
      "Connectivity computation...\n",
      "    computing connectivity for 18 connections\n",
      "    using t=0.525s..1.500s for estimation (196 points)\n",
      "    computing connectivity for the bands:\n",
      "     band 1: 4.0Hz..7.0Hz (4 points)\n",
      "     band 2: 8.0Hz..12.0Hz (5 points)\n",
      "     band 3: 13.0Hz..20.0Hz (8 points)\n",
      "     band 4: 21.0Hz..30.0Hz (10 points)\n",
      "    connectivity scores will be averaged for each band\n",
      "    using CWT with Morlet wavelets to estimate spectra\n",
      "    the following metrics will be computed: Coherence\n",
      "    computing cross-spectral density for epochs 1..10\n"
     ]
    },
    {
     "name": "stderr",
     "output_type": "stream",
     "text": [
      "[Parallel(n_jobs=30)]: Done   2 out of  10 | elapsed:    0.0s remaining:    0.3s\n",
      "[Parallel(n_jobs=30)]: Done   5 out of  10 | elapsed:    0.1s remaining:    0.1s\n",
      "[Parallel(n_jobs=30)]: Done   8 out of  10 | elapsed:    0.1s remaining:    0.0s\n",
      "[Parallel(n_jobs=30)]: Done  10 out of  10 | elapsed:    0.1s finished\n",
      "C:\\Users\\malann\\AppData\\Roaming\\Python\\Python310\\site-packages\\mne_connectivity\\spectral\\epochs.py:177: RuntimeWarning: fmin=4.000 Hz corresponds to 3.920 < 5 cycles based on the epoch length 0.980 sec, need at least 1.250 sec epochs or fmin=5.102. Spectrum estimate will be unreliable.\n",
      "  warn(\n",
      "[Parallel(n_jobs=30)]: Using backend LokyBackend with 30 concurrent workers.\n"
     ]
    },
    {
     "name": "stdout",
     "output_type": "stream",
     "text": [
      "[Connectivity computation done]\n",
      "Connectivity computation...\n",
      "    computing connectivity for 18 connections\n",
      "    using t=0.525s..1.500s for estimation (196 points)\n",
      "    computing connectivity for the bands:\n",
      "     band 1: 4.0Hz..7.0Hz (4 points)\n",
      "     band 2: 8.0Hz..12.0Hz (5 points)\n",
      "     band 3: 13.0Hz..20.0Hz (8 points)\n",
      "     band 4: 21.0Hz..30.0Hz (10 points)\n",
      "    connectivity scores will be averaged for each band\n",
      "    using CWT with Morlet wavelets to estimate spectra\n",
      "    the following metrics will be computed: Coherence\n",
      "    computing cross-spectral density for epochs 1..30\n"
     ]
    },
    {
     "name": "stderr",
     "output_type": "stream",
     "text": [
      "[Parallel(n_jobs=30)]: Done   2 out of  10 | elapsed:    0.0s remaining:    0.3s\n",
      "[Parallel(n_jobs=30)]: Done   5 out of  10 | elapsed:    0.0s remaining:    0.0s\n",
      "[Parallel(n_jobs=30)]: Done   8 out of  10 | elapsed:    0.1s remaining:    0.0s\n",
      "[Parallel(n_jobs=30)]: Done  10 out of  10 | elapsed:    0.1s finished\n",
      "C:\\Users\\malann\\AppData\\Roaming\\Python\\Python310\\site-packages\\mne_connectivity\\spectral\\epochs.py:177: RuntimeWarning: fmin=4.000 Hz corresponds to 3.920 < 5 cycles based on the epoch length 0.980 sec, need at least 1.250 sec epochs or fmin=5.102. Spectrum estimate will be unreliable.\n",
      "  warn(\n",
      "[Parallel(n_jobs=30)]: Using backend LokyBackend with 30 concurrent workers.\n",
      "[Parallel(n_jobs=30)]: Done   8 out of  30 | elapsed:    0.2s remaining:    0.8s\n",
      "[Parallel(n_jobs=30)]: Done  15 out of  30 | elapsed:    0.3s remaining:    0.3s\n",
      "[Parallel(n_jobs=30)]: Done  22 out of  30 | elapsed:    0.4s remaining:    0.1s\n"
     ]
    },
    {
     "name": "stdout",
     "output_type": "stream",
     "text": [
      "    computing cross-spectral density for epochs 31..42\n"
     ]
    },
    {
     "name": "stderr",
     "output_type": "stream",
     "text": [
      "[Parallel(n_jobs=30)]: Done  30 out of  30 | elapsed:    0.5s finished\n",
      "[Parallel(n_jobs=30)]: Using backend LokyBackend with 30 concurrent workers.\n",
      "[Parallel(n_jobs=30)]: Done   4 out of  12 | elapsed:    0.1s remaining:    0.2s\n"
     ]
    },
    {
     "name": "stdout",
     "output_type": "stream",
     "text": [
      "[Connectivity computation done]\n",
      "Connectivity computation...\n",
      "    computing connectivity for 18 connections\n",
      "    using t=0.525s..1.500s for estimation (196 points)\n",
      "    computing connectivity for the bands:\n",
      "     band 1: 4.0Hz..7.0Hz (4 points)\n",
      "     band 2: 8.0Hz..12.0Hz (5 points)\n",
      "     band 3: 13.0Hz..20.0Hz (8 points)\n",
      "     band 4: 21.0Hz..30.0Hz (10 points)\n",
      "    connectivity scores will be averaged for each band\n",
      "    using CWT with Morlet wavelets to estimate spectra\n",
      "    the following metrics will be computed: Coherence\n",
      "    computing cross-spectral density for epochs 1..30\n"
     ]
    },
    {
     "name": "stderr",
     "output_type": "stream",
     "text": [
      "[Parallel(n_jobs=30)]: Done   7 out of  12 | elapsed:    0.1s remaining:    0.1s\n",
      "[Parallel(n_jobs=30)]: Done  10 out of  12 | elapsed:    0.1s remaining:    0.0s\n",
      "[Parallel(n_jobs=30)]: Done  12 out of  12 | elapsed:    0.2s finished\n",
      "C:\\Users\\malann\\AppData\\Roaming\\Python\\Python310\\site-packages\\mne_connectivity\\spectral\\epochs.py:177: RuntimeWarning: fmin=4.000 Hz corresponds to 3.920 < 5 cycles based on the epoch length 0.980 sec, need at least 1.250 sec epochs or fmin=5.102. Spectrum estimate will be unreliable.\n",
      "  warn(\n",
      "[Parallel(n_jobs=30)]: Using backend LokyBackend with 30 concurrent workers.\n",
      "[Parallel(n_jobs=30)]: Done   8 out of  30 | elapsed:    0.2s remaining:    0.7s\n",
      "[Parallel(n_jobs=30)]: Done  15 out of  30 | elapsed:    0.3s remaining:    0.3s\n",
      "[Parallel(n_jobs=30)]: Done  22 out of  30 | elapsed:    0.4s remaining:    0.1s\n"
     ]
    },
    {
     "name": "stdout",
     "output_type": "stream",
     "text": [
      "    computing cross-spectral density for epochs 31..42\n"
     ]
    },
    {
     "name": "stderr",
     "output_type": "stream",
     "text": [
      "[Parallel(n_jobs=30)]: Done  30 out of  30 | elapsed:    0.4s finished\n",
      "[Parallel(n_jobs=30)]: Using backend LokyBackend with 30 concurrent workers.\n",
      "[Parallel(n_jobs=30)]: Done   4 out of  12 | elapsed:    0.1s remaining:    0.3s\n",
      "[Parallel(n_jobs=30)]: Done   7 out of  12 | elapsed:    0.1s remaining:    0.0s\n",
      "[Parallel(n_jobs=30)]: Done  10 out of  12 | elapsed:    0.2s remaining:    0.0s\n",
      "[Parallel(n_jobs=30)]: Done  12 out of  12 | elapsed:    0.3s finished\n"
     ]
    },
    {
     "name": "stdout",
     "output_type": "stream",
     "text": [
      "[Connectivity computation done]\n",
      "Connectivity computation...\n",
      "    computing connectivity for 18 connections\n",
      "    using t=0.525s..1.500s for estimation (196 points)\n",
      "    computing connectivity for the bands:\n",
      "     band 1: 4.0Hz..7.0Hz (4 points)\n",
      "     band 2: 8.0Hz..12.0Hz (5 points)\n",
      "     band 3: 13.0Hz..20.0Hz (8 points)\n",
      "     band 4: 21.0Hz..30.0Hz (10 points)\n",
      "    connectivity scores will be averaged for each band\n",
      "    using CWT with Morlet wavelets to estimate spectra\n",
      "    the following metrics will be computed: Coherence\n",
      "    computing cross-spectral density for epochs 1..10\n"
     ]
    },
    {
     "name": "stderr",
     "output_type": "stream",
     "text": [
      "C:\\Users\\malann\\AppData\\Local\\Temp\\ipykernel_239232\\2349117804.py:69: FutureWarning: Parameters \"info\", \"data\", \"times\", \"nave\" are deprecated and will be removed in version 1.8. For a quick fix, use ``AverageTFRArray`` with the same parameters. For a long-term fix, see the docstring notes.\n",
      "  tfr_odd_E = mne.time_frequency.AverageTFR(epochs_aff_odd_E.info, con_odd_E.get_data(), times, freqs, len(epochs_aff_odd_E))\n",
      "C:\\Users\\malann\\AppData\\Local\\Temp\\ipykernel_239232\\2349117804.py:70: FutureWarning: Parameters \"info\", \"data\", \"times\", \"nave\" are deprecated and will be removed in version 1.8. For a quick fix, use ``AverageTFRArray`` with the same parameters. For a long-term fix, see the docstring notes.\n",
      "  tfr_odd_NE = mne.time_frequency.AverageTFR(epochs_aff_odd_NE.info, con_odd_NE.get_data(), times, freqs, len(epochs_aff_odd_NE))\n",
      "C:\\Users\\malann\\AppData\\Local\\Temp\\ipykernel_239232\\2349117804.py:74: FutureWarning: Parameters \"info\", \"data\", \"times\", \"nave\" are deprecated and will be removed in version 1.8. For a quick fix, use ``AverageTFRArray`` with the same parameters. For a long-term fix, see the docstring notes.\n",
      "  tfr_typ_E = mne.time_frequency.AverageTFR(epochs_aff_typ_E.info, con_typ_E.get_data(), times, freqs, len(epochs_aff_typ_E))\n",
      "C:\\Users\\malann\\AppData\\Local\\Temp\\ipykernel_239232\\2349117804.py:75: FutureWarning: Parameters \"info\", \"data\", \"times\", \"nave\" are deprecated and will be removed in version 1.8. For a quick fix, use ``AverageTFRArray`` with the same parameters. For a long-term fix, see the docstring notes.\n",
      "  tfr_typ_NE = mne.time_frequency.AverageTFR(epochs_aff_typ_NE.info, con_typ_NE.get_data(), times, freqs, len(epochs_aff_typ_NE))\n",
      "C:\\Users\\malann\\AppData\\Roaming\\Python\\Python310\\site-packages\\mne_connectivity\\spectral\\epochs.py:177: RuntimeWarning: fmin=4.000 Hz corresponds to 3.920 < 5 cycles based on the epoch length 0.980 sec, need at least 1.250 sec epochs or fmin=5.102. Spectrum estimate will be unreliable.\n",
      "  warn(\n",
      "[Parallel(n_jobs=30)]: Using backend LokyBackend with 30 concurrent workers.\n",
      "[Parallel(n_jobs=30)]: Done   2 out of  10 | elapsed:    0.0s remaining:    0.3s\n"
     ]
    },
    {
     "name": "stdout",
     "output_type": "stream",
     "text": [
      "[Connectivity computation done]\n",
      "Connectivity computation...\n",
      "    computing connectivity for 18 connections\n",
      "    using t=0.525s..1.500s for estimation (196 points)\n",
      "    computing connectivity for the bands:\n",
      "     band 1: 4.0Hz..7.0Hz (4 points)\n",
      "     band 2: 8.0Hz..12.0Hz (5 points)\n",
      "     band 3: 13.0Hz..20.0Hz (8 points)\n",
      "     band 4: 21.0Hz..30.0Hz (10 points)\n",
      "    connectivity scores will be averaged for each band\n",
      "    using CWT with Morlet wavelets to estimate spectra\n",
      "    the following metrics will be computed: Coherence\n",
      "    computing cross-spectral density for epochs 1..10\n"
     ]
    },
    {
     "name": "stderr",
     "output_type": "stream",
     "text": [
      "[Parallel(n_jobs=30)]: Done   5 out of  10 | elapsed:    0.2s remaining:    0.2s\n",
      "[Parallel(n_jobs=30)]: Done   8 out of  10 | elapsed:    0.2s remaining:    0.0s\n",
      "[Parallel(n_jobs=30)]: Done  10 out of  10 | elapsed:    0.2s finished\n",
      "C:\\Users\\malann\\AppData\\Roaming\\Python\\Python310\\site-packages\\mne_connectivity\\spectral\\epochs.py:177: RuntimeWarning: fmin=4.000 Hz corresponds to 3.920 < 5 cycles based on the epoch length 0.980 sec, need at least 1.250 sec epochs or fmin=5.102. Spectrum estimate will be unreliable.\n",
      "  warn(\n",
      "[Parallel(n_jobs=30)]: Using backend LokyBackend with 30 concurrent workers.\n"
     ]
    },
    {
     "name": "stdout",
     "output_type": "stream",
     "text": [
      "[Connectivity computation done]\n"
     ]
    },
    {
     "name": "stderr",
     "output_type": "stream",
     "text": [
      "[Parallel(n_jobs=30)]: Done   2 out of  10 | elapsed:    0.0s remaining:    0.5s\n",
      "[Parallel(n_jobs=30)]: Done   5 out of  10 | elapsed:    0.2s remaining:    0.2s\n",
      "[Parallel(n_jobs=30)]: Done   8 out of  10 | elapsed:    0.2s remaining:    0.0s\n",
      "[Parallel(n_jobs=30)]: Done  10 out of  10 | elapsed:    0.2s finished\n"
     ]
    },
    {
     "name": "stdout",
     "output_type": "stream",
     "text": [
      "Connectivity computation...\n",
      "    computing connectivity for 18 connections\n",
      "    using t=0.525s..1.500s for estimation (196 points)\n",
      "    computing connectivity for the bands:\n",
      "     band 1: 4.0Hz..7.0Hz (4 points)\n",
      "     band 2: 8.0Hz..12.0Hz (5 points)\n",
      "     band 3: 13.0Hz..20.0Hz (8 points)\n",
      "     band 4: 21.0Hz..30.0Hz (10 points)\n",
      "    connectivity scores will be averaged for each band\n",
      "    using CWT with Morlet wavelets to estimate spectra\n",
      "    the following metrics will be computed: Coherence\n",
      "    computing cross-spectral density for epochs 1..30\n"
     ]
    },
    {
     "name": "stderr",
     "output_type": "stream",
     "text": [
      "C:\\Users\\malann\\AppData\\Roaming\\Python\\Python310\\site-packages\\mne_connectivity\\spectral\\epochs.py:177: RuntimeWarning: fmin=4.000 Hz corresponds to 3.920 < 5 cycles based on the epoch length 0.980 sec, need at least 1.250 sec epochs or fmin=5.102. Spectrum estimate will be unreliable.\n",
      "  warn(\n",
      "[Parallel(n_jobs=30)]: Using backend LokyBackend with 30 concurrent workers.\n",
      "[Parallel(n_jobs=30)]: Done   8 out of  30 | elapsed:    1.0s remaining:    2.8s\n",
      "[Parallel(n_jobs=30)]: Done  15 out of  30 | elapsed:    1.0s remaining:    1.0s\n",
      "[Parallel(n_jobs=30)]: Done  22 out of  30 | elapsed:    1.1s remaining:    0.4s\n"
     ]
    },
    {
     "name": "stdout",
     "output_type": "stream",
     "text": [
      "    computing cross-spectral density for epochs 31..42\n"
     ]
    },
    {
     "name": "stderr",
     "output_type": "stream",
     "text": [
      "[Parallel(n_jobs=30)]: Done  30 out of  30 | elapsed:    1.5s finished\n",
      "[Parallel(n_jobs=30)]: Using backend LokyBackend with 30 concurrent workers.\n",
      "[Parallel(n_jobs=30)]: Done   4 out of  12 | elapsed:    0.2s remaining:    0.5s\n",
      "[Parallel(n_jobs=30)]: Done   7 out of  12 | elapsed:    0.3s remaining:    0.2s\n"
     ]
    },
    {
     "name": "stdout",
     "output_type": "stream",
     "text": [
      "[Connectivity computation done]\n",
      "Connectivity computation...\n",
      "    computing connectivity for 18 connections\n",
      "    using t=0.525s..1.500s for estimation (196 points)\n",
      "    computing connectivity for the bands:\n",
      "     band 1: 4.0Hz..7.0Hz (4 points)\n",
      "     band 2: 8.0Hz..12.0Hz (5 points)\n",
      "     band 3: 13.0Hz..20.0Hz (8 points)\n",
      "     band 4: 21.0Hz..30.0Hz (10 points)\n",
      "    connectivity scores will be averaged for each band\n",
      "    using CWT with Morlet wavelets to estimate spectra\n",
      "    the following metrics will be computed: Coherence\n",
      "    computing cross-spectral density for epochs 1..30\n"
     ]
    },
    {
     "name": "stderr",
     "output_type": "stream",
     "text": [
      "[Parallel(n_jobs=30)]: Done  10 out of  12 | elapsed:    0.5s remaining:    0.0s\n",
      "[Parallel(n_jobs=30)]: Done  12 out of  12 | elapsed:    0.5s finished\n",
      "C:\\Users\\malann\\AppData\\Roaming\\Python\\Python310\\site-packages\\mne_connectivity\\spectral\\epochs.py:177: RuntimeWarning: fmin=4.000 Hz corresponds to 3.920 < 5 cycles based on the epoch length 0.980 sec, need at least 1.250 sec epochs or fmin=5.102. Spectrum estimate will be unreliable.\n",
      "  warn(\n",
      "[Parallel(n_jobs=30)]: Using backend LokyBackend with 30 concurrent workers.\n",
      "[Parallel(n_jobs=30)]: Done   8 out of  30 | elapsed:    0.5s remaining:    1.4s\n",
      "[Parallel(n_jobs=30)]: Done  15 out of  30 | elapsed:    0.6s remaining:    0.6s\n",
      "[Parallel(n_jobs=30)]: Done  22 out of  30 | elapsed:    0.8s remaining:    0.2s\n"
     ]
    },
    {
     "name": "stdout",
     "output_type": "stream",
     "text": [
      "    computing cross-spectral density for epochs 31..42\n"
     ]
    },
    {
     "name": "stderr",
     "output_type": "stream",
     "text": [
      "[Parallel(n_jobs=30)]: Done  30 out of  30 | elapsed:    1.1s finished\n",
      "[Parallel(n_jobs=30)]: Using backend LokyBackend with 30 concurrent workers.\n",
      "[Parallel(n_jobs=30)]: Done   4 out of  12 | elapsed:    0.3s remaining:    0.7s\n",
      "[Parallel(n_jobs=30)]: Done   7 out of  12 | elapsed:    0.4s remaining:    0.3s\n",
      "[Parallel(n_jobs=30)]: Done  10 out of  12 | elapsed:    0.4s remaining:    0.0s\n",
      "[Parallel(n_jobs=30)]: Done  12 out of  12 | elapsed:    0.5s finished\n"
     ]
    },
    {
     "name": "stdout",
     "output_type": "stream",
     "text": [
      "[Connectivity computation done]\n",
      "Connectivity computation...\n",
      "    computing connectivity for 18 connections\n",
      "    using t=0.525s..1.500s for estimation (196 points)\n",
      "    computing connectivity for the bands:\n",
      "     band 1: 4.0Hz..7.0Hz (4 points)\n",
      "     band 2: 8.0Hz..12.0Hz (5 points)\n",
      "     band 3: 13.0Hz..20.0Hz (8 points)\n",
      "     band 4: 21.0Hz..30.0Hz (10 points)\n",
      "    connectivity scores will be averaged for each band\n",
      "    using CWT with Morlet wavelets to estimate spectra\n",
      "    the following metrics will be computed: Coherence\n",
      "    computing cross-spectral density for epochs 1..10\n"
     ]
    },
    {
     "name": "stderr",
     "output_type": "stream",
     "text": [
      "C:\\Users\\malann\\AppData\\Local\\Temp\\ipykernel_239232\\2349117804.py:69: FutureWarning: Parameters \"info\", \"data\", \"times\", \"nave\" are deprecated and will be removed in version 1.8. For a quick fix, use ``AverageTFRArray`` with the same parameters. For a long-term fix, see the docstring notes.\n",
      "  tfr_odd_E = mne.time_frequency.AverageTFR(epochs_aff_odd_E.info, con_odd_E.get_data(), times, freqs, len(epochs_aff_odd_E))\n",
      "C:\\Users\\malann\\AppData\\Local\\Temp\\ipykernel_239232\\2349117804.py:70: FutureWarning: Parameters \"info\", \"data\", \"times\", \"nave\" are deprecated and will be removed in version 1.8. For a quick fix, use ``AverageTFRArray`` with the same parameters. For a long-term fix, see the docstring notes.\n",
      "  tfr_odd_NE = mne.time_frequency.AverageTFR(epochs_aff_odd_NE.info, con_odd_NE.get_data(), times, freqs, len(epochs_aff_odd_NE))\n",
      "C:\\Users\\malann\\AppData\\Local\\Temp\\ipykernel_239232\\2349117804.py:74: FutureWarning: Parameters \"info\", \"data\", \"times\", \"nave\" are deprecated and will be removed in version 1.8. For a quick fix, use ``AverageTFRArray`` with the same parameters. For a long-term fix, see the docstring notes.\n",
      "  tfr_typ_E = mne.time_frequency.AverageTFR(epochs_aff_typ_E.info, con_typ_E.get_data(), times, freqs, len(epochs_aff_typ_E))\n",
      "C:\\Users\\malann\\AppData\\Local\\Temp\\ipykernel_239232\\2349117804.py:75: FutureWarning: Parameters \"info\", \"data\", \"times\", \"nave\" are deprecated and will be removed in version 1.8. For a quick fix, use ``AverageTFRArray`` with the same parameters. For a long-term fix, see the docstring notes.\n",
      "  tfr_typ_NE = mne.time_frequency.AverageTFR(epochs_aff_typ_NE.info, con_typ_NE.get_data(), times, freqs, len(epochs_aff_typ_NE))\n",
      "C:\\Users\\malann\\AppData\\Roaming\\Python\\Python310\\site-packages\\mne_connectivity\\spectral\\epochs.py:177: RuntimeWarning: fmin=4.000 Hz corresponds to 3.920 < 5 cycles based on the epoch length 0.980 sec, need at least 1.250 sec epochs or fmin=5.102. Spectrum estimate will be unreliable.\n",
      "  warn(\n",
      "[Parallel(n_jobs=30)]: Using backend LokyBackend with 30 concurrent workers.\n",
      "[Parallel(n_jobs=30)]: Done   1 out of   1 | elapsed:    0.0s finished\n",
      "[Parallel(n_jobs=30)]: Done   2 out of   2 | elapsed:    0.0s finished\n",
      "[Parallel(n_jobs=30)]: Done   3 out of   3 | elapsed:    0.0s finished\n"
     ]
    },
    {
     "name": "stdout",
     "output_type": "stream",
     "text": [
      "[Connectivity computation done]\n"
     ]
    },
    {
     "name": "stderr",
     "output_type": "stream",
     "text": [
      "[Parallel(n_jobs=30)]: Done   8 out of  10 | elapsed:    0.3s remaining:    0.0s\n",
      "[Parallel(n_jobs=30)]: Done  10 out of  10 | elapsed:    0.4s finished\n"
     ]
    },
    {
     "name": "stdout",
     "output_type": "stream",
     "text": [
      "Connectivity computation...\n",
      "    computing connectivity for 18 connections\n",
      "    using t=0.525s..1.500s for estimation (196 points)\n",
      "    computing connectivity for the bands:\n",
      "     band 1: 4.0Hz..7.0Hz (4 points)\n",
      "     band 2: 8.0Hz..12.0Hz (5 points)\n",
      "     band 3: 13.0Hz..20.0Hz (8 points)\n",
      "     band 4: 21.0Hz..30.0Hz (10 points)\n",
      "    connectivity scores will be averaged for each band\n",
      "    using CWT with Morlet wavelets to estimate spectra\n",
      "    the following metrics will be computed: Coherence\n",
      "    computing cross-spectral density for epochs 1..10\n"
     ]
    },
    {
     "name": "stderr",
     "output_type": "stream",
     "text": [
      "C:\\Users\\malann\\AppData\\Roaming\\Python\\Python310\\site-packages\\mne_connectivity\\spectral\\epochs.py:177: RuntimeWarning: fmin=4.000 Hz corresponds to 3.920 < 5 cycles based on the epoch length 0.980 sec, need at least 1.250 sec epochs or fmin=5.102. Spectrum estimate will be unreliable.\n",
      "  warn(\n",
      "[Parallel(n_jobs=30)]: Using backend LokyBackend with 30 concurrent workers.\n",
      "[Parallel(n_jobs=30)]: Done   1 out of   1 | elapsed:    0.0s finished\n"
     ]
    },
    {
     "name": "stdout",
     "output_type": "stream",
     "text": [
      "[Connectivity computation done]\n",
      "Connectivity computation...\n",
      "    computing connectivity for 18 connections\n",
      "    using t=0.525s..1.500s for estimation (196 points)\n",
      "    computing connectivity for the bands:\n",
      "     band 1: 4.0Hz..7.0Hz (4 points)\n",
      "     band 2: 8.0Hz..12.0Hz (5 points)\n",
      "     band 3: 13.0Hz..20.0Hz (8 points)\n",
      "     band 4: 21.0Hz..30.0Hz (10 points)\n",
      "    connectivity scores will be averaged for each band\n",
      "    using CWT with Morlet wavelets to estimate spectra\n",
      "    the following metrics will be computed: Coherence\n",
      "    computing cross-spectral density for epochs 1..30\n"
     ]
    },
    {
     "name": "stderr",
     "output_type": "stream",
     "text": [
      "[Parallel(n_jobs=30)]: Done   8 out of  10 | elapsed:    0.4s remaining:    0.0s\n",
      "[Parallel(n_jobs=30)]: Done  10 out of  10 | elapsed:    0.4s finished\n",
      "C:\\Users\\malann\\AppData\\Roaming\\Python\\Python310\\site-packages\\mne_connectivity\\spectral\\epochs.py:177: RuntimeWarning: fmin=4.000 Hz corresponds to 3.920 < 5 cycles based on the epoch length 0.980 sec, need at least 1.250 sec epochs or fmin=5.102. Spectrum estimate will be unreliable.\n",
      "  warn(\n",
      "[Parallel(n_jobs=30)]: Using backend LokyBackend with 30 concurrent workers.\n",
      "[Parallel(n_jobs=30)]: Done   8 out of  30 | elapsed:    0.6s remaining:    1.7s\n",
      "[Parallel(n_jobs=30)]: Done  15 out of  30 | elapsed:    0.9s remaining:    0.9s\n"
     ]
    },
    {
     "name": "stdout",
     "output_type": "stream",
     "text": [
      "    computing cross-spectral density for epochs 31..42\n"
     ]
    },
    {
     "name": "stderr",
     "output_type": "stream",
     "text": [
      "[Parallel(n_jobs=30)]: Done  22 out of  30 | elapsed:    1.1s remaining:    0.3s\n",
      "[Parallel(n_jobs=30)]: Done  30 out of  30 | elapsed:    1.2s finished\n",
      "[Parallel(n_jobs=30)]: Using backend LokyBackend with 30 concurrent workers.\n",
      "[Parallel(n_jobs=30)]: Done   4 out of  12 | elapsed:    0.3s remaining:    0.7s\n",
      "[Parallel(n_jobs=30)]: Done   7 out of  12 | elapsed:    0.4s remaining:    0.2s\n"
     ]
    },
    {
     "name": "stdout",
     "output_type": "stream",
     "text": [
      "[Connectivity computation done]\n",
      "Connectivity computation...\n",
      "    computing connectivity for 18 connections\n",
      "    using t=0.525s..1.500s for estimation (196 points)\n",
      "    computing connectivity for the bands:\n",
      "     band 1: 4.0Hz..7.0Hz (4 points)\n",
      "     band 2: 8.0Hz..12.0Hz (5 points)\n",
      "     band 3: 13.0Hz..20.0Hz (8 points)\n",
      "     band 4: 21.0Hz..30.0Hz (10 points)\n",
      "    connectivity scores will be averaged for each band\n",
      "    using CWT with Morlet wavelets to estimate spectra\n",
      "    the following metrics will be computed: Coherence\n",
      "    computing cross-spectral density for epochs 1..30\n"
     ]
    },
    {
     "name": "stderr",
     "output_type": "stream",
     "text": [
      "[Parallel(n_jobs=30)]: Done  10 out of  12 | elapsed:    0.7s remaining:    0.1s\n",
      "[Parallel(n_jobs=30)]: Done  12 out of  12 | elapsed:    0.7s finished\n",
      "C:\\Users\\malann\\AppData\\Roaming\\Python\\Python310\\site-packages\\mne_connectivity\\spectral\\epochs.py:177: RuntimeWarning: fmin=4.000 Hz corresponds to 3.920 < 5 cycles based on the epoch length 0.980 sec, need at least 1.250 sec epochs or fmin=5.102. Spectrum estimate will be unreliable.\n",
      "  warn(\n",
      "[Parallel(n_jobs=30)]: Using backend LokyBackend with 30 concurrent workers.\n",
      "[Parallel(n_jobs=30)]: Done   8 out of  30 | elapsed:    0.3s remaining:    1.1s\n",
      "[Parallel(n_jobs=30)]: Done  15 out of  30 | elapsed:    1.0s remaining:    1.0s\n",
      "[Parallel(n_jobs=30)]: Done  22 out of  30 | elapsed:    1.1s remaining:    0.3s\n"
     ]
    },
    {
     "name": "stdout",
     "output_type": "stream",
     "text": [
      "    computing cross-spectral density for epochs 31..42\n"
     ]
    },
    {
     "name": "stderr",
     "output_type": "stream",
     "text": [
      "[Parallel(n_jobs=30)]: Done  30 out of  30 | elapsed:    1.2s finished\n",
      "[Parallel(n_jobs=30)]: Using backend LokyBackend with 30 concurrent workers.\n",
      "[Parallel(n_jobs=30)]: Done   4 out of  12 | elapsed:    0.1s remaining:    0.4s\n",
      "[Parallel(n_jobs=30)]: Done   7 out of  12 | elapsed:    0.3s remaining:    0.2s\n",
      "[Parallel(n_jobs=30)]: Done  10 out of  12 | elapsed:    0.3s remaining:    0.0s\n"
     ]
    },
    {
     "name": "stdout",
     "output_type": "stream",
     "text": [
      "[Connectivity computation done]\n",
      "Connectivity computation...\n",
      "    computing connectivity for 18 connections\n",
      "    using t=0.525s..1.500s for estimation (196 points)\n",
      "    computing connectivity for the bands:\n",
      "     band 1: 4.0Hz..7.0Hz (4 points)\n",
      "     band 2: 8.0Hz..12.0Hz (5 points)\n",
      "     band 3: 13.0Hz..20.0Hz (8 points)\n",
      "     band 4: 21.0Hz..30.0Hz (10 points)\n",
      "    connectivity scores will be averaged for each band\n",
      "    using CWT with Morlet wavelets to estimate spectra\n"
     ]
    },
    {
     "name": "stderr",
     "output_type": "stream",
     "text": [
      "[Parallel(n_jobs=30)]: Done  12 out of  12 | elapsed:    0.5s finished\n",
      "C:\\Users\\malann\\AppData\\Local\\Temp\\ipykernel_239232\\2349117804.py:69: FutureWarning: Parameters \"info\", \"data\", \"times\", \"nave\" are deprecated and will be removed in version 1.8. For a quick fix, use ``AverageTFRArray`` with the same parameters. For a long-term fix, see the docstring notes.\n",
      "  tfr_odd_E = mne.time_frequency.AverageTFR(epochs_aff_odd_E.info, con_odd_E.get_data(), times, freqs, len(epochs_aff_odd_E))\n",
      "C:\\Users\\malann\\AppData\\Local\\Temp\\ipykernel_239232\\2349117804.py:70: FutureWarning: Parameters \"info\", \"data\", \"times\", \"nave\" are deprecated and will be removed in version 1.8. For a quick fix, use ``AverageTFRArray`` with the same parameters. For a long-term fix, see the docstring notes.\n",
      "  tfr_odd_NE = mne.time_frequency.AverageTFR(epochs_aff_odd_NE.info, con_odd_NE.get_data(), times, freqs, len(epochs_aff_odd_NE))\n",
      "C:\\Users\\malann\\AppData\\Local\\Temp\\ipykernel_239232\\2349117804.py:74: FutureWarning: Parameters \"info\", \"data\", \"times\", \"nave\" are deprecated and will be removed in version 1.8. For a quick fix, use ``AverageTFRArray`` with the same parameters. For a long-term fix, see the docstring notes.\n",
      "  tfr_typ_E = mne.time_frequency.AverageTFR(epochs_aff_typ_E.info, con_typ_E.get_data(), times, freqs, len(epochs_aff_typ_E))\n",
      "C:\\Users\\malann\\AppData\\Local\\Temp\\ipykernel_239232\\2349117804.py:75: FutureWarning: Parameters \"info\", \"data\", \"times\", \"nave\" are deprecated and will be removed in version 1.8. For a quick fix, use ``AverageTFRArray`` with the same parameters. For a long-term fix, see the docstring notes.\n",
      "  tfr_typ_NE = mne.time_frequency.AverageTFR(epochs_aff_typ_NE.info, con_typ_NE.get_data(), times, freqs, len(epochs_aff_typ_NE))\n",
      "C:\\Users\\malann\\AppData\\Roaming\\Python\\Python310\\site-packages\\mne_connectivity\\spectral\\epochs.py:177: RuntimeWarning: fmin=4.000 Hz corresponds to 3.920 < 5 cycles based on the epoch length 0.980 sec, need at least 1.250 sec epochs or fmin=5.102. Spectrum estimate will be unreliable.\n",
      "  warn(\n"
     ]
    },
    {
     "name": "stdout",
     "output_type": "stream",
     "text": [
      "    the following metrics will be computed: Coherence\n",
      "    computing cross-spectral density for epochs 1..10\n"
     ]
    },
    {
     "name": "stderr",
     "output_type": "stream",
     "text": [
      "[Parallel(n_jobs=30)]: Using backend LokyBackend with 30 concurrent workers.\n",
      "[Parallel(n_jobs=30)]: Done   2 out of  10 | elapsed:    0.1s remaining:    0.5s\n",
      "[Parallel(n_jobs=30)]: Done   5 out of  10 | elapsed:    0.2s remaining:    0.2s\n",
      "[Parallel(n_jobs=30)]: Done   8 out of  10 | elapsed:    0.3s remaining:    0.0s\n"
     ]
    },
    {
     "name": "stdout",
     "output_type": "stream",
     "text": [
      "[Connectivity computation done]\n",
      "Connectivity computation...\n",
      "    computing connectivity for 18 connections\n",
      "    using t=0.525s..1.500s for estimation (196 points)\n",
      "    computing connectivity for the bands:\n",
      "     band 1: 4.0Hz..7.0Hz (4 points)\n",
      "     band 2: 8.0Hz..12.0Hz (5 points)\n",
      "     band 3: 13.0Hz..20.0Hz (8 points)\n",
      "     band 4: 21.0Hz..30.0Hz (10 points)\n",
      "    connectivity scores will be averaged for each band\n",
      "    using CWT with Morlet wavelets to estimate spectra\n",
      "    the following metrics will be computed: Coherence\n",
      "    computing cross-spectral density for epochs 1..10\n"
     ]
    },
    {
     "name": "stderr",
     "output_type": "stream",
     "text": [
      "[Parallel(n_jobs=30)]: Done  10 out of  10 | elapsed:    0.5s finished\n",
      "C:\\Users\\malann\\AppData\\Roaming\\Python\\Python310\\site-packages\\mne_connectivity\\spectral\\epochs.py:177: RuntimeWarning: fmin=4.000 Hz corresponds to 3.920 < 5 cycles based on the epoch length 0.980 sec, need at least 1.250 sec epochs or fmin=5.102. Spectrum estimate will be unreliable.\n",
      "  warn(\n",
      "[Parallel(n_jobs=30)]: Using backend LokyBackend with 30 concurrent workers.\n",
      "[Parallel(n_jobs=30)]: Done   2 out of  10 | elapsed:    0.0s remaining:    0.2s\n"
     ]
    },
    {
     "name": "stdout",
     "output_type": "stream",
     "text": [
      "[Connectivity computation done]\n",
      "Connectivity computation...\n"
     ]
    },
    {
     "name": "stderr",
     "output_type": "stream",
     "text": [
      "[Parallel(n_jobs=30)]: Done   5 out of  10 | elapsed:    0.2s remaining:    0.2s\n",
      "[Parallel(n_jobs=30)]: Done   8 out of  10 | elapsed:    0.3s remaining:    0.0s\n",
      "[Parallel(n_jobs=30)]: Done  10 out of  10 | elapsed:    0.3s finished\n"
     ]
    },
    {
     "name": "stdout",
     "output_type": "stream",
     "text": [
      "    computing connectivity for 18 connections\n",
      "    using t=0.525s..1.500s for estimation (196 points)\n",
      "    computing connectivity for the bands:\n",
      "     band 1: 4.0Hz..7.0Hz (4 points)\n",
      "     band 2: 8.0Hz..12.0Hz (5 points)\n",
      "     band 3: 13.0Hz..20.0Hz (8 points)\n",
      "     band 4: 21.0Hz..30.0Hz (10 points)\n",
      "    connectivity scores will be averaged for each band\n",
      "    using CWT with Morlet wavelets to estimate spectra\n",
      "    the following metrics will be computed: Coherence\n",
      "    computing cross-spectral density for epochs 1..30\n"
     ]
    },
    {
     "name": "stderr",
     "output_type": "stream",
     "text": [
      "C:\\Users\\malann\\AppData\\Roaming\\Python\\Python310\\site-packages\\mne_connectivity\\spectral\\epochs.py:177: RuntimeWarning: fmin=4.000 Hz corresponds to 3.920 < 5 cycles based on the epoch length 0.980 sec, need at least 1.250 sec epochs or fmin=5.102. Spectrum estimate will be unreliable.\n",
      "  warn(\n",
      "[Parallel(n_jobs=30)]: Using backend LokyBackend with 30 concurrent workers.\n",
      "[Parallel(n_jobs=30)]: Done   1 out of   1 | elapsed:    0.0s finished\n",
      "[Parallel(n_jobs=30)]: Done   8 out of  30 | elapsed:    0.6s remaining:    1.8s\n",
      "[Parallel(n_jobs=30)]: Done  15 out of  30 | elapsed:    0.7s remaining:    0.7s\n"
     ]
    },
    {
     "name": "stdout",
     "output_type": "stream",
     "text": [
      "    computing cross-spectral density for epochs 31..42\n"
     ]
    },
    {
     "name": "stderr",
     "output_type": "stream",
     "text": [
      "[Parallel(n_jobs=30)]: Done  22 out of  30 | elapsed:    0.9s remaining:    0.3s\n",
      "[Parallel(n_jobs=30)]: Done  30 out of  30 | elapsed:    1.0s finished\n",
      "[Parallel(n_jobs=30)]: Using backend LokyBackend with 30 concurrent workers.\n"
     ]
    },
    {
     "name": "stdout",
     "output_type": "stream",
     "text": [
      "[Connectivity computation done]\n",
      "Connectivity computation...\n",
      "    computing connectivity for 18 connections\n",
      "    using t=0.525s..1.500s for estimation (196 points)\n",
      "    computing connectivity for the bands:\n",
      "     band 1: 4.0Hz..7.0Hz (4 points)\n",
      "     band 2: 8.0Hz..12.0Hz (5 points)\n",
      "     band 3: 13.0Hz..20.0Hz (8 points)\n",
      "     band 4: 21.0Hz..30.0Hz (10 points)\n",
      "    connectivity scores will be averaged for each band\n",
      "    using CWT with Morlet wavelets to estimate spectra\n",
      "    the following metrics will be computed: Coherence\n",
      "    computing cross-spectral density for epochs 1..30\n"
     ]
    },
    {
     "name": "stderr",
     "output_type": "stream",
     "text": [
      "[Parallel(n_jobs=30)]: Done   4 out of  12 | elapsed:    0.0s remaining:    0.2s\n",
      "[Parallel(n_jobs=30)]: Done   7 out of  12 | elapsed:    0.1s remaining:    0.0s\n",
      "[Parallel(n_jobs=30)]: Done  10 out of  12 | elapsed:    0.1s remaining:    0.0s\n",
      "[Parallel(n_jobs=30)]: Done  12 out of  12 | elapsed:    0.1s finished\n",
      "C:\\Users\\malann\\AppData\\Roaming\\Python\\Python310\\site-packages\\mne_connectivity\\spectral\\epochs.py:177: RuntimeWarning: fmin=4.000 Hz corresponds to 3.920 < 5 cycles based on the epoch length 0.980 sec, need at least 1.250 sec epochs or fmin=5.102. Spectrum estimate will be unreliable.\n",
      "  warn(\n",
      "[Parallel(n_jobs=30)]: Using backend LokyBackend with 30 concurrent workers.\n",
      "[Parallel(n_jobs=30)]: Done   8 out of  30 | elapsed:    0.2s remaining:    0.7s\n"
     ]
    },
    {
     "name": "stdout",
     "output_type": "stream",
     "text": [
      "    computing cross-spectral density for epochs 31..42\n"
     ]
    },
    {
     "name": "stderr",
     "output_type": "stream",
     "text": [
      "[Parallel(n_jobs=30)]: Done  15 out of  30 | elapsed:    0.4s remaining:    0.4s\n",
      "[Parallel(n_jobs=30)]: Done  22 out of  30 | elapsed:    0.4s remaining:    0.1s\n",
      "[Parallel(n_jobs=30)]: Done  30 out of  30 | elapsed:    0.5s finished\n",
      "[Parallel(n_jobs=30)]: Using backend LokyBackend with 30 concurrent workers.\n",
      "[Parallel(n_jobs=30)]: Done   4 out of  12 | elapsed:    0.0s remaining:    0.2s\n",
      "[Parallel(n_jobs=30)]: Done   7 out of  12 | elapsed:    0.1s remaining:    0.0s\n",
      "[Parallel(n_jobs=30)]: Done  10 out of  12 | elapsed:    0.1s remaining:    0.0s\n"
     ]
    },
    {
     "name": "stdout",
     "output_type": "stream",
     "text": [
      "[Connectivity computation done]\n",
      "Connectivity computation...\n",
      "    computing connectivity for 18 connections\n",
      "    using t=0.525s..1.500s for estimation (196 points)\n",
      "    computing connectivity for the bands:\n",
      "     band 1: 4.0Hz..7.0Hz (4 points)\n",
      "     band 2: 8.0Hz..12.0Hz (5 points)\n",
      "     band 3: 13.0Hz..20.0Hz (8 points)\n",
      "     band 4: 21.0Hz..30.0Hz (10 points)\n",
      "    connectivity scores will be averaged for each band\n",
      "    using CWT with Morlet wavelets to estimate spectra\n",
      "    the following metrics will be computed: Coherence\n",
      "    computing cross-spectral density for epochs 1..10\n"
     ]
    },
    {
     "name": "stderr",
     "output_type": "stream",
     "text": [
      "[Parallel(n_jobs=30)]: Done  12 out of  12 | elapsed:    0.2s finished\n",
      "C:\\Users\\malann\\AppData\\Local\\Temp\\ipykernel_239232\\2349117804.py:69: FutureWarning: Parameters \"info\", \"data\", \"times\", \"nave\" are deprecated and will be removed in version 1.8. For a quick fix, use ``AverageTFRArray`` with the same parameters. For a long-term fix, see the docstring notes.\n",
      "  tfr_odd_E = mne.time_frequency.AverageTFR(epochs_aff_odd_E.info, con_odd_E.get_data(), times, freqs, len(epochs_aff_odd_E))\n",
      "C:\\Users\\malann\\AppData\\Local\\Temp\\ipykernel_239232\\2349117804.py:70: FutureWarning: Parameters \"info\", \"data\", \"times\", \"nave\" are deprecated and will be removed in version 1.8. For a quick fix, use ``AverageTFRArray`` with the same parameters. For a long-term fix, see the docstring notes.\n",
      "  tfr_odd_NE = mne.time_frequency.AverageTFR(epochs_aff_odd_NE.info, con_odd_NE.get_data(), times, freqs, len(epochs_aff_odd_NE))\n",
      "C:\\Users\\malann\\AppData\\Local\\Temp\\ipykernel_239232\\2349117804.py:74: FutureWarning: Parameters \"info\", \"data\", \"times\", \"nave\" are deprecated and will be removed in version 1.8. For a quick fix, use ``AverageTFRArray`` with the same parameters. For a long-term fix, see the docstring notes.\n",
      "  tfr_typ_E = mne.time_frequency.AverageTFR(epochs_aff_typ_E.info, con_typ_E.get_data(), times, freqs, len(epochs_aff_typ_E))\n",
      "C:\\Users\\malann\\AppData\\Local\\Temp\\ipykernel_239232\\2349117804.py:75: FutureWarning: Parameters \"info\", \"data\", \"times\", \"nave\" are deprecated and will be removed in version 1.8. For a quick fix, use ``AverageTFRArray`` with the same parameters. For a long-term fix, see the docstring notes.\n",
      "  tfr_typ_NE = mne.time_frequency.AverageTFR(epochs_aff_typ_NE.info, con_typ_NE.get_data(), times, freqs, len(epochs_aff_typ_NE))\n",
      "C:\\Users\\malann\\AppData\\Roaming\\Python\\Python310\\site-packages\\mne_connectivity\\spectral\\epochs.py:177: RuntimeWarning: fmin=4.000 Hz corresponds to 3.920 < 5 cycles based on the epoch length 0.980 sec, need at least 1.250 sec epochs or fmin=5.102. Spectrum estimate will be unreliable.\n",
      "  warn(\n",
      "[Parallel(n_jobs=30)]: Using backend LokyBackend with 30 concurrent workers.\n"
     ]
    },
    {
     "name": "stdout",
     "output_type": "stream",
     "text": [
      "[Connectivity computation done]\n",
      "Connectivity computation...\n",
      "    computing connectivity for 18 connections\n",
      "    using t=0.525s..1.500s for estimation (196 points)\n",
      "    computing connectivity for the bands:\n",
      "     band 1: 4.0Hz..7.0Hz (4 points)\n",
      "     band 2: 8.0Hz..12.0Hz (5 points)\n",
      "     band 3: 13.0Hz..20.0Hz (8 points)\n",
      "     band 4: 21.0Hz..30.0Hz (10 points)\n",
      "    connectivity scores will be averaged for each band\n",
      "    using CWT with Morlet wavelets to estimate spectra\n",
      "    the following metrics will be computed: Coherence\n",
      "    computing cross-spectral density for epochs 1..10\n"
     ]
    },
    {
     "name": "stderr",
     "output_type": "stream",
     "text": [
      "[Parallel(n_jobs=30)]: Done   2 out of  10 | elapsed:    0.2s remaining:    0.9s\n",
      "[Parallel(n_jobs=30)]: Done   5 out of  10 | elapsed:    0.2s remaining:    0.2s\n",
      "[Parallel(n_jobs=30)]: Done   8 out of  10 | elapsed:    0.2s remaining:    0.0s\n",
      "[Parallel(n_jobs=30)]: Done  10 out of  10 | elapsed:    0.2s finished\n",
      "C:\\Users\\malann\\AppData\\Roaming\\Python\\Python310\\site-packages\\mne_connectivity\\spectral\\epochs.py:177: RuntimeWarning: fmin=4.000 Hz corresponds to 3.920 < 5 cycles based on the epoch length 0.980 sec, need at least 1.250 sec epochs or fmin=5.102. Spectrum estimate will be unreliable.\n",
      "  warn(\n",
      "[Parallel(n_jobs=30)]: Using backend LokyBackend with 30 concurrent workers.\n"
     ]
    },
    {
     "name": "stdout",
     "output_type": "stream",
     "text": [
      "[Connectivity computation done]\n",
      "Connectivity computation...\n",
      "    computing connectivity for 18 connections\n",
      "    using t=0.525s..1.500s for estimation (196 points)\n",
      "    computing connectivity for the bands:\n",
      "     band 1: 4.0Hz..7.0Hz (4 points)\n",
      "     band 2: 8.0Hz..12.0Hz (5 points)\n",
      "     band 3: 13.0Hz..20.0Hz (8 points)\n",
      "     band 4: 21.0Hz..30.0Hz (10 points)\n",
      "    connectivity scores will be averaged for each band\n",
      "    using CWT with Morlet wavelets to estimate spectra\n",
      "    the following metrics will be computed: Coherence\n",
      "    computing cross-spectral density for epochs 1..30\n"
     ]
    },
    {
     "name": "stderr",
     "output_type": "stream",
     "text": [
      "[Parallel(n_jobs=30)]: Done   2 out of  10 | elapsed:    0.0s remaining:    0.2s\n",
      "[Parallel(n_jobs=30)]: Done   5 out of  10 | elapsed:    0.0s remaining:    0.0s\n",
      "[Parallel(n_jobs=30)]: Done   8 out of  10 | elapsed:    0.1s remaining:    0.0s\n",
      "[Parallel(n_jobs=30)]: Done  10 out of  10 | elapsed:    0.1s finished\n",
      "C:\\Users\\malann\\AppData\\Roaming\\Python\\Python310\\site-packages\\mne_connectivity\\spectral\\epochs.py:177: RuntimeWarning: fmin=4.000 Hz corresponds to 3.920 < 5 cycles based on the epoch length 0.980 sec, need at least 1.250 sec epochs or fmin=5.102. Spectrum estimate will be unreliable.\n",
      "  warn(\n",
      "[Parallel(n_jobs=30)]: Using backend LokyBackend with 30 concurrent workers.\n",
      "[Parallel(n_jobs=30)]: Done   8 out of  30 | elapsed:    0.1s remaining:    0.4s\n",
      "[Parallel(n_jobs=30)]: Done  15 out of  30 | elapsed:    0.2s remaining:    0.2s\n",
      "[Parallel(n_jobs=30)]: Done  22 out of  30 | elapsed:    0.2s remaining:    0.0s\n"
     ]
    },
    {
     "name": "stdout",
     "output_type": "stream",
     "text": [
      "    computing cross-spectral density for epochs 31..42\n"
     ]
    },
    {
     "name": "stderr",
     "output_type": "stream",
     "text": [
      "[Parallel(n_jobs=30)]: Done  30 out of  30 | elapsed:    0.3s finished\n",
      "[Parallel(n_jobs=30)]: Using backend LokyBackend with 30 concurrent workers.\n",
      "[Parallel(n_jobs=30)]: Done   4 out of  12 | elapsed:    0.0s remaining:    0.1s\n",
      "[Parallel(n_jobs=30)]: Done   7 out of  12 | elapsed:    0.0s remaining:    0.0s\n",
      "[Parallel(n_jobs=30)]: Done  10 out of  12 | elapsed:    0.1s remaining:    0.0s\n"
     ]
    },
    {
     "name": "stdout",
     "output_type": "stream",
     "text": [
      "[Connectivity computation done]\n",
      "Connectivity computation...\n",
      "    computing connectivity for 18 connections\n",
      "    using t=0.525s..1.500s for estimation (196 points)\n",
      "    computing connectivity for the bands:\n",
      "     band 1: 4.0Hz..7.0Hz (4 points)\n",
      "     band 2: 8.0Hz..12.0Hz (5 points)\n",
      "     band 3: 13.0Hz..20.0Hz (8 points)\n",
      "     band 4: 21.0Hz..30.0Hz (10 points)\n",
      "    connectivity scores will be averaged for each band\n",
      "    using CWT with Morlet wavelets to estimate spectra\n",
      "    the following metrics will be computed: Coherence\n",
      "    computing cross-spectral density for epochs 1..30\n"
     ]
    },
    {
     "name": "stderr",
     "output_type": "stream",
     "text": [
      "[Parallel(n_jobs=30)]: Done  12 out of  12 | elapsed:    0.1s finished\n",
      "C:\\Users\\malann\\AppData\\Roaming\\Python\\Python310\\site-packages\\mne_connectivity\\spectral\\epochs.py:177: RuntimeWarning: fmin=4.000 Hz corresponds to 3.920 < 5 cycles based on the epoch length 0.980 sec, need at least 1.250 sec epochs or fmin=5.102. Spectrum estimate will be unreliable.\n",
      "  warn(\n",
      "[Parallel(n_jobs=30)]: Using backend LokyBackend with 30 concurrent workers.\n",
      "[Parallel(n_jobs=30)]: Done   8 out of  30 | elapsed:    0.1s remaining:    0.5s\n",
      "[Parallel(n_jobs=30)]: Done  15 out of  30 | elapsed:    0.2s remaining:    0.2s\n"
     ]
    },
    {
     "name": "stdout",
     "output_type": "stream",
     "text": [
      "    computing cross-spectral density for epochs 31..42\n"
     ]
    },
    {
     "name": "stderr",
     "output_type": "stream",
     "text": [
      "[Parallel(n_jobs=30)]: Done  22 out of  30 | elapsed:    0.3s remaining:    0.1s\n",
      "[Parallel(n_jobs=30)]: Done  30 out of  30 | elapsed:    0.4s finished\n",
      "[Parallel(n_jobs=30)]: Using backend LokyBackend with 30 concurrent workers.\n"
     ]
    },
    {
     "name": "stdout",
     "output_type": "stream",
     "text": [
      "[Connectivity computation done]\n",
      "Connectivity computation...\n",
      "    computing connectivity for 18 connections\n",
      "    using t=0.525s..1.500s for estimation (196 points)\n",
      "    computing connectivity for the bands:\n",
      "     band 1: 4.0Hz..7.0Hz (4 points)\n",
      "     band 2: 8.0Hz..12.0Hz (5 points)\n",
      "     band 3: 13.0Hz..20.0Hz (8 points)\n",
      "     band 4: 21.0Hz..30.0Hz (10 points)\n",
      "    connectivity scores will be averaged for each band\n",
      "    using CWT with Morlet wavelets to estimate spectra\n",
      "    the following metrics will be computed: Coherence\n",
      "    computing cross-spectral density for epochs 1..10\n"
     ]
    },
    {
     "name": "stderr",
     "output_type": "stream",
     "text": [
      "[Parallel(n_jobs=30)]: Done   4 out of  12 | elapsed:    0.0s remaining:    0.1s\n",
      "[Parallel(n_jobs=30)]: Done   7 out of  12 | elapsed:    0.1s remaining:    0.0s\n",
      "[Parallel(n_jobs=30)]: Done  10 out of  12 | elapsed:    0.1s remaining:    0.0s\n",
      "[Parallel(n_jobs=30)]: Done  12 out of  12 | elapsed:    0.1s finished\n",
      "C:\\Users\\malann\\AppData\\Local\\Temp\\ipykernel_239232\\2349117804.py:69: FutureWarning: Parameters \"info\", \"data\", \"times\", \"nave\" are deprecated and will be removed in version 1.8. For a quick fix, use ``AverageTFRArray`` with the same parameters. For a long-term fix, see the docstring notes.\n",
      "  tfr_odd_E = mne.time_frequency.AverageTFR(epochs_aff_odd_E.info, con_odd_E.get_data(), times, freqs, len(epochs_aff_odd_E))\n",
      "C:\\Users\\malann\\AppData\\Local\\Temp\\ipykernel_239232\\2349117804.py:70: FutureWarning: Parameters \"info\", \"data\", \"times\", \"nave\" are deprecated and will be removed in version 1.8. For a quick fix, use ``AverageTFRArray`` with the same parameters. For a long-term fix, see the docstring notes.\n",
      "  tfr_odd_NE = mne.time_frequency.AverageTFR(epochs_aff_odd_NE.info, con_odd_NE.get_data(), times, freqs, len(epochs_aff_odd_NE))\n",
      "C:\\Users\\malann\\AppData\\Local\\Temp\\ipykernel_239232\\2349117804.py:74: FutureWarning: Parameters \"info\", \"data\", \"times\", \"nave\" are deprecated and will be removed in version 1.8. For a quick fix, use ``AverageTFRArray`` with the same parameters. For a long-term fix, see the docstring notes.\n",
      "  tfr_typ_E = mne.time_frequency.AverageTFR(epochs_aff_typ_E.info, con_typ_E.get_data(), times, freqs, len(epochs_aff_typ_E))\n",
      "C:\\Users\\malann\\AppData\\Local\\Temp\\ipykernel_239232\\2349117804.py:75: FutureWarning: Parameters \"info\", \"data\", \"times\", \"nave\" are deprecated and will be removed in version 1.8. For a quick fix, use ``AverageTFRArray`` with the same parameters. For a long-term fix, see the docstring notes.\n",
      "  tfr_typ_NE = mne.time_frequency.AverageTFR(epochs_aff_typ_NE.info, con_typ_NE.get_data(), times, freqs, len(epochs_aff_typ_NE))\n",
      "C:\\Users\\malann\\AppData\\Roaming\\Python\\Python310\\site-packages\\mne_connectivity\\spectral\\epochs.py:177: RuntimeWarning: fmin=4.000 Hz corresponds to 3.920 < 5 cycles based on the epoch length 0.980 sec, need at least 1.250 sec epochs or fmin=5.102. Spectrum estimate will be unreliable.\n",
      "  warn(\n",
      "[Parallel(n_jobs=30)]: Using backend LokyBackend with 30 concurrent workers.\n",
      "[Parallel(n_jobs=30)]: Done   2 out of  10 | elapsed:    0.0s remaining:    0.4s\n",
      "[Parallel(n_jobs=30)]: Done   5 out of  10 | elapsed:    0.0s remaining:    0.0s\n"
     ]
    },
    {
     "name": "stdout",
     "output_type": "stream",
     "text": [
      "[Connectivity computation done]\n",
      "Connectivity computation...\n",
      "    computing connectivity for 18 connections\n",
      "    using t=0.525s..1.500s for estimation (196 points)\n",
      "    computing connectivity for the bands:\n",
      "     band 1: 4.0Hz..7.0Hz (4 points)\n",
      "     band 2: 8.0Hz..12.0Hz (5 points)\n",
      "     band 3: 13.0Hz..20.0Hz (8 points)\n",
      "     band 4: 21.0Hz..30.0Hz (10 points)\n",
      "    connectivity scores will be averaged for each band\n",
      "    using CWT with Morlet wavelets to estimate spectra\n",
      "    the following metrics will be computed: Coherence\n",
      "    computing cross-spectral density for epochs 1..10\n"
     ]
    },
    {
     "name": "stderr",
     "output_type": "stream",
     "text": [
      "[Parallel(n_jobs=30)]: Done   8 out of  10 | elapsed:    0.1s remaining:    0.0s\n",
      "[Parallel(n_jobs=30)]: Done  10 out of  10 | elapsed:    0.2s finished\n",
      "C:\\Users\\malann\\AppData\\Roaming\\Python\\Python310\\site-packages\\mne_connectivity\\spectral\\epochs.py:177: RuntimeWarning: fmin=4.000 Hz corresponds to 3.920 < 5 cycles based on the epoch length 0.980 sec, need at least 1.250 sec epochs or fmin=5.102. Spectrum estimate will be unreliable.\n",
      "  warn(\n",
      "[Parallel(n_jobs=30)]: Using backend LokyBackend with 30 concurrent workers.\n"
     ]
    },
    {
     "name": "stdout",
     "output_type": "stream",
     "text": [
      "[Connectivity computation done]\n",
      "Connectivity computation...\n",
      "    computing connectivity for 18 connections\n",
      "    using t=0.525s..1.500s for estimation (196 points)\n",
      "    computing connectivity for the bands:\n",
      "     band 1: 4.0Hz..7.0Hz (4 points)\n",
      "     band 2: 8.0Hz..12.0Hz (5 points)\n",
      "     band 3: 13.0Hz..20.0Hz (8 points)\n",
      "     band 4: 21.0Hz..30.0Hz (10 points)\n",
      "    connectivity scores will be averaged for each band\n",
      "    using CWT with Morlet wavelets to estimate spectra\n",
      "    the following metrics will be computed: Coherence\n",
      "    computing cross-spectral density for epochs 1..30\n"
     ]
    },
    {
     "name": "stderr",
     "output_type": "stream",
     "text": [
      "[Parallel(n_jobs=30)]: Done   2 out of  10 | elapsed:    0.0s remaining:    0.4s\n",
      "[Parallel(n_jobs=30)]: Done   5 out of  10 | elapsed:    0.1s remaining:    0.1s\n",
      "[Parallel(n_jobs=30)]: Done   8 out of  10 | elapsed:    0.1s remaining:    0.0s\n",
      "[Parallel(n_jobs=30)]: Done  10 out of  10 | elapsed:    0.1s finished\n",
      "C:\\Users\\malann\\AppData\\Roaming\\Python\\Python310\\site-packages\\mne_connectivity\\spectral\\epochs.py:177: RuntimeWarning: fmin=4.000 Hz corresponds to 3.920 < 5 cycles based on the epoch length 0.980 sec, need at least 1.250 sec epochs or fmin=5.102. Spectrum estimate will be unreliable.\n",
      "  warn(\n",
      "[Parallel(n_jobs=30)]: Using backend LokyBackend with 30 concurrent workers.\n",
      "[Parallel(n_jobs=30)]: Done   8 out of  30 | elapsed:    0.3s remaining:    0.9s\n",
      "[Parallel(n_jobs=30)]: Done  15 out of  30 | elapsed:    0.4s remaining:    0.4s\n",
      "[Parallel(n_jobs=30)]: Done  22 out of  30 | elapsed:    0.4s remaining:    0.1s\n"
     ]
    },
    {
     "name": "stdout",
     "output_type": "stream",
     "text": [
      "    computing cross-spectral density for epochs 31..42\n"
     ]
    },
    {
     "name": "stderr",
     "output_type": "stream",
     "text": [
      "[Parallel(n_jobs=30)]: Done  30 out of  30 | elapsed:    0.5s finished\n",
      "[Parallel(n_jobs=30)]: Using backend LokyBackend with 30 concurrent workers.\n"
     ]
    },
    {
     "name": "stdout",
     "output_type": "stream",
     "text": [
      "[Connectivity computation done]\n",
      "Connectivity computation...\n",
      "    computing connectivity for 18 connections\n",
      "    using t=0.525s..1.500s for estimation (196 points)\n",
      "    computing connectivity for the bands:\n",
      "     band 1: 4.0Hz..7.0Hz (4 points)\n",
      "     band 2: 8.0Hz..12.0Hz (5 points)\n",
      "     band 3: 13.0Hz..20.0Hz (8 points)\n",
      "     band 4: 21.0Hz..30.0Hz (10 points)\n",
      "    connectivity scores will be averaged for each band\n",
      "    using CWT with Morlet wavelets to estimate spectra\n",
      "    the following metrics will be computed: Coherence\n",
      "    computing cross-spectral density for epochs 1..30\n"
     ]
    },
    {
     "name": "stderr",
     "output_type": "stream",
     "text": [
      "[Parallel(n_jobs=30)]: Done   4 out of  12 | elapsed:    0.1s remaining:    0.2s\n",
      "[Parallel(n_jobs=30)]: Done   7 out of  12 | elapsed:    0.1s remaining:    0.0s\n",
      "[Parallel(n_jobs=30)]: Done  10 out of  12 | elapsed:    0.1s remaining:    0.0s\n",
      "[Parallel(n_jobs=30)]: Done  12 out of  12 | elapsed:    0.2s finished\n",
      "C:\\Users\\malann\\AppData\\Roaming\\Python\\Python310\\site-packages\\mne_connectivity\\spectral\\epochs.py:177: RuntimeWarning: fmin=4.000 Hz corresponds to 3.920 < 5 cycles based on the epoch length 0.980 sec, need at least 1.250 sec epochs or fmin=5.102. Spectrum estimate will be unreliable.\n",
      "  warn(\n",
      "[Parallel(n_jobs=30)]: Using backend LokyBackend with 30 concurrent workers.\n",
      "[Parallel(n_jobs=30)]: Done   8 out of  30 | elapsed:    0.3s remaining:    1.0s\n",
      "[Parallel(n_jobs=30)]: Done  15 out of  30 | elapsed:    0.4s remaining:    0.4s\n",
      "[Parallel(n_jobs=30)]: Done  22 out of  30 | elapsed:    0.5s remaining:    0.1s\n"
     ]
    },
    {
     "name": "stdout",
     "output_type": "stream",
     "text": [
      "    computing cross-spectral density for epochs 31..42\n"
     ]
    },
    {
     "name": "stderr",
     "output_type": "stream",
     "text": [
      "[Parallel(n_jobs=30)]: Done  30 out of  30 | elapsed:    0.5s finished\n",
      "[Parallel(n_jobs=30)]: Using backend LokyBackend with 30 concurrent workers.\n",
      "[Parallel(n_jobs=30)]: Done   4 out of  12 | elapsed:    0.0s remaining:    0.2s\n"
     ]
    },
    {
     "name": "stdout",
     "output_type": "stream",
     "text": [
      "[Connectivity computation done]\n",
      "Connectivity computation...\n",
      "    computing connectivity for 18 connections\n"
     ]
    },
    {
     "name": "stderr",
     "output_type": "stream",
     "text": [
      "[Parallel(n_jobs=30)]: Done   7 out of  12 | elapsed:    0.1s remaining:    0.1s\n",
      "[Parallel(n_jobs=30)]: Done  10 out of  12 | elapsed:    0.2s remaining:    0.0s\n",
      "[Parallel(n_jobs=30)]: Done  12 out of  12 | elapsed:    0.2s finished\n",
      "C:\\Users\\malann\\AppData\\Local\\Temp\\ipykernel_239232\\2349117804.py:69: FutureWarning: Parameters \"info\", \"data\", \"times\", \"nave\" are deprecated and will be removed in version 1.8. For a quick fix, use ``AverageTFRArray`` with the same parameters. For a long-term fix, see the docstring notes.\n",
      "  tfr_odd_E = mne.time_frequency.AverageTFR(epochs_aff_odd_E.info, con_odd_E.get_data(), times, freqs, len(epochs_aff_odd_E))\n",
      "C:\\Users\\malann\\AppData\\Local\\Temp\\ipykernel_239232\\2349117804.py:70: FutureWarning: Parameters \"info\", \"data\", \"times\", \"nave\" are deprecated and will be removed in version 1.8. For a quick fix, use ``AverageTFRArray`` with the same parameters. For a long-term fix, see the docstring notes.\n",
      "  tfr_odd_NE = mne.time_frequency.AverageTFR(epochs_aff_odd_NE.info, con_odd_NE.get_data(), times, freqs, len(epochs_aff_odd_NE))\n",
      "C:\\Users\\malann\\AppData\\Local\\Temp\\ipykernel_239232\\2349117804.py:74: FutureWarning: Parameters \"info\", \"data\", \"times\", \"nave\" are deprecated and will be removed in version 1.8. For a quick fix, use ``AverageTFRArray`` with the same parameters. For a long-term fix, see the docstring notes.\n",
      "  tfr_typ_E = mne.time_frequency.AverageTFR(epochs_aff_typ_E.info, con_typ_E.get_data(), times, freqs, len(epochs_aff_typ_E))\n",
      "C:\\Users\\malann\\AppData\\Local\\Temp\\ipykernel_239232\\2349117804.py:75: FutureWarning: Parameters \"info\", \"data\", \"times\", \"nave\" are deprecated and will be removed in version 1.8. For a quick fix, use ``AverageTFRArray`` with the same parameters. For a long-term fix, see the docstring notes.\n",
      "  tfr_typ_NE = mne.time_frequency.AverageTFR(epochs_aff_typ_NE.info, con_typ_NE.get_data(), times, freqs, len(epochs_aff_typ_NE))\n"
     ]
    },
    {
     "name": "stdout",
     "output_type": "stream",
     "text": [
      "    using t=0.000s..1.100s for estimation (221 points)\n",
      "    computing connectivity for the bands:\n",
      "     band 1: 4.0Hz..7.0Hz (4 points)\n",
      "     band 2: 8.0Hz..12.0Hz (5 points)\n",
      "     band 3: 13.0Hz..20.0Hz (8 points)\n",
      "     band 4: 21.0Hz..30.0Hz (10 points)\n",
      "    connectivity scores will be averaged for each band\n",
      "    using CWT with Morlet wavelets to estimate spectra\n",
      "    the following metrics will be computed: Coherence\n",
      "    computing cross-spectral density for epochs 1..10\n"
     ]
    },
    {
     "name": "stderr",
     "output_type": "stream",
     "text": [
      "C:\\Users\\malann\\AppData\\Roaming\\Python\\Python310\\site-packages\\mne_connectivity\\spectral\\epochs.py:177: RuntimeWarning: fmin=4.000 Hz corresponds to 4.420 < 5 cycles based on the epoch length 1.105 sec, need at least 1.250 sec epochs or fmin=4.525. Spectrum estimate will be unreliable.\n",
      "  warn(\n",
      "[Parallel(n_jobs=30)]: Using backend LokyBackend with 30 concurrent workers.\n",
      "[Parallel(n_jobs=30)]: Done   2 out of  10 | elapsed:    0.1s remaining:    0.5s\n",
      "[Parallel(n_jobs=30)]: Done   5 out of  10 | elapsed:    0.1s remaining:    0.1s\n"
     ]
    },
    {
     "name": "stdout",
     "output_type": "stream",
     "text": [
      "[Connectivity computation done]\n",
      "Connectivity computation...\n",
      "    computing connectivity for 18 connections\n",
      "    using t=0.000s..1.100s for estimation (221 points)\n",
      "    computing connectivity for the bands:\n",
      "     band 1: 4.0Hz..7.0Hz (4 points)\n",
      "     band 2: 8.0Hz..12.0Hz (5 points)\n",
      "     band 3: 13.0Hz..20.0Hz (8 points)\n",
      "     band 4: 21.0Hz..30.0Hz (10 points)\n",
      "    connectivity scores will be averaged for each band\n",
      "    using CWT with Morlet wavelets to estimate spectra\n",
      "    the following metrics will be computed: Coherence\n",
      "    computing cross-spectral density for epochs 1..10\n"
     ]
    },
    {
     "name": "stderr",
     "output_type": "stream",
     "text": [
      "[Parallel(n_jobs=30)]: Done   8 out of  10 | elapsed:    0.1s remaining:    0.0s\n",
      "[Parallel(n_jobs=30)]: Done  10 out of  10 | elapsed:    0.1s finished\n",
      "C:\\Users\\malann\\AppData\\Roaming\\Python\\Python310\\site-packages\\mne_connectivity\\spectral\\epochs.py:177: RuntimeWarning: fmin=4.000 Hz corresponds to 4.420 < 5 cycles based on the epoch length 1.105 sec, need at least 1.250 sec epochs or fmin=4.525. Spectrum estimate will be unreliable.\n",
      "  warn(\n",
      "[Parallel(n_jobs=30)]: Using backend LokyBackend with 30 concurrent workers.\n"
     ]
    },
    {
     "name": "stdout",
     "output_type": "stream",
     "text": [
      "[Connectivity computation done]\n",
      "Connectivity computation...\n"
     ]
    },
    {
     "name": "stderr",
     "output_type": "stream",
     "text": [
      "[Parallel(n_jobs=30)]: Done   2 out of  10 | elapsed:    0.0s remaining:    0.4s\n",
      "[Parallel(n_jobs=30)]: Done   5 out of  10 | elapsed:    0.1s remaining:    0.1s\n",
      "[Parallel(n_jobs=30)]: Done   8 out of  10 | elapsed:    0.1s remaining:    0.0s\n",
      "[Parallel(n_jobs=30)]: Done  10 out of  10 | elapsed:    0.2s finished\n"
     ]
    },
    {
     "name": "stdout",
     "output_type": "stream",
     "text": [
      "    computing connectivity for 18 connections\n",
      "    using t=0.000s..1.100s for estimation (221 points)\n",
      "    computing connectivity for the bands:\n",
      "     band 1: 4.0Hz..7.0Hz (4 points)\n",
      "     band 2: 8.0Hz..12.0Hz (5 points)\n",
      "     band 3: 13.0Hz..20.0Hz (8 points)\n",
      "     band 4: 21.0Hz..30.0Hz (10 points)\n",
      "    connectivity scores will be averaged for each band\n",
      "    using CWT with Morlet wavelets to estimate spectra\n",
      "    the following metrics will be computed: Coherence\n",
      "    computing cross-spectral density for epochs 1..30\n"
     ]
    },
    {
     "name": "stderr",
     "output_type": "stream",
     "text": [
      "C:\\Users\\malann\\AppData\\Roaming\\Python\\Python310\\site-packages\\mne_connectivity\\spectral\\epochs.py:177: RuntimeWarning: fmin=4.000 Hz corresponds to 4.420 < 5 cycles based on the epoch length 1.105 sec, need at least 1.250 sec epochs or fmin=4.525. Spectrum estimate will be unreliable.\n",
      "  warn(\n",
      "[Parallel(n_jobs=30)]: Using backend LokyBackend with 30 concurrent workers.\n",
      "[Parallel(n_jobs=30)]: Done   8 out of  30 | elapsed:    0.3s remaining:    1.1s\n",
      "[Parallel(n_jobs=30)]: Done  15 out of  30 | elapsed:    0.5s remaining:    0.5s\n"
     ]
    },
    {
     "name": "stdout",
     "output_type": "stream",
     "text": [
      "    computing cross-spectral density for epochs 31..42\n"
     ]
    },
    {
     "name": "stderr",
     "output_type": "stream",
     "text": [
      "[Parallel(n_jobs=30)]: Done  22 out of  30 | elapsed:    0.6s remaining:    0.2s\n",
      "[Parallel(n_jobs=30)]: Done  30 out of  30 | elapsed:    0.7s finished\n",
      "[Parallel(n_jobs=30)]: Using backend LokyBackend with 30 concurrent workers.\n"
     ]
    },
    {
     "name": "stdout",
     "output_type": "stream",
     "text": [
      "[Connectivity computation done]\n",
      "Connectivity computation...\n",
      "    computing connectivity for 18 connections\n",
      "    using t=0.000s..1.100s for estimation (221 points)\n",
      "    computing connectivity for the bands:\n",
      "     band 1: 4.0Hz..7.0Hz (4 points)\n",
      "     band 2: 8.0Hz..12.0Hz (5 points)\n",
      "     band 3: 13.0Hz..20.0Hz (8 points)\n",
      "     band 4: 21.0Hz..30.0Hz (10 points)\n",
      "    connectivity scores will be averaged for each band\n",
      "    using CWT with Morlet wavelets to estimate spectra\n",
      "    the following metrics will be computed: Coherence\n",
      "    computing cross-spectral density for epochs 1..30\n"
     ]
    },
    {
     "name": "stderr",
     "output_type": "stream",
     "text": [
      "[Parallel(n_jobs=30)]: Done   4 out of  12 | elapsed:    0.2s remaining:    0.5s\n",
      "[Parallel(n_jobs=30)]: Done   7 out of  12 | elapsed:    0.2s remaining:    0.1s\n",
      "[Parallel(n_jobs=30)]: Done  10 out of  12 | elapsed:    0.3s remaining:    0.0s\n",
      "[Parallel(n_jobs=30)]: Done  12 out of  12 | elapsed:    0.3s finished\n",
      "C:\\Users\\malann\\AppData\\Roaming\\Python\\Python310\\site-packages\\mne_connectivity\\spectral\\epochs.py:177: RuntimeWarning: fmin=4.000 Hz corresponds to 4.420 < 5 cycles based on the epoch length 1.105 sec, need at least 1.250 sec epochs or fmin=4.525. Spectrum estimate will be unreliable.\n",
      "  warn(\n",
      "[Parallel(n_jobs=30)]: Using backend LokyBackend with 30 concurrent workers.\n",
      "[Parallel(n_jobs=30)]: Done   8 out of  30 | elapsed:    0.3s remaining:    1.0s\n",
      "[Parallel(n_jobs=30)]: Done  15 out of  30 | elapsed:    0.4s remaining:    0.4s\n"
     ]
    },
    {
     "name": "stdout",
     "output_type": "stream",
     "text": [
      "    computing cross-spectral density for epochs 31..42\n"
     ]
    },
    {
     "name": "stderr",
     "output_type": "stream",
     "text": [
      "[Parallel(n_jobs=30)]: Done  22 out of  30 | elapsed:    0.6s remaining:    0.1s\n",
      "[Parallel(n_jobs=30)]: Done  30 out of  30 | elapsed:    0.6s finished\n",
      "[Parallel(n_jobs=30)]: Using backend LokyBackend with 30 concurrent workers.\n"
     ]
    },
    {
     "name": "stdout",
     "output_type": "stream",
     "text": [
      "[Connectivity computation done]\n",
      "Connectivity computation...\n"
     ]
    },
    {
     "name": "stderr",
     "output_type": "stream",
     "text": [
      "[Parallel(n_jobs=30)]: Done   4 out of  12 | elapsed:    0.1s remaining:    0.3s\n",
      "[Parallel(n_jobs=30)]: Done   7 out of  12 | elapsed:    0.1s remaining:    0.1s\n",
      "[Parallel(n_jobs=30)]: Done  10 out of  12 | elapsed:    0.2s remaining:    0.0s\n",
      "[Parallel(n_jobs=30)]: Done  12 out of  12 | elapsed:    0.2s finished\n",
      "C:\\Users\\malann\\AppData\\Local\\Temp\\ipykernel_239232\\2349117804.py:69: FutureWarning: Parameters \"info\", \"data\", \"times\", \"nave\" are deprecated and will be removed in version 1.8. For a quick fix, use ``AverageTFRArray`` with the same parameters. For a long-term fix, see the docstring notes.\n",
      "  tfr_odd_E = mne.time_frequency.AverageTFR(epochs_aff_odd_E.info, con_odd_E.get_data(), times, freqs, len(epochs_aff_odd_E))\n",
      "C:\\Users\\malann\\AppData\\Local\\Temp\\ipykernel_239232\\2349117804.py:70: FutureWarning: Parameters \"info\", \"data\", \"times\", \"nave\" are deprecated and will be removed in version 1.8. For a quick fix, use ``AverageTFRArray`` with the same parameters. For a long-term fix, see the docstring notes.\n",
      "  tfr_odd_NE = mne.time_frequency.AverageTFR(epochs_aff_odd_NE.info, con_odd_NE.get_data(), times, freqs, len(epochs_aff_odd_NE))\n",
      "C:\\Users\\malann\\AppData\\Local\\Temp\\ipykernel_239232\\2349117804.py:74: FutureWarning: Parameters \"info\", \"data\", \"times\", \"nave\" are deprecated and will be removed in version 1.8. For a quick fix, use ``AverageTFRArray`` with the same parameters. For a long-term fix, see the docstring notes.\n",
      "  tfr_typ_E = mne.time_frequency.AverageTFR(epochs_aff_typ_E.info, con_typ_E.get_data(), times, freqs, len(epochs_aff_typ_E))\n",
      "C:\\Users\\malann\\AppData\\Local\\Temp\\ipykernel_239232\\2349117804.py:75: FutureWarning: Parameters \"info\", \"data\", \"times\", \"nave\" are deprecated and will be removed in version 1.8. For a quick fix, use ``AverageTFRArray`` with the same parameters. For a long-term fix, see the docstring notes.\n",
      "  tfr_typ_NE = mne.time_frequency.AverageTFR(epochs_aff_typ_NE.info, con_typ_NE.get_data(), times, freqs, len(epochs_aff_typ_NE))\n"
     ]
    },
    {
     "name": "stdout",
     "output_type": "stream",
     "text": [
      "    computing connectivity for 18 connections\n",
      "    using t=0.000s..1.100s for estimation (221 points)\n",
      "    computing connectivity for the bands:\n",
      "     band 1: 4.0Hz..7.0Hz (4 points)\n",
      "     band 2: 8.0Hz..12.0Hz (5 points)\n",
      "     band 3: 13.0Hz..20.0Hz (8 points)\n",
      "     band 4: 21.0Hz..30.0Hz (10 points)\n",
      "    connectivity scores will be averaged for each band\n",
      "    using CWT with Morlet wavelets to estimate spectra\n",
      "    the following metrics will be computed: Coherence\n",
      "    computing cross-spectral density for epochs 1..10\n"
     ]
    },
    {
     "name": "stderr",
     "output_type": "stream",
     "text": [
      "C:\\Users\\malann\\AppData\\Roaming\\Python\\Python310\\site-packages\\mne_connectivity\\spectral\\epochs.py:177: RuntimeWarning: fmin=4.000 Hz corresponds to 4.420 < 5 cycles based on the epoch length 1.105 sec, need at least 1.250 sec epochs or fmin=4.525. Spectrum estimate will be unreliable.\n",
      "  warn(\n",
      "[Parallel(n_jobs=30)]: Using backend LokyBackend with 30 concurrent workers.\n",
      "[Parallel(n_jobs=30)]: Done   2 out of  10 | elapsed:    0.0s remaining:    0.3s\n"
     ]
    },
    {
     "name": "stdout",
     "output_type": "stream",
     "text": [
      "[Connectivity computation done]\n",
      "Connectivity computation...\n",
      "    computing connectivity for 18 connections\n",
      "    using t=0.000s..1.100s for estimation (221 points)\n",
      "    computing connectivity for the bands:\n",
      "     band 1: 4.0Hz..7.0Hz (4 points)\n",
      "     band 2: 8.0Hz..12.0Hz (5 points)\n",
      "     band 3: 13.0Hz..20.0Hz (8 points)\n",
      "     band 4: 21.0Hz..30.0Hz (10 points)\n",
      "    connectivity scores will be averaged for each band\n",
      "    using CWT with Morlet wavelets to estimate spectra\n",
      "    the following metrics will be computed: Coherence\n",
      "    computing cross-spectral density for epochs 1..10\n"
     ]
    },
    {
     "name": "stderr",
     "output_type": "stream",
     "text": [
      "[Parallel(n_jobs=30)]: Done   5 out of  10 | elapsed:    0.1s remaining:    0.1s\n",
      "[Parallel(n_jobs=30)]: Done   8 out of  10 | elapsed:    0.1s remaining:    0.0s\n",
      "[Parallel(n_jobs=30)]: Done  10 out of  10 | elapsed:    0.1s finished\n",
      "C:\\Users\\malann\\AppData\\Roaming\\Python\\Python310\\site-packages\\mne_connectivity\\spectral\\epochs.py:177: RuntimeWarning: fmin=4.000 Hz corresponds to 4.420 < 5 cycles based on the epoch length 1.105 sec, need at least 1.250 sec epochs or fmin=4.525. Spectrum estimate will be unreliable.\n",
      "  warn(\n",
      "[Parallel(n_jobs=30)]: Using backend LokyBackend with 30 concurrent workers.\n"
     ]
    },
    {
     "name": "stdout",
     "output_type": "stream",
     "text": [
      "[Connectivity computation done]\n",
      "Connectivity computation...\n",
      "    computing connectivity for 18 connections\n",
      "    using t=0.000s..1.100s for estimation (221 points)\n",
      "    computing connectivity for the bands:\n",
      "     band 1: 4.0Hz..7.0Hz (4 points)\n",
      "     band 2: 8.0Hz..12.0Hz (5 points)\n",
      "     band 3: 13.0Hz..20.0Hz (8 points)\n",
      "     band 4: 21.0Hz..30.0Hz (10 points)\n",
      "    connectivity scores will be averaged for each band\n",
      "    using CWT with Morlet wavelets to estimate spectra\n",
      "    the following metrics will be computed: Coherence\n",
      "    computing cross-spectral density for epochs 1..30\n"
     ]
    },
    {
     "name": "stderr",
     "output_type": "stream",
     "text": [
      "[Parallel(n_jobs=30)]: Done   2 out of  10 | elapsed:    0.0s remaining:    0.5s\n",
      "[Parallel(n_jobs=30)]: Done   5 out of  10 | elapsed:    0.1s remaining:    0.1s\n",
      "[Parallel(n_jobs=30)]: Done   8 out of  10 | elapsed:    0.1s remaining:    0.0s\n",
      "[Parallel(n_jobs=30)]: Done  10 out of  10 | elapsed:    0.2s finished\n",
      "C:\\Users\\malann\\AppData\\Roaming\\Python\\Python310\\site-packages\\mne_connectivity\\spectral\\epochs.py:177: RuntimeWarning: fmin=4.000 Hz corresponds to 4.420 < 5 cycles based on the epoch length 1.105 sec, need at least 1.250 sec epochs or fmin=4.525. Spectrum estimate will be unreliable.\n",
      "  warn(\n",
      "[Parallel(n_jobs=30)]: Using backend LokyBackend with 30 concurrent workers.\n",
      "[Parallel(n_jobs=30)]: Done   8 out of  30 | elapsed:    0.3s remaining:    0.9s\n",
      "[Parallel(n_jobs=30)]: Done  15 out of  30 | elapsed:    0.4s remaining:    0.4s\n"
     ]
    },
    {
     "name": "stdout",
     "output_type": "stream",
     "text": [
      "    computing cross-spectral density for epochs 31..42\n"
     ]
    },
    {
     "name": "stderr",
     "output_type": "stream",
     "text": [
      "[Parallel(n_jobs=30)]: Done  22 out of  30 | elapsed:    0.5s remaining:    0.1s\n",
      "[Parallel(n_jobs=30)]: Done  30 out of  30 | elapsed:    0.6s finished\n",
      "[Parallel(n_jobs=30)]: Using backend LokyBackend with 30 concurrent workers.\n"
     ]
    },
    {
     "name": "stdout",
     "output_type": "stream",
     "text": [
      "[Connectivity computation done]\n",
      "Connectivity computation...\n",
      "    computing connectivity for 18 connections\n",
      "    using t=0.000s..1.100s for estimation (221 points)\n",
      "    computing connectivity for the bands:\n",
      "     band 1: 4.0Hz..7.0Hz (4 points)\n",
      "     band 2: 8.0Hz..12.0Hz (5 points)\n",
      "     band 3: 13.0Hz..20.0Hz (8 points)\n",
      "     band 4: 21.0Hz..30.0Hz (10 points)\n",
      "    connectivity scores will be averaged for each band\n",
      "    using CWT with Morlet wavelets to estimate spectra\n",
      "    the following metrics will be computed: Coherence\n",
      "    computing cross-spectral density for epochs 1..30\n"
     ]
    },
    {
     "name": "stderr",
     "output_type": "stream",
     "text": [
      "[Parallel(n_jobs=30)]: Done   4 out of  12 | elapsed:    0.1s remaining:    0.2s\n",
      "[Parallel(n_jobs=30)]: Done   7 out of  12 | elapsed:    0.1s remaining:    0.1s\n",
      "[Parallel(n_jobs=30)]: Done  10 out of  12 | elapsed:    0.2s remaining:    0.0s\n",
      "[Parallel(n_jobs=30)]: Done  12 out of  12 | elapsed:    0.2s finished\n",
      "C:\\Users\\malann\\AppData\\Roaming\\Python\\Python310\\site-packages\\mne_connectivity\\spectral\\epochs.py:177: RuntimeWarning: fmin=4.000 Hz corresponds to 4.420 < 5 cycles based on the epoch length 1.105 sec, need at least 1.250 sec epochs or fmin=4.525. Spectrum estimate will be unreliable.\n",
      "  warn(\n",
      "[Parallel(n_jobs=30)]: Using backend LokyBackend with 30 concurrent workers.\n",
      "[Parallel(n_jobs=30)]: Done   8 out of  30 | elapsed:    0.2s remaining:    0.8s\n",
      "[Parallel(n_jobs=30)]: Done  15 out of  30 | elapsed:    0.4s remaining:    0.4s\n"
     ]
    },
    {
     "name": "stdout",
     "output_type": "stream",
     "text": [
      "    computing cross-spectral density for epochs 31..42\n"
     ]
    },
    {
     "name": "stderr",
     "output_type": "stream",
     "text": [
      "[Parallel(n_jobs=30)]: Done  22 out of  30 | elapsed:    0.5s remaining:    0.1s\n",
      "[Parallel(n_jobs=30)]: Done  30 out of  30 | elapsed:    0.6s finished\n",
      "[Parallel(n_jobs=30)]: Using backend LokyBackend with 30 concurrent workers.\n"
     ]
    },
    {
     "name": "stdout",
     "output_type": "stream",
     "text": [
      "[Connectivity computation done]\n",
      "Connectivity computation...\n"
     ]
    },
    {
     "name": "stderr",
     "output_type": "stream",
     "text": [
      "[Parallel(n_jobs=30)]: Done   4 out of  12 | elapsed:    0.0s remaining:    0.2s\n",
      "[Parallel(n_jobs=30)]: Done   7 out of  12 | elapsed:    0.1s remaining:    0.0s\n",
      "[Parallel(n_jobs=30)]: Done  10 out of  12 | elapsed:    0.2s remaining:    0.0s\n",
      "[Parallel(n_jobs=30)]: Done  12 out of  12 | elapsed:    0.2s finished\n",
      "C:\\Users\\malann\\AppData\\Local\\Temp\\ipykernel_239232\\2349117804.py:69: FutureWarning: Parameters \"info\", \"data\", \"times\", \"nave\" are deprecated and will be removed in version 1.8. For a quick fix, use ``AverageTFRArray`` with the same parameters. For a long-term fix, see the docstring notes.\n",
      "  tfr_odd_E = mne.time_frequency.AverageTFR(epochs_aff_odd_E.info, con_odd_E.get_data(), times, freqs, len(epochs_aff_odd_E))\n",
      "C:\\Users\\malann\\AppData\\Local\\Temp\\ipykernel_239232\\2349117804.py:70: FutureWarning: Parameters \"info\", \"data\", \"times\", \"nave\" are deprecated and will be removed in version 1.8. For a quick fix, use ``AverageTFRArray`` with the same parameters. For a long-term fix, see the docstring notes.\n",
      "  tfr_odd_NE = mne.time_frequency.AverageTFR(epochs_aff_odd_NE.info, con_odd_NE.get_data(), times, freqs, len(epochs_aff_odd_NE))\n",
      "C:\\Users\\malann\\AppData\\Local\\Temp\\ipykernel_239232\\2349117804.py:74: FutureWarning: Parameters \"info\", \"data\", \"times\", \"nave\" are deprecated and will be removed in version 1.8. For a quick fix, use ``AverageTFRArray`` with the same parameters. For a long-term fix, see the docstring notes.\n",
      "  tfr_typ_E = mne.time_frequency.AverageTFR(epochs_aff_typ_E.info, con_typ_E.get_data(), times, freqs, len(epochs_aff_typ_E))\n",
      "C:\\Users\\malann\\AppData\\Local\\Temp\\ipykernel_239232\\2349117804.py:75: FutureWarning: Parameters \"info\", \"data\", \"times\", \"nave\" are deprecated and will be removed in version 1.8. For a quick fix, use ``AverageTFRArray`` with the same parameters. For a long-term fix, see the docstring notes.\n",
      "  tfr_typ_NE = mne.time_frequency.AverageTFR(epochs_aff_typ_NE.info, con_typ_NE.get_data(), times, freqs, len(epochs_aff_typ_NE))\n"
     ]
    },
    {
     "name": "stdout",
     "output_type": "stream",
     "text": [
      "    computing connectivity for 18 connections\n",
      "    using t=0.000s..1.100s for estimation (221 points)\n",
      "    computing connectivity for the bands:\n",
      "     band 1: 4.0Hz..7.0Hz (4 points)\n",
      "     band 2: 8.0Hz..12.0Hz (5 points)\n",
      "     band 3: 13.0Hz..20.0Hz (8 points)\n",
      "     band 4: 21.0Hz..30.0Hz (10 points)\n",
      "    connectivity scores will be averaged for each band\n",
      "    using CWT with Morlet wavelets to estimate spectra\n",
      "    the following metrics will be computed: Coherence\n",
      "    computing cross-spectral density for epochs 1..10\n"
     ]
    },
    {
     "name": "stderr",
     "output_type": "stream",
     "text": [
      "C:\\Users\\malann\\AppData\\Roaming\\Python\\Python310\\site-packages\\mne_connectivity\\spectral\\epochs.py:177: RuntimeWarning: fmin=4.000 Hz corresponds to 4.420 < 5 cycles based on the epoch length 1.105 sec, need at least 1.250 sec epochs or fmin=4.525. Spectrum estimate will be unreliable.\n",
      "  warn(\n",
      "[Parallel(n_jobs=30)]: Using backend LokyBackend with 30 concurrent workers.\n",
      "[Parallel(n_jobs=30)]: Done   2 out of  10 | elapsed:    0.1s remaining:    0.7s\n",
      "[Parallel(n_jobs=30)]: Done   5 out of  10 | elapsed:    0.6s remaining:    0.6s\n",
      "[Parallel(n_jobs=30)]: Done   8 out of  10 | elapsed:    0.8s remaining:    0.1s\n"
     ]
    },
    {
     "name": "stdout",
     "output_type": "stream",
     "text": [
      "[Connectivity computation done]\n",
      "Connectivity computation...\n",
      "    computing connectivity for 18 connections\n",
      "    using t=0.000s..1.100s for estimation (221 points)\n",
      "    computing connectivity for the bands:\n",
      "     band 1: 4.0Hz..7.0Hz (4 points)\n",
      "     band 2: 8.0Hz..12.0Hz (5 points)\n",
      "     band 3: 13.0Hz..20.0Hz (8 points)\n",
      "     band 4: 21.0Hz..30.0Hz (10 points)\n",
      "    connectivity scores will be averaged for each band\n",
      "    using CWT with Morlet wavelets to estimate spectra\n",
      "    the following metrics will be computed: Coherence\n",
      "    computing cross-spectral density for epochs 1..10\n"
     ]
    },
    {
     "name": "stderr",
     "output_type": "stream",
     "text": [
      "[Parallel(n_jobs=30)]: Done  10 out of  10 | elapsed:    1.2s finished\n",
      "C:\\Users\\malann\\AppData\\Roaming\\Python\\Python310\\site-packages\\mne_connectivity\\spectral\\epochs.py:177: RuntimeWarning: fmin=4.000 Hz corresponds to 4.420 < 5 cycles based on the epoch length 1.105 sec, need at least 1.250 sec epochs or fmin=4.525. Spectrum estimate will be unreliable.\n",
      "  warn(\n",
      "[Parallel(n_jobs=30)]: Using backend LokyBackend with 30 concurrent workers.\n",
      "[Parallel(n_jobs=30)]: Done   2 out of  10 | elapsed:    0.6s remaining:    2.5s\n",
      "[Parallel(n_jobs=30)]: Done   5 out of  10 | elapsed:    0.9s remaining:    0.9s\n"
     ]
    },
    {
     "name": "stdout",
     "output_type": "stream",
     "text": [
      "[Connectivity computation done]\n",
      "Connectivity computation...\n",
      "    computing connectivity for 18 connections\n",
      "    using t=0.000s..1.100s for estimation (221 points)\n",
      "    computing connectivity for the bands:\n",
      "     band 1: 4.0Hz..7.0Hz (4 points)\n",
      "     band 2: 8.0Hz..12.0Hz (5 points)\n",
      "     band 3: 13.0Hz..20.0Hz (8 points)\n",
      "     band 4: 21.0Hz..30.0Hz (10 points)\n",
      "    connectivity scores will be averaged for each band\n",
      "    using CWT with Morlet wavelets to estimate spectra\n",
      "    the following metrics will be computed: Coherence\n"
     ]
    },
    {
     "name": "stderr",
     "output_type": "stream",
     "text": [
      "[Parallel(n_jobs=30)]: Done   8 out of  10 | elapsed:    1.2s remaining:    0.2s\n",
      "[Parallel(n_jobs=30)]: Done  10 out of  10 | elapsed:    1.2s finished\n",
      "C:\\Users\\malann\\AppData\\Roaming\\Python\\Python310\\site-packages\\mne_connectivity\\spectral\\epochs.py:177: RuntimeWarning: fmin=4.000 Hz corresponds to 4.420 < 5 cycles based on the epoch length 1.105 sec, need at least 1.250 sec epochs or fmin=4.525. Spectrum estimate will be unreliable.\n",
      "  warn(\n"
     ]
    },
    {
     "name": "stdout",
     "output_type": "stream",
     "text": [
      "    computing cross-spectral density for epochs 1..30\n"
     ]
    },
    {
     "name": "stderr",
     "output_type": "stream",
     "text": [
      "[Parallel(n_jobs=30)]: Using backend LokyBackend with 30 concurrent workers.\n",
      "[Parallel(n_jobs=30)]: Done   8 out of  30 | elapsed:    0.7s remaining:    2.2s\n",
      "[Parallel(n_jobs=30)]: Done  15 out of  30 | elapsed:    1.0s remaining:    1.0s\n",
      "[Parallel(n_jobs=30)]: Done  22 out of  30 | elapsed:    2.1s remaining:    0.7s\n"
     ]
    },
    {
     "name": "stdout",
     "output_type": "stream",
     "text": [
      "    computing cross-spectral density for epochs 31..42\n"
     ]
    },
    {
     "name": "stderr",
     "output_type": "stream",
     "text": [
      "[Parallel(n_jobs=30)]: Done  30 out of  30 | elapsed:    2.9s finished\n",
      "[Parallel(n_jobs=30)]: Using backend LokyBackend with 30 concurrent workers.\n",
      "[Parallel(n_jobs=30)]: Done   4 out of  12 | elapsed:    0.2s remaining:    0.6s\n",
      "[Parallel(n_jobs=30)]: Done   7 out of  12 | elapsed:    0.4s remaining:    0.3s\n",
      "[Parallel(n_jobs=30)]: Done  10 out of  12 | elapsed:    0.5s remaining:    0.0s\n"
     ]
    },
    {
     "name": "stdout",
     "output_type": "stream",
     "text": [
      "[Connectivity computation done]\n",
      "Connectivity computation...\n",
      "    computing connectivity for 18 connections\n",
      "    using t=0.000s..1.100s for estimation (221 points)\n",
      "    computing connectivity for the bands:\n",
      "     band 1: 4.0Hz..7.0Hz (4 points)\n",
      "     band 2: 8.0Hz..12.0Hz (5 points)\n",
      "     band 3: 13.0Hz..20.0Hz (8 points)\n",
      "     band 4: 21.0Hz..30.0Hz (10 points)\n",
      "    connectivity scores will be averaged for each band\n",
      "    using CWT with Morlet wavelets to estimate spectra\n",
      "    the following metrics will be computed: Coherence\n",
      "    computing cross-spectral density for epochs 1..30\n"
     ]
    },
    {
     "name": "stderr",
     "output_type": "stream",
     "text": [
      "[Parallel(n_jobs=30)]: Done  12 out of  12 | elapsed:    0.5s finished\n",
      "C:\\Users\\malann\\AppData\\Roaming\\Python\\Python310\\site-packages\\mne_connectivity\\spectral\\epochs.py:177: RuntimeWarning: fmin=4.000 Hz corresponds to 4.420 < 5 cycles based on the epoch length 1.105 sec, need at least 1.250 sec epochs or fmin=4.525. Spectrum estimate will be unreliable.\n",
      "  warn(\n",
      "[Parallel(n_jobs=30)]: Using backend LokyBackend with 30 concurrent workers.\n"
     ]
    },
    {
     "name": "stdout",
     "output_type": "stream",
     "text": [
      "    computing cross-spectral density for epochs 31..42\n"
     ]
    },
    {
     "name": "stderr",
     "output_type": "stream",
     "text": [
      "[Parallel(n_jobs=30)]: Done   8 out of  30 | elapsed:    0.5s remaining:    1.6s\n",
      "[Parallel(n_jobs=30)]: Done  15 out of  30 | elapsed:    0.6s remaining:    0.6s\n",
      "[Parallel(n_jobs=30)]: Done  22 out of  30 | elapsed:    0.6s remaining:    0.2s\n",
      "[Parallel(n_jobs=30)]: Done  30 out of  30 | elapsed:    0.7s finished\n",
      "[Parallel(n_jobs=30)]: Using backend LokyBackend with 30 concurrent workers.\n",
      "[Parallel(n_jobs=30)]: Done   4 out of  12 | elapsed:    0.0s remaining:    0.2s\n",
      "[Parallel(n_jobs=30)]: Done   7 out of  12 | elapsed:    0.1s remaining:    0.0s\n",
      "[Parallel(n_jobs=30)]: Done  10 out of  12 | elapsed:    0.1s remaining:    0.0s\n"
     ]
    },
    {
     "name": "stdout",
     "output_type": "stream",
     "text": [
      "[Connectivity computation done]\n",
      "Connectivity computation...\n",
      "    computing connectivity for 18 connections\n",
      "    using t=0.000s..1.100s for estimation (221 points)\n",
      "    computing connectivity for the bands:\n",
      "     band 1: 4.0Hz..7.0Hz (4 points)\n",
      "     band 2: 8.0Hz..12.0Hz (5 points)\n",
      "     band 3: 13.0Hz..20.0Hz (8 points)\n",
      "     band 4: 21.0Hz..30.0Hz (10 points)\n",
      "    connectivity scores will be averaged for each band\n",
      "    using CWT with Morlet wavelets to estimate spectra\n",
      "    the following metrics will be computed: Coherence\n",
      "    computing cross-spectral density for epochs 1..10\n"
     ]
    },
    {
     "name": "stderr",
     "output_type": "stream",
     "text": [
      "[Parallel(n_jobs=30)]: Done  12 out of  12 | elapsed:    0.1s finished\n",
      "C:\\Users\\malann\\AppData\\Local\\Temp\\ipykernel_239232\\2349117804.py:69: FutureWarning: Parameters \"info\", \"data\", \"times\", \"nave\" are deprecated and will be removed in version 1.8. For a quick fix, use ``AverageTFRArray`` with the same parameters. For a long-term fix, see the docstring notes.\n",
      "  tfr_odd_E = mne.time_frequency.AverageTFR(epochs_aff_odd_E.info, con_odd_E.get_data(), times, freqs, len(epochs_aff_odd_E))\n",
      "C:\\Users\\malann\\AppData\\Local\\Temp\\ipykernel_239232\\2349117804.py:70: FutureWarning: Parameters \"info\", \"data\", \"times\", \"nave\" are deprecated and will be removed in version 1.8. For a quick fix, use ``AverageTFRArray`` with the same parameters. For a long-term fix, see the docstring notes.\n",
      "  tfr_odd_NE = mne.time_frequency.AverageTFR(epochs_aff_odd_NE.info, con_odd_NE.get_data(), times, freqs, len(epochs_aff_odd_NE))\n",
      "C:\\Users\\malann\\AppData\\Local\\Temp\\ipykernel_239232\\2349117804.py:74: FutureWarning: Parameters \"info\", \"data\", \"times\", \"nave\" are deprecated and will be removed in version 1.8. For a quick fix, use ``AverageTFRArray`` with the same parameters. For a long-term fix, see the docstring notes.\n",
      "  tfr_typ_E = mne.time_frequency.AverageTFR(epochs_aff_typ_E.info, con_typ_E.get_data(), times, freqs, len(epochs_aff_typ_E))\n",
      "C:\\Users\\malann\\AppData\\Local\\Temp\\ipykernel_239232\\2349117804.py:75: FutureWarning: Parameters \"info\", \"data\", \"times\", \"nave\" are deprecated and will be removed in version 1.8. For a quick fix, use ``AverageTFRArray`` with the same parameters. For a long-term fix, see the docstring notes.\n",
      "  tfr_typ_NE = mne.time_frequency.AverageTFR(epochs_aff_typ_NE.info, con_typ_NE.get_data(), times, freqs, len(epochs_aff_typ_NE))\n",
      "C:\\Users\\malann\\AppData\\Roaming\\Python\\Python310\\site-packages\\mne_connectivity\\spectral\\epochs.py:177: RuntimeWarning: fmin=4.000 Hz corresponds to 4.420 < 5 cycles based on the epoch length 1.105 sec, need at least 1.250 sec epochs or fmin=4.525. Spectrum estimate will be unreliable.\n",
      "  warn(\n",
      "[Parallel(n_jobs=30)]: Using backend LokyBackend with 30 concurrent workers.\n",
      "[Parallel(n_jobs=30)]: Done   2 out of  10 | elapsed:    0.0s remaining:    0.3s\n",
      "[Parallel(n_jobs=30)]: Done   5 out of  10 | elapsed:    0.0s remaining:    0.0s\n"
     ]
    },
    {
     "name": "stdout",
     "output_type": "stream",
     "text": [
      "[Connectivity computation done]\n",
      "Connectivity computation...\n",
      "    computing connectivity for 18 connections\n",
      "    using t=0.000s..1.100s for estimation (221 points)\n",
      "    computing connectivity for the bands:\n",
      "     band 1: 4.0Hz..7.0Hz (4 points)\n",
      "     band 2: 8.0Hz..12.0Hz (5 points)\n",
      "     band 3: 13.0Hz..20.0Hz (8 points)\n",
      "     band 4: 21.0Hz..30.0Hz (10 points)\n",
      "    connectivity scores will be averaged for each band\n",
      "    using CWT with Morlet wavelets to estimate spectra\n",
      "    the following metrics will be computed: Coherence\n",
      "    computing cross-spectral density for epochs 1..10\n"
     ]
    },
    {
     "name": "stderr",
     "output_type": "stream",
     "text": [
      "[Parallel(n_jobs=30)]: Done   8 out of  10 | elapsed:    0.1s remaining:    0.0s\n",
      "[Parallel(n_jobs=30)]: Done  10 out of  10 | elapsed:    0.1s finished\n",
      "C:\\Users\\malann\\AppData\\Roaming\\Python\\Python310\\site-packages\\mne_connectivity\\spectral\\epochs.py:177: RuntimeWarning: fmin=4.000 Hz corresponds to 4.420 < 5 cycles based on the epoch length 1.105 sec, need at least 1.250 sec epochs or fmin=4.525. Spectrum estimate will be unreliable.\n",
      "  warn(\n",
      "[Parallel(n_jobs=30)]: Using backend LokyBackend with 30 concurrent workers.\n",
      "[Parallel(n_jobs=30)]: Done   2 out of  10 | elapsed:    0.0s remaining:    0.2s\n",
      "[Parallel(n_jobs=30)]: Done   5 out of  10 | elapsed:    0.0s remaining:    0.0s\n"
     ]
    },
    {
     "name": "stdout",
     "output_type": "stream",
     "text": [
      "[Connectivity computation done]\n",
      "Connectivity computation...\n",
      "    computing connectivity for 18 connections\n",
      "    using t=0.000s..1.100s for estimation (221 points)\n",
      "    computing connectivity for the bands:\n",
      "     band 1: 4.0Hz..7.0Hz (4 points)\n",
      "     band 2: 8.0Hz..12.0Hz (5 points)\n",
      "     band 3: 13.0Hz..20.0Hz (8 points)\n",
      "     band 4: 21.0Hz..30.0Hz (10 points)\n",
      "    connectivity scores will be averaged for each band\n",
      "    using CWT with Morlet wavelets to estimate spectra\n",
      "    the following metrics will be computed: Coherence\n",
      "    computing cross-spectral density for epochs 1..30\n"
     ]
    },
    {
     "name": "stderr",
     "output_type": "stream",
     "text": [
      "[Parallel(n_jobs=30)]: Done   8 out of  10 | elapsed:    0.1s remaining:    0.0s\n",
      "[Parallel(n_jobs=30)]: Done  10 out of  10 | elapsed:    0.1s finished\n",
      "C:\\Users\\malann\\AppData\\Roaming\\Python\\Python310\\site-packages\\mne_connectivity\\spectral\\epochs.py:177: RuntimeWarning: fmin=4.000 Hz corresponds to 4.420 < 5 cycles based on the epoch length 1.105 sec, need at least 1.250 sec epochs or fmin=4.525. Spectrum estimate will be unreliable.\n",
      "  warn(\n",
      "[Parallel(n_jobs=30)]: Using backend LokyBackend with 30 concurrent workers.\n",
      "[Parallel(n_jobs=30)]: Done   8 out of  30 | elapsed:    0.1s remaining:    0.5s\n",
      "[Parallel(n_jobs=30)]: Done  15 out of  30 | elapsed:    0.2s remaining:    0.2s\n",
      "[Parallel(n_jobs=30)]: Done  22 out of  30 | elapsed:    0.3s remaining:    0.0s\n"
     ]
    },
    {
     "name": "stdout",
     "output_type": "stream",
     "text": [
      "    computing cross-spectral density for epochs 31..42\n"
     ]
    },
    {
     "name": "stderr",
     "output_type": "stream",
     "text": [
      "[Parallel(n_jobs=30)]: Done  30 out of  30 | elapsed:    0.3s finished\n",
      "[Parallel(n_jobs=30)]: Using backend LokyBackend with 30 concurrent workers.\n",
      "[Parallel(n_jobs=30)]: Done   4 out of  12 | elapsed:    0.0s remaining:    0.2s\n"
     ]
    },
    {
     "name": "stdout",
     "output_type": "stream",
     "text": [
      "[Connectivity computation done]\n",
      "Connectivity computation...\n",
      "    computing connectivity for 18 connections\n",
      "    using t=0.000s..1.100s for estimation (221 points)\n",
      "    computing connectivity for the bands:\n",
      "     band 1: 4.0Hz..7.0Hz (4 points)\n",
      "     band 2: 8.0Hz..12.0Hz (5 points)\n",
      "     band 3: 13.0Hz..20.0Hz (8 points)\n",
      "     band 4: 21.0Hz..30.0Hz (10 points)\n",
      "    connectivity scores will be averaged for each band\n",
      "    using CWT with Morlet wavelets to estimate spectra\n",
      "    the following metrics will be computed: Coherence\n",
      "    computing cross-spectral density for epochs 1..30\n"
     ]
    },
    {
     "name": "stderr",
     "output_type": "stream",
     "text": [
      "[Parallel(n_jobs=30)]: Done   7 out of  12 | elapsed:    0.1s remaining:    0.0s\n",
      "[Parallel(n_jobs=30)]: Done  10 out of  12 | elapsed:    0.1s remaining:    0.0s\n",
      "[Parallel(n_jobs=30)]: Done  12 out of  12 | elapsed:    0.1s finished\n",
      "C:\\Users\\malann\\AppData\\Roaming\\Python\\Python310\\site-packages\\mne_connectivity\\spectral\\epochs.py:177: RuntimeWarning: fmin=4.000 Hz corresponds to 4.420 < 5 cycles based on the epoch length 1.105 sec, need at least 1.250 sec epochs or fmin=4.525. Spectrum estimate will be unreliable.\n",
      "  warn(\n",
      "[Parallel(n_jobs=30)]: Using backend LokyBackend with 30 concurrent workers.\n",
      "[Parallel(n_jobs=30)]: Done   8 out of  30 | elapsed:    0.1s remaining:    0.5s\n",
      "[Parallel(n_jobs=30)]: Done  15 out of  30 | elapsed:    0.2s remaining:    0.2s\n",
      "[Parallel(n_jobs=30)]: Done  22 out of  30 | elapsed:    0.3s remaining:    0.0s\n",
      "[Parallel(n_jobs=30)]: Done  30 out of  30 | elapsed:    0.3s finished\n"
     ]
    },
    {
     "name": "stdout",
     "output_type": "stream",
     "text": [
      "    computing cross-spectral density for epochs 31..42\n"
     ]
    },
    {
     "name": "stderr",
     "output_type": "stream",
     "text": [
      "[Parallel(n_jobs=30)]: Using backend LokyBackend with 30 concurrent workers.\n",
      "[Parallel(n_jobs=30)]: Done   4 out of  12 | elapsed:    0.0s remaining:    0.1s\n",
      "[Parallel(n_jobs=30)]: Done   7 out of  12 | elapsed:    0.0s remaining:    0.0s\n",
      "[Parallel(n_jobs=30)]: Done  10 out of  12 | elapsed:    0.1s remaining:    0.0s\n",
      "[Parallel(n_jobs=30)]: Done  12 out of  12 | elapsed:    0.1s finished\n"
     ]
    },
    {
     "name": "stdout",
     "output_type": "stream",
     "text": [
      "[Connectivity computation done]\n",
      "Connectivity computation...\n",
      "    computing connectivity for 18 connections\n",
      "    using t=0.000s..1.100s for estimation (221 points)\n",
      "    computing connectivity for the bands:\n",
      "     band 1: 4.0Hz..7.0Hz (4 points)\n",
      "     band 2: 8.0Hz..12.0Hz (5 points)\n",
      "     band 3: 13.0Hz..20.0Hz (8 points)\n",
      "     band 4: 21.0Hz..30.0Hz (10 points)\n",
      "    connectivity scores will be averaged for each band\n",
      "    using CWT with Morlet wavelets to estimate spectra\n",
      "    the following metrics will be computed: Coherence\n",
      "    computing cross-spectral density for epochs 1..10\n"
     ]
    },
    {
     "name": "stderr",
     "output_type": "stream",
     "text": [
      "C:\\Users\\malann\\AppData\\Local\\Temp\\ipykernel_239232\\2349117804.py:69: FutureWarning: Parameters \"info\", \"data\", \"times\", \"nave\" are deprecated and will be removed in version 1.8. For a quick fix, use ``AverageTFRArray`` with the same parameters. For a long-term fix, see the docstring notes.\n",
      "  tfr_odd_E = mne.time_frequency.AverageTFR(epochs_aff_odd_E.info, con_odd_E.get_data(), times, freqs, len(epochs_aff_odd_E))\n",
      "C:\\Users\\malann\\AppData\\Local\\Temp\\ipykernel_239232\\2349117804.py:70: FutureWarning: Parameters \"info\", \"data\", \"times\", \"nave\" are deprecated and will be removed in version 1.8. For a quick fix, use ``AverageTFRArray`` with the same parameters. For a long-term fix, see the docstring notes.\n",
      "  tfr_odd_NE = mne.time_frequency.AverageTFR(epochs_aff_odd_NE.info, con_odd_NE.get_data(), times, freqs, len(epochs_aff_odd_NE))\n",
      "C:\\Users\\malann\\AppData\\Local\\Temp\\ipykernel_239232\\2349117804.py:74: FutureWarning: Parameters \"info\", \"data\", \"times\", \"nave\" are deprecated and will be removed in version 1.8. For a quick fix, use ``AverageTFRArray`` with the same parameters. For a long-term fix, see the docstring notes.\n",
      "  tfr_typ_E = mne.time_frequency.AverageTFR(epochs_aff_typ_E.info, con_typ_E.get_data(), times, freqs, len(epochs_aff_typ_E))\n",
      "C:\\Users\\malann\\AppData\\Local\\Temp\\ipykernel_239232\\2349117804.py:75: FutureWarning: Parameters \"info\", \"data\", \"times\", \"nave\" are deprecated and will be removed in version 1.8. For a quick fix, use ``AverageTFRArray`` with the same parameters. For a long-term fix, see the docstring notes.\n",
      "  tfr_typ_NE = mne.time_frequency.AverageTFR(epochs_aff_typ_NE.info, con_typ_NE.get_data(), times, freqs, len(epochs_aff_typ_NE))\n",
      "C:\\Users\\malann\\AppData\\Roaming\\Python\\Python310\\site-packages\\mne_connectivity\\spectral\\epochs.py:177: RuntimeWarning: fmin=4.000 Hz corresponds to 4.420 < 5 cycles based on the epoch length 1.105 sec, need at least 1.250 sec epochs or fmin=4.525. Spectrum estimate will be unreliable.\n",
      "  warn(\n",
      "[Parallel(n_jobs=30)]: Using backend LokyBackend with 30 concurrent workers.\n",
      "[Parallel(n_jobs=30)]: Done   2 out of  10 | elapsed:    0.0s remaining:    0.3s\n",
      "[Parallel(n_jobs=30)]: Done   5 out of  10 | elapsed:    0.0s remaining:    0.0s\n"
     ]
    },
    {
     "name": "stdout",
     "output_type": "stream",
     "text": [
      "[Connectivity computation done]\n",
      "Connectivity computation...\n",
      "    computing connectivity for 18 connections\n",
      "    using t=0.000s..1.100s for estimation (221 points)\n",
      "    computing connectivity for the bands:\n",
      "     band 1: 4.0Hz..7.0Hz (4 points)\n",
      "     band 2: 8.0Hz..12.0Hz (5 points)\n",
      "     band 3: 13.0Hz..20.0Hz (8 points)\n",
      "     band 4: 21.0Hz..30.0Hz (10 points)\n",
      "    connectivity scores will be averaged for each band\n",
      "    using CWT with Morlet wavelets to estimate spectra\n",
      "    the following metrics will be computed: Coherence\n",
      "    computing cross-spectral density for epochs 1..10\n"
     ]
    },
    {
     "name": "stderr",
     "output_type": "stream",
     "text": [
      "[Parallel(n_jobs=30)]: Done   8 out of  10 | elapsed:    0.1s remaining:    0.0s\n",
      "[Parallel(n_jobs=30)]: Done  10 out of  10 | elapsed:    0.1s finished\n",
      "C:\\Users\\malann\\AppData\\Roaming\\Python\\Python310\\site-packages\\mne_connectivity\\spectral\\epochs.py:177: RuntimeWarning: fmin=4.000 Hz corresponds to 4.420 < 5 cycles based on the epoch length 1.105 sec, need at least 1.250 sec epochs or fmin=4.525. Spectrum estimate will be unreliable.\n",
      "  warn(\n",
      "[Parallel(n_jobs=30)]: Using backend LokyBackend with 30 concurrent workers.\n",
      "[Parallel(n_jobs=30)]: Done   2 out of  10 | elapsed:    0.0s remaining:    0.3s\n"
     ]
    },
    {
     "name": "stdout",
     "output_type": "stream",
     "text": [
      "[Connectivity computation done]\n",
      "Connectivity computation...\n",
      "    computing connectivity for 18 connections\n",
      "    using t=0.000s..1.100s for estimation (221 points)\n",
      "    computing connectivity for the bands:\n",
      "     band 1: 4.0Hz..7.0Hz (4 points)\n",
      "     band 2: 8.0Hz..12.0Hz (5 points)\n",
      "     band 3: 13.0Hz..20.0Hz (8 points)\n",
      "     band 4: 21.0Hz..30.0Hz (10 points)\n",
      "    connectivity scores will be averaged for each band\n",
      "    using CWT with Morlet wavelets to estimate spectra\n",
      "    the following metrics will be computed: Coherence\n",
      "    computing cross-spectral density for epochs 1..30\n"
     ]
    },
    {
     "name": "stderr",
     "output_type": "stream",
     "text": [
      "[Parallel(n_jobs=30)]: Done   5 out of  10 | elapsed:    0.1s remaining:    0.1s\n",
      "[Parallel(n_jobs=30)]: Done   8 out of  10 | elapsed:    0.1s remaining:    0.0s\n",
      "[Parallel(n_jobs=30)]: Done  10 out of  10 | elapsed:    0.1s finished\n",
      "C:\\Users\\malann\\AppData\\Roaming\\Python\\Python310\\site-packages\\mne_connectivity\\spectral\\epochs.py:177: RuntimeWarning: fmin=4.000 Hz corresponds to 4.420 < 5 cycles based on the epoch length 1.105 sec, need at least 1.250 sec epochs or fmin=4.525. Spectrum estimate will be unreliable.\n",
      "  warn(\n",
      "[Parallel(n_jobs=30)]: Using backend LokyBackend with 30 concurrent workers.\n",
      "[Parallel(n_jobs=30)]: Done   8 out of  30 | elapsed:    0.2s remaining:    0.7s\n",
      "[Parallel(n_jobs=30)]: Done  15 out of  30 | elapsed:    0.3s remaining:    0.3s\n"
     ]
    },
    {
     "name": "stdout",
     "output_type": "stream",
     "text": [
      "    computing cross-spectral density for epochs 31..42\n"
     ]
    },
    {
     "name": "stderr",
     "output_type": "stream",
     "text": [
      "[Parallel(n_jobs=30)]: Done  22 out of  30 | elapsed:    0.4s remaining:    0.1s\n",
      "[Parallel(n_jobs=30)]: Done  30 out of  30 | elapsed:    0.5s finished\n",
      "[Parallel(n_jobs=30)]: Using backend LokyBackend with 30 concurrent workers.\n"
     ]
    },
    {
     "name": "stdout",
     "output_type": "stream",
     "text": [
      "[Connectivity computation done]\n",
      "Connectivity computation...\n",
      "    computing connectivity for 18 connections\n",
      "    using t=0.000s..1.100s for estimation (221 points)\n",
      "    computing connectivity for the bands:\n",
      "     band 1: 4.0Hz..7.0Hz (4 points)\n",
      "     band 2: 8.0Hz..12.0Hz (5 points)\n",
      "     band 3: 13.0Hz..20.0Hz (8 points)\n",
      "     band 4: 21.0Hz..30.0Hz (10 points)\n",
      "    connectivity scores will be averaged for each band\n",
      "    using CWT with Morlet wavelets to estimate spectra\n",
      "    the following metrics will be computed: Coherence\n"
     ]
    },
    {
     "name": "stderr",
     "output_type": "stream",
     "text": [
      "[Parallel(n_jobs=30)]: Done   4 out of  12 | elapsed:    0.1s remaining:    0.3s\n",
      "[Parallel(n_jobs=30)]: Done   7 out of  12 | elapsed:    0.1s remaining:    0.1s\n",
      "[Parallel(n_jobs=30)]: Done  10 out of  12 | elapsed:    0.2s remaining:    0.0s\n",
      "[Parallel(n_jobs=30)]: Done  12 out of  12 | elapsed:    0.2s finished\n",
      "C:\\Users\\malann\\AppData\\Roaming\\Python\\Python310\\site-packages\\mne_connectivity\\spectral\\epochs.py:177: RuntimeWarning: fmin=4.000 Hz corresponds to 4.420 < 5 cycles based on the epoch length 1.105 sec, need at least 1.250 sec epochs or fmin=4.525. Spectrum estimate will be unreliable.\n",
      "  warn(\n"
     ]
    },
    {
     "name": "stdout",
     "output_type": "stream",
     "text": [
      "    computing cross-spectral density for epochs 1..30\n"
     ]
    },
    {
     "name": "stderr",
     "output_type": "stream",
     "text": [
      "[Parallel(n_jobs=30)]: Using backend LokyBackend with 30 concurrent workers.\n",
      "[Parallel(n_jobs=30)]: Done   8 out of  30 | elapsed:    0.3s remaining:    0.9s\n",
      "[Parallel(n_jobs=30)]: Done  15 out of  30 | elapsed:    0.4s remaining:    0.4s\n",
      "[Parallel(n_jobs=30)]: Done  22 out of  30 | elapsed:    0.5s remaining:    0.1s\n"
     ]
    },
    {
     "name": "stdout",
     "output_type": "stream",
     "text": [
      "    computing cross-spectral density for epochs 31..42\n"
     ]
    },
    {
     "name": "stderr",
     "output_type": "stream",
     "text": [
      "[Parallel(n_jobs=30)]: Done  30 out of  30 | elapsed:    0.5s finished\n",
      "[Parallel(n_jobs=30)]: Using backend LokyBackend with 30 concurrent workers.\n",
      "[Parallel(n_jobs=30)]: Done   4 out of  12 | elapsed:    0.0s remaining:    0.2s\n"
     ]
    },
    {
     "name": "stdout",
     "output_type": "stream",
     "text": [
      "[Connectivity computation done]\n",
      "Connectivity computation...\n",
      "    computing connectivity for 18 connections\n",
      "    using t=0.000s..1.100s for estimation (221 points)\n"
     ]
    },
    {
     "name": "stderr",
     "output_type": "stream",
     "text": [
      "[Parallel(n_jobs=30)]: Done   7 out of  12 | elapsed:    0.1s remaining:    0.1s\n",
      "[Parallel(n_jobs=30)]: Done  10 out of  12 | elapsed:    0.2s remaining:    0.0s\n",
      "[Parallel(n_jobs=30)]: Done  12 out of  12 | elapsed:    0.2s finished\n",
      "C:\\Users\\malann\\AppData\\Local\\Temp\\ipykernel_239232\\2349117804.py:69: FutureWarning: Parameters \"info\", \"data\", \"times\", \"nave\" are deprecated and will be removed in version 1.8. For a quick fix, use ``AverageTFRArray`` with the same parameters. For a long-term fix, see the docstring notes.\n",
      "  tfr_odd_E = mne.time_frequency.AverageTFR(epochs_aff_odd_E.info, con_odd_E.get_data(), times, freqs, len(epochs_aff_odd_E))\n",
      "C:\\Users\\malann\\AppData\\Local\\Temp\\ipykernel_239232\\2349117804.py:70: FutureWarning: Parameters \"info\", \"data\", \"times\", \"nave\" are deprecated and will be removed in version 1.8. For a quick fix, use ``AverageTFRArray`` with the same parameters. For a long-term fix, see the docstring notes.\n",
      "  tfr_odd_NE = mne.time_frequency.AverageTFR(epochs_aff_odd_NE.info, con_odd_NE.get_data(), times, freqs, len(epochs_aff_odd_NE))\n",
      "C:\\Users\\malann\\AppData\\Local\\Temp\\ipykernel_239232\\2349117804.py:74: FutureWarning: Parameters \"info\", \"data\", \"times\", \"nave\" are deprecated and will be removed in version 1.8. For a quick fix, use ``AverageTFRArray`` with the same parameters. For a long-term fix, see the docstring notes.\n",
      "  tfr_typ_E = mne.time_frequency.AverageTFR(epochs_aff_typ_E.info, con_typ_E.get_data(), times, freqs, len(epochs_aff_typ_E))\n",
      "C:\\Users\\malann\\AppData\\Local\\Temp\\ipykernel_239232\\2349117804.py:75: FutureWarning: Parameters \"info\", \"data\", \"times\", \"nave\" are deprecated and will be removed in version 1.8. For a quick fix, use ``AverageTFRArray`` with the same parameters. For a long-term fix, see the docstring notes.\n",
      "  tfr_typ_NE = mne.time_frequency.AverageTFR(epochs_aff_typ_NE.info, con_typ_NE.get_data(), times, freqs, len(epochs_aff_typ_NE))\n"
     ]
    },
    {
     "name": "stdout",
     "output_type": "stream",
     "text": [
      "    computing connectivity for the bands:\n",
      "     band 1: 4.0Hz..7.0Hz (4 points)\n",
      "     band 2: 8.0Hz..12.0Hz (5 points)\n",
      "     band 3: 13.0Hz..20.0Hz (8 points)\n",
      "     band 4: 21.0Hz..30.0Hz (10 points)\n",
      "    connectivity scores will be averaged for each band\n",
      "    using CWT with Morlet wavelets to estimate spectra\n",
      "    the following metrics will be computed: Coherence\n",
      "    computing cross-spectral density for epochs 1..10\n"
     ]
    },
    {
     "name": "stderr",
     "output_type": "stream",
     "text": [
      "C:\\Users\\malann\\AppData\\Roaming\\Python\\Python310\\site-packages\\mne_connectivity\\spectral\\epochs.py:177: RuntimeWarning: fmin=4.000 Hz corresponds to 4.420 < 5 cycles based on the epoch length 1.105 sec, need at least 1.250 sec epochs or fmin=4.525. Spectrum estimate will be unreliable.\n",
      "  warn(\n",
      "[Parallel(n_jobs=30)]: Using backend LokyBackend with 30 concurrent workers.\n",
      "[Parallel(n_jobs=30)]: Done   2 out of  10 | elapsed:    0.1s remaining:    0.5s\n"
     ]
    },
    {
     "name": "stdout",
     "output_type": "stream",
     "text": [
      "[Connectivity computation done]\n",
      "Connectivity computation...\n",
      "    computing connectivity for 18 connections\n",
      "    using t=0.000s..1.100s for estimation (221 points)\n",
      "    computing connectivity for the bands:\n",
      "     band 1: 4.0Hz..7.0Hz (4 points)\n",
      "     band 2: 8.0Hz..12.0Hz (5 points)\n",
      "     band 3: 13.0Hz..20.0Hz (8 points)\n",
      "     band 4: 21.0Hz..30.0Hz (10 points)\n",
      "    connectivity scores will be averaged for each band\n",
      "    using CWT with Morlet wavelets to estimate spectra\n",
      "    the following metrics will be computed: Coherence\n",
      "    computing cross-spectral density for epochs 1..10\n"
     ]
    },
    {
     "name": "stderr",
     "output_type": "stream",
     "text": [
      "[Parallel(n_jobs=30)]: Done   5 out of  10 | elapsed:    0.1s remaining:    0.1s\n",
      "[Parallel(n_jobs=30)]: Done   8 out of  10 | elapsed:    0.1s remaining:    0.0s\n",
      "[Parallel(n_jobs=30)]: Done  10 out of  10 | elapsed:    0.2s finished\n",
      "C:\\Users\\malann\\AppData\\Roaming\\Python\\Python310\\site-packages\\mne_connectivity\\spectral\\epochs.py:177: RuntimeWarning: fmin=4.000 Hz corresponds to 4.420 < 5 cycles based on the epoch length 1.105 sec, need at least 1.250 sec epochs or fmin=4.525. Spectrum estimate will be unreliable.\n",
      "  warn(\n",
      "[Parallel(n_jobs=30)]: Using backend LokyBackend with 30 concurrent workers.\n",
      "[Parallel(n_jobs=30)]: Done   2 out of  10 | elapsed:    0.1s remaining:    0.5s\n",
      "[Parallel(n_jobs=30)]: Done   5 out of  10 | elapsed:    0.1s remaining:    0.1s\n",
      "[Parallel(n_jobs=30)]: Done   8 out of  10 | elapsed:    0.2s remaining:    0.0s\n",
      "[Parallel(n_jobs=30)]: Done  10 out of  10 | elapsed:    0.2s finished\n"
     ]
    },
    {
     "name": "stdout",
     "output_type": "stream",
     "text": [
      "[Connectivity computation done]\n",
      "Connectivity computation...\n",
      "    computing connectivity for 18 connections\n",
      "    using t=0.000s..1.100s for estimation (221 points)\n",
      "    computing connectivity for the bands:\n",
      "     band 1: 4.0Hz..7.0Hz (4 points)\n",
      "     band 2: 8.0Hz..12.0Hz (5 points)\n",
      "     band 3: 13.0Hz..20.0Hz (8 points)\n",
      "     band 4: 21.0Hz..30.0Hz (10 points)\n",
      "    connectivity scores will be averaged for each band\n",
      "    using CWT with Morlet wavelets to estimate spectra\n",
      "    the following metrics will be computed: Coherence\n",
      "    computing cross-spectral density for epochs 1..30\n"
     ]
    },
    {
     "name": "stderr",
     "output_type": "stream",
     "text": [
      "C:\\Users\\malann\\AppData\\Roaming\\Python\\Python310\\site-packages\\mne_connectivity\\spectral\\epochs.py:177: RuntimeWarning: fmin=4.000 Hz corresponds to 4.420 < 5 cycles based on the epoch length 1.105 sec, need at least 1.250 sec epochs or fmin=4.525. Spectrum estimate will be unreliable.\n",
      "  warn(\n",
      "[Parallel(n_jobs=30)]: Using backend LokyBackend with 30 concurrent workers.\n",
      "[Parallel(n_jobs=30)]: Done   8 out of  30 | elapsed:    0.2s remaining:    0.8s\n"
     ]
    },
    {
     "name": "stdout",
     "output_type": "stream",
     "text": [
      "    computing cross-spectral density for epochs 31..42\n"
     ]
    },
    {
     "name": "stderr",
     "output_type": "stream",
     "text": [
      "[Parallel(n_jobs=30)]: Done  15 out of  30 | elapsed:    0.5s remaining:    0.5s\n",
      "[Parallel(n_jobs=30)]: Done  22 out of  30 | elapsed:    0.6s remaining:    0.2s\n",
      "[Parallel(n_jobs=30)]: Done  30 out of  30 | elapsed:    0.6s finished\n",
      "[Parallel(n_jobs=30)]: Using backend LokyBackend with 30 concurrent workers.\n"
     ]
    },
    {
     "name": "stdout",
     "output_type": "stream",
     "text": [
      "[Connectivity computation done]\n",
      "Connectivity computation...\n",
      "    computing connectivity for 18 connections\n",
      "    using t=0.000s..1.100s for estimation (221 points)\n",
      "    computing connectivity for the bands:\n",
      "     band 1: 4.0Hz..7.0Hz (4 points)\n",
      "     band 2: 8.0Hz..12.0Hz (5 points)\n",
      "     band 3: 13.0Hz..20.0Hz (8 points)\n",
      "     band 4: 21.0Hz..30.0Hz (10 points)\n",
      "    connectivity scores will be averaged for each band\n",
      "    using CWT with Morlet wavelets to estimate spectra\n"
     ]
    },
    {
     "name": "stderr",
     "output_type": "stream",
     "text": [
      "[Parallel(n_jobs=30)]: Done   4 out of  12 | elapsed:    0.1s remaining:    0.4s\n",
      "[Parallel(n_jobs=30)]: Done   7 out of  12 | elapsed:    0.2s remaining:    0.1s\n",
      "[Parallel(n_jobs=30)]: Done  10 out of  12 | elapsed:    0.2s remaining:    0.0s\n",
      "[Parallel(n_jobs=30)]: Done  12 out of  12 | elapsed:    0.2s finished\n",
      "C:\\Users\\malann\\AppData\\Roaming\\Python\\Python310\\site-packages\\mne_connectivity\\spectral\\epochs.py:177: RuntimeWarning: fmin=4.000 Hz corresponds to 4.420 < 5 cycles based on the epoch length 1.105 sec, need at least 1.250 sec epochs or fmin=4.525. Spectrum estimate will be unreliable.\n",
      "  warn(\n"
     ]
    },
    {
     "name": "stdout",
     "output_type": "stream",
     "text": [
      "    the following metrics will be computed: Coherence\n",
      "    computing cross-spectral density for epochs 1..30\n"
     ]
    },
    {
     "name": "stderr",
     "output_type": "stream",
     "text": [
      "[Parallel(n_jobs=30)]: Using backend LokyBackend with 30 concurrent workers.\n",
      "[Parallel(n_jobs=30)]: Done   8 out of  30 | elapsed:    0.3s remaining:    0.9s\n",
      "[Parallel(n_jobs=30)]: Done  15 out of  30 | elapsed:    0.4s remaining:    0.4s\n"
     ]
    },
    {
     "name": "stdout",
     "output_type": "stream",
     "text": [
      "    computing cross-spectral density for epochs 31..42\n"
     ]
    },
    {
     "name": "stderr",
     "output_type": "stream",
     "text": [
      "[Parallel(n_jobs=30)]: Done  22 out of  30 | elapsed:    0.5s remaining:    0.1s\n",
      "[Parallel(n_jobs=30)]: Done  30 out of  30 | elapsed:    0.6s finished\n",
      "[Parallel(n_jobs=30)]: Using backend LokyBackend with 30 concurrent workers.\n"
     ]
    },
    {
     "name": "stdout",
     "output_type": "stream",
     "text": [
      "[Connectivity computation done]\n",
      "Connectivity computation...\n",
      "    computing connectivity for 18 connections\n",
      "    using t=0.000s..1.100s for estimation (221 points)\n",
      "    computing connectivity for the bands:\n",
      "     band 1: 4.0Hz..7.0Hz (4 points)\n",
      "     band 2: 8.0Hz..12.0Hz (5 points)\n",
      "     band 3: 13.0Hz..20.0Hz (8 points)\n",
      "     band 4: 21.0Hz..30.0Hz (10 points)\n",
      "    connectivity scores will be averaged for each band\n",
      "    using CWT with Morlet wavelets to estimate spectra\n",
      "    the following metrics will be computed: Coherence\n",
      "    computing cross-spectral density for epochs 1..10\n"
     ]
    },
    {
     "name": "stderr",
     "output_type": "stream",
     "text": [
      "[Parallel(n_jobs=30)]: Done   4 out of  12 | elapsed:    0.1s remaining:    0.2s\n",
      "[Parallel(n_jobs=30)]: Done   7 out of  12 | elapsed:    0.1s remaining:    0.0s\n",
      "[Parallel(n_jobs=30)]: Done  10 out of  12 | elapsed:    0.1s remaining:    0.0s\n",
      "[Parallel(n_jobs=30)]: Done  12 out of  12 | elapsed:    0.1s finished\n",
      "C:\\Users\\malann\\AppData\\Local\\Temp\\ipykernel_239232\\2349117804.py:69: FutureWarning: Parameters \"info\", \"data\", \"times\", \"nave\" are deprecated and will be removed in version 1.8. For a quick fix, use ``AverageTFRArray`` with the same parameters. For a long-term fix, see the docstring notes.\n",
      "  tfr_odd_E = mne.time_frequency.AverageTFR(epochs_aff_odd_E.info, con_odd_E.get_data(), times, freqs, len(epochs_aff_odd_E))\n",
      "C:\\Users\\malann\\AppData\\Local\\Temp\\ipykernel_239232\\2349117804.py:70: FutureWarning: Parameters \"info\", \"data\", \"times\", \"nave\" are deprecated and will be removed in version 1.8. For a quick fix, use ``AverageTFRArray`` with the same parameters. For a long-term fix, see the docstring notes.\n",
      "  tfr_odd_NE = mne.time_frequency.AverageTFR(epochs_aff_odd_NE.info, con_odd_NE.get_data(), times, freqs, len(epochs_aff_odd_NE))\n",
      "C:\\Users\\malann\\AppData\\Local\\Temp\\ipykernel_239232\\2349117804.py:74: FutureWarning: Parameters \"info\", \"data\", \"times\", \"nave\" are deprecated and will be removed in version 1.8. For a quick fix, use ``AverageTFRArray`` with the same parameters. For a long-term fix, see the docstring notes.\n",
      "  tfr_typ_E = mne.time_frequency.AverageTFR(epochs_aff_typ_E.info, con_typ_E.get_data(), times, freqs, len(epochs_aff_typ_E))\n",
      "C:\\Users\\malann\\AppData\\Local\\Temp\\ipykernel_239232\\2349117804.py:75: FutureWarning: Parameters \"info\", \"data\", \"times\", \"nave\" are deprecated and will be removed in version 1.8. For a quick fix, use ``AverageTFRArray`` with the same parameters. For a long-term fix, see the docstring notes.\n",
      "  tfr_typ_NE = mne.time_frequency.AverageTFR(epochs_aff_typ_NE.info, con_typ_NE.get_data(), times, freqs, len(epochs_aff_typ_NE))\n",
      "C:\\Users\\malann\\AppData\\Roaming\\Python\\Python310\\site-packages\\mne_connectivity\\spectral\\epochs.py:177: RuntimeWarning: fmin=4.000 Hz corresponds to 4.420 < 5 cycles based on the epoch length 1.105 sec, need at least 1.250 sec epochs or fmin=4.525. Spectrum estimate will be unreliable.\n",
      "  warn(\n",
      "[Parallel(n_jobs=30)]: Using backend LokyBackend with 30 concurrent workers.\n"
     ]
    },
    {
     "name": "stdout",
     "output_type": "stream",
     "text": [
      "[Connectivity computation done]\n",
      "Connectivity computation...\n",
      "    computing connectivity for 18 connections\n",
      "    using t=0.000s..1.100s for estimation (221 points)\n",
      "    computing connectivity for the bands:\n",
      "     band 1: 4.0Hz..7.0Hz (4 points)\n",
      "     band 2: 8.0Hz..12.0Hz (5 points)\n",
      "     band 3: 13.0Hz..20.0Hz (8 points)\n",
      "     band 4: 21.0Hz..30.0Hz (10 points)\n",
      "    connectivity scores will be averaged for each band\n",
      "    using CWT with Morlet wavelets to estimate spectra\n",
      "    the following metrics will be computed: Coherence\n",
      "    computing cross-spectral density for epochs 1..10\n"
     ]
    },
    {
     "name": "stderr",
     "output_type": "stream",
     "text": [
      "[Parallel(n_jobs=30)]: Done   2 out of  10 | elapsed:    0.1s remaining:    0.6s\n",
      "[Parallel(n_jobs=30)]: Done   5 out of  10 | elapsed:    0.1s remaining:    0.1s\n",
      "[Parallel(n_jobs=30)]: Done   8 out of  10 | elapsed:    0.1s remaining:    0.0s\n",
      "[Parallel(n_jobs=30)]: Done  10 out of  10 | elapsed:    0.2s finished\n",
      "C:\\Users\\malann\\AppData\\Roaming\\Python\\Python310\\site-packages\\mne_connectivity\\spectral\\epochs.py:177: RuntimeWarning: fmin=4.000 Hz corresponds to 4.420 < 5 cycles based on the epoch length 1.105 sec, need at least 1.250 sec epochs or fmin=4.525. Spectrum estimate will be unreliable.\n",
      "  warn(\n",
      "[Parallel(n_jobs=30)]: Using backend LokyBackend with 30 concurrent workers.\n"
     ]
    },
    {
     "name": "stdout",
     "output_type": "stream",
     "text": [
      "[Connectivity computation done]\n",
      "Connectivity computation...\n",
      "    computing connectivity for 18 connections\n",
      "    using t=0.000s..1.100s for estimation (221 points)\n",
      "    computing connectivity for the bands:\n",
      "     band 1: 4.0Hz..7.0Hz (4 points)\n",
      "     band 2: 8.0Hz..12.0Hz (5 points)\n",
      "     band 3: 13.0Hz..20.0Hz (8 points)\n",
      "     band 4: 21.0Hz..30.0Hz (10 points)\n",
      "    connectivity scores will be averaged for each band\n",
      "    using CWT with Morlet wavelets to estimate spectra\n",
      "    the following metrics will be computed: Coherence\n",
      "    computing cross-spectral density for epochs 1..30\n"
     ]
    },
    {
     "name": "stderr",
     "output_type": "stream",
     "text": [
      "[Parallel(n_jobs=30)]: Done   2 out of  10 | elapsed:    0.1s remaining:    0.6s\n",
      "[Parallel(n_jobs=30)]: Done   5 out of  10 | elapsed:    0.1s remaining:    0.1s\n",
      "[Parallel(n_jobs=30)]: Done   8 out of  10 | elapsed:    0.1s remaining:    0.0s\n",
      "[Parallel(n_jobs=30)]: Done  10 out of  10 | elapsed:    0.2s finished\n",
      "C:\\Users\\malann\\AppData\\Roaming\\Python\\Python310\\site-packages\\mne_connectivity\\spectral\\epochs.py:177: RuntimeWarning: fmin=4.000 Hz corresponds to 4.420 < 5 cycles based on the epoch length 1.105 sec, need at least 1.250 sec epochs or fmin=4.525. Spectrum estimate will be unreliable.\n",
      "  warn(\n",
      "[Parallel(n_jobs=30)]: Using backend LokyBackend with 30 concurrent workers.\n",
      "[Parallel(n_jobs=30)]: Done   8 out of  30 | elapsed:    0.2s remaining:    0.8s\n",
      "[Parallel(n_jobs=30)]: Done  15 out of  30 | elapsed:    0.3s remaining:    0.3s\n"
     ]
    },
    {
     "name": "stdout",
     "output_type": "stream",
     "text": [
      "    computing cross-spectral density for epochs 31..42\n"
     ]
    },
    {
     "name": "stderr",
     "output_type": "stream",
     "text": [
      "[Parallel(n_jobs=30)]: Done  22 out of  30 | elapsed:    0.6s remaining:    0.1s\n",
      "[Parallel(n_jobs=30)]: Done  30 out of  30 | elapsed:    0.7s finished\n",
      "[Parallel(n_jobs=30)]: Using backend LokyBackend with 30 concurrent workers.\n"
     ]
    },
    {
     "name": "stdout",
     "output_type": "stream",
     "text": [
      "[Connectivity computation done]\n",
      "Connectivity computation...\n",
      "    computing connectivity for 18 connections\n",
      "    using t=0.000s..1.100s for estimation (221 points)\n",
      "    computing connectivity for the bands:\n",
      "     band 1: 4.0Hz..7.0Hz (4 points)\n",
      "     band 2: 8.0Hz..12.0Hz (5 points)\n",
      "     band 3: 13.0Hz..20.0Hz (8 points)\n",
      "     band 4: 21.0Hz..30.0Hz (10 points)\n",
      "    connectivity scores will be averaged for each band\n",
      "    using CWT with Morlet wavelets to estimate spectra\n",
      "    the following metrics will be computed: Coherence\n",
      "    computing cross-spectral density for epochs 1..30\n"
     ]
    },
    {
     "name": "stderr",
     "output_type": "stream",
     "text": [
      "[Parallel(n_jobs=30)]: Done   4 out of  12 | elapsed:    0.1s remaining:    0.4s\n",
      "[Parallel(n_jobs=30)]: Done   7 out of  12 | elapsed:    0.2s remaining:    0.1s\n",
      "[Parallel(n_jobs=30)]: Done  10 out of  12 | elapsed:    0.2s remaining:    0.0s\n",
      "[Parallel(n_jobs=30)]: Done  12 out of  12 | elapsed:    0.2s finished\n",
      "C:\\Users\\malann\\AppData\\Roaming\\Python\\Python310\\site-packages\\mne_connectivity\\spectral\\epochs.py:177: RuntimeWarning: fmin=4.000 Hz corresponds to 4.420 < 5 cycles based on the epoch length 1.105 sec, need at least 1.250 sec epochs or fmin=4.525. Spectrum estimate will be unreliable.\n",
      "  warn(\n",
      "[Parallel(n_jobs=30)]: Using backend LokyBackend with 30 concurrent workers.\n",
      "[Parallel(n_jobs=30)]: Done   8 out of  30 | elapsed:    1.2s remaining:    3.5s\n",
      "[Parallel(n_jobs=30)]: Done  15 out of  30 | elapsed:    2.1s remaining:    2.1s\n",
      "[Parallel(n_jobs=30)]: Done  22 out of  30 | elapsed:    2.4s remaining:    0.8s\n"
     ]
    },
    {
     "name": "stdout",
     "output_type": "stream",
     "text": [
      "    computing cross-spectral density for epochs 31..42\n"
     ]
    },
    {
     "name": "stderr",
     "output_type": "stream",
     "text": [
      "[Parallel(n_jobs=30)]: Done  30 out of  30 | elapsed:    2.6s finished\n",
      "[Parallel(n_jobs=30)]: Using backend LokyBackend with 30 concurrent workers.\n",
      "[Parallel(n_jobs=30)]: Done   4 out of  12 | elapsed:    0.1s remaining:    0.3s\n",
      "[Parallel(n_jobs=30)]: Done   7 out of  12 | elapsed:    0.4s remaining:    0.2s\n",
      "[Parallel(n_jobs=30)]: Done  10 out of  12 | elapsed:    0.4s remaining:    0.0s\n",
      "[Parallel(n_jobs=30)]: Done  12 out of  12 | elapsed:    0.5s finished\n"
     ]
    },
    {
     "name": "stdout",
     "output_type": "stream",
     "text": [
      "[Connectivity computation done]\n"
     ]
    },
    {
     "name": "stderr",
     "output_type": "stream",
     "text": [
      "C:\\Users\\malann\\AppData\\Local\\Temp\\ipykernel_239232\\2349117804.py:69: FutureWarning: Parameters \"info\", \"data\", \"times\", \"nave\" are deprecated and will be removed in version 1.8. For a quick fix, use ``AverageTFRArray`` with the same parameters. For a long-term fix, see the docstring notes.\n",
      "  tfr_odd_E = mne.time_frequency.AverageTFR(epochs_aff_odd_E.info, con_odd_E.get_data(), times, freqs, len(epochs_aff_odd_E))\n",
      "C:\\Users\\malann\\AppData\\Local\\Temp\\ipykernel_239232\\2349117804.py:70: FutureWarning: Parameters \"info\", \"data\", \"times\", \"nave\" are deprecated and will be removed in version 1.8. For a quick fix, use ``AverageTFRArray`` with the same parameters. For a long-term fix, see the docstring notes.\n",
      "  tfr_odd_NE = mne.time_frequency.AverageTFR(epochs_aff_odd_NE.info, con_odd_NE.get_data(), times, freqs, len(epochs_aff_odd_NE))\n",
      "C:\\Users\\malann\\AppData\\Local\\Temp\\ipykernel_239232\\2349117804.py:74: FutureWarning: Parameters \"info\", \"data\", \"times\", \"nave\" are deprecated and will be removed in version 1.8. For a quick fix, use ``AverageTFRArray`` with the same parameters. For a long-term fix, see the docstring notes.\n",
      "  tfr_typ_E = mne.time_frequency.AverageTFR(epochs_aff_typ_E.info, con_typ_E.get_data(), times, freqs, len(epochs_aff_typ_E))\n",
      "C:\\Users\\malann\\AppData\\Local\\Temp\\ipykernel_239232\\2349117804.py:75: FutureWarning: Parameters \"info\", \"data\", \"times\", \"nave\" are deprecated and will be removed in version 1.8. For a quick fix, use ``AverageTFRArray`` with the same parameters. For a long-term fix, see the docstring notes.\n",
      "  tfr_typ_NE = mne.time_frequency.AverageTFR(epochs_aff_typ_NE.info, con_typ_NE.get_data(), times, freqs, len(epochs_aff_typ_NE))\n"
     ]
    },
    {
     "name": "stdout",
     "output_type": "stream",
     "text": [
      "Connectivity computation...\n",
      "    computing connectivity for 18 connections\n",
      "    using t=0.000s..1.500s for estimation (301 points)\n",
      "    computing connectivity for the bands:\n",
      "     band 1: 4.0Hz..7.0Hz (4 points)\n",
      "     band 2: 8.0Hz..12.0Hz (5 points)\n",
      "     band 3: 13.0Hz..20.0Hz (8 points)\n",
      "     band 4: 21.0Hz..30.0Hz (10 points)\n",
      "    connectivity scores will be averaged for each band\n",
      "    using CWT with Morlet wavelets to estimate spectra\n",
      "    the following metrics will be computed: Coherence\n",
      "    computing cross-spectral density for epochs 1..10\n"
     ]
    },
    {
     "name": "stderr",
     "output_type": "stream",
     "text": [
      "[Parallel(n_jobs=30)]: Using backend LokyBackend with 30 concurrent workers.\n",
      "[Parallel(n_jobs=30)]: Done   2 out of  10 | elapsed:    0.0s remaining:    0.3s\n"
     ]
    },
    {
     "name": "stdout",
     "output_type": "stream",
     "text": [
      "[Connectivity computation done]\n",
      "Connectivity computation...\n",
      "    computing connectivity for 18 connections\n",
      "    using t=0.000s..1.500s for estimation (301 points)\n",
      "    computing connectivity for the bands:\n",
      "     band 1: 4.0Hz..7.0Hz (4 points)\n",
      "     band 2: 8.0Hz..12.0Hz (5 points)\n",
      "     band 3: 13.0Hz..20.0Hz (8 points)\n",
      "     band 4: 21.0Hz..30.0Hz (10 points)\n",
      "    connectivity scores will be averaged for each band\n",
      "    using CWT with Morlet wavelets to estimate spectra\n",
      "    the following metrics will be computed: Coherence\n",
      "    computing cross-spectral density for epochs 1..10\n"
     ]
    },
    {
     "name": "stderr",
     "output_type": "stream",
     "text": [
      "[Parallel(n_jobs=30)]: Done   5 out of  10 | elapsed:    0.1s remaining:    0.1s\n",
      "[Parallel(n_jobs=30)]: Done   8 out of  10 | elapsed:    0.1s remaining:    0.0s\n",
      "[Parallel(n_jobs=30)]: Done  10 out of  10 | elapsed:    0.2s finished\n",
      "[Parallel(n_jobs=30)]: Using backend LokyBackend with 30 concurrent workers.\n"
     ]
    },
    {
     "name": "stdout",
     "output_type": "stream",
     "text": [
      "[Connectivity computation done]\n",
      "Connectivity computation...\n",
      "    computing connectivity for 18 connections\n",
      "    using t=0.000s..1.500s for estimation (301 points)\n",
      "    computing connectivity for the bands:\n",
      "     band 1: 4.0Hz..7.0Hz (4 points)\n",
      "     band 2: 8.0Hz..12.0Hz (5 points)\n",
      "     band 3: 13.0Hz..20.0Hz (8 points)\n",
      "     band 4: 21.0Hz..30.0Hz (10 points)\n",
      "    connectivity scores will be averaged for each band\n",
      "    using CWT with Morlet wavelets to estimate spectra\n"
     ]
    },
    {
     "name": "stderr",
     "output_type": "stream",
     "text": [
      "[Parallel(n_jobs=30)]: Done   2 out of  10 | elapsed:    0.0s remaining:    0.3s\n",
      "[Parallel(n_jobs=30)]: Done   5 out of  10 | elapsed:    0.1s remaining:    0.1s\n",
      "[Parallel(n_jobs=30)]: Done   8 out of  10 | elapsed:    0.1s remaining:    0.0s\n",
      "[Parallel(n_jobs=30)]: Done  10 out of  10 | elapsed:    0.1s finished\n"
     ]
    },
    {
     "name": "stdout",
     "output_type": "stream",
     "text": [
      "    the following metrics will be computed: Coherence\n",
      "    computing cross-spectral density for epochs 1..30\n"
     ]
    },
    {
     "name": "stderr",
     "output_type": "stream",
     "text": [
      "[Parallel(n_jobs=30)]: Using backend LokyBackend with 30 concurrent workers.\n",
      "[Parallel(n_jobs=30)]: Done   8 out of  30 | elapsed:    0.2s remaining:    0.7s\n",
      "[Parallel(n_jobs=30)]: Done  15 out of  30 | elapsed:    0.4s remaining:    0.4s\n"
     ]
    },
    {
     "name": "stdout",
     "output_type": "stream",
     "text": [
      "    computing cross-spectral density for epochs 31..42\n"
     ]
    },
    {
     "name": "stderr",
     "output_type": "stream",
     "text": [
      "[Parallel(n_jobs=30)]: Done  22 out of  30 | elapsed:    0.4s remaining:    0.1s\n",
      "[Parallel(n_jobs=30)]: Done  30 out of  30 | elapsed:    0.5s finished\n",
      "[Parallel(n_jobs=30)]: Using backend LokyBackend with 30 concurrent workers.\n"
     ]
    },
    {
     "name": "stdout",
     "output_type": "stream",
     "text": [
      "[Connectivity computation done]\n",
      "Connectivity computation...\n",
      "    computing connectivity for 18 connections\n",
      "    using t=0.000s..1.500s for estimation (301 points)\n",
      "    computing connectivity for the bands:\n",
      "     band 1: 4.0Hz..7.0Hz (4 points)\n",
      "     band 2: 8.0Hz..12.0Hz (5 points)\n",
      "     band 3: 13.0Hz..20.0Hz (8 points)\n",
      "     band 4: 21.0Hz..30.0Hz (10 points)\n",
      "    connectivity scores will be averaged for each band\n"
     ]
    },
    {
     "name": "stderr",
     "output_type": "stream",
     "text": [
      "[Parallel(n_jobs=30)]: Done   4 out of  12 | elapsed:    0.1s remaining:    0.3s\n",
      "[Parallel(n_jobs=30)]: Done   7 out of  12 | elapsed:    0.2s remaining:    0.1s\n",
      "[Parallel(n_jobs=30)]: Done  10 out of  12 | elapsed:    0.2s remaining:    0.0s\n",
      "[Parallel(n_jobs=30)]: Done  12 out of  12 | elapsed:    0.2s finished\n"
     ]
    },
    {
     "name": "stdout",
     "output_type": "stream",
     "text": [
      "    using CWT with Morlet wavelets to estimate spectra\n",
      "    the following metrics will be computed: Coherence\n",
      "    computing cross-spectral density for epochs 1..30\n"
     ]
    },
    {
     "name": "stderr",
     "output_type": "stream",
     "text": [
      "[Parallel(n_jobs=30)]: Using backend LokyBackend with 30 concurrent workers.\n",
      "[Parallel(n_jobs=30)]: Done   8 out of  30 | elapsed:    0.3s remaining:    1.1s\n",
      "[Parallel(n_jobs=30)]: Done  15 out of  30 | elapsed:    0.5s remaining:    0.5s\n"
     ]
    },
    {
     "name": "stdout",
     "output_type": "stream",
     "text": [
      "    computing cross-spectral density for epochs 31..42\n"
     ]
    },
    {
     "name": "stderr",
     "output_type": "stream",
     "text": [
      "[Parallel(n_jobs=30)]: Done  22 out of  30 | elapsed:    0.6s remaining:    0.2s\n",
      "[Parallel(n_jobs=30)]: Done  30 out of  30 | elapsed:    0.7s finished\n",
      "[Parallel(n_jobs=30)]: Using backend LokyBackend with 30 concurrent workers.\n"
     ]
    },
    {
     "name": "stdout",
     "output_type": "stream",
     "text": [
      "[Connectivity computation done]\n",
      "Connectivity computation...\n"
     ]
    },
    {
     "name": "stderr",
     "output_type": "stream",
     "text": [
      "[Parallel(n_jobs=30)]: Done   4 out of  12 | elapsed:    0.2s remaining:    0.5s\n",
      "[Parallel(n_jobs=30)]: Done   7 out of  12 | elapsed:    0.2s remaining:    0.1s\n",
      "[Parallel(n_jobs=30)]: Done  10 out of  12 | elapsed:    0.3s remaining:    0.0s\n",
      "[Parallel(n_jobs=30)]: Done  12 out of  12 | elapsed:    0.3s finished\n",
      "C:\\Users\\malann\\AppData\\Local\\Temp\\ipykernel_239232\\2349117804.py:69: FutureWarning: Parameters \"info\", \"data\", \"times\", \"nave\" are deprecated and will be removed in version 1.8. For a quick fix, use ``AverageTFRArray`` with the same parameters. For a long-term fix, see the docstring notes.\n",
      "  tfr_odd_E = mne.time_frequency.AverageTFR(epochs_aff_odd_E.info, con_odd_E.get_data(), times, freqs, len(epochs_aff_odd_E))\n",
      "C:\\Users\\malann\\AppData\\Local\\Temp\\ipykernel_239232\\2349117804.py:70: FutureWarning: Parameters \"info\", \"data\", \"times\", \"nave\" are deprecated and will be removed in version 1.8. For a quick fix, use ``AverageTFRArray`` with the same parameters. For a long-term fix, see the docstring notes.\n",
      "  tfr_odd_NE = mne.time_frequency.AverageTFR(epochs_aff_odd_NE.info, con_odd_NE.get_data(), times, freqs, len(epochs_aff_odd_NE))\n",
      "C:\\Users\\malann\\AppData\\Local\\Temp\\ipykernel_239232\\2349117804.py:74: FutureWarning: Parameters \"info\", \"data\", \"times\", \"nave\" are deprecated and will be removed in version 1.8. For a quick fix, use ``AverageTFRArray`` with the same parameters. For a long-term fix, see the docstring notes.\n",
      "  tfr_typ_E = mne.time_frequency.AverageTFR(epochs_aff_typ_E.info, con_typ_E.get_data(), times, freqs, len(epochs_aff_typ_E))\n",
      "C:\\Users\\malann\\AppData\\Local\\Temp\\ipykernel_239232\\2349117804.py:75: FutureWarning: Parameters \"info\", \"data\", \"times\", \"nave\" are deprecated and will be removed in version 1.8. For a quick fix, use ``AverageTFRArray`` with the same parameters. For a long-term fix, see the docstring notes.\n",
      "  tfr_typ_NE = mne.time_frequency.AverageTFR(epochs_aff_typ_NE.info, con_typ_NE.get_data(), times, freqs, len(epochs_aff_typ_NE))\n"
     ]
    },
    {
     "name": "stdout",
     "output_type": "stream",
     "text": [
      "    computing connectivity for 18 connections\n",
      "    using t=0.000s..1.500s for estimation (301 points)\n",
      "    computing connectivity for the bands:\n",
      "     band 1: 4.0Hz..7.0Hz (4 points)\n",
      "     band 2: 8.0Hz..12.0Hz (5 points)\n",
      "     band 3: 13.0Hz..20.0Hz (8 points)\n",
      "     band 4: 21.0Hz..30.0Hz (10 points)\n",
      "    connectivity scores will be averaged for each band\n",
      "    using CWT with Morlet wavelets to estimate spectra\n",
      "    the following metrics will be computed: Coherence\n",
      "    computing cross-spectral density for epochs 1..10\n"
     ]
    },
    {
     "name": "stderr",
     "output_type": "stream",
     "text": [
      "[Parallel(n_jobs=30)]: Using backend LokyBackend with 30 concurrent workers.\n",
      "[Parallel(n_jobs=30)]: Done   2 out of  10 | elapsed:    0.1s remaining:    0.7s\n"
     ]
    },
    {
     "name": "stdout",
     "output_type": "stream",
     "text": [
      "[Connectivity computation done]\n",
      "Connectivity computation...\n",
      "    computing connectivity for 18 connections\n",
      "    using t=0.000s..1.500s for estimation (301 points)\n",
      "    computing connectivity for the bands:\n",
      "     band 1: 4.0Hz..7.0Hz (4 points)\n",
      "     band 2: 8.0Hz..12.0Hz (5 points)\n",
      "     band 3: 13.0Hz..20.0Hz (8 points)\n",
      "     band 4: 21.0Hz..30.0Hz (10 points)\n",
      "    connectivity scores will be averaged for each band\n",
      "    using CWT with Morlet wavelets to estimate spectra\n",
      "    the following metrics will be computed: Coherence\n",
      "    computing cross-spectral density for epochs 1..10\n"
     ]
    },
    {
     "name": "stderr",
     "output_type": "stream",
     "text": [
      "[Parallel(n_jobs=30)]: Done   5 out of  10 | elapsed:    0.1s remaining:    0.1s\n",
      "[Parallel(n_jobs=30)]: Done   8 out of  10 | elapsed:    0.2s remaining:    0.0s\n",
      "[Parallel(n_jobs=30)]: Done  10 out of  10 | elapsed:    0.2s finished\n",
      "[Parallel(n_jobs=30)]: Using backend LokyBackend with 30 concurrent workers.\n"
     ]
    },
    {
     "name": "stdout",
     "output_type": "stream",
     "text": [
      "[Connectivity computation done]\n",
      "Connectivity computation...\n",
      "    computing connectivity for 18 connections\n",
      "    using t=0.000s..1.500s for estimation (301 points)\n",
      "    computing connectivity for the bands:\n",
      "     band 1: 4.0Hz..7.0Hz (4 points)\n"
     ]
    },
    {
     "name": "stderr",
     "output_type": "stream",
     "text": [
      "[Parallel(n_jobs=30)]: Done   2 out of  10 | elapsed:    0.1s remaining:    0.7s\n",
      "[Parallel(n_jobs=30)]: Done   5 out of  10 | elapsed:    0.2s remaining:    0.2s\n",
      "[Parallel(n_jobs=30)]: Done   8 out of  10 | elapsed:    0.2s remaining:    0.0s\n",
      "[Parallel(n_jobs=30)]: Done  10 out of  10 | elapsed:    0.2s finished\n"
     ]
    },
    {
     "name": "stdout",
     "output_type": "stream",
     "text": [
      "     band 2: 8.0Hz..12.0Hz (5 points)\n",
      "     band 3: 13.0Hz..20.0Hz (8 points)\n",
      "     band 4: 21.0Hz..30.0Hz (10 points)\n",
      "    connectivity scores will be averaged for each band\n",
      "    using CWT with Morlet wavelets to estimate spectra\n",
      "    the following metrics will be computed: Coherence\n",
      "    computing cross-spectral density for epochs 1..30\n"
     ]
    },
    {
     "name": "stderr",
     "output_type": "stream",
     "text": [
      "[Parallel(n_jobs=30)]: Using backend LokyBackend with 30 concurrent workers.\n",
      "[Parallel(n_jobs=30)]: Done   8 out of  30 | elapsed:    0.5s remaining:    1.4s\n",
      "[Parallel(n_jobs=30)]: Done  15 out of  30 | elapsed:    0.7s remaining:    0.7s\n"
     ]
    },
    {
     "name": "stdout",
     "output_type": "stream",
     "text": [
      "    computing cross-spectral density for epochs 31..42\n"
     ]
    },
    {
     "name": "stderr",
     "output_type": "stream",
     "text": [
      "[Parallel(n_jobs=30)]: Done  22 out of  30 | elapsed:    0.8s remaining:    0.2s\n",
      "[Parallel(n_jobs=30)]: Done  30 out of  30 | elapsed:    0.9s finished\n",
      "[Parallel(n_jobs=30)]: Using backend LokyBackend with 30 concurrent workers.\n"
     ]
    },
    {
     "name": "stdout",
     "output_type": "stream",
     "text": [
      "[Connectivity computation done]\n",
      "Connectivity computation...\n",
      "    computing connectivity for 18 connections\n",
      "    using t=0.000s..1.500s for estimation (301 points)\n",
      "    computing connectivity for the bands:\n",
      "     band 1: 4.0Hz..7.0Hz (4 points)\n",
      "     band 2: 8.0Hz..12.0Hz (5 points)\n",
      "     band 3: 13.0Hz..20.0Hz (8 points)\n",
      "     band 4: 21.0Hz..30.0Hz (10 points)\n",
      "    connectivity scores will be averaged for each band\n",
      "    using CWT with Morlet wavelets to estimate spectra\n",
      "    the following metrics will be computed: Coherence\n",
      "    computing cross-spectral density for epochs 1..30\n"
     ]
    },
    {
     "name": "stderr",
     "output_type": "stream",
     "text": [
      "[Parallel(n_jobs=30)]: Done   4 out of  12 | elapsed:    0.2s remaining:    0.6s\n",
      "[Parallel(n_jobs=30)]: Done   7 out of  12 | elapsed:    0.3s remaining:    0.2s\n",
      "[Parallel(n_jobs=30)]: Done  10 out of  12 | elapsed:    0.3s remaining:    0.0s\n",
      "[Parallel(n_jobs=30)]: Done  12 out of  12 | elapsed:    0.3s finished\n",
      "[Parallel(n_jobs=30)]: Using backend LokyBackend with 30 concurrent workers.\n",
      "[Parallel(n_jobs=30)]: Done   8 out of  30 | elapsed:    0.3s remaining:    1.1s\n",
      "[Parallel(n_jobs=30)]: Done  15 out of  30 | elapsed:    0.5s remaining:    0.5s\n"
     ]
    },
    {
     "name": "stdout",
     "output_type": "stream",
     "text": [
      "    computing cross-spectral density for epochs 31..42\n"
     ]
    },
    {
     "name": "stderr",
     "output_type": "stream",
     "text": [
      "[Parallel(n_jobs=30)]: Done  22 out of  30 | elapsed:    0.6s remaining:    0.1s\n",
      "[Parallel(n_jobs=30)]: Done  30 out of  30 | elapsed:    0.7s finished\n",
      "[Parallel(n_jobs=30)]: Using backend LokyBackend with 30 concurrent workers.\n"
     ]
    },
    {
     "name": "stdout",
     "output_type": "stream",
     "text": [
      "[Connectivity computation done]\n"
     ]
    },
    {
     "name": "stderr",
     "output_type": "stream",
     "text": [
      "[Parallel(n_jobs=30)]: Done   4 out of  12 | elapsed:    0.1s remaining:    0.3s\n",
      "[Parallel(n_jobs=30)]: Done   7 out of  12 | elapsed:    0.2s remaining:    0.1s\n",
      "[Parallel(n_jobs=30)]: Done  10 out of  12 | elapsed:    0.2s remaining:    0.0s\n",
      "[Parallel(n_jobs=30)]: Done  12 out of  12 | elapsed:    0.2s finished\n"
     ]
    },
    {
     "name": "stdout",
     "output_type": "stream",
     "text": [
      "Connectivity computation...\n",
      "    computing connectivity for 18 connections\n",
      "    using t=0.000s..1.500s for estimation (301 points)\n",
      "    computing connectivity for the bands:\n",
      "     band 1: 4.0Hz..7.0Hz (4 points)\n",
      "     band 2: 8.0Hz..12.0Hz (5 points)\n",
      "     band 3: 13.0Hz..20.0Hz (8 points)\n",
      "     band 4: 21.0Hz..30.0Hz (10 points)\n",
      "    connectivity scores will be averaged for each band\n",
      "    using CWT with Morlet wavelets to estimate spectra\n",
      "    the following metrics will be computed: Coherence\n",
      "    computing cross-spectral density for epochs 1..10\n"
     ]
    },
    {
     "name": "stderr",
     "output_type": "stream",
     "text": [
      "C:\\Users\\malann\\AppData\\Local\\Temp\\ipykernel_239232\\2349117804.py:69: FutureWarning: Parameters \"info\", \"data\", \"times\", \"nave\" are deprecated and will be removed in version 1.8. For a quick fix, use ``AverageTFRArray`` with the same parameters. For a long-term fix, see the docstring notes.\n",
      "  tfr_odd_E = mne.time_frequency.AverageTFR(epochs_aff_odd_E.info, con_odd_E.get_data(), times, freqs, len(epochs_aff_odd_E))\n",
      "C:\\Users\\malann\\AppData\\Local\\Temp\\ipykernel_239232\\2349117804.py:70: FutureWarning: Parameters \"info\", \"data\", \"times\", \"nave\" are deprecated and will be removed in version 1.8. For a quick fix, use ``AverageTFRArray`` with the same parameters. For a long-term fix, see the docstring notes.\n",
      "  tfr_odd_NE = mne.time_frequency.AverageTFR(epochs_aff_odd_NE.info, con_odd_NE.get_data(), times, freqs, len(epochs_aff_odd_NE))\n",
      "C:\\Users\\malann\\AppData\\Local\\Temp\\ipykernel_239232\\2349117804.py:74: FutureWarning: Parameters \"info\", \"data\", \"times\", \"nave\" are deprecated and will be removed in version 1.8. For a quick fix, use ``AverageTFRArray`` with the same parameters. For a long-term fix, see the docstring notes.\n",
      "  tfr_typ_E = mne.time_frequency.AverageTFR(epochs_aff_typ_E.info, con_typ_E.get_data(), times, freqs, len(epochs_aff_typ_E))\n",
      "C:\\Users\\malann\\AppData\\Local\\Temp\\ipykernel_239232\\2349117804.py:75: FutureWarning: Parameters \"info\", \"data\", \"times\", \"nave\" are deprecated and will be removed in version 1.8. For a quick fix, use ``AverageTFRArray`` with the same parameters. For a long-term fix, see the docstring notes.\n",
      "  tfr_typ_NE = mne.time_frequency.AverageTFR(epochs_aff_typ_NE.info, con_typ_NE.get_data(), times, freqs, len(epochs_aff_typ_NE))\n",
      "[Parallel(n_jobs=30)]: Using backend LokyBackend with 30 concurrent workers.\n"
     ]
    },
    {
     "name": "stdout",
     "output_type": "stream",
     "text": [
      "[Connectivity computation done]\n",
      "Connectivity computation...\n",
      "    computing connectivity for 18 connections\n",
      "    using t=0.000s..1.500s for estimation (301 points)\n",
      "    computing connectivity for the bands:\n",
      "     band 1: 4.0Hz..7.0Hz (4 points)\n",
      "     band 2: 8.0Hz..12.0Hz (5 points)\n",
      "     band 3: 13.0Hz..20.0Hz (8 points)\n",
      "     band 4: 21.0Hz..30.0Hz (10 points)\n",
      "    connectivity scores will be averaged for each band\n",
      "    using CWT with Morlet wavelets to estimate spectra\n",
      "    the following metrics will be computed: Coherence\n",
      "    computing cross-spectral density for epochs 1..10\n"
     ]
    },
    {
     "name": "stderr",
     "output_type": "stream",
     "text": [
      "[Parallel(n_jobs=30)]: Done   2 out of  10 | elapsed:    0.1s remaining:    0.6s\n",
      "[Parallel(n_jobs=30)]: Done   5 out of  10 | elapsed:    0.1s remaining:    0.1s\n",
      "[Parallel(n_jobs=30)]: Done   8 out of  10 | elapsed:    0.1s remaining:    0.0s\n",
      "[Parallel(n_jobs=30)]: Done  10 out of  10 | elapsed:    0.2s finished\n",
      "[Parallel(n_jobs=30)]: Using backend LokyBackend with 30 concurrent workers.\n"
     ]
    },
    {
     "name": "stdout",
     "output_type": "stream",
     "text": [
      "[Connectivity computation done]\n"
     ]
    },
    {
     "name": "stderr",
     "output_type": "stream",
     "text": [
      "[Parallel(n_jobs=30)]: Done   2 out of  10 | elapsed:    0.0s remaining:    0.4s\n",
      "[Parallel(n_jobs=30)]: Done   5 out of  10 | elapsed:    0.1s remaining:    0.1s\n",
      "[Parallel(n_jobs=30)]: Done   8 out of  10 | elapsed:    0.1s remaining:    0.0s\n",
      "[Parallel(n_jobs=30)]: Done  10 out of  10 | elapsed:    0.2s finished\n"
     ]
    },
    {
     "name": "stdout",
     "output_type": "stream",
     "text": [
      "Connectivity computation...\n",
      "    computing connectivity for 18 connections\n",
      "    using t=0.000s..1.500s for estimation (301 points)\n",
      "    computing connectivity for the bands:\n",
      "     band 1: 4.0Hz..7.0Hz (4 points)\n",
      "     band 2: 8.0Hz..12.0Hz (5 points)\n",
      "     band 3: 13.0Hz..20.0Hz (8 points)\n",
      "     band 4: 21.0Hz..30.0Hz (10 points)\n",
      "    connectivity scores will be averaged for each band\n",
      "    using CWT with Morlet wavelets to estimate spectra\n",
      "    the following metrics will be computed: Coherence\n",
      "    computing cross-spectral density for epochs 1..30\n"
     ]
    },
    {
     "name": "stderr",
     "output_type": "stream",
     "text": [
      "[Parallel(n_jobs=30)]: Using backend LokyBackend with 30 concurrent workers.\n",
      "[Parallel(n_jobs=30)]: Done   8 out of  30 | elapsed:    0.3s remaining:    1.1s\n",
      "[Parallel(n_jobs=30)]: Done  15 out of  30 | elapsed:    0.5s remaining:    0.5s\n"
     ]
    },
    {
     "name": "stdout",
     "output_type": "stream",
     "text": [
      "    computing cross-spectral density for epochs 31..42\n"
     ]
    },
    {
     "name": "stderr",
     "output_type": "stream",
     "text": [
      "[Parallel(n_jobs=30)]: Done  22 out of  30 | elapsed:    0.6s remaining:    0.2s\n",
      "[Parallel(n_jobs=30)]: Done  30 out of  30 | elapsed:    0.7s finished\n",
      "[Parallel(n_jobs=30)]: Using backend LokyBackend with 30 concurrent workers.\n"
     ]
    },
    {
     "name": "stdout",
     "output_type": "stream",
     "text": [
      "[Connectivity computation done]\n",
      "Connectivity computation...\n",
      "    computing connectivity for 18 connections\n",
      "    using t=0.000s..1.500s for estimation (301 points)\n",
      "    computing connectivity for the bands:\n",
      "     band 1: 4.0Hz..7.0Hz (4 points)\n"
     ]
    },
    {
     "name": "stderr",
     "output_type": "stream",
     "text": [
      "[Parallel(n_jobs=30)]: Done   4 out of  12 | elapsed:    0.2s remaining:    0.5s\n",
      "[Parallel(n_jobs=30)]: Done   7 out of  12 | elapsed:    0.3s remaining:    0.2s\n",
      "[Parallel(n_jobs=30)]: Done  10 out of  12 | elapsed:    0.3s remaining:    0.0s\n",
      "[Parallel(n_jobs=30)]: Done  12 out of  12 | elapsed:    0.3s finished\n"
     ]
    },
    {
     "name": "stdout",
     "output_type": "stream",
     "text": [
      "     band 2: 8.0Hz..12.0Hz (5 points)\n",
      "     band 3: 13.0Hz..20.0Hz (8 points)\n",
      "     band 4: 21.0Hz..30.0Hz (10 points)\n",
      "    connectivity scores will be averaged for each band\n",
      "    using CWT with Morlet wavelets to estimate spectra\n",
      "    the following metrics will be computed: Coherence\n",
      "    computing cross-spectral density for epochs 1..30\n"
     ]
    },
    {
     "name": "stderr",
     "output_type": "stream",
     "text": [
      "[Parallel(n_jobs=30)]: Using backend LokyBackend with 30 concurrent workers.\n",
      "[Parallel(n_jobs=30)]: Done   8 out of  30 | elapsed:    0.4s remaining:    1.2s\n",
      "[Parallel(n_jobs=30)]: Done  15 out of  30 | elapsed:    0.5s remaining:    0.5s\n"
     ]
    },
    {
     "name": "stdout",
     "output_type": "stream",
     "text": [
      "    computing cross-spectral density for epochs 31..42\n"
     ]
    },
    {
     "name": "stderr",
     "output_type": "stream",
     "text": [
      "[Parallel(n_jobs=30)]: Done  22 out of  30 | elapsed:    0.7s remaining:    0.2s\n",
      "[Parallel(n_jobs=30)]: Done  30 out of  30 | elapsed:    0.8s finished\n",
      "[Parallel(n_jobs=30)]: Using backend LokyBackend with 30 concurrent workers.\n"
     ]
    },
    {
     "name": "stdout",
     "output_type": "stream",
     "text": [
      "[Connectivity computation done]\n"
     ]
    },
    {
     "name": "stderr",
     "output_type": "stream",
     "text": [
      "[Parallel(n_jobs=30)]: Done   4 out of  12 | elapsed:    0.3s remaining:    0.6s\n",
      "[Parallel(n_jobs=30)]: Done   7 out of  12 | elapsed:    0.3s remaining:    0.2s\n",
      "[Parallel(n_jobs=30)]: Done  10 out of  12 | elapsed:    0.4s remaining:    0.0s\n",
      "[Parallel(n_jobs=30)]: Done  12 out of  12 | elapsed:    0.4s finished\n"
     ]
    },
    {
     "name": "stdout",
     "output_type": "stream",
     "text": [
      "Connectivity computation...\n",
      "    computing connectivity for 18 connections\n",
      "    using t=0.000s..1.500s for estimation (301 points)\n",
      "    computing connectivity for the bands:\n",
      "     band 1: 4.0Hz..7.0Hz (4 points)\n",
      "     band 2: 8.0Hz..12.0Hz (5 points)\n",
      "     band 3: 13.0Hz..20.0Hz (8 points)\n",
      "     band 4: 21.0Hz..30.0Hz (10 points)\n",
      "    connectivity scores will be averaged for each band\n",
      "    using CWT with Morlet wavelets to estimate spectra\n",
      "    the following metrics will be computed: Coherence\n",
      "    computing cross-spectral density for epochs 1..10\n"
     ]
    },
    {
     "name": "stderr",
     "output_type": "stream",
     "text": [
      "C:\\Users\\malann\\AppData\\Local\\Temp\\ipykernel_239232\\2349117804.py:69: FutureWarning: Parameters \"info\", \"data\", \"times\", \"nave\" are deprecated and will be removed in version 1.8. For a quick fix, use ``AverageTFRArray`` with the same parameters. For a long-term fix, see the docstring notes.\n",
      "  tfr_odd_E = mne.time_frequency.AverageTFR(epochs_aff_odd_E.info, con_odd_E.get_data(), times, freqs, len(epochs_aff_odd_E))\n",
      "C:\\Users\\malann\\AppData\\Local\\Temp\\ipykernel_239232\\2349117804.py:70: FutureWarning: Parameters \"info\", \"data\", \"times\", \"nave\" are deprecated and will be removed in version 1.8. For a quick fix, use ``AverageTFRArray`` with the same parameters. For a long-term fix, see the docstring notes.\n",
      "  tfr_odd_NE = mne.time_frequency.AverageTFR(epochs_aff_odd_NE.info, con_odd_NE.get_data(), times, freqs, len(epochs_aff_odd_NE))\n",
      "C:\\Users\\malann\\AppData\\Local\\Temp\\ipykernel_239232\\2349117804.py:74: FutureWarning: Parameters \"info\", \"data\", \"times\", \"nave\" are deprecated and will be removed in version 1.8. For a quick fix, use ``AverageTFRArray`` with the same parameters. For a long-term fix, see the docstring notes.\n",
      "  tfr_typ_E = mne.time_frequency.AverageTFR(epochs_aff_typ_E.info, con_typ_E.get_data(), times, freqs, len(epochs_aff_typ_E))\n",
      "C:\\Users\\malann\\AppData\\Local\\Temp\\ipykernel_239232\\2349117804.py:75: FutureWarning: Parameters \"info\", \"data\", \"times\", \"nave\" are deprecated and will be removed in version 1.8. For a quick fix, use ``AverageTFRArray`` with the same parameters. For a long-term fix, see the docstring notes.\n",
      "  tfr_typ_NE = mne.time_frequency.AverageTFR(epochs_aff_typ_NE.info, con_typ_NE.get_data(), times, freqs, len(epochs_aff_typ_NE))\n",
      "[Parallel(n_jobs=30)]: Using backend LokyBackend with 30 concurrent workers.\n"
     ]
    },
    {
     "name": "stdout",
     "output_type": "stream",
     "text": [
      "[Connectivity computation done]\n",
      "Connectivity computation...\n"
     ]
    },
    {
     "name": "stderr",
     "output_type": "stream",
     "text": [
      "[Parallel(n_jobs=30)]: Done   2 out of  10 | elapsed:    0.2s remaining:    1.0s\n",
      "[Parallel(n_jobs=30)]: Done   5 out of  10 | elapsed:    0.2s remaining:    0.2s\n",
      "[Parallel(n_jobs=30)]: Done   8 out of  10 | elapsed:    0.3s remaining:    0.0s\n",
      "[Parallel(n_jobs=30)]: Done  10 out of  10 | elapsed:    0.3s finished\n"
     ]
    },
    {
     "name": "stdout",
     "output_type": "stream",
     "text": [
      "    computing connectivity for 18 connections\n",
      "    using t=0.000s..1.500s for estimation (301 points)\n",
      "    computing connectivity for the bands:\n",
      "     band 1: 4.0Hz..7.0Hz (4 points)\n",
      "     band 2: 8.0Hz..12.0Hz (5 points)\n",
      "     band 3: 13.0Hz..20.0Hz (8 points)\n",
      "     band 4: 21.0Hz..30.0Hz (10 points)\n",
      "    connectivity scores will be averaged for each band\n",
      "    using CWT with Morlet wavelets to estimate spectra\n",
      "    the following metrics will be computed: Coherence\n",
      "    computing cross-spectral density for epochs 1..10\n"
     ]
    },
    {
     "name": "stderr",
     "output_type": "stream",
     "text": [
      "[Parallel(n_jobs=30)]: Using backend LokyBackend with 30 concurrent workers.\n",
      "[Parallel(n_jobs=30)]: Done   2 out of  10 | elapsed:    0.0s remaining:    0.4s\n"
     ]
    },
    {
     "name": "stdout",
     "output_type": "stream",
     "text": [
      "[Connectivity computation done]\n",
      "Connectivity computation...\n",
      "    computing connectivity for 18 connections\n",
      "    using t=0.000s..1.500s for estimation (301 points)\n",
      "    computing connectivity for the bands:\n",
      "     band 1: 4.0Hz..7.0Hz (4 points)\n",
      "     band 2: 8.0Hz..12.0Hz (5 points)\n",
      "     band 3: 13.0Hz..20.0Hz (8 points)\n"
     ]
    },
    {
     "name": "stderr",
     "output_type": "stream",
     "text": [
      "[Parallel(n_jobs=30)]: Done   5 out of  10 | elapsed:    0.1s remaining:    0.1s\n",
      "[Parallel(n_jobs=30)]: Done   8 out of  10 | elapsed:    0.2s remaining:    0.0s\n",
      "[Parallel(n_jobs=30)]: Done  10 out of  10 | elapsed:    0.3s finished\n"
     ]
    },
    {
     "name": "stdout",
     "output_type": "stream",
     "text": [
      "     band 4: 21.0Hz..30.0Hz (10 points)\n",
      "    connectivity scores will be averaged for each band\n",
      "    using CWT with Morlet wavelets to estimate spectra\n",
      "    the following metrics will be computed: Coherence\n",
      "    computing cross-spectral density for epochs 1..30\n"
     ]
    },
    {
     "name": "stderr",
     "output_type": "stream",
     "text": [
      "[Parallel(n_jobs=30)]: Using backend LokyBackend with 30 concurrent workers.\n",
      "[Parallel(n_jobs=30)]: Done   8 out of  30 | elapsed:    1.1s remaining:    3.2s\n",
      "[Parallel(n_jobs=30)]: Done  15 out of  30 | elapsed:    1.2s remaining:    1.2s\n",
      "[Parallel(n_jobs=30)]: Done  22 out of  30 | elapsed:    1.3s remaining:    0.4s\n"
     ]
    },
    {
     "name": "stdout",
     "output_type": "stream",
     "text": [
      "    computing cross-spectral density for epochs 31..42\n"
     ]
    },
    {
     "name": "stderr",
     "output_type": "stream",
     "text": [
      "[Parallel(n_jobs=30)]: Done  30 out of  30 | elapsed:    1.3s finished\n",
      "[Parallel(n_jobs=30)]: Using backend LokyBackend with 30 concurrent workers.\n",
      "[Parallel(n_jobs=30)]: Done   4 out of  12 | elapsed:    0.0s remaining:    0.2s\n"
     ]
    },
    {
     "name": "stdout",
     "output_type": "stream",
     "text": [
      "[Connectivity computation done]\n",
      "Connectivity computation...\n",
      "    computing connectivity for 18 connections\n",
      "    using t=0.000s..1.500s for estimation (301 points)\n",
      "    computing connectivity for the bands:\n",
      "     band 1: 4.0Hz..7.0Hz (4 points)\n",
      "     band 2: 8.0Hz..12.0Hz (5 points)\n",
      "     band 3: 13.0Hz..20.0Hz (8 points)\n",
      "     band 4: 21.0Hz..30.0Hz (10 points)\n",
      "    connectivity scores will be averaged for each band\n",
      "    using CWT with Morlet wavelets to estimate spectra\n",
      "    the following metrics will be computed: Coherence\n",
      "    computing cross-spectral density for epochs 1..30\n"
     ]
    },
    {
     "name": "stderr",
     "output_type": "stream",
     "text": [
      "[Parallel(n_jobs=30)]: Done   7 out of  12 | elapsed:    0.1s remaining:    0.0s\n",
      "[Parallel(n_jobs=30)]: Done  10 out of  12 | elapsed:    0.1s remaining:    0.0s\n",
      "[Parallel(n_jobs=30)]: Done  12 out of  12 | elapsed:    0.1s finished\n",
      "[Parallel(n_jobs=30)]: Using backend LokyBackend with 30 concurrent workers.\n",
      "[Parallel(n_jobs=30)]: Done   8 out of  30 | elapsed:    0.3s remaining:    1.0s\n",
      "[Parallel(n_jobs=30)]: Done  15 out of  30 | elapsed:    0.6s remaining:    0.6s\n",
      "[Parallel(n_jobs=30)]: Done  22 out of  30 | elapsed:    0.9s remaining:    0.3s\n"
     ]
    },
    {
     "name": "stdout",
     "output_type": "stream",
     "text": [
      "    computing cross-spectral density for epochs 31..42\n"
     ]
    },
    {
     "name": "stderr",
     "output_type": "stream",
     "text": [
      "[Parallel(n_jobs=30)]: Done  30 out of  30 | elapsed:    1.2s finished\n",
      "[Parallel(n_jobs=30)]: Using backend LokyBackend with 30 concurrent workers.\n"
     ]
    },
    {
     "name": "stdout",
     "output_type": "stream",
     "text": [
      "[Connectivity computation done]\n"
     ]
    },
    {
     "name": "stderr",
     "output_type": "stream",
     "text": [
      "[Parallel(n_jobs=30)]: Done   4 out of  12 | elapsed:    2.3s remaining:    4.7s\n",
      "[Parallel(n_jobs=30)]: Done   7 out of  12 | elapsed:    2.4s remaining:    1.7s\n",
      "[Parallel(n_jobs=30)]: Done  10 out of  12 | elapsed:    2.4s remaining:    0.4s\n",
      "[Parallel(n_jobs=30)]: Done  12 out of  12 | elapsed:    2.5s finished\n"
     ]
    },
    {
     "name": "stdout",
     "output_type": "stream",
     "text": [
      "Connectivity computation...\n",
      "    computing connectivity for 18 connections\n",
      "    using t=0.000s..1.500s for estimation (301 points)\n",
      "    computing connectivity for the bands:\n",
      "     band 1: 4.0Hz..7.0Hz (4 points)\n",
      "     band 2: 8.0Hz..12.0Hz (5 points)\n",
      "     band 3: 13.0Hz..20.0Hz (8 points)\n",
      "     band 4: 21.0Hz..30.0Hz (10 points)\n",
      "    connectivity scores will be averaged for each band\n",
      "    using CWT with Morlet wavelets to estimate spectra\n",
      "    the following metrics will be computed: Coherence\n",
      "    computing cross-spectral density for epochs 1..10\n"
     ]
    },
    {
     "name": "stderr",
     "output_type": "stream",
     "text": [
      "C:\\Users\\malann\\AppData\\Local\\Temp\\ipykernel_239232\\2349117804.py:69: FutureWarning: Parameters \"info\", \"data\", \"times\", \"nave\" are deprecated and will be removed in version 1.8. For a quick fix, use ``AverageTFRArray`` with the same parameters. For a long-term fix, see the docstring notes.\n",
      "  tfr_odd_E = mne.time_frequency.AverageTFR(epochs_aff_odd_E.info, con_odd_E.get_data(), times, freqs, len(epochs_aff_odd_E))\n",
      "C:\\Users\\malann\\AppData\\Local\\Temp\\ipykernel_239232\\2349117804.py:70: FutureWarning: Parameters \"info\", \"data\", \"times\", \"nave\" are deprecated and will be removed in version 1.8. For a quick fix, use ``AverageTFRArray`` with the same parameters. For a long-term fix, see the docstring notes.\n",
      "  tfr_odd_NE = mne.time_frequency.AverageTFR(epochs_aff_odd_NE.info, con_odd_NE.get_data(), times, freqs, len(epochs_aff_odd_NE))\n",
      "C:\\Users\\malann\\AppData\\Local\\Temp\\ipykernel_239232\\2349117804.py:74: FutureWarning: Parameters \"info\", \"data\", \"times\", \"nave\" are deprecated and will be removed in version 1.8. For a quick fix, use ``AverageTFRArray`` with the same parameters. For a long-term fix, see the docstring notes.\n",
      "  tfr_typ_E = mne.time_frequency.AverageTFR(epochs_aff_typ_E.info, con_typ_E.get_data(), times, freqs, len(epochs_aff_typ_E))\n",
      "C:\\Users\\malann\\AppData\\Local\\Temp\\ipykernel_239232\\2349117804.py:75: FutureWarning: Parameters \"info\", \"data\", \"times\", \"nave\" are deprecated and will be removed in version 1.8. For a quick fix, use ``AverageTFRArray`` with the same parameters. For a long-term fix, see the docstring notes.\n",
      "  tfr_typ_NE = mne.time_frequency.AverageTFR(epochs_aff_typ_NE.info, con_typ_NE.get_data(), times, freqs, len(epochs_aff_typ_NE))\n",
      "[Parallel(n_jobs=30)]: Using backend LokyBackend with 30 concurrent workers.\n",
      "[Parallel(n_jobs=30)]: Done   2 out of  10 | elapsed:    0.1s remaining:    0.5s\n"
     ]
    },
    {
     "name": "stdout",
     "output_type": "stream",
     "text": [
      "[Connectivity computation done]\n",
      "Connectivity computation...\n",
      "    computing connectivity for 18 connections\n",
      "    using t=0.000s..1.500s for estimation (301 points)\n",
      "    computing connectivity for the bands:\n",
      "     band 1: 4.0Hz..7.0Hz (4 points)\n",
      "     band 2: 8.0Hz..12.0Hz (5 points)\n",
      "     band 3: 13.0Hz..20.0Hz (8 points)\n",
      "     band 4: 21.0Hz..30.0Hz (10 points)\n",
      "    connectivity scores will be averaged for each band\n",
      "    using CWT with Morlet wavelets to estimate spectra\n"
     ]
    },
    {
     "name": "stderr",
     "output_type": "stream",
     "text": [
      "[Parallel(n_jobs=30)]: Done   5 out of  10 | elapsed:    0.1s remaining:    0.1s\n",
      "[Parallel(n_jobs=30)]: Done   8 out of  10 | elapsed:    0.2s remaining:    0.0s\n",
      "[Parallel(n_jobs=30)]: Done  10 out of  10 | elapsed:    0.3s finished\n"
     ]
    },
    {
     "name": "stdout",
     "output_type": "stream",
     "text": [
      "    the following metrics will be computed: Coherence\n",
      "    computing cross-spectral density for epochs 1..10\n"
     ]
    },
    {
     "name": "stderr",
     "output_type": "stream",
     "text": [
      "[Parallel(n_jobs=30)]: Using backend LokyBackend with 30 concurrent workers.\n",
      "[Parallel(n_jobs=30)]: Done   2 out of  10 | elapsed:    0.2s remaining:    1.0s\n"
     ]
    },
    {
     "name": "stdout",
     "output_type": "stream",
     "text": [
      "[Connectivity computation done]\n"
     ]
    },
    {
     "name": "stderr",
     "output_type": "stream",
     "text": [
      "[Parallel(n_jobs=30)]: Done   5 out of  10 | elapsed:    0.4s remaining:    0.4s\n",
      "[Parallel(n_jobs=30)]: Done   8 out of  10 | elapsed:    0.5s remaining:    0.0s\n",
      "[Parallel(n_jobs=30)]: Done  10 out of  10 | elapsed:    0.5s finished\n"
     ]
    },
    {
     "name": "stdout",
     "output_type": "stream",
     "text": [
      "Connectivity computation...\n",
      "    computing connectivity for 18 connections\n",
      "    using t=0.000s..1.500s for estimation (301 points)\n",
      "    computing connectivity for the bands:\n",
      "     band 1: 4.0Hz..7.0Hz (4 points)\n",
      "     band 2: 8.0Hz..12.0Hz (5 points)\n",
      "     band 3: 13.0Hz..20.0Hz (8 points)\n",
      "     band 4: 21.0Hz..30.0Hz (10 points)\n",
      "    connectivity scores will be averaged for each band\n",
      "    using CWT with Morlet wavelets to estimate spectra\n",
      "    the following metrics will be computed: Coherence\n",
      "    computing cross-spectral density for epochs 1..30\n"
     ]
    },
    {
     "name": "stderr",
     "output_type": "stream",
     "text": [
      "[Parallel(n_jobs=30)]: Using backend LokyBackend with 30 concurrent workers.\n",
      "[Parallel(n_jobs=30)]: Done   8 out of  30 | elapsed:    0.5s remaining:    1.7s\n",
      "[Parallel(n_jobs=30)]: Done  15 out of  30 | elapsed:    1.1s remaining:    1.1s\n"
     ]
    },
    {
     "name": "stdout",
     "output_type": "stream",
     "text": [
      "    computing cross-spectral density for epochs 31..42\n"
     ]
    },
    {
     "name": "stderr",
     "output_type": "stream",
     "text": [
      "[Parallel(n_jobs=30)]: Done  22 out of  30 | elapsed:    1.5s remaining:    0.5s\n",
      "[Parallel(n_jobs=30)]: Done  30 out of  30 | elapsed:    1.6s finished\n",
      "[Parallel(n_jobs=30)]: Using backend LokyBackend with 30 concurrent workers.\n",
      "[Parallel(n_jobs=30)]: Done   4 out of  12 | elapsed:    0.3s remaining:    0.7s\n",
      "[Parallel(n_jobs=30)]: Done   7 out of  12 | elapsed:    0.4s remaining:    0.2s\n",
      "[Parallel(n_jobs=30)]: Done  10 out of  12 | elapsed:    0.5s remaining:    0.0s\n",
      "[Parallel(n_jobs=30)]: Done  12 out of  12 | elapsed:    0.5s finished\n"
     ]
    },
    {
     "name": "stdout",
     "output_type": "stream",
     "text": [
      "[Connectivity computation done]\n",
      "Connectivity computation...\n",
      "    computing connectivity for 18 connections\n",
      "    using t=0.000s..1.500s for estimation (301 points)\n",
      "    computing connectivity for the bands:\n",
      "     band 1: 4.0Hz..7.0Hz (4 points)\n",
      "     band 2: 8.0Hz..12.0Hz (5 points)\n",
      "     band 3: 13.0Hz..20.0Hz (8 points)\n",
      "     band 4: 21.0Hz..30.0Hz (10 points)\n",
      "    connectivity scores will be averaged for each band\n",
      "    using CWT with Morlet wavelets to estimate spectra\n",
      "    the following metrics will be computed: Coherence\n",
      "    computing cross-spectral density for epochs 1..30\n"
     ]
    },
    {
     "name": "stderr",
     "output_type": "stream",
     "text": [
      "[Parallel(n_jobs=30)]: Using backend LokyBackend with 30 concurrent workers.\n",
      "[Parallel(n_jobs=30)]: Done   8 out of  30 | elapsed:    0.4s remaining:    1.2s\n",
      "[Parallel(n_jobs=30)]: Done  15 out of  30 | elapsed:    0.5s remaining:    0.5s\n"
     ]
    },
    {
     "name": "stdout",
     "output_type": "stream",
     "text": [
      "    computing cross-spectral density for epochs 31..42\n"
     ]
    },
    {
     "name": "stderr",
     "output_type": "stream",
     "text": [
      "[Parallel(n_jobs=30)]: Done  22 out of  30 | elapsed:    0.6s remaining:    0.1s\n",
      "[Parallel(n_jobs=30)]: Done  30 out of  30 | elapsed:    0.7s finished\n",
      "[Parallel(n_jobs=30)]: Using backend LokyBackend with 30 concurrent workers.\n"
     ]
    },
    {
     "name": "stdout",
     "output_type": "stream",
     "text": [
      "[Connectivity computation done]\n",
      "Connectivity computation...\n",
      "    computing connectivity for 18 connections\n",
      "    using t=0.000s..1.500s for estimation (301 points)\n",
      "    computing connectivity for the bands:\n",
      "     band 1: 4.0Hz..7.0Hz (4 points)\n",
      "     band 2: 8.0Hz..12.0Hz (5 points)\n",
      "     band 3: 13.0Hz..20.0Hz (8 points)\n",
      "     band 4: 21.0Hz..30.0Hz (10 points)\n",
      "    connectivity scores will be averaged for each band\n",
      "    using CWT with Morlet wavelets to estimate spectra\n",
      "    the following metrics will be computed: Coherence\n",
      "    computing cross-spectral density for epochs 1..10\n"
     ]
    },
    {
     "name": "stderr",
     "output_type": "stream",
     "text": [
      "[Parallel(n_jobs=30)]: Done   4 out of  12 | elapsed:    0.0s remaining:    0.2s\n",
      "[Parallel(n_jobs=30)]: Done   7 out of  12 | elapsed:    0.1s remaining:    0.0s\n",
      "[Parallel(n_jobs=30)]: Done  10 out of  12 | elapsed:    0.1s remaining:    0.0s\n",
      "[Parallel(n_jobs=30)]: Done  12 out of  12 | elapsed:    0.1s finished\n",
      "C:\\Users\\malann\\AppData\\Local\\Temp\\ipykernel_239232\\2349117804.py:69: FutureWarning: Parameters \"info\", \"data\", \"times\", \"nave\" are deprecated and will be removed in version 1.8. For a quick fix, use ``AverageTFRArray`` with the same parameters. For a long-term fix, see the docstring notes.\n",
      "  tfr_odd_E = mne.time_frequency.AverageTFR(epochs_aff_odd_E.info, con_odd_E.get_data(), times, freqs, len(epochs_aff_odd_E))\n",
      "C:\\Users\\malann\\AppData\\Local\\Temp\\ipykernel_239232\\2349117804.py:70: FutureWarning: Parameters \"info\", \"data\", \"times\", \"nave\" are deprecated and will be removed in version 1.8. For a quick fix, use ``AverageTFRArray`` with the same parameters. For a long-term fix, see the docstring notes.\n",
      "  tfr_odd_NE = mne.time_frequency.AverageTFR(epochs_aff_odd_NE.info, con_odd_NE.get_data(), times, freqs, len(epochs_aff_odd_NE))\n",
      "C:\\Users\\malann\\AppData\\Local\\Temp\\ipykernel_239232\\2349117804.py:74: FutureWarning: Parameters \"info\", \"data\", \"times\", \"nave\" are deprecated and will be removed in version 1.8. For a quick fix, use ``AverageTFRArray`` with the same parameters. For a long-term fix, see the docstring notes.\n",
      "  tfr_typ_E = mne.time_frequency.AverageTFR(epochs_aff_typ_E.info, con_typ_E.get_data(), times, freqs, len(epochs_aff_typ_E))\n",
      "C:\\Users\\malann\\AppData\\Local\\Temp\\ipykernel_239232\\2349117804.py:75: FutureWarning: Parameters \"info\", \"data\", \"times\", \"nave\" are deprecated and will be removed in version 1.8. For a quick fix, use ``AverageTFRArray`` with the same parameters. For a long-term fix, see the docstring notes.\n",
      "  tfr_typ_NE = mne.time_frequency.AverageTFR(epochs_aff_typ_NE.info, con_typ_NE.get_data(), times, freqs, len(epochs_aff_typ_NE))\n",
      "[Parallel(n_jobs=30)]: Using backend LokyBackend with 30 concurrent workers.\n"
     ]
    },
    {
     "name": "stdout",
     "output_type": "stream",
     "text": [
      "[Connectivity computation done]\n",
      "Connectivity computation...\n",
      "    computing connectivity for 18 connections\n",
      "    using t=0.000s..1.500s for estimation (301 points)\n",
      "    computing connectivity for the bands:\n",
      "     band 1: 4.0Hz..7.0Hz (4 points)\n",
      "     band 2: 8.0Hz..12.0Hz (5 points)\n",
      "     band 3: 13.0Hz..20.0Hz (8 points)\n",
      "     band 4: 21.0Hz..30.0Hz (10 points)\n",
      "    connectivity scores will be averaged for each band\n",
      "    using CWT with Morlet wavelets to estimate spectra\n",
      "    the following metrics will be computed: Coherence\n",
      "    computing cross-spectral density for epochs 1..10\n"
     ]
    },
    {
     "name": "stderr",
     "output_type": "stream",
     "text": [
      "[Parallel(n_jobs=30)]: Done   2 out of  10 | elapsed:    0.0s remaining:    0.3s\n",
      "[Parallel(n_jobs=30)]: Done   5 out of  10 | elapsed:    0.0s remaining:    0.0s\n",
      "[Parallel(n_jobs=30)]: Done   8 out of  10 | elapsed:    0.1s remaining:    0.0s\n",
      "[Parallel(n_jobs=30)]: Done  10 out of  10 | elapsed:    0.1s finished\n",
      "[Parallel(n_jobs=30)]: Using backend LokyBackend with 30 concurrent workers.\n"
     ]
    },
    {
     "name": "stdout",
     "output_type": "stream",
     "text": [
      "[Connectivity computation done]\n",
      "Connectivity computation...\n",
      "    computing connectivity for 18 connections\n",
      "    using t=0.000s..1.500s for estimation (301 points)\n",
      "    computing connectivity for the bands:\n",
      "     band 1: 4.0Hz..7.0Hz (4 points)\n",
      "     band 2: 8.0Hz..12.0Hz (5 points)\n",
      "     band 3: 13.0Hz..20.0Hz (8 points)\n",
      "     band 4: 21.0Hz..30.0Hz (10 points)\n",
      "    connectivity scores will be averaged for each band\n",
      "    using CWT with Morlet wavelets to estimate spectra\n",
      "    the following metrics will be computed: Coherence\n",
      "    computing cross-spectral density for epochs 1..30\n"
     ]
    },
    {
     "name": "stderr",
     "output_type": "stream",
     "text": [
      "[Parallel(n_jobs=30)]: Done   2 out of  10 | elapsed:    0.0s remaining:    0.3s\n",
      "[Parallel(n_jobs=30)]: Done   5 out of  10 | elapsed:    0.0s remaining:    0.0s\n",
      "[Parallel(n_jobs=30)]: Done   8 out of  10 | elapsed:    0.1s remaining:    0.0s\n",
      "[Parallel(n_jobs=30)]: Done  10 out of  10 | elapsed:    0.1s finished\n",
      "[Parallel(n_jobs=30)]: Using backend LokyBackend with 30 concurrent workers.\n",
      "[Parallel(n_jobs=30)]: Done   8 out of  30 | elapsed:    0.3s remaining:    1.1s\n",
      "[Parallel(n_jobs=30)]: Done  15 out of  30 | elapsed:    0.5s remaining:    0.5s\n",
      "[Parallel(n_jobs=30)]: Done  22 out of  30 | elapsed:    0.9s remaining:    0.3s\n"
     ]
    },
    {
     "name": "stdout",
     "output_type": "stream",
     "text": [
      "    computing cross-spectral density for epochs 31..42\n"
     ]
    },
    {
     "name": "stderr",
     "output_type": "stream",
     "text": [
      "[Parallel(n_jobs=30)]: Done  30 out of  30 | elapsed:    1.3s finished\n",
      "[Parallel(n_jobs=30)]: Using backend LokyBackend with 30 concurrent workers.\n",
      "[Parallel(n_jobs=30)]: Done   4 out of  12 | elapsed:    0.2s remaining:    0.6s\n",
      "[Parallel(n_jobs=30)]: Done   7 out of  12 | elapsed:    0.3s remaining:    0.2s\n"
     ]
    },
    {
     "name": "stdout",
     "output_type": "stream",
     "text": [
      "[Connectivity computation done]\n"
     ]
    },
    {
     "name": "stderr",
     "output_type": "stream",
     "text": [
      "[Parallel(n_jobs=30)]: Done  10 out of  12 | elapsed:    0.5s remaining:    0.0s\n",
      "[Parallel(n_jobs=30)]: Done  12 out of  12 | elapsed:    0.6s finished\n"
     ]
    },
    {
     "name": "stdout",
     "output_type": "stream",
     "text": [
      "Connectivity computation...\n",
      "    computing connectivity for 18 connections\n",
      "    using t=0.000s..1.500s for estimation (301 points)\n",
      "    computing connectivity for the bands:\n",
      "     band 1: 4.0Hz..7.0Hz (4 points)\n",
      "     band 2: 8.0Hz..12.0Hz (5 points)\n",
      "     band 3: 13.0Hz..20.0Hz (8 points)\n",
      "     band 4: 21.0Hz..30.0Hz (10 points)\n",
      "    connectivity scores will be averaged for each band\n",
      "    using CWT with Morlet wavelets to estimate spectra\n",
      "    the following metrics will be computed: Coherence\n",
      "    computing cross-spectral density for epochs 1..30\n"
     ]
    },
    {
     "name": "stderr",
     "output_type": "stream",
     "text": [
      "[Parallel(n_jobs=30)]: Using backend LokyBackend with 30 concurrent workers.\n",
      "[Parallel(n_jobs=30)]: Done   1 out of   1 | elapsed:    0.0s finished\n",
      "[Parallel(n_jobs=30)]: Done  15 out of  30 | elapsed:    0.9s remaining:    0.9s\n",
      "[Parallel(n_jobs=30)]: Done  22 out of  30 | elapsed:    1.0s remaining:    0.3s\n"
     ]
    },
    {
     "name": "stdout",
     "output_type": "stream",
     "text": [
      "    computing cross-spectral density for epochs 31..42\n"
     ]
    },
    {
     "name": "stderr",
     "output_type": "stream",
     "text": [
      "[Parallel(n_jobs=30)]: Done  30 out of  30 | elapsed:    1.2s finished\n",
      "[Parallel(n_jobs=30)]: Using backend LokyBackend with 30 concurrent workers.\n",
      "[Parallel(n_jobs=30)]: Done   4 out of  12 | elapsed:    0.0s remaining:    0.2s\n"
     ]
    },
    {
     "name": "stdout",
     "output_type": "stream",
     "text": [
      "[Connectivity computation done]\n",
      "Connectivity computation...\n",
      "    computing connectivity for 18 connections\n",
      "    using t=0.000s..1.500s for estimation (301 points)\n",
      "    computing connectivity for the bands:\n",
      "     band 1: 4.0Hz..7.0Hz (4 points)\n",
      "     band 2: 8.0Hz..12.0Hz (5 points)\n",
      "     band 3: 13.0Hz..20.0Hz (8 points)\n",
      "     band 4: 21.0Hz..30.0Hz (10 points)\n",
      "    connectivity scores will be averaged for each band\n",
      "    using CWT with Morlet wavelets to estimate spectra\n",
      "    the following metrics will be computed: Coherence\n",
      "    computing cross-spectral density for epochs 1..10\n"
     ]
    },
    {
     "name": "stderr",
     "output_type": "stream",
     "text": [
      "[Parallel(n_jobs=30)]: Done   7 out of  12 | elapsed:    0.1s remaining:    0.1s\n",
      "[Parallel(n_jobs=30)]: Done  10 out of  12 | elapsed:    0.2s remaining:    0.0s\n",
      "[Parallel(n_jobs=30)]: Done  12 out of  12 | elapsed:    0.2s finished\n",
      "C:\\Users\\malann\\AppData\\Local\\Temp\\ipykernel_239232\\2349117804.py:69: FutureWarning: Parameters \"info\", \"data\", \"times\", \"nave\" are deprecated and will be removed in version 1.8. For a quick fix, use ``AverageTFRArray`` with the same parameters. For a long-term fix, see the docstring notes.\n",
      "  tfr_odd_E = mne.time_frequency.AverageTFR(epochs_aff_odd_E.info, con_odd_E.get_data(), times, freqs, len(epochs_aff_odd_E))\n",
      "C:\\Users\\malann\\AppData\\Local\\Temp\\ipykernel_239232\\2349117804.py:70: FutureWarning: Parameters \"info\", \"data\", \"times\", \"nave\" are deprecated and will be removed in version 1.8. For a quick fix, use ``AverageTFRArray`` with the same parameters. For a long-term fix, see the docstring notes.\n",
      "  tfr_odd_NE = mne.time_frequency.AverageTFR(epochs_aff_odd_NE.info, con_odd_NE.get_data(), times, freqs, len(epochs_aff_odd_NE))\n",
      "C:\\Users\\malann\\AppData\\Local\\Temp\\ipykernel_239232\\2349117804.py:74: FutureWarning: Parameters \"info\", \"data\", \"times\", \"nave\" are deprecated and will be removed in version 1.8. For a quick fix, use ``AverageTFRArray`` with the same parameters. For a long-term fix, see the docstring notes.\n",
      "  tfr_typ_E = mne.time_frequency.AverageTFR(epochs_aff_typ_E.info, con_typ_E.get_data(), times, freqs, len(epochs_aff_typ_E))\n",
      "C:\\Users\\malann\\AppData\\Local\\Temp\\ipykernel_239232\\2349117804.py:75: FutureWarning: Parameters \"info\", \"data\", \"times\", \"nave\" are deprecated and will be removed in version 1.8. For a quick fix, use ``AverageTFRArray`` with the same parameters. For a long-term fix, see the docstring notes.\n",
      "  tfr_typ_NE = mne.time_frequency.AverageTFR(epochs_aff_typ_NE.info, con_typ_NE.get_data(), times, freqs, len(epochs_aff_typ_NE))\n",
      "[Parallel(n_jobs=30)]: Using backend LokyBackend with 30 concurrent workers.\n",
      "[Parallel(n_jobs=30)]: Done   2 out of  10 | elapsed:    0.0s remaining:    0.2s\n",
      "[Parallel(n_jobs=30)]: Done   5 out of  10 | elapsed:    0.2s remaining:    0.2s\n",
      "[Parallel(n_jobs=30)]: Done   8 out of  10 | elapsed:    0.3s remaining:    0.0s\n",
      "[Parallel(n_jobs=30)]: Done  10 out of  10 | elapsed:    0.3s finished\n"
     ]
    },
    {
     "name": "stdout",
     "output_type": "stream",
     "text": [
      "[Connectivity computation done]\n",
      "Connectivity computation...\n",
      "    computing connectivity for 18 connections\n",
      "    using t=0.000s..1.500s for estimation (301 points)\n",
      "    computing connectivity for the bands:\n",
      "     band 1: 4.0Hz..7.0Hz (4 points)\n",
      "     band 2: 8.0Hz..12.0Hz (5 points)\n",
      "     band 3: 13.0Hz..20.0Hz (8 points)\n",
      "     band 4: 21.0Hz..30.0Hz (10 points)\n",
      "    connectivity scores will be averaged for each band\n",
      "    using CWT with Morlet wavelets to estimate spectra\n",
      "    the following metrics will be computed: Coherence\n",
      "    computing cross-spectral density for epochs 1..10\n"
     ]
    },
    {
     "name": "stderr",
     "output_type": "stream",
     "text": [
      "[Parallel(n_jobs=30)]: Using backend LokyBackend with 30 concurrent workers.\n",
      "[Parallel(n_jobs=30)]: Done   2 out of  10 | elapsed:    0.1s remaining:    0.8s\n",
      "[Parallel(n_jobs=30)]: Done   5 out of  10 | elapsed:    0.3s remaining:    0.3s\n",
      "[Parallel(n_jobs=30)]: Done   8 out of  10 | elapsed:    0.4s remaining:    0.0s\n"
     ]
    },
    {
     "name": "stdout",
     "output_type": "stream",
     "text": [
      "[Connectivity computation done]\n",
      "Connectivity computation...\n",
      "    computing connectivity for 18 connections\n",
      "    using t=0.000s..1.500s for estimation (301 points)\n",
      "    computing connectivity for the bands:\n",
      "     band 1: 4.0Hz..7.0Hz (4 points)\n",
      "     band 2: 8.0Hz..12.0Hz (5 points)\n",
      "     band 3: 13.0Hz..20.0Hz (8 points)\n",
      "     band 4: 21.0Hz..30.0Hz (10 points)\n",
      "    connectivity scores will be averaged for each band\n",
      "    using CWT with Morlet wavelets to estimate spectra\n",
      "    the following metrics will be computed: Coherence\n",
      "    computing cross-spectral density for epochs 1..30\n"
     ]
    },
    {
     "name": "stderr",
     "output_type": "stream",
     "text": [
      "[Parallel(n_jobs=30)]: Done  10 out of  10 | elapsed:    0.6s finished\n",
      "[Parallel(n_jobs=30)]: Using backend LokyBackend with 30 concurrent workers.\n",
      "[Parallel(n_jobs=30)]: Done   8 out of  30 | elapsed:    0.3s remaining:    1.1s\n",
      "[Parallel(n_jobs=30)]: Done  15 out of  30 | elapsed:    0.6s remaining:    0.6s\n",
      "[Parallel(n_jobs=30)]: Done  22 out of  30 | elapsed:    0.9s remaining:    0.3s\n"
     ]
    },
    {
     "name": "stdout",
     "output_type": "stream",
     "text": [
      "    computing cross-spectral density for epochs 31..42\n"
     ]
    },
    {
     "name": "stderr",
     "output_type": "stream",
     "text": [
      "[Parallel(n_jobs=30)]: Done  30 out of  30 | elapsed:    1.2s finished\n",
      "[Parallel(n_jobs=30)]: Using backend LokyBackend with 30 concurrent workers.\n",
      "[Parallel(n_jobs=30)]: Done   4 out of  12 | elapsed:    0.3s remaining:    0.6s\n",
      "[Parallel(n_jobs=30)]: Done   7 out of  12 | elapsed:    0.5s remaining:    0.3s\n"
     ]
    },
    {
     "name": "stdout",
     "output_type": "stream",
     "text": [
      "[Connectivity computation done]\n",
      "Connectivity computation...\n",
      "    computing connectivity for 18 connections\n",
      "    using t=0.000s..1.500s for estimation (301 points)\n",
      "    computing connectivity for the bands:\n",
      "     band 1: 4.0Hz..7.0Hz (4 points)\n",
      "     band 2: 8.0Hz..12.0Hz (5 points)\n",
      "     band 3: 13.0Hz..20.0Hz (8 points)\n",
      "     band 4: 21.0Hz..30.0Hz (10 points)\n",
      "    connectivity scores will be averaged for each band\n",
      "    using CWT with Morlet wavelets to estimate spectra\n",
      "    the following metrics will be computed: Coherence\n",
      "    computing cross-spectral density for epochs 1..30\n"
     ]
    },
    {
     "name": "stderr",
     "output_type": "stream",
     "text": [
      "[Parallel(n_jobs=30)]: Done  10 out of  12 | elapsed:    1.3s remaining:    0.2s\n",
      "[Parallel(n_jobs=30)]: Done  12 out of  12 | elapsed:    1.3s finished\n",
      "[Parallel(n_jobs=30)]: Using backend LokyBackend with 30 concurrent workers.\n",
      "[Parallel(n_jobs=30)]: Done   8 out of  30 | elapsed:    1.1s remaining:    3.2s\n",
      "[Parallel(n_jobs=30)]: Done  15 out of  30 | elapsed:    1.9s remaining:    1.9s\n",
      "[Parallel(n_jobs=30)]: Done  22 out of  30 | elapsed:    2.2s remaining:    0.7s\n"
     ]
    },
    {
     "name": "stdout",
     "output_type": "stream",
     "text": [
      "    computing cross-spectral density for epochs 31..42\n"
     ]
    },
    {
     "name": "stderr",
     "output_type": "stream",
     "text": [
      "[Parallel(n_jobs=30)]: Done  30 out of  30 | elapsed:    2.6s finished\n",
      "[Parallel(n_jobs=30)]: Using backend LokyBackend with 30 concurrent workers.\n",
      "[Parallel(n_jobs=30)]: Done   4 out of  12 | elapsed:    0.4s remaining:    1.0s\n",
      "[Parallel(n_jobs=30)]: Done   7 out of  12 | elapsed:    0.8s remaining:    0.5s\n",
      "[Parallel(n_jobs=30)]: Done  10 out of  12 | elapsed:    0.9s remaining:    0.1s\n"
     ]
    },
    {
     "name": "stdout",
     "output_type": "stream",
     "text": [
      "[Connectivity computation done]\n"
     ]
    },
    {
     "name": "stderr",
     "output_type": "stream",
     "text": [
      "[Parallel(n_jobs=30)]: Done  12 out of  12 | elapsed:    1.2s finished\n",
      "C:\\Users\\malann\\AppData\\Local\\Temp\\ipykernel_239232\\2349117804.py:69: FutureWarning: Parameters \"info\", \"data\", \"times\", \"nave\" are deprecated and will be removed in version 1.8. For a quick fix, use ``AverageTFRArray`` with the same parameters. For a long-term fix, see the docstring notes.\n",
      "  tfr_odd_E = mne.time_frequency.AverageTFR(epochs_aff_odd_E.info, con_odd_E.get_data(), times, freqs, len(epochs_aff_odd_E))\n",
      "C:\\Users\\malann\\AppData\\Local\\Temp\\ipykernel_239232\\2349117804.py:70: FutureWarning: Parameters \"info\", \"data\", \"times\", \"nave\" are deprecated and will be removed in version 1.8. For a quick fix, use ``AverageTFRArray`` with the same parameters. For a long-term fix, see the docstring notes.\n",
      "  tfr_odd_NE = mne.time_frequency.AverageTFR(epochs_aff_odd_NE.info, con_odd_NE.get_data(), times, freqs, len(epochs_aff_odd_NE))\n",
      "C:\\Users\\malann\\AppData\\Local\\Temp\\ipykernel_239232\\2349117804.py:74: FutureWarning: Parameters \"info\", \"data\", \"times\", \"nave\" are deprecated and will be removed in version 1.8. For a quick fix, use ``AverageTFRArray`` with the same parameters. For a long-term fix, see the docstring notes.\n",
      "  tfr_typ_E = mne.time_frequency.AverageTFR(epochs_aff_typ_E.info, con_typ_E.get_data(), times, freqs, len(epochs_aff_typ_E))\n",
      "C:\\Users\\malann\\AppData\\Local\\Temp\\ipykernel_239232\\2349117804.py:75: FutureWarning: Parameters \"info\", \"data\", \"times\", \"nave\" are deprecated and will be removed in version 1.8. For a quick fix, use ``AverageTFRArray`` with the same parameters. For a long-term fix, see the docstring notes.\n",
      "  tfr_typ_NE = mne.time_frequency.AverageTFR(epochs_aff_typ_NE.info, con_typ_NE.get_data(), times, freqs, len(epochs_aff_typ_NE))\n"
     ]
    }
   ],
   "source": [
    "\"\"\"\"Coherence\"\"\"\n",
    "\n",
    "# Define different time windows to look for coherence in Error detection and Error correction\n",
    "\n",
    "tmin_coh_lst = [ 0, f_max_time, 0, 0] #0 # Error detection, Error correction, Full time 0, f_max_time, 0 ,\n",
    "tmax_coh_lst = [f_max_time, 1.5, 1.1, 1.5] #1.5   f_max_time, 1.5, 1.5, \n",
    "\n",
    "for tmin_coh, tmax_coh in zip(tmin_coh_lst, tmax_coh_lst):\n",
    "\n",
    "    picks = mne.pick_types(epochs_aff_odd_E.info, eeg=True, dbs=True, emg= False,stim=False, eog=False,\n",
    "                           exclude='bads')\n",
    "\n",
    "    epochs_aff_odd_E.pick(['eeg','dbs'])\n",
    "    epochs_aff_odd_NE.pick(['eeg','dbs'])\n",
    "    epochs_aff_typ_E.pick(['eeg','dbs'])\n",
    "    epochs_aff_typ_NE.pick(['eeg','dbs'])\n",
    "    \n",
    "    # Use 'DBS' channels as seed\n",
    "            \n",
    "    seed_chs = epochs_aff_odd_E.copy().pick('dbs').ch_names\n",
    "    coh_diff_E = []\n",
    "    coh_diff_NE = []\n",
    "    for seed_ch in seed_chs:\n",
    "        \n",
    "        picks_ch_names = epochs_aff_odd_E.ch_names\n",
    "        # Create seed-target indices for connectivity computation\n",
    "        seed = picks_ch_names.index(seed_ch)\n",
    "        targets = np.arange(len(picks))\n",
    "        indices = seed_target_indices(seed, targets)    \n",
    "    \n",
    "        freq_band = ['Theta', 'Alpha', 'Low beta', 'High beta']\n",
    "        min_freq = (4, 8,13,21)\n",
    "        max_freq = (7, 12,20,30)    \n",
    "        \n",
    "        # Define wavelet frequencies and number of cycles\n",
    "        cwt_freqs = np.arange(1, 41, 1)\n",
    "        cwt_n_cycles = 7\n",
    "    \n",
    "        # Run the connectivity analysis using 2 parallel jobs\n",
    "        con_odd_E = spectral_connectivity_epochs(\n",
    "            epochs_aff_odd_E, indices=indices,\n",
    "            method='coh', mode='cwt_morlet', sfreq=sfreq, fmin = min_freq, fmax = max_freq, faverage =True, tmin = tmin_coh, tmax =tmax_coh,\n",
    "            cwt_freqs=cwt_freqs, cwt_n_cycles=cwt_n_cycles, n_jobs=30)\n",
    "    \n",
    "        con_typ_E = spectral_connectivity_epochs(\n",
    "            epochs_aff_typ_E, indices=indices,\n",
    "            method='coh', mode='cwt_morlet', sfreq=sfreq, fmin = min_freq, fmax = max_freq, faverage =True, tmin = tmin_coh, tmax =tmax_coh,\n",
    "            cwt_freqs=cwt_freqs, cwt_n_cycles=cwt_n_cycles, n_jobs=30)\n",
    "\n",
    "        con_odd_NE = spectral_connectivity_epochs(\n",
    "            epochs_aff_odd_NE, indices=indices,\n",
    "            method='coh', mode='cwt_morlet', sfreq=sfreq, fmin = min_freq, fmax = max_freq, faverage =True, tmin = tmin_coh, tmax =tmax_coh,\n",
    "            cwt_freqs=cwt_freqs, cwt_n_cycles=cwt_n_cycles, n_jobs=30)\n",
    "    \n",
    "        con_typ_NE = spectral_connectivity_epochs(\n",
    "            epochs_aff_typ_NE, indices=indices,\n",
    "            method='coh', mode='cwt_morlet', sfreq=sfreq, fmin = min_freq, fmax = max_freq, faverage =True, tmin = tmin_coh, tmax =tmax_coh,\n",
    "            cwt_freqs=cwt_freqs, cwt_n_cycles=cwt_n_cycles, n_jobs=30)\n",
    "        \n",
    "        \n",
    "        times = con_odd_E.times\n",
    "        freqs = con_odd_E.freqs\n",
    "    \n",
    "        # Mark the seed channel with a value of 1.0, so we can see it in the plot\n",
    "        # con_odd.get_data()[np.where(indices[1] == seed)] = 1.0\n",
    "        # con_typ.get_data()[np.where(indices[1] == seed)] = 1.0\n",
    "    \n",
    "        #layout = mne.find_layout(epochs.info, 'eeg')  # use full layout\n",
    "        tfr_odd_E = mne.time_frequency.AverageTFR(epochs_aff_odd_E.info, con_odd_E.get_data(), times, freqs, len(epochs_aff_odd_E))\n",
    "        tfr_odd_NE = mne.time_frequency.AverageTFR(epochs_aff_odd_NE.info, con_odd_NE.get_data(), times, freqs, len(epochs_aff_odd_NE))\n",
    "\n",
    "        #tfr_odd.save(data_dir+'tfr_odd'+st+seed_ch+'-tfr.h5',overwrite =True)\n",
    "    \n",
    "        tfr_typ_E = mne.time_frequency.AverageTFR(epochs_aff_typ_E.info, con_typ_E.get_data(), times, freqs, len(epochs_aff_typ_E))\n",
    "        tfr_typ_NE = mne.time_frequency.AverageTFR(epochs_aff_typ_NE.info, con_typ_NE.get_data(), times, freqs, len(epochs_aff_typ_NE))\n",
    "\n",
    "        #tfr_typ.save(data_dir+'tfr_typ'+st+seed_ch+'-tfr.h5',overwrite =True)\n",
    "        \n",
    "        # TFR differences in freq bands and time period 0 to 1.5s\n",
    "    \n",
    "        tfr_E = tfr_odd_E- tfr_typ_E\n",
    "        tfr_NE = tfr_odd_NE- tfr_typ_NE\n",
    "\n",
    "        \n",
    "        freq_band = ['Theta', 'Alpha', 'Low beta', 'High beta']\n",
    "            \n",
    "        n_channels = len(tfr_E.copy().pick('eeg').ch_names)\n",
    "        X1 = []\n",
    "        X2 = []\n",
    "        for n, band in enumerate(freq_band):\n",
    "            tfr_E_ch = []\n",
    "            tfr_NE_ch = []\n",
    "            for ch in range(n_channels):\n",
    "                tfr_E_ch.append((tfr_E.data[:,:,:].mean(axis=2)[ch,n]))\n",
    "                tfr_NE_ch.append((tfr_NE.data[:,:,:].mean(axis=2)[ch,n]))\n",
    "    \n",
    "            tfr_E_ch = np.array(tfr_E_ch).reshape(n_channels,1) \n",
    "            tfr_NE_ch = np.array(tfr_NE_ch).reshape(n_channels,1) \n",
    "            X1.append(tfr_E_ch)\n",
    "            X2.append(tfr_NE_ch)\n",
    "    \n",
    "        coh_diff_E.append(X1)\n",
    "        coh_diff_NE.append(X2)\n",
    "    \n",
    "    coh_diff_E = np.array(coh_diff_E)\n",
    "    coh_diff_NE = np.array(coh_diff_NE)\n",
    "    \n",
    "    file = f\"{base_dir}coh_diff_E_{sub}_{st}_{tmin_coh}_{tmax_coh}_ipsi\"\n",
    "    np.save(file, coh_diff_E)\n",
    "    \n",
    "    file = f\"{base_dir}coh_diff_NE_{sub}_{st}_{tmin_coh}_{tmax_coh}_ipsi\" #ipsi\n",
    "    np.save(file, coh_diff_NE)"
   ]
  },
  {
   "cell_type": "markdown",
   "id": "0a8f70e9-e29e-4e77-9180-f53e75033b1f",
   "metadata": {},
   "source": [
    "# Load coherence "
   ]
  },
  {
   "cell_type": "code",
   "execution_count": 121,
   "id": "620425fb",
   "metadata": {},
   "outputs": [],
   "source": [
    "'''\n",
    "\n",
    "file = file = f\"{base_dir}coh_diff_NE_{sub}_{st}_{tmin_coh_lst[0]}_{tmax_coh_lst[2]}_ipsi.npy\"\n",
    "coh_diff_NE = np.load(file) # Error Detection file \n",
    "\n",
    "file = f\"{base_dir}coh_diff_NE_permuted_2000_{sub}_{st}_{tmin_coh_lst[0]}_{tmax_coh_lst[2]}_ipsi.npy\"\n",
    "coh_diff_NE_permuted= np.load(file)\n",
    "\n",
    "# Error Detection\n",
    "\n",
    "file = f\"{base_dir}coh_diff_E_{sub}_{st}_{tmin_coh_lst[0]}_{tmax_coh_lst[0]}_ipsi.npy\"\n",
    "coh_diff_E_ED = np.load(file) # Error Detection file \n",
    "\n",
    "file = f\"{base_dir}coh_diff_E_permuted_2000_{sub}_{st}_{tmin_coh_lst[0]}_{tmax_coh_lst[0]}_ipsi.npy\"\n",
    "coh_diff_E_permuted_ED= np.load(file)\n",
    "\n",
    "file = f\"{base_dir}coh_diff_NE_{sub}_{st}_{tmin_coh_lst[0]}_{tmax_coh_lst[0]}_ipsi.npy\"\n",
    "coh_diff_NE_ED = np.load(file) # Error Detection file \n",
    "\n",
    "file = f\"{base_dir}coh_diff_NE_permuted_2000_{sub}_{st}_{tmin_coh_lst[0]}_{tmax_coh_lst[0]}_ipsi.npy\"\n",
    "coh_diff_NE_permuted_ED = np.load(file)\n",
    "\n",
    "#Error Correction\n",
    "\n",
    "file = f\"{base_dir}coh_diff_E_{sub}_{st}_{tmin_coh_lst[1]}_{tmax_coh_lst[1]}_ipsi.npy\"\n",
    "coh_diff_E_EC = np.load(file) # Error Detection file \n",
    "\n",
    "file = f\"{base_dir}coh_diff_E_permuted_2000_{sub}_{st}_{tmin_coh_lst[1]}_{tmax_coh_lst[1]}_ipsi.npy\"\n",
    "coh_diff_E_permuted_EC= np.load(file)\n",
    "\n",
    "file = f\"{base_dir}coh_diff_NE_{sub}_{st}_{tmin_coh_lst[1]}_{tmax_coh_lst[1]}_ipsi.npy\"\n",
    "coh_diff_NE_EC = np.load(file) # Error Detection file \n",
    "\n",
    "file = f\"{base_dir}coh_diff_NE_permuted_2000_{sub}_{st}_{tmin_coh_lst[1]}_{tmax_coh_lst[1]}_ipsi.npy\"\n",
    "coh_diff_NE_permuted_EC = np.load(file)\n",
    "\n",
    "\n",
    "file f\"{base_dir}coh_diff_{sub}_{st}_{tmin_coh_lst[0]}_{tmax_coh_lst[0]}_ipsi.npy\"\n",
    "coh_diff_ED = np.load(file) # Error Detection file \n",
    "\n",
    "file = f\"{base_dir}coh_diff_permuted_2000_{sub}_{st}_{tmin_coh_lst[0]}_{tmax_coh_lst[0]}_ipsi.npy\"\n",
    "coh_diff_permuted_ED= np.load(file)\n",
    "\n",
    "file = file = f\"{base_dir}coh_diff_{sub}_{st}_{tmin_coh_lst[1]}_{tmax_coh_lst[1]}_ipsi.npy\"\n",
    "coh_diff_EC = np.load(file)  # Error Correction file \n",
    "\n",
    "file = f\"{base_dir}coh_diff_permuted_2000_{sub}_{st}_{tmin_coh_lst[1]}_{tmax_coh_lst[1]}_ipsi.npy\"\n",
    "coh_diff_permuted_EC= np.load(file)\n",
    "\n",
    "\n",
    "file = f\"{base_dir}coh_diff_E_{sub}_{st}_{tmin_coh_lst[0]}_{tmax_coh_lst[2]}_ipsi.npy\"\n",
    "coh_diff_E_ED_EC = np.load(file) # Error Detection file \n",
    "\n",
    "file = f\"{base_dir}coh_diff_E_permuted_2000_{sub}_{st}_{tmin_coh_lst[0]}_{tmax_coh_lst[2]}_ipsi.npy\"\n",
    "coh_diff_E_permuted_ED_EC= np.load(file)\n",
    "\n",
    "\n",
    "file = f\"{base_dir}coh_diff_E_{sub}_{st}_{tmin_coh_lst[0]}_{tmax_coh_lst[3]}_center.npy\"\n",
    "coh_diff_E = np.load(file) # Error Detection file \n",
    "\n",
    "file = f\"{base_dir}coh_diff_E_permuted_2000_{sub}_{st}_{tmin_coh_lst[0]}_{tmax_coh_lst[3]}_center.npy\"\n",
    "coh_diff_E_permuted= np.load(file)\n",
    "\n",
    "'''\n",
    "\n",
    "file = f\"{base_dir}coh_diff_NE_{sub}_{st}_{tmin_coh_lst[0]}_{tmax_coh_lst[3]}_ipsi.npy\"\n",
    "coh_diff_E = np.load(file) # Error Detection file \n",
    "\n",
    "file = f\"{base_dir}coh_diff_NE_permuted_2000_{sub}_{st}_{tmin_coh_lst[0]}_{tmax_coh_lst[3]}_ipsi.npy\"\n",
    "coh_diff_E_permuted= np.load(file)\n"
   ]
  },
  {
   "cell_type": "code",
   "execution_count": 122,
   "id": "627110e0",
   "metadata": {},
   "outputs": [
    {
     "name": "stdout",
     "output_type": "stream",
     "text": [
      "(2000, 7, 4, 11, 1)\n",
      "(7, 4, 11, 1)\n"
     ]
    }
   ],
   "source": [
    "print(coh_diff_E_permuted.shape)\n",
    "print(coh_diff_E.shape)"
   ]
  },
  {
   "cell_type": "code",
   "execution_count": 59,
   "id": "4446a08c",
   "metadata": {},
   "outputs": [],
   "source": [
    "# Select Error Detection or Error Correction\n",
    "\n",
    "#coh_diff = coh_diff_ED\n",
    "#coh_diff_permuted = coh_diff_permuted_ED\n"
   ]
  },
  {
   "cell_type": "code",
   "execution_count": null,
   "id": "7f822600-fb53-4a52-834b-fe643af7c911",
   "metadata": {},
   "outputs": [],
   "source": [
    "freq_band = ['Theta', 'Alpha', 'Low beta', 'High beta']\n",
    "min_freq = [4, 8,13,21]\n",
    "max_freq = [7, 12,20,30]\n",
    "\n",
    "fig, axes = plt.subplots(figsize=(7.5, 14.5), nrows=len(seed_chs), ncols=len(freq_band), layout=\"constrained\")\n",
    "\n",
    "for n_ch, (axes_row, seed_ch) in enumerate(zip(axes, seed_chs)):\n",
    "\n",
    "    n_channels = len(epochs_aff_odd_E.copy().pick('eeg').ch_names)\n",
    "    for n, (ax, band) in enumerate(zip(axes_row, freq_band)):\n",
    "        tfr_evoked = mne.EvokedArray(coh_diff_E[n_ch,n,:,:], epochs_aff_odd_E.copy().pick('eeg').info)\n",
    "        tfr_evoked.plot_topomap(0.0,show_names=True,size=2,vlim=(-0.8e5,1e5),cmap='RdBu_r',axes=ax,show=False, colorbar =False)\n",
    "        ax.set_title(\"%s %s\" % (seed_ch.upper(), band), fontsize=14)\n"
   ]
  },
  {
   "cell_type": "code",
   "execution_count": null,
   "id": "c4581f02",
   "metadata": {},
   "outputs": [],
   "source": [
    "freq_band = ['Theta', 'Alpha', 'Low beta', 'High beta']\n",
    "min_freq = [4, 8,13,21]\n",
    "max_freq = [7, 12,20,30]\n",
    "\n",
    "fig, axes = plt.subplots(figsize=(7.5, 14.5), nrows=len(seed_chs), ncols=len(freq_band), layout=\"constrained\")\n",
    "\n",
    "for n_ch, (axes_row, seed_ch) in enumerate(zip(axes, seed_chs)):\n",
    "\n",
    "    n_channels = len(epochs_aff_odd_NE.copy().pick('eeg').ch_names)\n",
    "    for n, (ax, band) in enumerate(zip(axes_row, freq_band)):\n",
    "        tfr_evoked = mne.EvokedArray(coh_diff_NE[n_ch,n,:,:], epochs_aff_odd_NE.copy().pick('eeg').info)\n",
    "        tfr_evoked.plot_topomap(0.0,show_names=True,size=2,vlim=(-0.8e5,1e5),cmap='RdBu_r',axes=ax,show=False, colorbar =False)\n",
    "        ax.set_title(\"%s %s\" % (seed_ch.upper(), band), fontsize=14)\n"
   ]
  },
  {
   "cell_type": "markdown",
   "id": "b98b823e-b56e-4272-b351-8079ba6e4e4d",
   "metadata": {},
   "source": [
    "Histogram and pvalue"
   ]
  },
  {
   "cell_type": "code",
   "execution_count": 123,
   "id": "1a52982e-5eb8-4de0-a431-ece7bc5e8bfb",
   "metadata": {},
   "outputs": [
    {
     "data": {
      "text/plain": [
       "Text(0.5, 0.98, 'C4')"
      ]
     },
     "execution_count": 123,
     "metadata": {},
     "output_type": "execute_result"
    },
    {
     "data": {
      "image/png": "[encoded data removed]",
      "text/plain": [
       "<Figure size 1000x1800 with 28 Axes>"
      ]
     },
     "metadata": {},
     "output_type": "display_data"
    }
   ],
   "source": [
    "seed_chs = epochs_aff_odd_E.copy().pick('dbs').ch_names\n",
    "chl_list = epochs_aff_odd_E.copy().pick('eeg').ch_names\n",
    "freq_band = ['Theta', 'Alpha', 'Low beta', 'High beta']\n",
    "n_channels = len(epochs_aff_odd_E.copy().pick('eeg').ch_names)\n",
    "chl_list = ['C4']\n",
    "\n",
    "fig, axes = plt.subplots(len(seed_chs), 4, figsize=(10,18),layout=\"constrained\")\n",
    "\n",
    "mask = []\n",
    "\n",
    "for n_seed, (seed_ch, ax) in enumerate(zip(seed_chs, axes)):\n",
    "    mask1 =[]\n",
    "    for nfrq, band in enumerate(freq_band):\n",
    "\n",
    "        mask2 = []\n",
    "        for nchls, ch in enumerate(chl_list):\n",
    "\n",
    "          \n",
    "            values, bins, _ = ax[nfrq].hist(coh_diff_E_permuted[:, n_seed, nfrq, nchls, :])\n",
    "                      \n",
    "            total_area = sum(np.diff(bins)*values)\n",
    "            \n",
    "            if coh_diff_E[n_seed, nfrq, nchls, : ][0] <= coh_diff_E_permuted[:, n_seed, nfrq, nchls, :].max():\n",
    "            \n",
    "                values, bins = np.histogram(coh_diff_E_permuted[:, n_seed, nfrq, nchls, :], range=(coh_diff_E[n_seed, nfrq, nchls, : ][0],coh_diff_E_permuted[:, n_seed, nfrq, nchls, :].max()))\n",
    "                right_area = sum(np.diff(bins)*values)\n",
    "                pval = right_area/total_area\n",
    "                pval_r = round(pval, 4)\n",
    "            else:\n",
    "                pval_r = 0\n",
    "\n",
    "            if pval_r <=0.05:\n",
    "                mask2.append(pval_r)\n",
    "            else:\n",
    "                mask2.append(0)\n",
    "\n",
    "            \n",
    "            ax[nfrq].axvline(coh_diff_E[n_seed, nfrq, nchls, : ], color='r', linestyle='dashed', linewidth=1)\n",
    "            ax[nfrq].set_ylabel('Frequency')\n",
    "            ax[nfrq].set_xlabel('ERDS')\n",
    "\n",
    "            ax[nfrq].set_title(f'{band} (p-value={pval_r})' )\n",
    "            ax[nfrq].margins(1, 1)\n",
    "        ax[0].set_ylabel(seed_ch, size='large')\n",
    "    \n",
    "        mask1.append(mask2)\n",
    "    mask.append(mask1)\n",
    "mask = np.array(mask)\n",
    "fig.suptitle(chl_list[0], fontsize=14)\n"
   ]
  },
  {
   "cell_type": "markdown",
   "id": "b59bfd14-de08-4ac7-8ff0-3bd8153d48f9",
   "metadata": {},
   "source": [
    "calculating p values"
   ]
  },
  {
   "cell_type": "code",
   "execution_count": 124,
   "id": "6a071bfd-8e6d-4dc0-8186-2222d0597fdd",
   "metadata": {},
   "outputs": [],
   "source": [
    "seed_chs = epochs_aff_odd_E.copy().pick('dbs').ch_names\n",
    "chl_list = epochs_aff_odd_E.copy().pick('eeg').ch_names\n",
    "freq_band = ['Theta', 'Alpha', 'Low beta', 'High beta']\n",
    "\n",
    "pvals = []\n",
    "for n_seed, (seed_ch, ax) in enumerate(zip(seed_chs, axes)):\n",
    "    pvals1 = [] \n",
    "    for nfrq, band in enumerate(freq_band):\n",
    "\n",
    "        pvals2 = []\n",
    "        for nchls, ch in enumerate(chl_list):\n",
    "         \n",
    "            values, bins = np.histogram(coh_diff_E_permuted[:, n_seed, nfrq, nchls, :])\n",
    "                      \n",
    "            total_area = sum(np.diff(bins)*values)\n",
    "            \n",
    "            if coh_diff_E[n_seed, nfrq, nchls, : ][0] <= coh_diff_E_permuted[:, n_seed, nfrq, nchls, :].max():\n",
    "            \n",
    "                values, bins = np.histogram(coh_diff_E_permuted[:, n_seed, nfrq, nchls, :], range=(coh_diff_E[n_seed, nfrq, nchls, : ][0],coh_diff_E_permuted[:, n_seed, nfrq, nchls, :].max()))\n",
    "                right_area = sum(np.diff(bins)*values)\n",
    "                pval = right_area/total_area\n",
    "                pval_r = round(pval, 4)\n",
    "            else:\n",
    "                pval = 0\n",
    "            \n",
    "            pvals2.append(pval)\n",
    "        pvals2 = np.array(pvals2).reshape(n_channels,1)\n",
    "   \n",
    "        pvals1.append(pvals2)\n",
    "    pvals.append(pvals1)\n",
    "pvals = np.array(pvals)\n"
   ]
  },
  {
   "cell_type": "markdown",
   "id": "a4d61186-baa6-4ff0-839d-c67aea1d5e07",
   "metadata": {},
   "source": [
    "FDR correction for multiple comparison "
   ]
  },
  {
   "cell_type": "code",
   "execution_count": 125,
   "id": "91730d32",
   "metadata": {},
   "outputs": [],
   "source": [
    "alpha = 0.05\n",
    "pval_bonferroni = []\n",
    "pval_fdr = []\n",
    "mask_fdr = []\n",
    "\n",
    "for nfrq, band in enumerate(freq_band):\n",
    "    \n",
    "    pvals_band = pvals[:,nfrq,:,:].flatten()\n",
    "    reject_bonferroni, p_bon = mne.stats.bonferroni_correction(pvals_band, alpha=alpha)\n",
    "\n",
    "    reject_fdr, p_fdr = mne.stats.fdr_correction(pvals_band, alpha=alpha, method=\"indep\")\n",
    "\n",
    "    mask_fdr.append(reject_fdr)\n",
    "    pval_bonferroni.append(p_bon)\n",
    "    pval_fdr.append(p_fdr)\n",
    "           \n",
    "pval_bonferroni = np.array(pval_bonferroni)\n",
    "pval_fdr = np.array(pval_fdr)\n",
    "mask_fdr = np.array(mask_fdr)\n",
    "\n",
    "pval_fdr = pval_fdr.reshape(pvals.shape)\n",
    "mask_fdr = mask_fdr.reshape(pvals.shape)"
   ]
  },
  {
   "cell_type": "code",
   "execution_count": 126,
   "id": "f45c3832-e998-47e6-93d5-6b4fa1641525",
   "metadata": {},
   "outputs": [],
   "source": [
    "alpha = 0.05\n",
    "pval_bonferroni = []\n",
    "pval_fdr = []\n",
    "mask_fdr = []\n",
    "\n",
    "for nfrq, band in enumerate(freq_band):\n",
    "    pval_bonferroni1 = []\n",
    "    pval_fdr1 = []\n",
    "    mask_fdr1 = []\n",
    "    \n",
    "    for nchls, ch in enumerate(chl_list):\n",
    "        pvals_band = pvals[:,nfrq,nchls,:]\n",
    "        n_samples , n_tests = pvals_band.shape\n",
    "        reject_bonferroni, p_bon = mne.stats.bonferroni_correction(pvals_band, alpha=alpha)\n",
    "\n",
    "        reject_fdr, p_fdr = mne.stats.fdr_correction(pvals_band, alpha=alpha, method=\"indep\")\n",
    "\n",
    "        mask_fdr1.append(reject_fdr)\n",
    "        pval_bonferroni1.append(p_bon)\n",
    "        pval_fdr1.append(p_fdr)\n",
    "        \n",
    "    pval_bonferroni.append(pval_bonferroni1)\n",
    "    pval_fdr.append(pval_fdr1)\n",
    "    mask_fdr.append(mask_fdr1)\n",
    "    \n",
    "pval_bonferroni = np.rollaxis(np.array(pval_bonferroni),2,0)\n",
    "pval_fdr = np.rollaxis(np.array(pval_fdr),2,0)\n",
    "mask_fdr = np.rollaxis(np.array(mask_fdr),2,0)"
   ]
  },
  {
   "cell_type": "code",
   "execution_count": null,
   "id": "aed7a69b-1859-4e0c-89c7-0a41f3a167d3",
   "metadata": {},
   "outputs": [],
   "source": [
    "fig, axes = plt.subplots(figsize=(7.5, 14.5), nrows=len(seed_chs), ncols=len(freq_band), layout=\"constrained\")\n",
    "\n",
    "freq_band = ['Theta', 'Alpha', 'Low beta', 'High beta']\n",
    "min_freq = [4, 8,13,21]\n",
    "max_freq = [7, 12,20,30]\n",
    "mask_params = dict(marker='o', markerfacecolor='w', markeredgecolor='k',\n",
    "                    linewidth=0, markersize=8)\n",
    "for n_ch, (axes_row, seed_ch) in enumerate(zip(axes, seed_chs)):\n",
    "\n",
    "    n_channels = len(epochs_aff_odd_E.copy().pick('eeg').ch_names)\n",
    "    for n, (ax, band) in enumerate(zip(axes_row, freq_band)):\n",
    "        tfr_evoked = mne.EvokedArray(coh_diff_E[n_ch,n,:,:], epochs_aff_odd_E.copy().pick('eeg').info)\n",
    "        tfr_evoked.plot_topomap(0.0,show_names=True,size=2,mask=mask_fdr[n_ch,n,:,:], mask_params=mask_params, vlim=(-0.8e5,1e5),cmap='RdBu_r',axes=ax,show=False, colorbar =False)\n",
    "        \n",
    "        ax.set_title(\"%s %s\" % (seed_ch.upper(), band), fontsize=14)\n"
   ]
  },
  {
   "cell_type": "code",
   "execution_count": null,
   "id": "aec3b4ff-a94c-4405-a45c-6c73f9f4cf8c",
   "metadata": {},
   "outputs": [],
   "source": [
    "fig, axes = plt.subplots(figsize=(7.5, 14.5), nrows=len(seed_chs), ncols=len(freq_band), layout=\"constrained\")\n",
    "masked_coh = mask_fdr*coh_diff\n",
    "\n",
    "freq_band = ['Theta', 'Alpha', 'Low beta', 'High beta']\n",
    "min_freq = [4, 8,13,21]\n",
    "max_freq = [7, 12,20,30]\n",
    "mask_params = dict(marker='o', markerfacecolor='w', markeredgecolor='k',\n",
    "                    linewidth=0, markersize=8)\n",
    "for n_ch, (axes_row, seed_ch) in enumerate(zip(axes, seed_chs)):\n",
    "\n",
    "    n_channels = len(epochs_aff_odd.copy().pick('eeg').ch_names)\n",
    "    for n, (ax, band) in enumerate(zip(axes_row, freq_band)):\n",
    "        tfr_evoked = mne.EvokedArray(masked_coh[n_ch,n,:,:], epochs_aff_odd1.copy().pick('eeg').info)\n",
    "        tfr_evoked.plot_topomap(0.0,show_names=True,size=2, vlim=(-0.8e5,1e5),cmap='RdBu_r',axes=ax,show=False, colorbar =False)\n",
    "        ax.set_title(\"%s %s\" % (seed_ch.upper(), band), fontsize=14)\n"
   ]
  },
  {
   "cell_type": "code",
   "execution_count": 109,
   "id": "4ec5d609-c91b-45da-a6ad-babe8bab652b",
   "metadata": {},
   "outputs": [
    {
     "name": "stdout",
     "output_type": "stream",
     "text": [
      "Could not find a adjacency matrix for the data. Computing adjacency based on Delaunay triangulations.\n",
      "-- number of adjacent vertices : 11\n",
      "[array([0.14566805]), array([0.14566805]), array([0.21601825]), array([0.49436957]), array([0.21653822]), array([0.13908917]), array([0.13908917])]\n"
     ]
    }
   ],
   "source": [
    "# cluster size thresholding. Selecting clusters with more than 3 electrodes\n",
    "\n",
    "\n",
    "# check only for ipsilasional channels\n",
    "masked_coh = np.multiply(mask_fdr,coh_diff_E)\n",
    "\n",
    "mask_cluster_size = np.zeros(masked_coh.shape)\n",
    "mask_cluster_vol = np.zeros(masked_coh.shape)\n",
    "\n",
    "adj, names = mne.channels.find_ch_adjacency(epochs_aff_odd_E.info, 'eeg')\n",
    "\n",
    "clus_size_thres = 2\n",
    "\n",
    "freq_band = ['Theta', 'Alpha', 'Low beta', 'High beta']\n",
    "min_freq = [4, 8,13,21]\n",
    "max_freq = [7, 12,20,30]\n",
    "sig_clus_vol = []\n",
    "sig_dbs_ch = []\n",
    "sig_band_ch = []\n",
    "sig_eeg_ch = []\n",
    "\n",
    "\n",
    "\n",
    "for n_ch, seed_ch in enumerate(seed_chs):\n",
    "\n",
    "    n_channels = len(epochs_aff_odd_E.copy().pick('eeg').ch_names)\n",
    "    for n, band in enumerate(freq_band):\n",
    "        tfr_evoked = mne.EvokedArray(masked_coh[n_ch,n,:,:], epochs_aff_odd_E.copy().pick('eeg').info)\n",
    "        for n_eeg, ch_eeg in enumerate(tfr_evoked.ch_names):\n",
    "            if tfr_evoked.get_data()[n_eeg]>0.001:\n",
    "                neigh_idx = np.where(adj[n_eeg, :].toarray().ravel())[0]\n",
    "                neigh_names = [names[i] for i in neigh_idx]\n",
    "                #print(f\"{tfr_evoked.ch_names[n_eeg]} is next to {neigh_names}\")\n",
    "                \n",
    "                ch_neigh_names = []\n",
    "                \n",
    "                for n_neigh, ch_neigh in enumerate(neigh_names):\n",
    "                    if tfr_evoked.copy().pick(ch_neigh).get_data()>0.001:\n",
    "                        ch_neigh_names.append(ch_neigh)\n",
    "                cluster_size = len(ch_neigh_names)\n",
    "                # print(cluster_size)\n",
    "                #print(ch_neigh_names)\n",
    "                if cluster_size>=clus_size_thres:\n",
    "                    mask_cluster_amp = []\n",
    "                    mask_cluster_ind = []\n",
    "\n",
    "                    #print(ch_neigh_names)\n",
    "                    for n_cs, cs in enumerate(ch_neigh_names):\n",
    "                        cs_ind = names.index(cs)\n",
    "\n",
    "                        #print(cs)\n",
    "                        #print(cs_ind)\n",
    "                        mask_cluster_size[n_ch,n,cs_ind,:] = masked_coh[n_ch,n,cs_ind,:]\n",
    "\n",
    "                        mask_cluster_amp.append(masked_coh[n_ch,n,cs_ind,:])\n",
    "                        mask_cluster_ind.append(cs_ind)\n",
    "                    # volume of the cluster \n",
    "                    sig_clus_vol.append(sum(mask_cluster_amp)*len(mask_cluster_amp))\n",
    "                    sig_clus_vol1 = sum(mask_cluster_amp)*len(mask_cluster_amp)\n",
    "                    #print(mask_cluster_ind)\n",
    "                    #print(sum(mask_cluster_amp))\n",
    "\n",
    "print(sig_clus_vol)\n",
    "\n",
    "\n",
    "for n_ch, seed_ch in enumerate(seed_chs):\n",
    "\n",
    "    n_channels = len(epochs_aff_odd_E.copy().pick('eeg').ch_names)\n",
    "    for n, band in enumerate(freq_band):\n",
    "        tfr_evoked = mne.EvokedArray(masked_coh[n_ch,n,:,:], epochs_aff_odd_E.copy().pick('eeg').info)\n",
    "        for n_eeg, ch_eeg in enumerate(tfr_evoked.ch_names):\n",
    "            if tfr_evoked.get_data()[n_eeg]>0.001:\n",
    "                neigh_idx = np.where(adj[n_eeg, :].toarray().ravel())[0]\n",
    "                neigh_names = [names[i] for i in neigh_idx]\n",
    "                #print(f\"{tfr_evoked.ch_names[n_eeg]} is next to {neigh_names}\")\n",
    "                \n",
    "                ch_neigh_names = []\n",
    "                \n",
    "                for n_neigh, ch_neigh in enumerate(neigh_names):\n",
    "                    if tfr_evoked.copy().pick(ch_neigh).get_data()>0.001:\n",
    "                        ch_neigh_names.append(ch_neigh)\n",
    "                cluster_size = len(ch_neigh_names)\n",
    "                #print(cluster_size)\n",
    "                #print(ch_neigh_names)\n",
    "                if cluster_size>=clus_size_thres:\n",
    "                    \n",
    "                    mask_cluster_amp = []\n",
    "                    mask_cluster_ind = []\n",
    "                    #print(ch_neigh_names)\n",
    "                    for n_cs, cs in enumerate(ch_neigh_names):\n",
    "                        cs_ind = names.index(cs)\n",
    "\n",
    "                        #print(cs)\n",
    "                        #print(cs_ind)\n",
    "                        mask_cluster_size[n_ch,n,cs_ind,:] = masked_coh[n_ch,n,cs_ind,:]\n",
    "\n",
    "                        mask_cluster_amp.append(masked_coh[n_ch,n,cs_ind,:])\n",
    "                        mask_cluster_ind.append(cs_ind)\n",
    "                    # volume of the cluster \n",
    "                    sig_clus_vol1 = sum(mask_cluster_amp)*len(mask_cluster_amp)\n",
    "                    #print(mask_cluster_ind)\n",
    "                    if sig_clus_vol1 == max(sig_clus_vol):\n",
    "                        \n",
    "                        sig_eeg_ch_amp = mask_cluster_amp\n",
    "                        #print(mask_cluster_ind)\n",
    "                        sig_eeg_ch = mask_cluster_ind\n",
    "                        for c_ind in mask_cluster_ind:\n",
    "                            mask_cluster_vol[n_ch,n,c_ind,:] = masked_coh[n_ch,n,c_ind,:]\n",
    "                            #sig_eeg_ch.append(c_ind)\n",
    "                        sig_dbs_ch.append(n_ch)\n",
    "                        sig_band_ch.append(n)\n",
    "                            \n",
    "MaxVal, secondMax = sorted(sig_eeg_ch_amp)[-2:]\n",
    "index_max = sig_eeg_ch_amp.index(MaxVal)\n",
    "index_secondMax = sig_eeg_ch_amp.index(secondMax)\n",
    "sig_eeg_ch_best_2 = [sig_eeg_ch[index_max], sig_eeg_ch[index_secondMax]]                  "
   ]
  },
  {
   "cell_type": "code",
   "execution_count": null,
   "id": "fce836a3",
   "metadata": {},
   "outputs": [],
   "source": [
    "sig_clus_vol"
   ]
  },
  {
   "cell_type": "code",
   "execution_count": 110,
   "id": "bd54bc73",
   "metadata": {},
   "outputs": [
    {
     "data": {
      "text/plain": [
       "[5, 9, 10]"
      ]
     },
     "execution_count": 110,
     "metadata": {},
     "output_type": "execute_result"
    }
   ],
   "source": [
    "sig_eeg_ch"
   ]
  },
  {
   "cell_type": "code",
   "execution_count": 111,
   "id": "c4c28cbf",
   "metadata": {},
   "outputs": [
    {
     "data": {
      "text/plain": [
       "[5, 10]"
      ]
     },
     "execution_count": 111,
     "metadata": {},
     "output_type": "execute_result"
    }
   ],
   "source": [
    "sig_eeg_ch_best_2"
   ]
  },
  {
   "cell_type": "code",
   "execution_count": null,
   "id": "01e280fe-6261-4cd2-b3cb-e048c86d0b26",
   "metadata": {},
   "outputs": [],
   "source": [
    "fig, axes = plt.subplots(figsize=(7.5, 14.5), nrows=len(seed_chs), ncols=len(freq_band), layout=\"constrained\")\n",
    "\n",
    "freq_band = ['Theta', 'Alpha', 'Low beta', 'High beta']\n",
    "min_freq = [4,8,13,21]\n",
    "max_freq = [7,12,20,30]\n",
    "mask_params = dict(marker='o', markerfacecolor='w', markeredgecolor='k',\n",
    "                    linewidth=0, markersize=8)\n",
    "for n_ch, (axes_row, seed_ch) in enumerate(zip(axes, seed_chs)):\n",
    "\n",
    "    n_channels = len(epochs_aff_odd.copy().pick('eeg').ch_names)\n",
    "    for n, (ax, band) in enumerate(zip(axes_row, freq_band)):\n",
    "        tfr_evoked = mne.EvokedArray(mask_cluster_size[n_ch,n,:,:], epochs_aff_odd1.copy().pick('eeg').info)\n",
    "        tfr_evoked.plot_topomap(0.0,show_names=True,size=2, vlim=(-0.8e5,1e5),cmap='RdBu_r',axes=ax,show=False, colorbar =False)\n",
    "        ax.set_title(\"%s %s\" % (seed_ch.upper(), band), fontsize=14)\n"
   ]
  },
  {
   "cell_type": "code",
   "execution_count": null,
   "id": "67182132-8818-4f9e-aeca-f3422232e05c",
   "metadata": {},
   "outputs": [],
   "source": [
    "# Selecting best DBS contact based on Volume of the cluster (amplitude of the cluster* number of electrodes) \n",
    "\n",
    "fig, axes = plt.subplots(figsize=(7.5, 14.5), nrows=len(seed_chs), ncols=len(freq_band), layout=\"constrained\")\n",
    "\n",
    "freq_band = ['Theta', 'Alpha', 'Low beta', 'High beta']\n",
    "min_freq = [4, 8,13,21]\n",
    "max_freq = [7, 12,20,30]\n",
    "mask_params = dict(marker='o', markerfacecolor='w', markeredgecolor='k',\n",
    "                    linewidth=0, markersize=8)\n",
    "for n_ch, (axes_row, seed_ch) in enumerate(zip(axes, seed_chs)):\n",
    "\n",
    "    n_channels = len(epochs_aff_odd.copy().pick('eeg').ch_names)\n",
    "    for n, (ax, band) in enumerate(zip(axes_row, freq_band)):\n",
    "        tfr_evoked = mne.EvokedArray(mask_cluster_vol[n_ch,n,:,:], epochs_aff_odd1.copy().pick('eeg').info)\n",
    "        tfr_evoked.plot_topomap(0.0,show_names=True,size=2, vlim=(-0.8e5,1e5),cmap='RdBu_r',axes=ax,show=False, colorbar =False)\n",
    "        ax.set_title(\"%s %s\" % (seed_ch.upper(), band), fontsize=14)\n"
   ]
  },
  {
   "cell_type": "code",
   "execution_count": 112,
   "id": "14548aea-c5ad-4368-ae8c-45fdaf2a4982",
   "metadata": {},
   "outputs": [
    {
     "name": "stdout",
     "output_type": "stream",
     "text": [
      "[2]\n",
      "[0]\n",
      "[5, 9, 10]\n",
      "[5, 10]\n",
      "['Cz', 'P4']\n"
     ]
    }
   ],
   "source": [
    "print(sig_dbs_ch)\n",
    "print(sig_band_ch)\n",
    "print(sig_eeg_ch)\n",
    "print(sig_eeg_ch_best_2)\n",
    "\n",
    "sig_eeg = []\n",
    "for n, i in enumerate(sig_eeg_ch_best_2):\n",
    "    sig_eeg.append(epochs_aff_odd_E.copy().pick(['eeg']).ch_names[sig_eeg_ch_best_2[n]])\n",
    "\n",
    "\n",
    "print(sig_eeg)"
   ]
  },
  {
   "cell_type": "code",
   "execution_count": 113,
   "id": "d0a6fd38-1a6b-4597-be13-0eaaf8f0e253",
   "metadata": {},
   "outputs": [
    {
     "name": "stdout",
     "output_type": "stream",
     "text": [
      "[[0.        ]\n",
      " [0.        ]\n",
      " [0.        ]\n",
      " [0.        ]\n",
      " [0.        ]\n",
      " [0.05652075]\n",
      " [0.        ]\n",
      " [0.        ]\n",
      " [0.        ]\n",
      " [0.05148838]\n",
      " [0.05678073]]\n"
     ]
    },
    {
     "name": "stderr",
     "output_type": "stream",
     "text": [
      "C:\\Users\\malann\\AppData\\Local\\Temp\\ipykernel_239232\\2459704926.py:3: FutureWarning: The current default of copy=False will change to copy=True in 1.7. Set the value of copy explicitly to avoid this warning\n",
      "  ep_all_d = np.zeros(epochs_aff_odd_E.copy().pick('eeg').get_data().shape[1]).reshape(epochs_aff_odd_E.copy().pick('eeg').get_data().shape[1],1)\n",
      "C:\\Users\\malann\\AppData\\Local\\Temp\\ipykernel_239232\\2459704926.py:3: FutureWarning: The current default of copy=False will change to copy=True in 1.7. Set the value of copy explicitly to avoid this warning\n",
      "  ep_all_d = np.zeros(epochs_aff_odd_E.copy().pick('eeg').get_data().shape[1]).reshape(epochs_aff_odd_E.copy().pick('eeg').get_data().shape[1],1)\n"
     ]
    },
    {
     "data": {
      "text/plain": [
       "Text(0.5, 1.0, 'DBS3-4 Theta')"
      ]
     },
     "execution_count": 113,
     "metadata": {},
     "output_type": "execute_result"
    },
    {
     "data": {
      "image/png": "[encoded data removed]",
      "text/plain": [
       "<Figure size 640x480 with 1 Axes>"
      ]
     },
     "metadata": {},
     "output_type": "display_data"
    }
   ],
   "source": [
    "# Selecting best DBS contact based on Volume of the cluster (amplitude of the cluster* number of electrodes) \n",
    "\n",
    "ep_all_d = np.zeros(epochs_aff_odd_E.copy().pick('eeg').get_data().shape[1]).reshape(epochs_aff_odd_E.copy().pick('eeg').get_data().shape[1],1)\n",
    "ep_all = mne.EvokedArray(ep_all_d, epochs_aff_odd_E.copy().pick('eeg').info)\n",
    "\n",
    "\n",
    "fig, ax = plt.subplots(1,1)\n",
    "mask_params = dict(marker='o', markerfacecolor='w', markeredgecolor='k',\n",
    "                    linewidth=0, markersize=8)\n",
    "\n",
    "\n",
    "for i, n in enumerate(epochs_aff_odd_E.copy().pick('eeg').ch_names):\n",
    "    ep_all_d[ep_all.ch_names.index(n)] = mask_cluster_vol[sig_dbs_ch[0],sig_band_ch[0],i,:]\n",
    "\n",
    "\n",
    "print(ep_all_d)\n",
    "tfr_evoked = mne.EvokedArray(ep_all_d, epochs_aff_odd_E.copy().pick('eeg').info)\n",
    "tfr_evoked.plot_topomap(0.0,show_names=True,size=2, vlim=(-0.8e5,1e5), cmap='RdBu_r', colorbar =False, show=False,image_interp='cubic', extrapolate='head', border='mean', res=64, axes = ax)\n",
    "\n",
    "ax.set_title(f\"{epochs_aff_odd_E.copy().pick(['dbs']).ch_names[sig_dbs_ch[0]]} {freq_band[sig_band_ch[0]]}\", fontsize=14)\n"
   ]
  },
  {
   "cell_type": "markdown",
   "id": "61eb6a01-68a5-414b-a7fa-8ec1085118ef",
   "metadata": {},
   "source": [
    "Plot Significant TFR Coherence"
   ]
  },
  {
   "cell_type": "code",
   "execution_count": null,
   "id": "8b41414a-e2f7-47bd-a14c-4f0d0929e0f6",
   "metadata": {},
   "outputs": [],
   "source": [
    "\"\"\"\"Coherence and Granger Causality\"\"\"\n",
    "\n",
    "sig_dbs_ch\n",
    "sig_eeg_ch_best_2\n",
    "\n",
    "sig_eeg = []\n",
    "for n, i in enumerate(sig_eeg_ch_best_2):\n",
    "    sig_eeg.append(epochs_aff_odd_E.copy().pick(['eeg']).ch_names[sig_eeg_ch_best_2[n]])\n",
    "\n",
    "ipsi_ch = ['FC2','CP2','C4','CP6','FC6']\n",
    "\n",
    "#sel_chl = 'ipsi'\n",
    "if sel_chl == 'ipsi':\n",
    "    sig_eeg=ipsi_ch\n",
    "        \n",
    "\n",
    "epochs_aff_odd2 = epochs_aff_odd_E.copy().pick(sig_eeg)\n",
    "\n",
    "sig_seed_ch = [epochs_aff_odd_E.copy().pick(['dbs']).ch_names[sig_dbs_ch[0]]]\n",
    "\n",
    "picks = mne.pick_types(epochs_aff_odd_E.info, eeg=True, dbs=False, emg= False,stim=False, eog=False,\n",
    "                       exclude='bads')\n",
    "\n",
    "epochs_aff_odd_E.pick(['eeg','dbs'])\n",
    "epochs_aff_typ_E.pick(['eeg','dbs'])\n",
    "\n",
    "# Use 'DBS' channels as seed\n",
    "        \n",
    "coh_diff_E = []\n",
    "for seed_ch in sig_seed_ch:\n",
    "    \n",
    "    picks_ch_names = epochs_aff_odd_E.ch_names\n",
    "    # Create seed-target indices for connectivity computation\n",
    "    seed = np.array([picks_ch_names.index(seed_ch)])\n",
    "    targets = np.arange(len(picks))\n",
    "    indices = seed_target_indices(seed, targets)\n",
    "    \n",
    "    min_freq = (4, 8,13,21)\n",
    "    max_freq = (7, 12,20,30)\n",
    "\n",
    "    \n",
    "    # Define wavelet frequencies and number of cycles\n",
    "    cwt_freqs = np.arange(1, 41, 1)\n",
    "    cwt_n_cycles = 7\n",
    "\n",
    "    # Run the connectivity analysis using n parallel jobs\n",
    "    con_odd_E = spectral_connectivity_epochs(\n",
    "        epochs_aff_odd_E, indices=indices,\n",
    "        method='coh', mode='cwt_morlet', sfreq=sfreq, \n",
    "        cwt_freqs=cwt_freqs, cwt_n_cycles=cwt_n_cycles, n_jobs=2)\n",
    "\n",
    "    con_typ_E = spectral_connectivity_epochs(\n",
    "        epochs_aff_typ_E, indices=indices,\n",
    "        method='coh', mode='cwt_morlet', sfreq=sfreq, \n",
    "        cwt_freqs=cwt_freqs, cwt_n_cycles=cwt_n_cycles, n_jobs=2)\n",
    "\n",
    "    times = con_odd_E.times\n",
    "    freqs = con_odd_E.freqs\n",
    "\n",
    "    # Mark the seed channel with a value of 1.0, so we can see it in the plot\n",
    "    # con_odd.get_data()[np.where(indices[1] == seed)] = 1.0\n",
    "    # con_typ.get_data()[np.where(indices[1] == seed)] = 1.0\n",
    "\n",
    "    #layout = mne.find_layout(epochs.info, 'eeg')  # use full layout\n",
    "    tfr_odd_E = mne.time_frequency.AverageTFR(epochs_aff_odd_E.copy().pick('eeg').info, con_odd_E.get_data(), times, freqs, len(epochs_aff_odd_E))\n",
    "    #tfr_odd.save(data_dir+'tfr_odd'+st+seed_ch+'-tfr.h5',overwrite =True)\n",
    "\n",
    "    tfr_typ_E = mne.time_frequency.AverageTFR(epochs_aff_typ_E.copy().pick('eeg').info, con_typ_E.get_data(), times, freqs, len(epochs_aff_typ_E))\n",
    "    #tfr_typ.save(data_dir+'tfr_typ'+st+seed_ch+'-tfr.h5',overwrite =True)\n",
    "    \n",
    "    # TFR differences in freq bands and time period 0 to 1.5s\n",
    "\n",
    "    tfr_diff_E = tfr_odd_E- tfr_typ_E\n",
    "\n",
    "    # Generate connectivity indices\n",
    "    target_gc = []\n",
    "    for i in sig_eeg:\n",
    "        target_gc.append(picks_ch_names.index(i))\n",
    "    target_gc = np.array(target_gc)\n",
    "    \n",
    "    indices_dbs_eeg = ([seed], [target_gc])  # DBS => EEG\n",
    "    indices_eeg_dbs = ([target_gc], [seed])  # EEG => DBS\n",
    "\n",
    "    # Compute Granger Causality DBS => EEG\n",
    "    \n",
    "    gc_odd_E_dbs_eeg = spectral_connectivity_epochs(\n",
    "        epochs_aff_odd_E, method=[\"gc\"], indices=indices_dbs_eeg, mode='cwt_morlet',\n",
    "        sfreq=sfreq, cwt_freqs=cwt_freqs, cwt_n_cycles=cwt_n_cycles, n_jobs=2,\n",
    "            rank=(np.array([1]), np.array([1])),\n",
    "            gc_n_lags=10\n",
    "    )\n",
    "    \n",
    "    gc_typ_E_dbs_eeg = spectral_connectivity_epochs(\n",
    "        epochs_aff_typ_E, method=[\"gc\"], indices=indices_dbs_eeg, mode='cwt_morlet',\n",
    "        sfreq=sfreq, cwt_freqs=cwt_freqs, cwt_n_cycles=cwt_n_cycles, n_jobs=2,\n",
    "            rank=(np.array([1]), np.array([1])),\n",
    "            gc_n_lags=10\n",
    "    )\n",
    "   \n",
    "    # Compute Granger Causality EEG => DBS\n",
    "    gc_odd_E_eeg_dbs = spectral_connectivity_epochs(\n",
    "        epochs_aff_odd_E, method=[\"gc\"], indices=indices_eeg_dbs, mode='cwt_morlet',\n",
    "        sfreq=sfreq, cwt_freqs=cwt_freqs, cwt_n_cycles=cwt_n_cycles, n_jobs=2,\n",
    "            rank=(np.array([1]), np.array([1])),\n",
    "            gc_n_lags=10\n",
    "    )\n",
    "\n",
    "    gc_typ_E_eeg_dbs = spectral_connectivity_epochs(\n",
    "        epochs_aff_typ_E, method=[\"gc\"], indices=indices_eeg_dbs, mode='cwt_morlet',\n",
    "        sfreq=sfreq, cwt_freqs=cwt_freqs, cwt_n_cycles=cwt_n_cycles, n_jobs=2,\n",
    "            rank=(np.array([1]), np.array([1])),\n",
    "            gc_n_lags=10\n",
    "    )\n"
   ]
  },
  {
   "cell_type": "code",
   "execution_count": null,
   "id": "071830ac",
   "metadata": {},
   "outputs": [],
   "source": [
    "tfr_odd_E_dbs_eeg = mne.time_frequency.AverageTFR(epochs_aff_odd_E.copy().pick('Cz').info, gc_odd_E_dbs_eeg.get_data(), times, freqs, len(epochs_aff_odd_E))\n",
    "#tfr_odd.save(data_dir+'tfr_odd'+st+seed_ch+'-tfr.h5',overwrite =True)\n",
    "\n",
    "tfr_typ_E_dbs_eeg = mne.time_frequency.AverageTFR(epochs_aff_typ_E.copy().pick('Cz').info, gc_typ_E_dbs_eeg.get_data(), times, freqs, len(epochs_aff_typ_E))\n",
    "#tfr_typ.save(data_dir+'tfr_typ'+st+seed_ch+'-tfr.h5',overwrite =True)\n",
    "\n",
    "tfr_diff_E_dbs_eeg = tfr_odd_E_dbs_eeg- tfr_typ_E_dbs_eeg\n",
    "\n",
    "tfr_odd_E_eeg_dbs = mne.time_frequency.AverageTFR(epochs_aff_odd_E.copy().pick('Cz').info, gc_odd_E_eeg_dbs.get_data(), times, freqs, len(epochs_aff_odd_E))\n",
    "#tfr_odd.save(data_dir+'tfr_odd'+st+seed_ch+'-tfr.h5',overwrite =True)\n",
    "\n",
    "tfr_typ_E_eeg_dbs = mne.time_frequency.AverageTFR(epochs_aff_typ_E.copy().pick('Cz').info, gc_typ_E_eeg_dbs.get_data(), times, freqs, len(epochs_aff_typ_E))\n",
    "#tfr_typ.save(data_dir+'tfr_typ'+st+seed_ch+'-tfr.h5',overwrite =True)\n",
    "\n",
    "tfr_diff_E_eeg_dbs = tfr_odd_E_eeg_dbs- tfr_typ_E_eeg_dbs\n"
   ]
  },
  {
   "cell_type": "code",
   "execution_count": null,
   "id": "6fc59392",
   "metadata": {},
   "outputs": [],
   "source": [
    "if sel_chl == 'ipsi':\n",
    "    CCC_E = tfr_diff_E.copy().pick(sig_eeg).data.mean(axis=0)\n",
    "    file = f\"{base_dir}CCC_E_{sub}_{st}_ipsi\"\n",
    "    np.save(file,CCC_E)\n",
    "\n",
    "    CCC_odd_E = tfr_odd_E.copy().pick(sig_eeg).data.mean(axis=0)\n",
    "    file = f\"{base_dir}CCC_Oddball_E_{sub}_{st}_ipsi\"\n",
    "    np.save(file,CCC_odd_E)\n",
    "\n",
    "    CCC_typ_E = tfr_typ_E.copy().pick(sig_eeg).data.mean(axis=0)\n",
    "    file = f\"{base_dir}CCC_Standard_E_{sub}_{st}_ipsi\"\n",
    "    np.save(file,CCC_typ_E)\n",
    "\n",
    "    GC_E_dbs_eeg = tfr_diff_E_dbs_eeg.data.mean(axis=0)\n",
    "    file = f\"{base_dir}GC_E_dbs_eeg_{sub}_{st}_ipsi\"\n",
    "    np.save(file,GC_E_dbs_eeg)\n",
    "\n",
    "    GC_odd_E_dbs_eeg = tfr_odd_E_dbs_eeg.data.mean(axis=0)\n",
    "    file = f\"{base_dir}GC_dbs_eeg_Oddball_E_{sub}_{st}_ipsi\"\n",
    "    np.save(file,GC_odd_E_dbs_eeg)\n",
    "\n",
    "    GC_typ_E_dbs_eeg = tfr_typ_E_dbs_eeg.data.mean(axis=0)\n",
    "    file = f\"{base_dir}GC_dbs_eeg_Standard_E_{sub}_{st}_ipsi\"\n",
    "    np.save(file,GC_typ_E_dbs_eeg)\n",
    "\n",
    "\n",
    "    GC_E_eeg_dbs = tfr_diff_E_eeg_dbs.data.mean(axis=0)\n",
    "    file = f\"{base_dir}GC_E_eeg_dbs_{sub}_{st}_ipsi\"\n",
    "    np.save(file,GC_E_eeg_dbs)\n",
    "\n",
    "    GC_odd_E_eeg_dbs = tfr_odd_E_eeg_dbs.data.mean(axis=0)\n",
    "    file = f\"{base_dir}GC_E_eeg_dbs_Oddball_{sub}_{st}_ipsi\"\n",
    "    np.save(file,GC_odd_E_eeg_dbs)\n",
    "\n",
    "    GC_typ_E_eeg_dbs = tfr_typ_E_eeg_dbs.data.mean(axis=0)\n",
    "    file = f\"{base_dir}GC_E_eeg_dbs_Standard_{sub}_{st}_ipsi\"\n",
    "    np.save(file,GC_typ_E_eeg_dbs)\n",
    "\n",
    "        \n",
    "else:\n",
    "\n",
    "    CCC_E = tfr_diff_E.copy().pick(sig_eeg).data.mean(axis=0)\n",
    "    file = f\"{base_dir}CCC_E_{sub}_{st}\"\n",
    "    np.save(file,CCC_E)\n",
    "\n",
    "    CCC_odd_E = tfr_odd_E.copy().pick(sig_eeg).data.mean(axis=0)\n",
    "    file = f\"{base_dir}CCC_Oddball_E_{sub}_{st}\"\n",
    "    np.save(file,CCC_odd_E)\n",
    "\n",
    "    CCC_typ_E = tfr_typ_E.copy().pick(sig_eeg).data.mean(axis=0)\n",
    "    file = f\"{base_dir}CCC_Standard_E_{sub}_{st}\"\n",
    "    np.save(file,CCC_typ_E)\n",
    "\n",
    "    GC_E_dbs_eeg = tfr_diff_E_dbs_eeg.data.mean(axis=0)\n",
    "    file = f\"{base_dir}GC_E_dbs_eeg_{sub}_{st}\"\n",
    "    np.save(file,GC_E_dbs_eeg)\n",
    "\n",
    "    GC_odd_E_dbs_eeg = tfr_odd_E_dbs_eeg.data.mean(axis=0)\n",
    "    file = f\"{base_dir}GC_dbs_eeg_Oddball_E_{sub}_{st}\"\n",
    "    np.save(file,GC_odd_E_dbs_eeg)\n",
    "\n",
    "    GC_typ_E_dbs_eeg = tfr_typ_E_dbs_eeg.data.mean(axis=0)\n",
    "    file = f\"{base_dir}GC_dbs_eeg_Standard_E_{sub}_{st}\"\n",
    "    np.save(file,GC_typ_E_dbs_eeg)\n",
    "\n",
    "\n",
    "    GC_E_eeg_dbs = tfr_diff_E_eeg_dbs.data.mean(axis=0)\n",
    "    file = f\"{base_dir}GC_E_eeg_dbs_{sub}_{st}\"\n",
    "    np.save(file,GC_E_eeg_dbs)\n",
    "\n",
    "    GC_odd_E_eeg_dbs = tfr_odd_E_eeg_dbs.data.mean(axis=0)\n",
    "    file = f\"{base_dir}GC_E_eeg_dbs_Oddball_{sub}_{st}\"\n",
    "    np.save(file,GC_odd_E_eeg_dbs)\n",
    "\n",
    "    GC_typ_E_eeg_dbs = tfr_typ_E_eeg_dbs.data.mean(axis=0)\n",
    "    file = f\"{base_dir}GC_E_eeg_dbs_Standard_{sub}_{st}\"\n",
    "    np.save(file,GC_typ_E_eeg_dbs)\n"
   ]
  },
  {
   "cell_type": "code",
   "execution_count": null,
   "id": "6b1744ab",
   "metadata": {},
   "outputs": [],
   "source": [
    "freqs = con_odd_E.freqs\n",
    "fig, axis = plt.subplots(1, 1)\n",
    "\n",
    "tmin = 600\n",
    "tmax = 900\n",
    "\n",
    "axis.plot(freqs, CCC_odd_E[:,600:900].mean(axis=1), linewidth=2)\n",
    "axis.plot(freqs, CCC_typ_E[:,600:900].mean(axis=1), linewidth=2)\n",
    "axis.set_xlabel(\"Frequency (Hz)\")\n",
    "axis.set_ylabel(\"Connectivity (A.U.)\")\n",
    "axis.legend(['Oddball Response', 'Standard'])\n",
    "fig.suptitle(\"CCC\")"
   ]
  },
  {
   "cell_type": "code",
   "execution_count": null,
   "id": "adf7570f",
   "metadata": {},
   "outputs": [],
   "source": [
    "freqs = con_odd_E.freqs\n",
    "fig, axis = plt.subplots(1, 1)\n",
    "axis.plot(freqs, CCC_E.mean(axis=1), linewidth=2)\n",
    "axis.set_xlabel(\"Frequency (Hz)\")\n",
    "axis.set_ylabel(\"Connectivity (A.U.)\")\n",
    "fig.suptitle(\"CCC: Oddball Response - Standard\")"
   ]
  },
  {
   "cell_type": "code",
   "execution_count": null,
   "id": "62ef4215",
   "metadata": {},
   "outputs": [],
   "source": [
    "freqs = gc_odd_E_dbs_eeg.freqs\n",
    "fig, axis = plt.subplots(1, 1)\n",
    "axis.plot(freqs, GC_odd_E_dbs_eeg[:,600:900].mean(axis=1), linewidth=2)\n",
    "axis.plot(freqs, GC_typ_E_dbs_eeg[:,600:900].mean(axis=1), linewidth=2)\n",
    "axis.set_xlabel(\"Frequency (Hz)\")\n",
    "axis.set_ylabel(\"Connectivity (A.U.)\")\n",
    "axis.legend(['Oddball Response', 'Standard'])\n",
    "fig.suptitle(\"GC: [dbs => eeg]\")"
   ]
  },
  {
   "cell_type": "code",
   "execution_count": null,
   "id": "df7bb389",
   "metadata": {},
   "outputs": [],
   "source": [
    "freqs = gc_odd_E_eeg_dbs.freqs\n",
    "fig, axis = plt.subplots(1, 1)\n",
    "axis.plot(freqs, GC_odd_E_eeg_dbs[:,600:900].mean(axis=1), linewidth=2)\n",
    "axis.plot(freqs, GC_typ_E_eeg_dbs[:,600:900].mean(axis=1), linewidth=2)\n",
    "axis.set_xlabel(\"Frequency (Hz)\")\n",
    "axis.set_ylabel(\"Connectivity (A.U.)\")\n",
    "axis.legend(['Oddball Response', 'Standard'])\n",
    "fig.suptitle(\"GC: [eeg => dbs]\")"
   ]
  },
  {
   "cell_type": "code",
   "execution_count": null,
   "id": "2cfa5e5d",
   "metadata": {},
   "outputs": [],
   "source": [
    "freqs = gc_odd_E_dbs_eeg.freqs\n",
    "fig, axis = plt.subplots(1, 1)\n",
    "axis.plot(freqs, GC_E_dbs_eeg[:,600:900].mean(axis=1), linewidth=2)\n",
    "axis.plot(freqs, GC_E_eeg_dbs[:,600:900].mean(axis=1), linewidth=2)\n",
    "\n",
    "\n",
    "\n",
    "axis.set_xlabel(\"Frequency (Hz)\")\n",
    "axis.set_ylabel(\"Connectivity (A.U.)\")\n",
    "axis.legend([\"GC: [dbs => eeg]\", \"GC: [eeg => dbs]\"])\n",
    "fig.suptitle('Oddball Response- Standard')"
   ]
  },
  {
   "cell_type": "code",
   "execution_count": null,
   "id": "991e92da",
   "metadata": {},
   "outputs": [],
   "source": [
    "# creating a mask to plot on tfr coherence betwwn 0s and 1.5s and significant freq band\n",
    "tmin = -1\n",
    "tmax = 3\n",
    "\n",
    "tmin_mark = tmin_coh_lst[3]\n",
    "tmax_mark = tmax_coh_lst[3]\n",
    "fmin_mark = min_freq[sig_band_ch[0]]\n",
    "fmax_mark = max_freq[sig_band_ch[0]]\n",
    "\n",
    "mask_tfr_diff = np.full(tfr_diff_E.copy().crop(tmin,tmax).pick(sig_eeg).data.shape, False)\n",
    "\n",
    "\n",
    "for n in range(0,tfr_diff_E.copy().crop(tmin,tmax).data.shape[1]):\n",
    "    for m in range(0,tfr_diff_E.copy().crop(tmin,tmax).data.shape[2]):\n",
    "        if n>fmin_mark and n<fmax_mark and m > (tmin_mark-tmin)*200 and m < (tmax_mark-tmin)*200:\n",
    "            mask_tfr_diff[:,n,m]= True\n",
    "            \n",
    "vmax=0.2\n",
    "vmin=-0.2\n",
    "fig, axes = plt.subplots(figsize=(5.5, 2.5*len(sig_eeg_ch_best_2)), nrows=len(sig_eeg_ch_best_2), ncols=1, layout=\"constrained\")\n",
    "    \n",
    "title = \"GC: [dbs => eeg]\"\n",
    "tfr_diff_E_dbs_eeg.plot('Cz', tmin=tmin,tmax=tmax, axes = axes[0], vmax=vmax,vmin=vmin, mask =mask_tfr_diff[0,:,:] ,mask_style = 'contour', show= False)\n",
    "axes[0].set_title(title)\n",
    "\n",
    "title = \"GC: [eeg => dbs]\"\n",
    "tfr_diff_E_eeg_dbs.plot(\"Cz\", tmin=tmin,tmax=tmax, axes = axes[1], vmax=vmax,vmin=vmin, mask =mask_tfr_diff[0,:,:] ,mask_style = 'contour', show= False)\n",
    "axes[1].set_title(title)"
   ]
  },
  {
   "cell_type": "code",
   "execution_count": null,
   "id": "10579a0c",
   "metadata": {},
   "outputs": [],
   "source": [
    "# creating a mask to plot on tfr coherence betwwn 0s and 1.5s and significant freq band\n",
    "tmin = -1\n",
    "tmax = 3\n",
    "\n",
    "tmin_mark = tmin_coh_lst[3]\n",
    "tmax_mark = tmax_coh_lst[3]\n",
    "fmin_mark = min_freq[sig_band_ch[0]]\n",
    "fmax_mark = max_freq[sig_band_ch[0]]\n",
    "\n",
    "mask_tfr_diff = np.full(tfr_diff_E.copy().crop(tmin,tmax).pick(sig_eeg).data.shape, False)\n",
    "\n",
    "\n",
    "for n in range(0,tfr_diff_E.copy().crop(tmin,tmax).data.shape[1]):\n",
    "    for m in range(0,tfr_diff_E.copy().crop(tmin,tmax).data.shape[2]):\n",
    "        if n>fmin_mark and n<fmax_mark and m > (tmin_mark-tmin)*200 and m < (tmax_mark-tmin)*200:\n",
    "            mask_tfr_diff[:,n,m]= True\n",
    "            \n",
    "vmax=0.5\n",
    "vmin=-0.5\n",
    "fig, axes = plt.subplots(figsize=(5.5, 2.5*len(sig_eeg)), nrows=len(sig_eeg), ncols=1, layout=\"constrained\")\n",
    "\n",
    "if len(sig_eeg_ch)>1:\n",
    "    for i, (ax, ch) in enumerate(zip(axes, tfr_diff_E.copy().pick(sig_eeg).ch_names)):\n",
    "        title = 'Oddball Response - Standrad:' + seed_ch +' vs '+ch \n",
    "        tfr_diff_E.plot(ch, tmin=tmin,tmax=tmax, axes = ax, vmax=vmax,vmin=vmin, mask =mask_tfr_diff[i,:,:] ,mask_style = 'contour', show= False)\n",
    "        ax.set_title(title)\n",
    "else:\n",
    "    title = 'Oddball Response - Standrad:' + seed_ch +' vs '+ sig_eeg[0]\n",
    "    tfr_diff_E.plot(sig_eeg[0], tmin=tmin,tmax=tmax, axes = axes, vmax=vmax,vmin=vmin, mask =mask_tfr_diff[0,:,:] ,mask_style = 'contour', show= False)\n",
    "    axes.set_title(title)"
   ]
  },
  {
   "cell_type": "markdown",
   "id": "bd38a134-844b-4c1b-9a9f-37580c427d67",
   "metadata": {},
   "source": [
    "Coherence Excel sheet "
   ]
  },
  {
   "cell_type": "code",
   "execution_count": null,
   "id": "df962d19",
   "metadata": {},
   "outputs": [],
   "source": [
    "df = tfr_typ_E_dbs_eeg.to_data_frame(time_format=None, long_format=True)\n",
    "\n",
    "# Map to frequency bands:\n",
    "freq_bounds = {\"_\": 0, \"[0 3]\": 4, \"[4 7]\": 8, \"[8 12]\": 13, \"[13 20]\": 20, \"[21 30]\": 30}\n",
    "time_bounds = {\"_\": -0.5, \"[-0.5 0]\": 0, f'[0 {f_max_time} ]': f_max_time, f'[{f_max_time} 1.1]': 1.1, \"[1.1, 1.5]\": 1.5, \"[1.5 2]\": 2}\n",
    "\n",
    "df[\"band\"] = pd.cut(\n",
    "    df[\"freq\"], list(freq_bounds.values()), labels=list(freq_bounds)[1:]\n",
    ")\n",
    "\n",
    "df[\"Time_dur\"] = pd.cut(\n",
    "    df[\"time\"], list(time_bounds.values()), labels=list(time_bounds)[1:]\n",
    ")\n",
    "\n",
    "# Filter to retain only relevant frequency bands:\n",
    "freq_bands_of_interest = [\"[4 7]\",\"[8 12]\", \"[13 20]\", \"[21 30]\"]\n",
    "time_of_interest = [\"[-0.5 0]\", f'[0 {f_max_time} ]', f'[{f_max_time} 1.1]', \"[1.1, 1.5]\", \"[1.5 2]\"]\n",
    "\n",
    "df = df[df.band.isin(freq_bands_of_interest)]\n",
    "df = df[df.Time_dur.isin(time_of_interest)]\n",
    "\n",
    "df[\"band\"] = df[\"band\"].cat.remove_unused_categories()\n",
    "df[\"Time_dur\"] = df[\"Time_dur\"].cat.remove_unused_categories()\n",
    "\n",
    "df_mean = (\n",
    "    df.groupby([\"Time_dur\", \"band\"], observed=False)[[\"value\"]]\n",
    "    .mean()\n",
    "    .reset_index()\n",
    ")\n",
    "df_mean.insert(0,'Stage', len(df_mean)*[st])\n",
    "df_mean.insert(1,'Subject', len(df_mean)*[sub])\n",
    "df_mean.insert(2,'Condition', len(df_mean)*['Standard'])\n",
    "df_mean.insert(5,'DBS Channel', len(df_mean)*[sig_seed_ch])\n",
    "df_mean.insert(6, \"Direction\", len(df_mean)*[\"DBS=> EEG\"])\n",
    "\n",
    "header = [\"Stage\", \"Subject\", \"Condition\", \"Time\", \"Freq\", \"DBS\", \"Direction\", \"GC\"]\n",
    "\n",
    "if sub == '007':\n",
    "    df_mean.to_csv(base_dir+'Oddball_GC_data_E_NE4.csv', mode='a', index=False, header=header)\n",
    "else:\n",
    "    df_mean.to_csv(base_dir+'Oddball_GC_data_E_NE4.csv', mode='a', index=False, header=False)\n",
    "\n",
    "\n",
    "df = tfr_odd_E_dbs_eeg.to_data_frame(time_format=None, long_format=True)\n",
    "\n",
    "# Map to frequency bands:\n",
    "freq_bounds = {\"_\": 0, \"[0 3]\": 4, \"[4 7]\": 8, \"[8 12]\": 13, \"[13 20]\": 20, \"[21 30]\": 30}\n",
    "time_bounds = {\"_\": -0.5, \"[-0.5 0]\": 0, f'[0 {f_max_time} ]': f_max_time, f'[{f_max_time} 1.1]': 1.1, \"[1.1, 1.5]\": 1.5, \"[1.5 2]\": 2}\n",
    "\n",
    "df[\"band\"] = pd.cut(\n",
    "    df[\"freq\"], list(freq_bounds.values()), labels=list(freq_bounds)[1:]\n",
    ")\n",
    "\n",
    "df[\"Time_dur\"] = pd.cut(\n",
    "    df[\"time\"], list(time_bounds.values()), labels=list(time_bounds)[1:]\n",
    ")\n",
    "\n",
    "# Filter to retain only relevant frequency bands:\n",
    "freq_bands_of_interest = [\"[4 7]\",\"[8 12]\", \"[13 20]\", \"[21 30]\"]\n",
    "time_of_interest = [\"[-0.5 0]\", f'[0 {f_max_time} ]', f'[{f_max_time} 1.1]', \"[1.1, 1.5]\", \"[1.5 2]\"]\n",
    "\n",
    "df = df[df.band.isin(freq_bands_of_interest)]\n",
    "df = df[df.Time_dur.isin(time_of_interest)]\n",
    "\n",
    "df[\"band\"] = df[\"band\"].cat.remove_unused_categories()\n",
    "df[\"Time_dur\"] = df[\"Time_dur\"].cat.remove_unused_categories()\n",
    "\n",
    "df_mean = (\n",
    "    df.groupby([\"Time_dur\", \"band\"], observed=False)[[\"value\"]]\n",
    "    .mean()\n",
    "    .reset_index()\n",
    ")\n",
    "df_mean.insert(0,'Stage', len(df_mean)*[st])\n",
    "df_mean.insert(1,'Subject', len(df_mean)*[sub])\n",
    "df_mean.insert(2,'Condition', len(df_mean)*['Oddball Response'])\n",
    "df_mean.insert(5,'DBS Channel', len(df_mean)*[sig_seed_ch])\n",
    "df_mean.insert(6, \"Direction\", len(df_mean)*[\"DBS=> EEG\"])\n",
    "\n",
    "header = [\"Stage\", \"Subject\", \"Condition\", \"Time\", \"Freq\", \"DBS\", \"Direction\", \"GC\"]\n",
    "df_mean.to_csv(base_dir+'Oddball_GC_data_E_NE4.csv', mode='a', index=False, header=False)\n",
    "\n",
    "\n",
    "\n"
   ]
  },
  {
   "cell_type": "code",
   "execution_count": null,
   "id": "98fb7ce5-b52f-4eee-a994-2da23c7eca50",
   "metadata": {},
   "outputs": [],
   "source": [
    "df = tfr_typ_E_eeg_dbs.to_data_frame(time_format=None, long_format=True)\n",
    "\n",
    "# Map to frequency bands:\n",
    "freq_bounds = {\"_\": 0, \"[0 3]\": 4, \"[4 7]\": 8, \"[8 12]\": 13, \"[13 20]\": 20, \"[21 30]\": 30}\n",
    "time_bounds = {\"_\": -0.5, \"[-0.5 0]\": 0, f'[0 {f_max_time} ]': f_max_time, f'[{f_max_time} 1.1]': 1.1, \"[1.1, 1.5]\": 1.5, \"[1.5 2]\": 2}\n",
    "\n",
    "df[\"band\"] = pd.cut(\n",
    "    df[\"freq\"], list(freq_bounds.values()), labels=list(freq_bounds)[1:]\n",
    ")\n",
    "\n",
    "df[\"Time_dur\"] = pd.cut(\n",
    "    df[\"time\"], list(time_bounds.values()), labels=list(time_bounds)[1:]\n",
    ")\n",
    "\n",
    "# Filter to retain only relevant frequency bands:\n",
    "freq_bands_of_interest = [\"[4 7]\",\"[8 12]\", \"[13 20]\", \"[21 30]\"]\n",
    "time_of_interest = [\"[-0.5 0]\", f'[0 {f_max_time} ]', f'[{f_max_time} 1.1]', \"[1.1, 1.5]\", \"[1.5 2]\"]\n",
    "\n",
    "df = df[df.band.isin(freq_bands_of_interest)]\n",
    "df = df[df.Time_dur.isin(time_of_interest)]\n",
    "\n",
    "df[\"band\"] = df[\"band\"].cat.remove_unused_categories()\n",
    "df[\"Time_dur\"] = df[\"Time_dur\"].cat.remove_unused_categories()\n",
    "\n",
    "df_mean = (\n",
    "    df.groupby([\"Time_dur\", \"band\"], observed=False)[[\"value\"]]\n",
    "    .mean()\n",
    "    .reset_index()\n",
    ")\n",
    "df_mean.insert(0,'Stage', len(df_mean)*[st])\n",
    "df_mean.insert(1,'Subject', len(df_mean)*[sub])\n",
    "df_mean.insert(2,'Condition', len(df_mean)*['Standard'])\n",
    "df_mean.insert(5,'DBS Channel', len(df_mean)*[sig_seed_ch])\n",
    "df_mean.insert(6, \"Direction\", len(df_mean)*[\"EEG=> DBS\"])\n",
    "\n",
    "header = [\"Stage\", \"Subject\", \"Condition\", \"Time\", \"Freq\", \"DBS\", \"Direction\", \"GC\"]\n",
    "df_mean.to_csv(base_dir+'Oddball_GC_data_E_NE4.csv', mode='a', index=False, header=False)\n",
    "\n",
    "\n",
    "\n",
    "df = tfr_odd_E_eeg_dbs.to_data_frame(time_format=None, long_format=True)\n",
    "\n",
    "# Map to frequency bands:\n",
    "freq_bounds = {\"_\": 0, \"[0 3]\": 4, \"[4 7]\": 8, \"[8 12]\": 13, \"[13 20]\": 20, \"[21 30]\": 30}\n",
    "time_bounds = {\"_\": -0.5, \"[-0.5 0]\": 0, f'[0 {f_max_time} ]': f_max_time, f'[{f_max_time} 1.1]': 1.1, \"[1.1, 1.5]\": 1.5, \"[1.5 2]\": 2}\n",
    "\n",
    "df[\"band\"] = pd.cut(\n",
    "    df[\"freq\"], list(freq_bounds.values()), labels=list(freq_bounds)[1:]\n",
    ")\n",
    "\n",
    "df[\"Time_dur\"] = pd.cut(\n",
    "    df[\"time\"], list(time_bounds.values()), labels=list(time_bounds)[1:]\n",
    ")\n",
    "\n",
    "# Filter to retain only relevant frequency bands:\n",
    "freq_bands_of_interest = [\"[4 7]\",\"[8 12]\", \"[13 20]\", \"[21 30]\"]\n",
    "time_of_interest = [\"[-0.5 0]\", f'[0 {f_max_time} ]', f'[{f_max_time} 1.1]', \"[1.1, 1.5]\", \"[1.5 2]\"]\n",
    "\n",
    "df = df[df.band.isin(freq_bands_of_interest)]\n",
    "df = df[df.Time_dur.isin(time_of_interest)]\n",
    "\n",
    "df[\"band\"] = df[\"band\"].cat.remove_unused_categories()\n",
    "df[\"Time_dur\"] = df[\"Time_dur\"].cat.remove_unused_categories()\n",
    "\n",
    "df_mean = (\n",
    "    df.groupby([\"Time_dur\", \"band\"], observed=False)[[\"value\"]]\n",
    "    .mean()\n",
    "    .reset_index()\n",
    ")\n",
    "df_mean.insert(0,'Stage', len(df_mean)*[st])\n",
    "df_mean.insert(1,'Subject', len(df_mean)*[sub])\n",
    "df_mean.insert(2,'Condition', len(df_mean)*['Oddball Response'])\n",
    "df_mean.insert(5,'DBS Channel', len(df_mean)*[sig_seed_ch])\n",
    "df_mean.insert(6, \"Direction\", len(df_mean)*[\"EEG=> DBS\"])\n",
    "\n",
    "header = [\"Stage\", \"Subject\", \"Condition\", \"Time\", \"Freq\", \"DBS\", \"Direction\", \"GC\"]\n",
    "df_mean.to_csv(base_dir+'Oddball_GC_data_E_NE4.csv', mode='a', index=False, header=False)\n",
    "\n",
    "\n",
    "\n"
   ]
  },
  {
   "cell_type": "code",
   "execution_count": null,
   "id": "94418cca",
   "metadata": {},
   "outputs": [],
   "source": []
  },
  {
   "cell_type": "code",
   "execution_count": null,
   "id": "142710ec-30c7-4f6f-91bc-cc0b9db33201",
   "metadata": {},
   "outputs": [],
   "source": [
    "df = tfr_typ_E.copy().pick(sig_eeg).to_data_frame(time_format=None, long_format=True)\n",
    "\n",
    "# Map to frequency bands:\n",
    "freq_bounds = {\"_\": 0, \"[0 3]\": 4, \"[4 7]\": 8, \"[8 12]\": 13, \"[13 20]\": 20, \"[21 30]\": 30}\n",
    "time_bounds = {\"_\": -0.5, \"[-0.5 0]\": 0, f'[0 {f_max_time} ]': f_max_time, f'[{f_max_time} 1.1]': 1.1, \"[1.1, 1.5]\": 1.5, \"[1.5 2]\": 2}\n",
    "\n",
    "df[\"band\"] = pd.cut(\n",
    "    df[\"freq\"], list(freq_bounds.values()), labels=list(freq_bounds)[1:]\n",
    ")\n",
    "\n",
    "df[\"Time_dur\"] = pd.cut(\n",
    "    df[\"time\"], list(time_bounds.values()), labels=list(time_bounds)[1:]\n",
    ")\n",
    "\n",
    "# Filter to retain only relevant frequency bands:\n",
    "freq_bands_of_interest = [\"[4 7]\",\"[8 12]\", \"[13 20]\", \"[21 30]\"]\n",
    "time_of_interest = [\"[-0.5 0]\", f'[0 {f_max_time} ]', f'[{f_max_time} 1.1]', \"[1.1, 1.5]\", \"[1.5 2]\"]\n",
    "\n",
    "df = df[df.band.isin(freq_bands_of_interest)]\n",
    "df = df[df.Time_dur.isin(time_of_interest)]\n",
    "\n",
    "df[\"band\"] = df[\"band\"].cat.remove_unused_categories()\n",
    "df[\"Time_dur\"] = df[\"Time_dur\"].cat.remove_unused_categories()\n",
    "\n",
    "\n",
    "df_mean = (\n",
    "    df.groupby([\"Time_dur\", \"band\", \"channel\"], observed=False)[[\"value\"]]\n",
    "    .mean()\n",
    "    .reset_index()\n",
    ")\n",
    "df_mean.insert(0,'Stage', len(df_mean)*[st])\n",
    "df_mean.insert(1,'Subject', len(df_mean)*[sub])\n",
    "df_mean.insert(2,'Condition', len(df_mean)*['Standard'])\n",
    "df_mean.insert(5,'DBS Channel', len(df_mean)*[sig_seed_ch])\n",
    "\n",
    "header = [\"Stage\", \"Subject\", \"Condition\", \"Time\", \"Freq\", \"DBS\", \"EEG\", \"CCC\"]\n",
    "\n",
    "\n",
    "if sub == '007':\n",
    "    df_mean.to_csv(base_dir+'Oddball_Coh_data_E_NE4.csv', mode='a', index=False, header=header)\n",
    "else:\n",
    "    df_mean.to_csv(base_dir+'Oddball_Coh_data_E_NE4.csv', mode='a', index=False, header=False)\n",
    "\n",
    "\n",
    "\n",
    "df = tfr_odd_E.copy().pick(sig_eeg).to_data_frame(time_format=None, long_format=True)\n",
    "\n",
    "# Map to frequency bands:\n",
    "freq_bounds = {\"_\": 0, \"[0 3]\": 4, \"[4 7]\": 8, \"[8 12]\": 13, \"[13 20]\": 20, \"[21 30]\": 30}\n",
    "time_bounds = {\"_\": -0.5, \"[-0.5 0]\": 0, f'[0 {f_max_time} ]': f_max_time, f'[{f_max_time} 1.1]': 1.1, \"[1.1, 1.5]\": 1.5, \"[1.5 2]\": 2}\n",
    "\n",
    "df[\"band\"] = pd.cut(\n",
    "    df[\"freq\"], list(freq_bounds.values()), labels=list(freq_bounds)[1:]\n",
    ")\n",
    "\n",
    "df[\"Time_dur\"] = pd.cut(\n",
    "    df[\"time\"], list(time_bounds.values()), labels=list(time_bounds)[1:]\n",
    ")\n",
    "\n",
    "# Filter to retain only relevant frequency bands:\n",
    "freq_bands_of_interest = [\"[4 7]\",\"[8 12]\", \"[13 20]\", \"[21 30]\"]\n",
    "time_of_interest = [\"[-0.5 0]\", f'[0 {f_max_time} ]', f'[{f_max_time} 1.1]', \"[1.1, 1.5]\", \"[1.5 2]\"]\n",
    "\n",
    "df = df[df.band.isin(freq_bands_of_interest)]\n",
    "df = df[df.Time_dur.isin(time_of_interest)]\n",
    "\n",
    "df[\"band\"] = df[\"band\"].cat.remove_unused_categories()\n",
    "df[\"Time_dur\"] = df[\"Time_dur\"].cat.remove_unused_categories()\n",
    "\n",
    "\n",
    "df_mean = (\n",
    "    df.groupby([\"Time_dur\", \"band\", \"channel\"], observed=False)[[\"value\"]]\n",
    "    .mean()\n",
    "    .reset_index()\n",
    ")\n",
    "df_mean.insert(0,'Stage', len(df_mean)*[st])\n",
    "df_mean.insert(1,'Subject', len(df_mean)*[sub])\n",
    "df_mean.insert(2,'Condition', len(df_mean)*['Oddball Response'])\n",
    "df_mean.insert(5,'DBS Channel', len(df_mean)*[sig_seed_ch])\n",
    "\n",
    "\n",
    "df_mean.to_csv(base_dir+'Oddball_Coh_data_E_NE4.csv', mode='a', index=False, header=False)\n"
   ]
  },
  {
   "cell_type": "code",
   "execution_count": null,
   "id": "bb166b3b",
   "metadata": {},
   "outputs": [],
   "source": []
  },
  {
   "cell_type": "code",
   "execution_count": null,
   "id": "522f0dfa-a657-4b46-8e19-c22a771c2f57",
   "metadata": {},
   "outputs": [],
   "source": []
  },
  {
   "cell_type": "code",
   "execution_count": null,
   "id": "1e96707b",
   "metadata": {},
   "outputs": [],
   "source": []
  }
 ],
 "metadata": {
  "kernelspec": {
   "display_name": "Python 3 (ipykernel)",
   "language": "python",
   "name": "python3"
  },
  "language_info": {
   "codemirror_mode": {
    "name": "ipython",
    "version": 3
   },
   "file_extension": ".py",
   "mimetype": "text/x-python",
   "name": "python",
   "nbconvert_exporter": "python",
   "pygments_lexer": "ipython3",
   "version": "3.13.0"
  }
 },
 "nbformat": 4,
 "nbformat_minor": 5
}
